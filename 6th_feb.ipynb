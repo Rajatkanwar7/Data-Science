{
 "cells": [
  {
   "cell_type": "markdown",
   "id": "da671be6-54b6-48fe-8f95-d81584711f03",
   "metadata": {},
   "source": [
    "Question1. Create a function which will take a list as an argument and return the product of all the numbers after creating a flat list."
   ]
  },
  {
   "cell_type": "code",
   "execution_count": 1,
   "id": "d976ff03-c81d-4c74-8a8a-03810fb6ed98",
   "metadata": {},
   "outputs": [
    {
     "name": "stdout",
     "output_type": "stream",
     "text": [
      "All numerical values in a list are: \n",
      " [1, 2, 3, 4, 44, 55, 66, 34, 56, 78, 89, 34, 1, 2, 3, 1, 4, 34, 55, 67, 78, 89, 45, 22, 61, 34, 56] \n",
      "Product of values is:  4134711838987085478833841242112000\n"
     ]
    }
   ],
   "source": [
    "import math\n",
    "from functools import reduce\n",
    "new_list=[]\n",
    "def list_1(n):\n",
    "    for i in n:\n",
    "        if type(i)==list or type(i)== str or type(i)== tuple or type(i)==set:\n",
    "            for j in i:\n",
    "                if type(j)==int or type(j)==float:\n",
    "                    new_list.append(j)\n",
    "        if type(i)== dict:\n",
    "            for k in i.keys():\n",
    "                if type(k)==int or float and k.isdigit():\n",
    "                    new_list.append(k)\n",
    "            for m in i.values():\n",
    "                if type(m)==list or type(m)==tuple:\n",
    "                    for z in m:\n",
    "                        if type(z)==int or type(z)== float:\n",
    "                            new_list.append(z)   \n",
    "                if type(m) == int or type(m)==float:\n",
    "                    new_list.append(m)         \n",
    "        else:\n",
    "            if type(i)==int or type(i)==float:\n",
    "                new_list.append(i)\n",
    "    return print(\"All numerical values in a list are: \\n\", new_list ,\"\\nProduct of values is: \",reduce((lambda x1, y1: x1 * y1), new_list))\n",
    "list1=[1,2,3,4, [44,55,66, True], False, (34,56,78,89,34), {1,2,3,3,2,1}, {1:34,\"key2\": [55, 67, 78, 89], 4: (45, \n",
    "22, 61, 34)}, [56, 'data science'], 'Machine Learning'] \n",
    "list_1(list1)"
   ]
  },
  {
   "cell_type": "code",
   "execution_count": null,
   "id": "906918ee-ced2-4ccb-bc26-e44aabf63802",
   "metadata": {},
   "outputs": [],
   "source": []
  },
  {
   "cell_type": "markdown",
   "id": "c13e7e5e-74d3-485d-9213-0296e25f2358",
   "metadata": {},
   "source": [
    "Question2. Write a python program for encrypting a message sent to you by your friend. "
   ]
  },
  {
   "cell_type": "code",
   "execution_count": 2,
   "id": "2e2b238f-912c-4827-8ffd-f8c92505be29",
   "metadata": {},
   "outputs": [
    {
     "name": "stdout",
     "output_type": "stream",
     "text": [
      "Given String is:\n",
      " I want to become data scientist. \n",
      "Enrcrypted string is: \n",
      "r$dzmg$gl$yvxlnv$wzgz$hxrvmgrhg."
     ]
    }
   ],
   "source": [
    "def islower(ch):\n",
    "    if ch >= 'a' and ch <= 'z':\n",
    "        return True\n",
    "    return False \n",
    "def Encrypted_string(word):\n",
    "    ch = ''\n",
    "    for i in range(len(word)):\n",
    "        if islower(word[i]):\n",
    "            ch = chr(ord('z') -ord(word[i]) + ord('a'))\n",
    "            print(ch, end = \"\")\n",
    "        else:\n",
    "            print(word[i], end = \"\") \n",
    "st= \"I want to become data scientist.\"\n",
    "s1=st.replace(\" \",\"$\")\n",
    "S1=s1.lower()\n",
    "print(\"Given String is:\\n\",st,\"\\nEnrcrypted string is: \")\n",
    "Encrypted_string(S1)"
   ]
  },
  {
   "cell_type": "code",
   "execution_count": null,
   "id": "c676f284-4c27-49de-950b-8a0f88023ada",
   "metadata": {},
   "outputs": [],
   "source": []
  },
  {
   "cell_type": "markdown",
   "id": "7cbdcca1-d563-4b7a-85e2-7cc070405831",
   "metadata": {},
   "source": [
    "Alternative way to solve 2nd question (without lowercasing the uppercase letters)"
   ]
  },
  {
   "cell_type": "code",
   "execution_count": 54,
   "id": "e0c8ec2a-7526-4228-9d3f-a941c5f9371b",
   "metadata": {},
   "outputs": [
    {
     "name": "stdout",
     "output_type": "stream",
     "text": [
      "Given String is: \n",
      " I want to become data scientist. \n",
      "Enrcrypted string is: \n",
      "r$dzmg$gl$yvxlnv$wzgz$hxrvmgrhg."
     ]
    }
   ],
   "source": [
    "def isupper(ch):\n",
    "    if ch >= 'A' and ch <= 'Z':\n",
    "        return True\n",
    "    return False \n",
    "def islower(ch):\n",
    "    if ch >= 'a' and ch <= 'z':\n",
    "        return True\n",
    "    return False \n",
    "def Encrypted_string1(word):\n",
    "    ch = ''\n",
    "    for i in range(len(word)):\n",
    "        if isupper(word[i]):\n",
    "            ch = chr(ord('Z') -ord(word[i]) + ord('A'))\n",
    "            print(ch.lower(), end = \"\")\n",
    "        elif islower(word[i]):\n",
    "            ch = chr(ord('z') -ord(word[i]) + ord('a'))\n",
    "            print(ch, end = \"\")\n",
    "        else:\n",
    "            print(word[i], end = \"\") \n",
    "s=\"I want to become data scientist.\"\n",
    "S1=s.replace(\" \" ,\"$\")\n",
    "print(\"Given String is: \\n\", s, \"\\nEnrcrypted string is: \")\n",
    "Encrypted_string1(S1)"
   ]
  },
  {
   "cell_type": "code",
   "execution_count": null,
   "id": "6687c528-7186-4ddf-a2ed-920cb2d6bc7a",
   "metadata": {},
   "outputs": [],
   "source": []
  }
 ],
 "metadata": {
  "kernelspec": {
   "display_name": "Python 3 (ipykernel)",
   "language": "python",
   "name": "python3"
  },
  "language_info": {
   "codemirror_mode": {
    "name": "ipython",
    "version": 3
   },
   "file_extension": ".py",
   "mimetype": "text/x-python",
   "name": "python",
   "nbconvert_exporter": "python",
   "pygments_lexer": "ipython3",
   "version": "3.10.8"
  }
 },
 "nbformat": 4,
 "nbformat_minor": 5
}
