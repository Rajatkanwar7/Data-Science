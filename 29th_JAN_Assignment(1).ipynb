{
 "cells": [
  {
   "cell_type": "code",
   "execution_count": null,
   "id": "f1f81e34-3c7e-4b57-bdf8-882ad81cdfaf",
   "metadata": {},
   "outputs": [],
   "source": [
    "##Q1.Who developed Python programming language?\n",
    "Ans:Guido van Rossum.\n"
   ]
  },
  {
   "cell_type": "code",
   "execution_count": null,
   "id": "eec81112-2f5d-4615-9bae-211bf63772d8",
   "metadata": {},
   "outputs": [],
   "source": [
    "##Q2.What type of programming does Python support?\n",
    "Ans:Python is an interpreted programming language, supporting object-oriented, structured, and functional programming.\n"
   ]
  },
  {
   "cell_type": "code",
   "execution_count": null,
   "id": "3f460be5-45e8-432b-a742-b512989a9bca",
   "metadata": {},
   "outputs": [],
   "source": [
    "##Q3.Is Python case sensitive when dealing with identifiers?\n",
    "Ans:Yes, Python is a case-sensitive language, i.e., it treats uppercase and lowercase characters differently."
   ]
  },
  {
   "cell_type": "code",
   "execution_count": null,
   "id": "3baf7e70-910a-40bd-aa2d-558aca62c663",
   "metadata": {},
   "outputs": [],
   "source": [
    "##Q4.What is the correct extension of Python file?\n",
    "Ans: .py"
   ]
  },
  {
   "cell_type": "code",
   "execution_count": null,
   "id": "d32dccef-c085-4ba5-823a-ce2e1372d408",
   "metadata": {},
   "outputs": [],
   "source": [
    "##Q5.Is Python code compiled or interpreted?\n",
    "Ans: Python is an interpreted programming language, supporting object-oriented, structured, and functional programming."
   ]
  },
  {
   "cell_type": "code",
   "execution_count": 3,
   "id": "4541e26f-f5b0-4c6e-ab41-03ba5bc35f00",
   "metadata": {},
   "outputs": [
    {
     "name": "stdout",
     "output_type": "stream",
     "text": [
      "Correct Name!!\n",
      "HI Rajat\n"
     ]
    }
   ],
   "source": [
    "## Q6.Name a few blocks of code used to define in Python language?\n",
    "\n",
    "name = 'Rajat'   \n",
    "if name == 'Rajat':\n",
    "    print('Correct Name!!')\n",
    "else:\n",
    "\tprint('InCorrect Name:(')\n",
    "print('HI',name)"
   ]
  },
  {
   "cell_type": "code",
   "execution_count": null,
   "id": "2b662cac-a83c-455d-82b2-a3af3e6e208f",
   "metadata": {},
   "outputs": [],
   "source": [
    "Q7.State a character used to give single line comments in Python?\n",
    "Ans: Hash Character (#)"
   ]
  },
  {
   "cell_type": "code",
   "execution_count": null,
   "id": "83771d8a-dfda-428d-82f1-783d49d42bab",
   "metadata": {},
   "outputs": [],
   "source": [
    "Q8.Mention function which can help us to find the version of Python that we are currently working on?\n",
    "Ans: sys.version"
   ]
  },
  {
   "cell_type": "code",
   "execution_count": null,
   "id": "58fd4637-8bd5-46cc-ab24-6f002fef6619",
   "metadata": {},
   "outputs": [],
   "source": [
    "Q9.Python supports the creation of anonymous functions at runtime,using a construct is called\n",
    "Ans: \"lamda\""
   ]
  },
  {
   "cell_type": "code",
   "execution_count": null,
   "id": "4093f613-fc7f-41a3-a234-b0c67160ca7c",
   "metadata": {},
   "outputs": [],
   "source": [
    "Q10. what does pip stand for in Python?\n",
    "Ans: Preferred installer program."
   ]
  },
  {
   "cell_type": "code",
   "execution_count": null,
   "id": "6b9cebe7-cd48-4f0e-b79c-e97fff3d6e4b",
   "metadata": {},
   "outputs": [],
   "source": [
    "Q11.Mention a few build in function in Python?\n",
    "Ans:\n",
    "print()\tPrints to the standard output device\n",
    "tuple()\tReturns a tuple\n",
    "str()\tReturns a string object\n",
    "type()\tReturns the type of an object\n",
    "sum()\tSums the items of an iterator\n",
    "int()\tReturns an integer number\n",
    "input()\tAllowing user input\n",
    "any()\tReturns True if any item in an iterable object is true\n",
    "bin()\tReturns the binary version of a number\n",
    "dict()\tReturns a dictionary (Array)\n",
    "dir()\tReturns a list of the specified object's properties and methods\n",
    "float()\tReturns a floating point number\n",
    "format()\tFormats a specified value\n",
    "isinstance()\tReturns True if a specified object is an instance of a specified object\n",
    "len()\tReturns the length of an object\n",
    "list()\tReturns a list\n",
    "max()\tReturns the largest item in an iterable\n",
    "min()\tReturns the smallest item in an iterable\n",
    "range()\tReturns a sequence of numbers, starting from 0 and increments by 1 (by default)\n",
    "reversed()\tReturns a reversed iterator\n",
    "slice()\tReturns a slice object\n",
    "sorted()\tReturns a sorted list\n",
    "\n",
    "\n",
    "\n"
   ]
  },
  {
   "cell_type": "code",
   "execution_count": null,
   "id": "17d908b8-a74e-4f4a-b9d9-988988293aa9",
   "metadata": {},
   "outputs": [],
   "source": [
    "Q12 What is the maximum possible length of an identifier?\n",
    "Ans: The maximum possible length of an identifier in Python language is 79 characters."
   ]
  },
  {
   "cell_type": "code",
   "execution_count": null,
   "id": "740a3ac7-1ee9-417a-a2d2-de583699d57f",
   "metadata": {},
   "outputs": [],
   "source": [
    "Q13.What are the benefits of using Python?\n",
    "Ans:Advantages of Using python:\n",
    "    1.Python Package Index (PyPI) comprises a multitude of third-party modules which makes Python integrate with other languages and platforms easily.\n",
    "    2.Python has numerous standard libraries.\n",
    "    3.It is open source and free.\n",
    "    4.Easy to learn,user friendly and have huge community.\n",
    "    Also, Python programming is  used in almost all fields, including: \n",
    "    1.Data science\n",
    "    2.Scientific and mathematical computing.\n",
    "    3.Web development.\n",
    "    4.Finance and trading\n",
    "    6.System automation and administration\n",
    "    7.Computer graphics\n",
    "    8.Basic game development\n",
    "\n",
    "   "
   ]
  },
  {
   "cell_type": "code",
   "execution_count": null,
   "id": "cfe3a0aa-0563-4285-b13b-3e656615144d",
   "metadata": {},
   "outputs": [],
   "source": [
    "Q14.How does the memory managed in python?\n",
    "Ans: The memory is a heap that stores the program's objects and other data structures.\n",
    "The Python memory manager uses API methods to handle the allocation and deallocation of this heap space."
   ]
  },
  {
   "cell_type": "code",
   "execution_count": null,
   "id": "bdd413b1-7718-4b85-93f2-90ea7f9ad51c",
   "metadata": {},
   "outputs": [],
   "source": [
    "Q15.How to install Python on windows and set path variable?\n",
    "Ans:Install Python Steps:\n",
    " Step 1: Download the Python Installer binaries\n",
    "    1.Open the official Python website in your web browser. Navigate to the Downloads tab for Windows.\n",
    "    2.Choose the latest Python 3 release.\n",
    "    3.Click on the link to download Windows x86 executable installer if you are using a 32-bit installer or a 64-bit system if using 64-bit system, then download Windows x86-64 executable installer. \n",
    " Step 2: Run the Executable Installer\n",
    "    1.Once the installer is downloaded, run the Python installer.\n",
    "    2.Check the Install launcher for all users check box. Further, you may check the Add Python 3.7 to path check box to include the interpreter in the execution path.\n",
    "    3. Once the installation is over, you will see a Python Setup Successful window.\n",
    "Step 3. Add Python to environmental variables.\n",
    "\n",
    "Setting Path variable:\n",
    "    The complete path of python.exe can be added by:\n",
    "    1.Right-clicking This PC and going to Properties.\n",
    "    2.Clicking on the Advanced system settings in the menu on the left.\n",
    "    3.Clicking on the Environment Variables button on the bottom right.\n",
    "    4.In the System variables section, selecting the Path variable and clicking on Edit. The next screen will show all the directories that are currently a part of the PATH variable.\n",
    "    5.Clicking on New and entering Python’s install directory.\n",
    "\n",
    "    "
   ]
  },
  {
   "cell_type": "code",
   "execution_count": null,
   "id": "c779341a-708a-45ce-b2a5-8342ce23529b",
   "metadata": {},
   "outputs": [],
   "source": [
    "Q16.Is indentation required in Python?\n",
    "Ans: Yes,indentation is mandatory in python to define the blocks of statements. \n",
    "    It is preferred to use whitespaces instead of tabs to indent in Python."
   ]
  },
  {
   "cell_type": "code",
   "execution_count": null,
   "id": "daf62a5c-1a8d-4bce-be25-18208612502b",
   "metadata": {},
   "outputs": [],
   "source": []
  }
 ],
 "metadata": {
  "kernelspec": {
   "display_name": "Python 3 (ipykernel)",
   "language": "python",
   "name": "python3"
  },
  "language_info": {
   "codemirror_mode": {
    "name": "ipython",
    "version": 3
   },
   "file_extension": ".py",
   "mimetype": "text/x-python",
   "name": "python",
   "nbconvert_exporter": "python",
   "pygments_lexer": "ipython3",
   "version": "3.10.8"
  }
 },
 "nbformat": 4,
 "nbformat_minor": 5
}
