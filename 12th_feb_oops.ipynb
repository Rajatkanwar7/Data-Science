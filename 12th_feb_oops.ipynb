{
 "cells": [
  {
   "cell_type": "markdown",
   "id": "97cdeca4-e30f-4d82-a613-6520201076a3",
   "metadata": {},
   "source": [
    "Q1.what is exception in python? Write the difference between Exceptions \n",
    "and syntax errors?"
   ]
  },
  {
   "cell_type": "markdown",
   "id": "342f9a95-aa29-4f09-a7f3-abc1158d8618",
   "metadata": {},
   "source": [
    "Ans: Errors that occur at runtime (after passing the syntax test) are called exceptions or logical errors.\n",
    "For instance, they occur when we\n",
    "1. try to open a file(for reading) that does not exist (FileNotFoundError)\n",
    "2. try to divide a number by zero (ZeroDivisionError)\n",
    "3. try to import a module that does not exist (ImportError) and so on.\n",
    "Whenever these types of runtime errors occur, Python creates an exception object."
   ]
  },
  {
   "cell_type": "markdown",
   "id": "73f9c6b6-7aca-4a5c-8b76-d3123a182606",
   "metadata": {},
   "source": [
    "Difference between Syntax error and exceptions:\n",
    "1. Syntax error is caused by the wrong syntax in the code. It leads to the termination of the program.On the other hand,Exceptions are raised when the program is syntactically correct, but the code resulted in an error. This error does not stop the execution of the program, however, it changes the normal flow of the program.\n",
    "2. Errors cannot be handled, while Python exceptions can be handled at the run time.\n"
   ]
  },
  {
   "cell_type": "code",
   "execution_count": null,
   "id": "a618356a-ab67-4a64-a09b-f8c6d6c52f0d",
   "metadata": {},
   "outputs": [],
   "source": []
  },
  {
   "cell_type": "markdown",
   "id": "d21c5c45-97ed-44db-bcd9-cab0967881cf",
   "metadata": {},
   "source": [
    "Q2. What happens when an exception is not handled? Explain with an example."
   ]
  },
  {
   "cell_type": "markdown",
   "id": "0ff8ad11-b818-4b03-a20a-f9ed8f160da3",
   "metadata": {},
   "source": [
    "If an exception is not handled(with a catch block), the runtime system will abort the program (i.e. crash) and an exception message will print to the console. The message typically includes:\n",
    "1. name of exception type\n",
    "2. short description\n",
    "3. stack trace"
   ]
  },
  {
   "cell_type": "code",
   "execution_count": 3,
   "id": "cbce44a9-39db-441b-9116-70c5c82d4df3",
   "metadata": {},
   "outputs": [
    {
     "ename": "ZeroDivisionError",
     "evalue": "division by zero",
     "output_type": "error",
     "traceback": [
      "\u001b[0;31m---------------------------------------------------------------------------\u001b[0m",
      "\u001b[0;31mZeroDivisionError\u001b[0m                         Traceback (most recent call last)",
      "Cell \u001b[0;32mIn[3], line 4\u001b[0m\n\u001b[1;32m      1\u001b[0m \u001b[38;5;66;03m#Exception without handling \u001b[39;00m\n\u001b[1;32m      2\u001b[0m marks \u001b[38;5;241m=\u001b[39m \u001b[38;5;241m100\u001b[39m\n\u001b[0;32m----> 4\u001b[0m a \u001b[38;5;241m=\u001b[39m \u001b[43mmarks\u001b[49m\u001b[43m \u001b[49m\u001b[38;5;241;43m/\u001b[39;49m\u001b[43m \u001b[49m\u001b[38;5;241;43m0\u001b[39;49m\n\u001b[1;32m      5\u001b[0m \u001b[38;5;28mprint\u001b[39m(a)\n",
      "\u001b[0;31mZeroDivisionError\u001b[0m: division by zero"
     ]
    }
   ],
   "source": [
    "#Exception without handling \n",
    "marks = 100\n",
    "  \n",
    "a = marks / 0\n",
    "print(a)"
   ]
  },
  {
   "cell_type": "code",
   "execution_count": 4,
   "id": "5c71561b-b3cc-405d-ac41-48a2dece402f",
   "metadata": {},
   "outputs": [
    {
     "name": "stdout",
     "output_type": "stream",
     "text": [
      "Cannot divided by zero\n"
     ]
    }
   ],
   "source": [
    "#Exception handling\n",
    "try:\n",
    "    marks=100\n",
    "    a=1000/0\n",
    "    print(a)\n",
    "except ZeroDivisionError:\n",
    "    print(\"Cannot divided by zero\")"
   ]
  },
  {
   "cell_type": "code",
   "execution_count": null,
   "id": "34fa438c-3138-46c8-9c13-6b4f630ff14f",
   "metadata": {},
   "outputs": [],
   "source": []
  },
  {
   "cell_type": "markdown",
   "id": "2126ba24-670a-4d98-856f-477ca3ae7edb",
   "metadata": {},
   "source": [
    "Q3. Which Python statements are used to catch and handle exceptions? Explain with an example."
   ]
  },
  {
   "cell_type": "markdown",
   "id": "80d2a864-965e-493c-8eb3-583f5fcd4180",
   "metadata": {},
   "source": [
    "Ans: The try and except block in Python is used to catch and handle exceptions.\n",
    "Lets take an example:"
   ]
  },
  {
   "cell_type": "code",
   "execution_count": 1,
   "id": "20ac0ad8-9150-4815-8b84-576a7922152a",
   "metadata": {},
   "outputs": [
    {
     "ename": "FileNotFoundError",
     "evalue": "[Errno 2] No such file or directory: 'f1.txt'",
     "output_type": "error",
     "traceback": [
      "\u001b[0;31m---------------------------------------------------------------------------\u001b[0m",
      "\u001b[0;31mFileNotFoundError\u001b[0m                         Traceback (most recent call last)",
      "Cell \u001b[0;32mIn[1], line 1\u001b[0m\n\u001b[0;32m----> 1\u001b[0m f \u001b[38;5;241m=\u001b[39m \u001b[38;5;28;43mopen\u001b[39;49m\u001b[43m(\u001b[49m\u001b[38;5;124;43m'\u001b[39;49m\u001b[38;5;124;43mf1.txt\u001b[39;49m\u001b[38;5;124;43m'\u001b[39;49m\u001b[43m,\u001b[49m\u001b[43m \u001b[49m\u001b[38;5;124;43m'\u001b[39;49m\u001b[38;5;124;43mr\u001b[39;49m\u001b[38;5;124;43m'\u001b[39;49m\u001b[43m)\u001b[49m\n\u001b[1;32m      2\u001b[0m \u001b[38;5;28mprint\u001b[39m(f\u001b[38;5;241m.\u001b[39mread())\n\u001b[1;32m      3\u001b[0m f\u001b[38;5;241m.\u001b[39mclose()\n",
      "File \u001b[0;32m/opt/conda/lib/python3.10/site-packages/IPython/core/interactiveshell.py:282\u001b[0m, in \u001b[0;36m_modified_open\u001b[0;34m(file, *args, **kwargs)\u001b[0m\n\u001b[1;32m    275\u001b[0m \u001b[38;5;28;01mif\u001b[39;00m file \u001b[38;5;129;01min\u001b[39;00m {\u001b[38;5;241m0\u001b[39m, \u001b[38;5;241m1\u001b[39m, \u001b[38;5;241m2\u001b[39m}:\n\u001b[1;32m    276\u001b[0m     \u001b[38;5;28;01mraise\u001b[39;00m \u001b[38;5;167;01mValueError\u001b[39;00m(\n\u001b[1;32m    277\u001b[0m         \u001b[38;5;124mf\u001b[39m\u001b[38;5;124m\"\u001b[39m\u001b[38;5;124mIPython won\u001b[39m\u001b[38;5;124m'\u001b[39m\u001b[38;5;124mt let you open fd=\u001b[39m\u001b[38;5;132;01m{\u001b[39;00mfile\u001b[38;5;132;01m}\u001b[39;00m\u001b[38;5;124m by default \u001b[39m\u001b[38;5;124m\"\u001b[39m\n\u001b[1;32m    278\u001b[0m         \u001b[38;5;124m\"\u001b[39m\u001b[38;5;124mas it is likely to crash IPython. If you know what you are doing, \u001b[39m\u001b[38;5;124m\"\u001b[39m\n\u001b[1;32m    279\u001b[0m         \u001b[38;5;124m\"\u001b[39m\u001b[38;5;124myou can use builtins\u001b[39m\u001b[38;5;124m'\u001b[39m\u001b[38;5;124m open.\u001b[39m\u001b[38;5;124m\"\u001b[39m\n\u001b[1;32m    280\u001b[0m     )\n\u001b[0;32m--> 282\u001b[0m \u001b[38;5;28;01mreturn\u001b[39;00m \u001b[43mio_open\u001b[49m\u001b[43m(\u001b[49m\u001b[43mfile\u001b[49m\u001b[43m,\u001b[49m\u001b[43m \u001b[49m\u001b[38;5;241;43m*\u001b[39;49m\u001b[43margs\u001b[49m\u001b[43m,\u001b[49m\u001b[43m \u001b[49m\u001b[38;5;241;43m*\u001b[39;49m\u001b[38;5;241;43m*\u001b[39;49m\u001b[43mkwargs\u001b[49m\u001b[43m)\u001b[49m\n",
      "\u001b[0;31mFileNotFoundError\u001b[0m: [Errno 2] No such file or directory: 'f1.txt'"
     ]
    }
   ],
   "source": [
    "f = open('f1.txt', 'r')\n",
    "print(f.read())\n",
    "f.close()"
   ]
  },
  {
   "cell_type": "code",
   "execution_count": 6,
   "id": "052d220a-0423-4a17-9c43-fa1b813f59aa",
   "metadata": {},
   "outputs": [
    {
     "name": "stdout",
     "output_type": "stream",
     "text": [
      "file not found\n"
     ]
    }
   ],
   "source": [
    "try:\n",
    "    f = open('f1.txt', 'r')\n",
    "    print(f.read())\n",
    "    f.close()\n",
    "except IOError:\n",
    "    print('file not found')"
   ]
  },
  {
   "cell_type": "markdown",
   "id": "adb15c42-5cb2-4ac6-a42c-675daa6db479",
   "metadata": {},
   "source": [
    "The above code work as follows:\n",
    "1.First statement between try and except block are executed.\n",
    "2.If no exception occurs then code under except clause will be skipped.\n",
    "3.If file don't exists then exception will be raised and the rest of the code in the try block will be skipped\n",
    "4.When exceptions occurs, if the exception type matches exception name after except keyword, then the code in that except clause is executed"
   ]
  },
  {
   "cell_type": "code",
   "execution_count": null,
   "id": "7b6e1981-bde6-4bcb-9014-6276d37165f2",
   "metadata": {},
   "outputs": [],
   "source": []
  },
  {
   "cell_type": "markdown",
   "id": "aaba1027-b040-4bf4-ac61-0dbabf695969",
   "metadata": {},
   "source": [
    "Q4. Explain with an example\n",
    "a) try and else\n",
    "b) finally\n",
    "c) raise"
   ]
  },
  {
   "cell_type": "markdown",
   "id": "da7d0c4e-5b8c-4997-8719-a2fe1866b44d",
   "metadata": {},
   "source": [
    "Ans:\n",
    " a)   try and else:\n",
    "    The try block lets you test a block of code for errors.\n",
    "    The else block lets you execute code when there is no error."
   ]
  },
  {
   "cell_type": "code",
   "execution_count": 7,
   "id": "c2c18006-3e64-4933-bd46-dbf577ee9e4c",
   "metadata": {},
   "outputs": [
    {
     "name": "stdout",
     "output_type": "stream",
     "text": [
      "An exception occurred\n"
     ]
    }
   ],
   "source": [
    "#example when try block will execute\n",
    "try:\n",
    "  print(x)\n",
    "except:\n",
    "  print(\"An exception occurred\")"
   ]
  },
  {
   "cell_type": "code",
   "execution_count": 11,
   "id": "543008de-ad40-4379-a33a-ca1414dfd748",
   "metadata": {},
   "outputs": [
    {
     "name": "stdout",
     "output_type": "stream",
     "text": [
      "Everything is right\n",
      "Nothing went wrong\n"
     ]
    }
   ],
   "source": [
    "#Example when Else block will execute\n",
    "try:\n",
    "  print(\"Everything is right\")\n",
    "except:\n",
    "  print(\"Something went wrong\")\n",
    "else:\n",
    "  print(\"Nothing went wrong\")"
   ]
  },
  {
   "cell_type": "markdown",
   "id": "c0f1251f-5874-4376-a856-e4c8f18a7153",
   "metadata": {},
   "source": [
    "b) finally\n",
    "The finally block, if specified, will be executed regardless if the try block raises an error or not."
   ]
  },
  {
   "cell_type": "code",
   "execution_count": 12,
   "id": "e05dab87-cce3-461a-8f0a-e39e7efc301f",
   "metadata": {},
   "outputs": [
    {
     "name": "stdout",
     "output_type": "stream",
     "text": [
      "Something went wrong\n",
      "The 'try except' is finished\n"
     ]
    }
   ],
   "source": [
    "#here 'try block' raises error still 'finally' statement is executed\n",
    "try:\n",
    "  print(x)\n",
    "except:\n",
    "  print(\"Something went wrong\")\n",
    "finally:\n",
    "  print(\"The 'try except' is finished\")"
   ]
  },
  {
   "cell_type": "markdown",
   "id": "81dcb3a6-595b-4f53-8a05-40298ab0fdd2",
   "metadata": {},
   "source": [
    "c) raise\n",
    "As a Python developer you can choose to throw an exception if a condition occurs.To throw (or raise) an exception, use the raise keyword."
   ]
  },
  {
   "cell_type": "code",
   "execution_count": 14,
   "id": "faf04234-75aa-4b0c-adb1-ec9eb2fca37c",
   "metadata": {},
   "outputs": [
    {
     "ename": "Exception",
     "evalue": "Sorry, no numbers below zero",
     "output_type": "error",
     "traceback": [
      "\u001b[0;31m---------------------------------------------------------------------------\u001b[0m",
      "\u001b[0;31mException\u001b[0m                                 Traceback (most recent call last)",
      "Cell \u001b[0;32mIn[14], line 3\u001b[0m\n\u001b[1;32m      1\u001b[0m x \u001b[38;5;241m=\u001b[39m \u001b[38;5;241m-\u001b[39m\u001b[38;5;241m1\u001b[39m\n\u001b[1;32m      2\u001b[0m \u001b[38;5;28;01mif\u001b[39;00m x \u001b[38;5;241m<\u001b[39m\u001b[38;5;241m0\u001b[39m:\n\u001b[0;32m----> 3\u001b[0m   \u001b[38;5;28;01mraise\u001b[39;00m \u001b[38;5;167;01mException\u001b[39;00m(\u001b[38;5;124m\"\u001b[39m\u001b[38;5;124mSorry, no numbers below zero\u001b[39m\u001b[38;5;124m\"\u001b[39m)\n",
      "\u001b[0;31mException\u001b[0m: Sorry, no numbers below zero"
     ]
    }
   ],
   "source": [
    "x = -1\n",
    "if x <0:\n",
    "  raise Exception(\"Sorry, no numbers below zero\")"
   ]
  },
  {
   "cell_type": "code",
   "execution_count": null,
   "id": "e3c5d0d6-83a2-4a40-9f06-a18ad9f0fe2c",
   "metadata": {},
   "outputs": [],
   "source": []
  },
  {
   "cell_type": "markdown",
   "id": "b128aa51-6f0a-49a9-9988-c87e5e9904d6",
   "metadata": {},
   "source": [
    "Q5. What are Custom Exceptions in python? why do we need Custom exceptions? Explain.\n",
    "Ans:"
   ]
  },
  {
   "cell_type": "markdown",
   "id": "23d27873-7f9d-477d-b5b5-94de45ce5b79",
   "metadata": {},
   "source": [
    "Ans: Like standard exception classes, custom exceptions are also classes.Hence, you can add functionality to the custom exception classes like: Adding attributes and properties.\n",
    "we need custom exceptions class because:\n",
    "1.Subclass the Exception class or one of its subclasses to define a custom exception class.\n",
    "2.It Creates a exception class hierarchy to make the exception classes more organized and catch exceptions at multiple levels."
   ]
  },
  {
   "cell_type": "code",
   "execution_count": null,
   "id": "18e6c39a-c7ac-4792-b2f6-594660f05057",
   "metadata": {},
   "outputs": [],
   "source": []
  },
  {
   "cell_type": "markdown",
   "id": "cdb53253-cd39-46f1-9a3a-e33ae4c0e51d",
   "metadata": {},
   "source": [
    "Q6. Create a custom class. Use this class to handle exceptions."
   ]
  },
  {
   "cell_type": "code",
   "execution_count": null,
   "id": "c5fefd53-a56c-4a0a-beff-79d99ff9cb0c",
   "metadata": {},
   "outputs": [],
   "source": [
    "# define Python user-defined exceptions\n",
    "class InvalidAgeException(Exception):\n",
    "    \"Raised when the input value is less than 18\"\n",
    "    pass\n",
    "number = 18\n",
    "try:\n",
    "    input_num = int(input(\"Enter a number: \"))\n",
    "    if input_num < number:\n",
    "        raise InvalidAgeException\n",
    "    else:\n",
    "        print(\"Eligible to Vote\")\n",
    "        \n",
    "except InvalidAgeException:\n",
    "    print(\"Exception occurred: Invalid Age\")"
   ]
  }
 ],
 "metadata": {
  "kernelspec": {
   "display_name": "Python 3 (ipykernel)",
   "language": "python",
   "name": "python3"
  },
  "language_info": {
   "codemirror_mode": {
    "name": "ipython",
    "version": 3
   },
   "file_extension": ".py",
   "mimetype": "text/x-python",
   "name": "python",
   "nbconvert_exporter": "python",
   "pygments_lexer": "ipython3",
   "version": "3.10.8"
  }
 },
 "nbformat": 4,
 "nbformat_minor": 5
}
