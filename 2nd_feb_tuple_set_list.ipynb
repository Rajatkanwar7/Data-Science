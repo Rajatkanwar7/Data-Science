{
 "cells": [
  {
   "cell_type": "markdown",
   "id": "4e395119-cd3a-4cf5-827f-4fb6f445a646",
   "metadata": {},
   "source": [
    "Q1. What are the characteristics of the tuples? Is tuple immutable?"
   ]
  },
  {
   "cell_type": "code",
   "execution_count": null,
   "id": "63a7b30a-5e97-4c6f-93c8-93500e00baf4",
   "metadata": {},
   "outputs": [],
   "source": [
    "Tuple() is one of the build-in data type in python.A tuple() python refers to a data type that stores the collection of data.It may contain no, one, or more elements.\n",
    "Tuples have the given characteristics:\n",
    "1.They are indexed\n",
    "2.Tuples are ordered\n",
    "3.These are immutable\n",
    "4.They can contain duplicate items"
   ]
  },
  {
   "cell_type": "code",
   "execution_count": null,
   "id": "dc182fb6-a725-46d1-958e-08f776a948bf",
   "metadata": {},
   "outputs": [],
   "source": []
  },
  {
   "cell_type": "markdown",
   "id": "341aef0a-8a48-4626-8ff2-025ff6e40335",
   "metadata": {},
   "source": [
    "Q2. What are the two tuple methods in python? Give an example of each method. Give a reason why\n",
    "tuples have only two in-built methods as compared to Lists."
   ]
  },
  {
   "cell_type": "markdown",
   "id": "bdd5c87f-d8eb-4988-98e0-d70758b1b3dd",
   "metadata": {},
   "source": [
    "Ans:\n",
    "    Tuple() is immutable, therefore, it does not change after the initial assigning of items.\n",
    "The methods used on a tuple are count() and index().\n",
    "1. Count() – This method returns the number of times a specific value occurs in a tuple."
   ]
  },
  {
   "cell_type": "code",
   "execution_count": 6,
   "id": "dd6771d7-e6bf-4b19-94f1-8312a443ca5f",
   "metadata": {},
   "outputs": [
    {
     "name": "stdout",
     "output_type": "stream",
     "text": [
      "3\n",
      "0\n"
     ]
    }
   ],
   "source": [
    "#example\n",
    "t1=(1,2,2,3,3,3,4,5)\n",
    "print(t1.count(3))\n",
    "print(t1.count(8))"
   ]
  },
  {
   "cell_type": "markdown",
   "id": "80076b05-0d7b-47a5-bfa3-abee4643b4ca",
   "metadata": {},
   "source": [
    "2. index() – This method searches the tuple for a specific value after which it returns the position of the specific value."
   ]
  },
  {
   "cell_type": "code",
   "execution_count": 8,
   "id": "9f859075-3729-4f73-8a26-909a6b0a0d40",
   "metadata": {},
   "outputs": [
    {
     "name": "stdout",
     "output_type": "stream",
     "text": [
      "2\n",
      "4\n"
     ]
    }
   ],
   "source": [
    "#example\n",
    "tuple_one = (\"python\",\"lessons\",\"basics\",1,5,9)\n",
    "print(tuple_one.index('basics'))\n",
    "print(tuple_one.index(5))\n"
   ]
  },
  {
   "cell_type": "code",
   "execution_count": null,
   "id": "c579f674-eed0-4603-a3d6-9f80f196fd53",
   "metadata": {},
   "outputs": [],
   "source": []
  },
  {
   "cell_type": "markdown",
   "id": "799a6a52-95bf-422c-9345-9acc342c57d3",
   "metadata": {},
   "source": [
    "Q3. Which collection datatypes in python do not allow duplicate items? Write a code using a set to remove\n",
    "duplicates from the given list.\n",
    "List = [1, 1, 1, 2, 1, 3, 1, 4, 2, 1, 2, 2, 2, 3, 2, 4, 3, 1, 3, 2, 3, 3, 3, 4, 4, 1, 4, 2, 4, 3, 4, 4]"
   ]
  },
  {
   "cell_type": "markdown",
   "id": "62af10be-4f8e-471d-8210-7ed6fd97667b",
   "metadata": {},
   "source": [
    "Ans: Sets Sets are a collection that is unordered and unindexed. They are mutable but do not allow duplicate values to be held."
   ]
  },
  {
   "cell_type": "code",
   "execution_count": 9,
   "id": "c95c00b4-d257-425a-9fa6-55a8d8e62a5d",
   "metadata": {},
   "outputs": [
    {
     "name": "stdout",
     "output_type": "stream",
     "text": [
      "converted list into set  {1, 2, 3, 4}\n"
     ]
    }
   ],
   "source": [
    "List = [1, 1, 1, 2, 1, 3, 1, 4, 2, 1, 2, 2, 2, 3, 2, 4, 3, 1, 3, 2, 3, 3, 3, 4, 4, 1, 4, 2, 4, 3, 4, 4]\n",
    "list_into_set=set(List)\n",
    "print(\"converted list into set \",list_into_set)"
   ]
  },
  {
   "cell_type": "code",
   "execution_count": null,
   "id": "49c3635a-8ed0-4a38-b8a7-bcdd8b59b468",
   "metadata": {},
   "outputs": [],
   "source": []
  },
  {
   "cell_type": "code",
   "execution_count": null,
   "id": "9228cb4b-6600-46bc-9fde-ffdc6e2ae6e6",
   "metadata": {},
   "outputs": [],
   "source": [
    "Q4. Explain the difference between the union() and update() methods for a set. Give an example of\n",
    "each method."
   ]
  },
  {
   "cell_type": "markdown",
   "id": "572cf6db-ed31-46f0-a622-0045baae277a",
   "metadata": {},
   "source": [
    "Ans:Union() method create and return a new set, containing all the distinct elements present in all the iterables while\n",
    "update() method updates the set on which this method is called with all the distinct elements present in all the iterables."
   ]
  },
  {
   "cell_type": "code",
   "execution_count": 10,
   "id": "d12f4a27-4347-48fa-98eb-c79535d790b6",
   "metadata": {},
   "outputs": [
    {
     "name": "stdout",
     "output_type": "stream",
     "text": [
      "A Union B :  {1, 2, 3, 4, 5, 6, 7, 8, 9}\n"
     ]
    }
   ],
   "source": [
    "#Union Method\n",
    "A = {1,2,3,4,5}\n",
    "B = {4,5,6,7,8,9}\n",
    "S = A.union(B)\n",
    "print('A Union B : ',S)"
   ]
  },
  {
   "cell_type": "code",
   "execution_count": 14,
   "id": "d9cdae87-b357-4ecf-84a4-96aee55a0e29",
   "metadata": {},
   "outputs": [
    {
     "name": "stdout",
     "output_type": "stream",
     "text": [
      "updated A is:  {1, 2, 3, 4, 5, 6, 7, 8, 9}\n"
     ]
    }
   ],
   "source": [
    "# Update method\n",
    "A = {1,2,3,4,5}\n",
    "B = {4,5,6,7,8,9}\n",
    "A.update(B)\n",
    "print('updated A is: ',A)"
   ]
  },
  {
   "cell_type": "code",
   "execution_count": null,
   "id": "75790436-ecfd-47a2-9a5f-beeffd274585",
   "metadata": {},
   "outputs": [],
   "source": []
  },
  {
   "cell_type": "code",
   "execution_count": null,
   "id": "a8a72c2c-9725-4a7e-a0e7-bbf1a499953c",
   "metadata": {},
   "outputs": [],
   "source": [
    "Q5. What is a dictionary? Give an example. Also, state whether a dictionary is ordered or unordered."
   ]
  },
  {
   "cell_type": "markdown",
   "id": "edaf37df-8349-4021-b337-28df1cdf9d20",
   "metadata": {},
   "source": [
    "Ans:\n",
    "    Dictionaries are used to store data values in key:value pairs.A dictionary is a collection which is ordered(Python version 3.7), changeable and do not allow duplicates."
   ]
  },
  {
   "cell_type": "code",
   "execution_count": 3,
   "id": "6287be69-acda-4215-aa17-f8c2df758938",
   "metadata": {},
   "outputs": [
    {
     "name": "stdout",
     "output_type": "stream",
     "text": [
      "{'name': 'Rajat', 'age': '28', 'year': 1964}\n"
     ]
    }
   ],
   "source": [
    "#Example of dictionary\n",
    "dict1 = {\"name\": \"Rajat\",\"age\": \"28\",\"year\": 1964}\n",
    "print(dict1)"
   ]
  },
  {
   "cell_type": "code",
   "execution_count": 7,
   "id": "7d09ad1a-ce37-4d84-861c-da25c7495380",
   "metadata": {},
   "outputs": [
    {
     "name": "stdout",
     "output_type": "stream",
     "text": [
      "7\n"
     ]
    }
   ],
   "source": [
    "dict2={1:3,2:5,4:7}\n",
    "print(dict2[4])"
   ]
  },
  {
   "cell_type": "code",
   "execution_count": null,
   "id": "8f5db2f7-5554-4cd3-a82d-690e59b74b01",
   "metadata": {},
   "outputs": [],
   "source": []
  },
  {
   "cell_type": "code",
   "execution_count": null,
   "id": "2c2bb2ae-f722-4aa3-9eeb-2b3c13949b24",
   "metadata": {},
   "outputs": [],
   "source": [
    "Q6. Can we create a nested dictionary? If so, please give an example by creating a simple one-level\n",
    "nested dictionary."
   ]
  },
  {
   "cell_type": "code",
   "execution_count": null,
   "id": "3b896146-168c-4af2-bdcc-f3a446ba4722",
   "metadata": {},
   "outputs": [],
   "source": [
    "Ans: A dictionary can contain dictionaries, this is called nested dictionaries."
   ]
  },
  {
   "cell_type": "code",
   "execution_count": 2,
   "id": "455ef195-4cdf-4a8e-888f-e6686f9f2d44",
   "metadata": {},
   "outputs": [
    {
     "name": "stdout",
     "output_type": "stream",
     "text": [
      "{'car': {'name': 'BMW', 'model': 2020}, 'BIke': {'name': 'Apache', 'year': 2021}}\n"
     ]
    }
   ],
   "source": [
    "mycollection = {\"car\":{\"name\":\"BMW\",\"model\" : 2020},\"BIke\" : {\"name\" : \"Apache\",\"year\" : 2021}}\n",
    "print(mycollection)"
   ]
  },
  {
   "cell_type": "code",
   "execution_count": null,
   "id": "5f4f396a-5499-4d56-81ff-2cdeafd069b4",
   "metadata": {},
   "outputs": [],
   "source": []
  },
  {
   "cell_type": "markdown",
   "id": "03c8f115-cd8b-4e8b-84e5-c510eefce297",
   "metadata": {},
   "source": [
    "Q7. Using setdefault() method, create key named topics in the given dictionary and also add the value of\n",
    "the key as this list ['Python', 'Machine Learning’,'Deep Learning']\n",
    "dict1 = {'language' : 'Python', 'course': 'Data Science Masters'}"
   ]
  },
  {
   "cell_type": "code",
   "execution_count": 20,
   "id": "8c4436e2-78c0-43c3-afc3-56570001f431",
   "metadata": {},
   "outputs": [
    {
     "name": "stdout",
     "output_type": "stream",
     "text": [
      "{'language': 'Python', 'course': 'Data Science Masters', 'topics': ['Python', 'Machine Learning', 'Deep Learning']}\n"
     ]
    }
   ],
   "source": [
    "dict1 = {'language':'Python','course': 'Data Science Masters'}\n",
    "dict1.setdefault('topics', ['Python','Machine Learning', 'Deep Learning'])\n",
    "print(dict1)"
   ]
  },
  {
   "cell_type": "code",
   "execution_count": null,
   "id": "4a568f8e-c606-4736-a938-c561dd5126fc",
   "metadata": {},
   "outputs": [],
   "source": []
  },
  {
   "cell_type": "markdown",
   "id": "5779eb95-9e21-44d2-9cbc-7ad3a819fa2f",
   "metadata": {},
   "source": [
    "Q8. What are the three view objects in dictionaries? Use the three in-built methods in python to display\n",
    "these three view objects for the given dictionary.\n",
    "dict1 = {'Sport': 'Cricket' , 'Teams': ['India', 'Australia', 'England', 'South Africa', 'Sri Lanka', 'New Zealand']}"
   ]
  },
  {
   "cell_type": "markdown",
   "id": "b2351085-1e7a-4f45-abd0-852d89e017b6",
   "metadata": {},
   "source": [
    "Ans: Three view objects in dictionaries:\n",
    "    1. dict.keys()\n",
    "    2. dict.values()\n",
    "    3. dict.items()"
   ]
  },
  {
   "cell_type": "code",
   "execution_count": 13,
   "id": "d701c4dc-dc80-48f2-928a-5c361c86492b",
   "metadata": {},
   "outputs": [
    {
     "name": "stdout",
     "output_type": "stream",
     "text": [
      "Dict1:  {'Sport': 'Cricket', 'Teams': ['India', 'Australia', 'England', 'South Africa', 'Sri Lanka', 'New Zealand']}\n",
      "keys in dict1:  dict_keys(['Sport', 'Teams'])\n",
      "Values in dict1:  dict_values(['Cricket', ['India', 'Australia', 'England', 'South Africa', 'Sri Lanka', 'New Zealand']])\n",
      "Items in dict1:  dict_items([('Sport', 'Cricket'), ('Teams', ['India', 'Australia', 'England', 'South Africa', 'Sri Lanka', 'New Zealand'])])\n"
     ]
    }
   ],
   "source": [
    "dict1 = {'Sport': 'Cricket' , 'Teams': ['India', 'Australia', 'England', 'South Africa', 'Sri Lanka', 'New Zealand']}\n",
    "print(\"Dict1: \",dict1)\n",
    "K= dict1.keys()\n",
    "print(\"keys in dict1: \",K)\n",
    "V=dict1.values()\n",
    "print(\"Values in dict1: \",V)\n",
    "I=dict1.items()\n",
    "print(\"Items in dict1: \", I)"
   ]
  },
  {
   "cell_type": "code",
   "execution_count": null,
   "id": "3ea5b643-8686-4d5f-9e5c-75af96a59bc8",
   "metadata": {},
   "outputs": [],
   "source": []
  }
 ],
 "metadata": {
  "kernelspec": {
   "display_name": "Python 3 (ipykernel)",
   "language": "python",
   "name": "python3"
  },
  "language_info": {
   "codemirror_mode": {
    "name": "ipython",
    "version": 3
   },
   "file_extension": ".py",
   "mimetype": "text/x-python",
   "name": "python",
   "nbconvert_exporter": "python",
   "pygments_lexer": "ipython3",
   "version": "3.10.8"
  }
 },
 "nbformat": 4,
 "nbformat_minor": 5
}
