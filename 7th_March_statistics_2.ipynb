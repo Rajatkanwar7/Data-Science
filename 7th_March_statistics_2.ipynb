{
 "cells": [
  {
   "cell_type": "markdown",
   "id": "85d51eb1-e629-4708-8772-3018973c878b",
   "metadata": {},
   "source": [
    "## Q1. What are the three measures of central tendency?"
   ]
  },
  {
   "cell_type": "markdown",
   "id": "a6362f19-7a82-4704-befc-22c525aefc25",
   "metadata": {},
   "source": [
    "Ans:\n",
    "The three measures of central tendency are:\n",
    "\n",
    "1. Mean: This is the sum of all the values in a dataset divided by the total number of values. It is also called the arithmetic mean.\n",
    "\n",
    "2. Median: This is the middle value in a dataset when the values are arranged in order. If there is an even number of values, then the median is the average of the two middle values.\n",
    "\n",
    "3. Mode: This is the value that appears most frequently in a dataset. A dataset can have one mode (unimodal), two modes (bimodal), or more than two modes (multimodal)"
   ]
  },
  {
   "cell_type": "code",
   "execution_count": null,
   "id": "40e2781b-1d73-490d-9ee4-d99c19e2eaa8",
   "metadata": {},
   "outputs": [],
   "source": []
  },
  {
   "cell_type": "markdown",
   "id": "8d389f44-b405-4d95-ab29-57bad8ec4c42",
   "metadata": {},
   "source": [
    "## Q2. What is the difference between the mean, median, and mode? How are they used to measure the central tendency of a dataset?"
   ]
  },
  {
   "cell_type": "markdown",
   "id": "0020c809-9d88-4a74-9df3-b847ab944e62",
   "metadata": {},
   "source": [
    "Ans:\n",
    "\n",
    "The mean, median, and mode are all measures of central tendency, but they differ in how they are calculated and what they represent.\n",
    "\n",
    "\n",
    "1. The mean is calculated by adding up all the values in a dataset and dividing by the total number of values.The median is the middle value in a dataset when the values are arranged in order. It represents the value that splits the dataset into two equal halves. The mode is the value that appears most frequently in a dataset.\n",
    "\n",
    "2. Mean is sensitive to outliers. Median is less sensitive to outliers. Mode is insensitive to outliers.\n",
    "\n",
    "To measure central tendency of a dataset: 'Mean' is used when data is symmetrical and has no outliers.If the dataset is skewed or has outliers, the median may be a better measure of central tendency. If the dataset has several distinct peaks, the mode may be a good measure of central tendency"
   ]
  },
  {
   "cell_type": "code",
   "execution_count": null,
   "id": "ca306055-3b7d-4bd1-89e6-5426e618f560",
   "metadata": {},
   "outputs": [],
   "source": []
  },
  {
   "cell_type": "markdown",
   "id": "65febc17-ffe5-4f90-97be-00940c6c1fe6",
   "metadata": {},
   "source": [
    "## Q3. Measure the three measures of central tendency for the given height data:\n",
    "\n",
    " ## [178,177,176,177,178.2,178,175,179,180,175,178.9,176.2,177,172.5,178,176.5]"
   ]
  },
  {
   "cell_type": "code",
   "execution_count": 6,
   "id": "cd0a806a-1311-4692-a568-d88449496372",
   "metadata": {},
   "outputs": [
    {
     "name": "stdout",
     "output_type": "stream",
     "text": [
      "Mean height: 177.01875\n",
      "Median height: 177.0\n",
      "Mode height: 178\n"
     ]
    }
   ],
   "source": [
    "import numpy as np      \n",
    "from statistics import mode\n",
    "data = [178, 177, 176, 177, 178.2, 178, 175, 179, 180, 175, 178.9, 176.2, 177, 172.5, 178, 176.5]\n",
    "mean = np.mean(data)\n",
    "median = np.median(data)\n",
    "mode= mode(data)\n",
    "print(\"Mean height:\", mean)\n",
    "print(\"Median height:\", median)\n",
    "print(\"Mode height:\", mode)"
   ]
  },
  {
   "cell_type": "code",
   "execution_count": null,
   "id": "c555bbe4-ce68-4294-b4bd-085901bd866e",
   "metadata": {},
   "outputs": [],
   "source": []
  },
  {
   "cell_type": "markdown",
   "id": "c33e842c-266c-4c55-843a-5ae52e8b06c7",
   "metadata": {},
   "source": [
    "## Q4. Find the standard deviation for the given data:\n",
    "\n",
    "## [178,177,176,177,178.2,178,175,179,180,175,178.9,176.2,177,172.5,178,176.5]"
   ]
  },
  {
   "cell_type": "code",
   "execution_count": 9,
   "id": "03268dd3-9b41-4d10-a97e-338ad54ad932",
   "metadata": {},
   "outputs": [
    {
     "name": "stdout",
     "output_type": "stream",
     "text": [
      "Standard deviation: 1.7885814036548633\n"
     ]
    }
   ],
   "source": [
    "import numpy as np\n",
    "data = [178, 177, 176, 177, 178.2, 178, 175, 179, 180, 175, 178.9, 176.2, 177, 172.5, 178, 176.5]\n",
    "std_height = np.std(data)\n",
    "print(\"Standard deviation:\", std_height)\n"
   ]
  },
  {
   "cell_type": "code",
   "execution_count": null,
   "id": "2b366c3d-6cec-4e3f-8f16-29d2e1465534",
   "metadata": {},
   "outputs": [],
   "source": []
  },
  {
   "cell_type": "markdown",
   "id": "8b66e7a3-ff1d-4c72-858f-082deb4e1cfb",
   "metadata": {},
   "source": [
    "## Q5. How are measures of dispersion such as range, variance, and standard deviation used to describe the spread of a dataset? Provide an example."
   ]
  },
  {
   "cell_type": "markdown",
   "id": "ba684845-52fa-402d-92cf-cde042cc07ac",
   "metadata": {},
   "source": [
    "Ans:\n",
    "\n",
    "Measures of dispersion, such as range, variance, and standard deviation, are used to describe how spread out the values in a dataset are. These measures provide information about the variability or diversity of the data points in a dataset.\n",
    "\n",
    "For example, let's say we have two datasets:\n",
    "Dataset 1: [2, 2, 3, 4, 5]\n",
    "Dataset 2: [3, 1, 4, 4, 4]"
   ]
  },
  {
   "cell_type": "code",
   "execution_count": 14,
   "id": "fd4eddcb-e0d7-4961-a9c1-186dd2d7cce9",
   "metadata": {},
   "outputs": [
    {
     "name": "stdout",
     "output_type": "stream",
     "text": [
      "Dataset 1\n",
      "Mean1: 3.0\n",
      "Range: 4\n",
      "Variance: 2.0\n",
      "Standard deviation: 1.4142135623730951\n",
      "\n",
      "Dataset 2\n",
      "mean2: 3.0\n",
      "Range: 3\n",
      "Variance: 1.6\n",
      "Standard deviation: 1.2649110640673518\n"
     ]
    }
   ],
   "source": [
    "import numpy as np\n",
    "data1 = [1, 2, 3, 4, 5]\n",
    "data2 = [2, 1, 4, 4, 4]\n",
    "#mean\n",
    "mean1=np.mean(data1)\n",
    "mean2=np.mean(data2)\n",
    "# Range\n",
    "range1 = np.max(data1) - np.min(data1)\n",
    "range2 = np.max(data2) - np.min(data2)\n",
    "# Variance\n",
    "var1 = np.var(data1)\n",
    "var2 = np.var(data2)\n",
    "# Standard deviation\n",
    "std1 = np.std(data1)\n",
    "std2 = np.std(data2)\n",
    "# Print results\n",
    "print(\"Dataset 1\")\n",
    "print(\"Mean1:\", mean1)\n",
    "print(\"Range:\", range1)\n",
    "print(\"Variance:\", var1)\n",
    "print(\"Standard deviation:\", std1)\n",
    "print()\n",
    "print(\"Dataset 2\")\n",
    "print(\"mean2:\", mean2)\n",
    "print(\"Range:\", range2)\n",
    "print(\"Variance:\", var2)\n",
    "print(\"Standard deviation:\", std2)\n"
   ]
  },
  {
   "cell_type": "markdown",
   "id": "13384b69-5a7e-4041-951d-f1acfa67025b",
   "metadata": {},
   "source": [
    "Both datasets have the same mean of 3, but the values in the two datasets are distributed differently. We can use measures of dispersion to describe the spread of the data in each dataset.\n",
    "\n",
    "\n",
    "The range of a dataset is the difference between the largest and smallest values. For Dataset 1, the range is 5 - 1 = 4, while for Dataset 2, the range is 4 - 2 = 2.\n",
    "\n",
    "The range gives us a quick and simple way to compare the spread of the two datasets.\n",
    "\n",
    "\n",
    "The variance and standard deviation measure the average distance of each data point from the mean.\n",
    "\n",
    "For Dataset 1, the variance is 2 and the standard deviation is approximately 1.41. \n",
    "For Dataset 2, the variance is 1.6 and the standard deviation is approximately 1.26. \n",
    "The smaller the variance or standard deviation, the less spread out the data is around the mean.\n",
    "\n",
    "In this example, we can see that while both datasets have the same mean, they have different ranges, variances, and standard deviations, indicating different levels of spread or variability. The measures of dispersion allow us to quantify and compare the spread of the data in different datasets, helping us to better understand and analyze the data"
   ]
  },
  {
   "cell_type": "code",
   "execution_count": null,
   "id": "a0d589d9-0c52-4373-b98a-ddb55904e518",
   "metadata": {},
   "outputs": [],
   "source": []
  },
  {
   "cell_type": "markdown",
   "id": "c78d8cb8-921e-4947-ad95-d4f93a6a27af",
   "metadata": {},
   "source": [
    "## Q6. What is a Venn diagram?"
   ]
  },
  {
   "cell_type": "markdown",
   "id": "fb9f5535-84b2-48f0-833b-e29bc74e4ba4",
   "metadata": {},
   "source": [
    "Ans:\n",
    "    \n",
    "A Venn diagram is a graphical representation of the relationships between sets. It is composed of a series of overlapping circles or ellipses, with each circle representing a set and the overlap representing the intersection between those sets.    "
   ]
  },
  {
   "cell_type": "code",
   "execution_count": null,
   "id": "e04696d4-09d6-4470-a1f3-2ce035f0fe68",
   "metadata": {},
   "outputs": [],
   "source": []
  },
  {
   "cell_type": "markdown",
   "id": "d5688a32-f3cc-4783-945a-4fd8cb5c6539",
   "metadata": {},
   "source": [
    "## Q7. For the two given sets A = (2,3,4,5,6,7) & B = (0,2,6,8,10). Find:\n",
    "\n",
    "## (i) \tA ⋂ B\n",
    "## (ii)\tA ⋃ B"
   ]
  },
  {
   "cell_type": "code",
   "execution_count": 16,
   "id": "770fa701-7606-46c2-aa5e-fc8e7d3d2a03",
   "metadata": {},
   "outputs": [
    {
     "name": "stdout",
     "output_type": "stream",
     "text": [
      "A ⋂ B = {2, 6}\n",
      "A ⋃ B = {0, 2, 3, 4, 5, 6, 7, 8, 10}\n"
     ]
    }
   ],
   "source": [
    "A = {2, 3, 4, 5, 6, 7}\n",
    "B = {0, 2, 6, 8, 10}\n",
    "intersection = A.intersection(B)\n",
    "print(\"A ⋂ B =\", intersection)\n",
    "union = A.union(B)\n",
    "print(\"A ⋃ B =\", union)\n"
   ]
  },
  {
   "cell_type": "code",
   "execution_count": null,
   "id": "fa5a454e-7048-4932-a976-7f3e8fb1b5ef",
   "metadata": {},
   "outputs": [],
   "source": []
  },
  {
   "cell_type": "markdown",
   "id": "3074a82f-23ca-4e62-9fbf-7873bd829c3a",
   "metadata": {},
   "source": [
    "## Q8. What do you understand about skewness in data?"
   ]
  },
  {
   "cell_type": "markdown",
   "id": "cb6ad812-7564-4fa0-b227-5b2aec5f43a0",
   "metadata": {},
   "source": [
    "Ans:\n",
    "\n",
    "Skewness is a statistical measure that describes the degree of asymmetry in a probability distribution. A distribution is said to be skewed if it is not symmetric, i.e., if one tail of the distribution has more mass than the other tail.\n",
    "\n",
    "There are three types of skewness:\n",
    "1. Positive skewness: In a positively skewed distribution, the tail on the right-hand side of the distribution is longer or has more mass than the tail on the left-hand side.\n",
    "\n",
    "2. Negative skewness: In a negatively skewed distribution, the tail on the left-hand side of the distribution is longer or has more mass than the tail on the right-hand side.\n",
    "\n",
    "3. Zero skewness: In a symmetric distribution, the two tails are of equal length or have equal mass.\n",
    "\n",
    "\n",
    "Skewness is important in data analysis because it can affect the interpretation of statistics and the validity of certain statistical tests. For example, if the data is skewed, the mean may not be an accurate representation of the central tendency of the data, and other measures of central tendency, such as the median or mode, may be more appropriate. Similarly, if the data is skewed, it may violate the assumptions of certain statistical tests, such as the t-test, and alternative tests may need to be used."
   ]
  },
  {
   "cell_type": "code",
   "execution_count": null,
   "id": "a29c247e-80d9-408b-8988-4f7529ea34de",
   "metadata": {},
   "outputs": [],
   "source": []
  },
  {
   "cell_type": "markdown",
   "id": "d846c1ab-cc2e-438a-a374-3f141992e004",
   "metadata": {},
   "source": [
    "## Q9. If a data is right skewed then what will be the position of median with respect to mean?"
   ]
  },
  {
   "cell_type": "markdown",
   "id": "8b32d8aa-ee37-42e0-89d9-c0f92f2d9060",
   "metadata": {},
   "source": [
    "Ans:\n",
    "    \n",
    "If a dataset is right-skewed, the median will be less than the mean. This is because in a right-skewed distribution, the tail on the right-hand side is longer or has more mass than the tail on the left-hand side"
   ]
  },
  {
   "cell_type": "code",
   "execution_count": null,
   "id": "91cf888e-8a60-4c95-bfc2-ae3875447ac1",
   "metadata": {},
   "outputs": [],
   "source": []
  },
  {
   "cell_type": "markdown",
   "id": "5e507b26-c084-4346-b812-3c318c229e17",
   "metadata": {},
   "source": [
    "## Q10. Explain the difference between covariance and correlation. How are these measures used in statistical analysis?"
   ]
  },
  {
   "cell_type": "markdown",
   "id": "4496707b-32e8-451d-a643-fa5b3b79e6f1",
   "metadata": {},
   "source": [
    "Ans:\n",
    "    \n",
    "Covariance and correlation are two measures used to describe the relationship between two variables in a dataset.\n",
    "\n",
    "1. Covariance measures how much two variables change together. It is a measure of the joint variability of two random variables, i.e., how much they move together in a linear fashion. It can take on both positive and negative values.A positive covariance indicates that the two variables tend to increase or decrease together, while a negative covariance indicates that one variable tends to increase while the other decreases. However, covariance does not provide information about the strength and direction of the relationship between two variables.\n",
    "\n",
    "2. Correlation, on the other hand, is a standardized measure that describes the strength and direction of the linear relationship between two variables. It measures how closely two variables move together and ranges from -1 to +1. A correlation coefficient of +1 indicates a perfect positive correlation, meaning that the two variables move in the same direction in a linear fashion, while a correlation coefficient of -1 indicates a perfect negative correlation, meaning that the two variables move in opposite directions in a linear fashion. A correlation coefficient of 0 indicates no linear relationship between the two variables.\n",
    "\n",
    "\n",
    "Correlation is preferred over covariance when comparing the relationship between variables because it is normalized, which means it is not affected by the scales of the two variables. For example, if one variable is measured in dollars and the other in euros, covariance may not provide an accurate measure of the relationship between the two variables. Correlation, on the other hand, is scale-invariant and provides a more accurate measure of the relationship between the two variables."
   ]
  },
  {
   "cell_type": "code",
   "execution_count": null,
   "id": "ca097a3c-9891-4a4c-bf19-bedaf22cbd64",
   "metadata": {},
   "outputs": [],
   "source": []
  },
  {
   "cell_type": "markdown",
   "id": "937c80e4-de26-4009-8f6a-327bc0a24790",
   "metadata": {},
   "source": [
    "## Q11. What is the formula for calculating the sample mean? Provide an example calculation for a dataset."
   ]
  },
  {
   "cell_type": "markdown",
   "id": "0233d81e-5184-4803-b077-560f2643dc3f",
   "metadata": {},
   "source": [
    "Ans:\n",
    "    \n",
    "The formula for calculating the sample mean is:\n",
    "   \n",
    "sample mean = (sum of all data values)/(number of data values)"
   ]
  },
  {
   "cell_type": "code",
   "execution_count": 17,
   "id": "08453659-5ea6-46cd-9b53-5b8afa377b91",
   "metadata": {},
   "outputs": [
    {
     "name": "stdout",
     "output_type": "stream",
     "text": [
      "Sample mean: 18.0\n"
     ]
    }
   ],
   "source": [
    "#python example\n",
    "data = [12, 15, 18, 21, 24]\n",
    "n = len(data)\n",
    "mean = sum(data) / n\n",
    "print(\"Sample mean:\", mean)\n"
   ]
  },
  {
   "cell_type": "code",
   "execution_count": null,
   "id": "4e061f1a-6349-4af9-8afc-039e98a42e83",
   "metadata": {},
   "outputs": [],
   "source": []
  },
  {
   "cell_type": "markdown",
   "id": "ab0080e1-b152-4c6d-8492-176c05b65409",
   "metadata": {},
   "source": [
    "## Q12. For a normal distribution data what is the relationship between its measure of central tendency?"
   ]
  },
  {
   "cell_type": "markdown",
   "id": "c04abae6-3a38-47fa-a2f2-9ef2d8133f05",
   "metadata": {},
   "source": [
    "Ans:\n",
    "    \n",
    "For a normal distribution data, the mean, median, and mode are all equal. This is because the normal distribution is symmetric around its mean, which means that the middle value (median) is the same as the peak value (mode) and also the same as the arithmetic average (mean)."
   ]
  },
  {
   "cell_type": "code",
   "execution_count": null,
   "id": "14785016-f910-4982-b017-b9ecf5462ba8",
   "metadata": {},
   "outputs": [],
   "source": []
  },
  {
   "cell_type": "markdown",
   "id": "56ae79e2-9f59-4730-830f-e962cdc0227d",
   "metadata": {},
   "source": [
    "## Q13. How is covariance different from correlation?"
   ]
  },
  {
   "cell_type": "markdown",
   "id": "36d16125-0d2a-47a7-b6bd-81c528f22963",
   "metadata": {},
   "source": [
    "Ans:\n",
    "    \n",
    "1. Covariance indicates the direction and strength of the linear relationship between two variables, while correlation measures the strength of the linear relationship on a standardized scale from -1 to 1. \n",
    "\n",
    "2. Covariance is difficult to interpret because it depends on the units of the variables. On the other hand,correlation is unitless and therefore easier to interpret and compare across different datasets.\n",
    "\n",
    "3. A positive covariance indicates that when one variable increases, the other variable tends to increase as well, and when one variable decreases, the other variable tends to decrease as well. A negative covariance indicates that when one variable increases, the other variable tends to decrease and vice versa.\n",
    "On the other hand,a correlation of +1 indicates a perfect positive relationship, a correlation of -1 indicates a perfect negative relationship"
   ]
  },
  {
   "cell_type": "code",
   "execution_count": null,
   "id": "f6cc02d2-beb3-475c-9e21-e142a8e2ab86",
   "metadata": {},
   "outputs": [],
   "source": []
  },
  {
   "cell_type": "markdown",
   "id": "871ec3d8-651a-4730-b79c-ba030890cdf4",
   "metadata": {},
   "source": [
    "## Q14. How do outliers affect measures of central tendency and dispersion? Provide an example."
   ]
  },
  {
   "cell_type": "markdown",
   "id": "4ce75af3-c9ff-4351-bb76-24e80615b24f",
   "metadata": {},
   "source": [
    "Ans:\n",
    "    \n",
    "Outliers have a significant effect on measures of central tendency and dispersion.\n",
    "\n",
    "1. Affect on central tendency:\n",
    "If a dataset has outliers, the mean will be pulled towards the direction of the outliers, making it an unreliable measure of central tendency. The median is less affected by outliers, but can still be skewed if there are multiple outliers. The mode may not be affected by outliers at all.\n",
    "\n",
    "2. Affect on dispersion: The range will increased if there are outliers on either end of the dataset. The variance and standard deviation will also be increased, as they are based on the squared deviations from the mean, which will be larger if there are outliers in the dataset."
   ]
  },
  {
   "cell_type": "code",
   "execution_count": 19,
   "id": "750a43e1-c3ac-48da-bb53-5a04c8ccd4e4",
   "metadata": {},
   "outputs": [
    {
     "name": "stdout",
     "output_type": "stream",
     "text": [
      "Mean:  71493.57142857143\n",
      "Median:  72.5\n",
      "Standard Deviation:  257521.34969349467\n"
     ]
    }
   ],
   "source": [
    "#Example\n",
    "import numpy as np\n",
    "# dataset with an outlier\n",
    "data = np.array([40, 45, 50, 55, 60, 65, 70, 75, 80, 85, 90, 95, 100, 1000000])\n",
    "# calculate the mean, median, and standard deviation\n",
    "mean = np.mean(data)\n",
    "median = np.median(data)\n",
    "std_dev = np.std(data)\n",
    "print(\"Mean: \", mean)\n",
    "print(\"Median: \", median)\n",
    "print(\"Standard Deviation: \", std_dev)\n"
   ]
  },
  {
   "cell_type": "markdown",
   "id": "6c15586b-be97-463a-b322-476400557452",
   "metadata": {},
   "source": [
    "As we can see, the mean salary is pulled towards the outlier value of 1,000,000, resulting in a mean salary of 76970.5 which is not a representative measure of the central tendency. On the other hand, the median is not affected by the outlier, resulting in a median salary of 75. The standard deviation is also significantly larger due to the presence of the outlier."
   ]
  },
  {
   "cell_type": "code",
   "execution_count": null,
   "id": "11ea35cd-926b-48dd-b449-f3eda7989d5f",
   "metadata": {},
   "outputs": [],
   "source": []
  }
 ],
 "metadata": {
  "kernelspec": {
   "display_name": "Python 3 (ipykernel)",
   "language": "python",
   "name": "python3"
  },
  "language_info": {
   "codemirror_mode": {
    "name": "ipython",
    "version": 3
   },
   "file_extension": ".py",
   "mimetype": "text/x-python",
   "name": "python",
   "nbconvert_exporter": "python",
   "pygments_lexer": "ipython3",
   "version": "3.10.8"
  }
 },
 "nbformat": 4,
 "nbformat_minor": 5
}
