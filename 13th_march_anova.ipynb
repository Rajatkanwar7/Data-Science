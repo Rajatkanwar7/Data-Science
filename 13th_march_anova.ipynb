{
 "cells": [
  {
   "cell_type": "markdown",
   "id": "ed24bb44-42d6-4dce-b39e-b6f460cc29c3",
   "metadata": {},
   "source": [
    "## Q1. Explain the assumptions required to use ANOVA and provide examples of violations that could impact the validity of the results."
   ]
  },
  {
   "cell_type": "markdown",
   "id": "86fa059c-18ab-47c8-be91-d712f4efcd3f",
   "metadata": {},
   "source": [
    "Ans:\n",
    "Assumptions required to use Anova:\n",
    "1. Independence: The observations in each group are independent of each other.\n",
    "2. Normality: The data in each group should follow a normal distribution.\n",
    "3. Homogeneity of variances: The variance of the data in each group should be roughly equal.\n",
    "4. Outliers: There should be no outliers.\n",
    "\n",
    "Examples of violations that could impact the validity of ANOVA results are:\n",
    "1. Outliers: If one or more data points are significantly different from the others in a group, it can impact the normality assumption.\n",
    "2. Non-normal distribution: If the data in one or more groups are not normally distributed, it can affect the validity of the ANOVA results.\n",
    "3. Unequal variances: If the variances of the data in one or more groups are significantly different from the others, it can affect the homogeneity of variances assumption.\n",
    "4. Correlated observations: If the observations in one or more groups are not independent of each other, it can violate the independence assumption.\n",
    "\n",
    "\n"
   ]
  },
  {
   "cell_type": "code",
   "execution_count": null,
   "id": "13f6bd78-b642-475f-98ea-3592a37bf48e",
   "metadata": {},
   "outputs": [],
   "source": []
  },
  {
   "cell_type": "markdown",
   "id": "0de49670-12f9-48fe-a5c6-9188627683eb",
   "metadata": {},
   "source": [
    "## Q2. What are the three types of ANOVA, and in what situations would each be used?"
   ]
  },
  {
   "cell_type": "markdown",
   "id": "0ebcc731-77e5-4821-87f3-51e77838e755",
   "metadata": {},
   "source": [
    "Ans:\n",
    "    \n",
    "The three types of ANOVA are:\n",
    "1. One-way ANOVA: One-way ANOVA is used when there is one factor with two or more levels.A one-way ANOVA could be used to compare the average income levels of people in three different cities.\n",
    "2. Two-way ANOVA: Two-way ANOVA is used when there are two factors, each with two or more levels.A two-way ANOVA could be used to compare the effects of two different diets and two different exercise programs on weight loss.\n",
    "3. Three-way ANOVA: Three-way ANOVA is used when there are three factors, each with two or more levels.A three-way ANOVA could be used to compare the effects of different types of fertilizers, different irrigation methods, and different planting times on crop yield."
   ]
  },
  {
   "cell_type": "code",
   "execution_count": null,
   "id": "5d9702fb-0dac-442a-ac51-f7c1d5270e71",
   "metadata": {},
   "outputs": [],
   "source": []
  },
  {
   "cell_type": "markdown",
   "id": "c1d67b44-59b7-46e6-9d41-6e2e6be771e2",
   "metadata": {},
   "source": [
    "## Q3. What is the partitioning of variance in ANOVA, and why is it important to understand this concept?"
   ]
  },
  {
   "cell_type": "markdown",
   "id": "4eae8be3-1991-43ba-8223-1e2e8cb7feab",
   "metadata": {},
   "source": [
    "Ans:\n",
    "    \n",
    "The partitioning of variance in ANOVA refers to the division of the total variance of the data into different components, each of which can be attributed to a specific source or factor. \n",
    "\n",
    "This partitioning is important because it helps to understand the relative contributions of different factors to the overall variability in of the data, and to determine if the differences between groups are statistically significant or due to chance.\n",
    "In ANOVA, the total variance of the data is divided into two components: the variance between groups (also known as the \"treatment\" variance) and the variance within groups (also known as the \"error\" variance). The variance between groups represents the variability of the means of each group, while the variance within groups represents the variability of the individual data points within each group.\n",
    "\n",
    "By comparing the variance between groups to the variance within groups, ANOVA can determine if there is a statistically significant difference between the means of two or more groups. If the variance between groups is significantly larger than the variance within groups, then it suggests that the differences between groups are not due to chance and that there is a significant effect of the factor being studied.\n",
    "\n",
    "Understanding the partitioning of variance is important because it allows researchers to determine which factors are contributing to the differences between groups and to quantify the magnitude of these effects. This information can then be used to make more informed decisions and to draw more accurate conclusions about the underlying relationships in the data."
   ]
  },
  {
   "cell_type": "code",
   "execution_count": null,
   "id": "c637e868-10b7-4958-a235-f2b6ff03929f",
   "metadata": {},
   "outputs": [],
   "source": []
  },
  {
   "cell_type": "markdown",
   "id": "47b19179-e712-4e6b-80d5-a750c614b03a",
   "metadata": {},
   "source": [
    "## Q4. How would you calculate the total sum of squares (SST), explained sum of squares (SSE), and residual  sum of squares (SSR) in a one-way ANOVA using Python?"
   ]
  },
  {
   "cell_type": "code",
   "execution_count": 3,
   "id": "8eb6c961-3fc8-42b2-9fd1-56ee081603c2",
   "metadata": {},
   "outputs": [
    {
     "name": "stdout",
     "output_type": "stream",
     "text": [
      "SST: 17.5\n",
      "SSE: 1.5\n",
      "SSR: 16.0\n"
     ]
    }
   ],
   "source": [
    "## Ans:\n",
    "import pandas as pd\n",
    "import statsmodels.api as sm\n",
    "from statsmodels.formula.api import ols\n",
    "# create a sample data frame\n",
    "df = pd.DataFrame({'group': ['A', 'A', 'B', 'B', 'C', 'C'], 'value': [1, 2, 3, 4, 5, 6]})\n",
    "# fit the one-way ANOVA model\n",
    "model = ols('value ~ group', data=df).fit()\n",
    "# calculate SST, SSE, and SSR\n",
    "SST = sum((df['value'] - df['value'].mean())**2)\n",
    "SSE = sum(model.resid**2)\n",
    "SSR = SST - SSE\n",
    "print('SST:', SST)\n",
    "print('SSE:', SSE)\n",
    "print('SSR:', SSR)\n",
    "\n"
   ]
  },
  {
   "cell_type": "markdown",
   "id": "12e9642b-e120-4072-9753-90a77a85a12e",
   "metadata": {},
   "source": [
    "In this example, we first create a sample data frame df with three groups (A, B, and C) and their corresponding values. We then use the ols function to fit a one-way ANOVA model to the data, with value as the dependent variable and group as the independent variable. We then calculate SST as the sum of squares of the differences between each value and the mean value of all groups, SSE as the sum of squares of the residuals (the differences between the observed values and the predicted values from the model), and SSR as the difference between SST and SSE."
   ]
  },
  {
   "cell_type": "code",
   "execution_count": null,
   "id": "e87793cc-d6ca-4b1b-a2b1-53e23abb8115",
   "metadata": {},
   "outputs": [],
   "source": []
  },
  {
   "cell_type": "markdown",
   "id": "b3ccd900-9f70-4e71-8923-8a03af490def",
   "metadata": {},
   "source": [
    "## Q5. In a two-way ANOVA, how would you calculate the main effects and interaction effects using Python?"
   ]
  },
  {
   "cell_type": "code",
   "execution_count": 1,
   "id": "b190097f-f981-4ee3-8ea3-a3c109afd622",
   "metadata": {},
   "outputs": [
    {
     "name": "stdout",
     "output_type": "stream",
     "text": [
      "                  sum_sq    df          F    PR(>F)\n",
      "gender          9.141723   1.0   3.870079  0.067931\n",
      "treatment       0.097600   1.0   0.041318  0.841657\n",
      "age            48.889316   1.0  20.696922  0.000384\n",
      "age:treatment   0.128376   1.0   0.054347  0.818816\n",
      "Residual       35.432309  15.0        NaN       NaN\n"
     ]
    }
   ],
   "source": [
    "import pandas as pd\n",
    "import statsmodels.api as sm\n",
    "from statsmodels.formula.api import ols\n",
    "# Create the example database\n",
    "data = {\n",
    "    'id': [1, 2, 3, 4, 5, 6, 7, 8, 9, 10, 11, 12, 13, 14, 15, 16, 17, 18, 19, 20],\n",
    "    'age': [25, 32, 41, 29, 38, 47, 31, 28, 35, 39, 26, 33, 44, 27, 36, 42, 30, 37, 34, 40],\n",
    "    'gender': ['M', 'F', 'F', 'M', 'M', 'F', 'M', 'F', 'M', 'F', 'M', 'F', 'M', 'F', 'M', 'F', 'M', 'F', 'M', 'F'],\n",
    "    'treatment': ['drugA', 'drugB', 'drugA', 'drugB', 'drugA', 'drugB', 'drugA', 'drugB', 'drugA', 'drugB', 'drugA', 'drugB', 'drugA', 'drugB', 'drugA', 'drugB', 'drugA', 'drugB', 'drugA', 'drugB'],\n",
    "    'outcome': [14, 19, 21, 15, 17, 20, 16, 18, 19, 22, 13, 17, 18, 16, 20, 23, 15, 19, 16, 21]\n",
    "}\n",
    "df = pd.DataFrame(data)\n",
    "# Fit the ANOVA model with interaction\n",
    "model = ols('outcome ~ age + gender + treatment + age:treatment', data=df).fit()\n",
    "# Print the ANOVA table\n",
    "table = sm.stats.anova_lm(model, typ=2)\n",
    "print(table)\n"
   ]
  },
  {
   "cell_type": "code",
   "execution_count": 10,
   "id": "0998c0a3-2aa1-41eb-841e-5c40a42a99c5",
   "metadata": {},
   "outputs": [
    {
     "name": "stdout",
     "output_type": "stream",
     "text": [
      "Main effect of independent variable 1: 47.99999999999992\n",
      "Main effect of independent variable 2: 3.155443620884047e-29\n",
      "Interaction effect: 192.0\n"
     ]
    }
   ],
   "source": [
    "#another example\n",
    "import pandas as pd\n",
    "import numpy as np\n",
    "import statsmodels.api as sm\n",
    "from statsmodels.formula.api import ols\n",
    "# Create a pandas dataframe with two independent variables and a dependent variable\n",
    "independent_variable_1 = np.array(['A', 'B', 'C', 'A', 'B', 'C', 'A', 'B', 'C', 'A', 'B', 'C'])\n",
    "independent_variable_2 = np.array(['X', 'X', 'X', 'Y', 'Y', 'Y', 'X', 'X', 'X', 'Y', 'Y', 'Y'])\n",
    "dependent_variable = np.array([10, 12, 8, 14, 16, 12, 18, 20, 16, 22, 24, 20])\n",
    "df = pd.DataFrame({'independent_variable_1': independent_variable_1, 'independent_variable_2': independent_variable_2, 'dependent_variable': dependent_variable})\n",
    "# Define the ANOVA model with interaction\n",
    "model_interaction = ols('dependent_variable ~ independent_variable_1 * independent_variable_2', data=df).fit()\n",
    "# Calculate the main effects and interaction effects\n",
    "main_effect_1 = sm.stats.anova_lm(model_interaction, typ=1)['sum_sq'][1]\n",
    "main_effect_2 = sm.stats.anova_lm(model_interaction, typ=1)['sum_sq'][2]\n",
    "interaction_effect = sm.stats.anova_lm(model_interaction, typ=1)['sum_sq'][3]\n",
    "print('Main effect of independent variable 1:', main_effect_1)\n",
    "print('Main effect of independent variable 2:', main_effect_2)\n",
    "print('Interaction effect:', interaction_effect)"
   ]
  },
  {
   "cell_type": "code",
   "execution_count": null,
   "id": "f563b0a0-f922-4930-a0ce-4d1d5d5d794d",
   "metadata": {},
   "outputs": [],
   "source": []
  },
  {
   "cell_type": "markdown",
   "id": "1d4b40e2-9b95-4b3e-892a-294c5e40ab40",
   "metadata": {},
   "source": [
    "## Q6. Suppose you conducted a one-way ANOVA and obtained an F-statistic of 5.23 and a p-value of 0.02. What can you conclude about the differences between the groups, and how would you interpret these results?"
   ]
  },
  {
   "cell_type": "markdown",
   "id": "a0bc5d54-865d-4f53-8938-3f5a42e5a258",
   "metadata": {},
   "source": [
    "Ans:\n",
    "    \n",
    "If the F-statistic for a one-way ANOVA is significant, it suggests that there are significant differences among at least one pair of the groups being compared.\n",
    "The p-value of 0.02 indicates that there is a 2% chance of obtaining the observed F-statistic by chance, assuming that there is no significant difference among the groups.\n",
    "\n",
    "Based on these results, we can conclude that there are significant differences among the groups being compared. However, we cannot determine which specific groups are different from each other without further analysis (such as post-hoc tests).\n",
    "\n",
    "Furthermore, the magnitude of the F-statistic can provide information about the size of the differences among the groups. In this case, the F-statistic is 5.23, which suggests that the differences among the groups are relatively large compared to the variability within the groups. However, this interpretation should be made with caution as the effect size measure would be a better metric to understand the magnitude of the effect."
   ]
  },
  {
   "cell_type": "code",
   "execution_count": null,
   "id": "5cc7cb18-c31d-4e96-b939-c407e4fb8006",
   "metadata": {},
   "outputs": [],
   "source": []
  },
  {
   "cell_type": "markdown",
   "id": "8f20583c-e9a1-43b7-b591-8ae67ba03453",
   "metadata": {},
   "source": [
    "## Q7. In a repeated measures ANOVA, how would you handle missing data, and what are the potential consequences of using different methods to handle missing data?"
   ]
  },
  {
   "cell_type": "markdown",
   "id": "b12ffbe3-759d-4fc9-be9f-7ab809e9a835",
   "metadata": {},
   "source": [
    "Ans:\n",
    "    \n",
    "In a repeated measures ANOVA, missing data can occur when some participants do not complete all measurements or when some data points are lost due to technical errors or other reasons. The handling of missing data depends on the extent of missingness, the underlying pattern of missingness, and the chosen method for handling missing data. Here are some common approaches to handling missing data in a repeated measures ANOVA:\n",
    "\n",
    "1. Complete case analysis: This involves excluding all participants with any missing data from the analysis. This method is simple but can lead to biased estimates if the missing data are not missing completely at random (MCAR).\n",
    "\n",
    "2. Pairwise deletion: This involves including all participants who have at least one complete measurement and excluding only the missing data for each variable pairwise. This method can provide unbiased estimates if the missing data are MCAR, but it can lead to biased estimates and reduced power if the missing data are not MCAR.\n",
    "\n",
    "3. Imputation methods: These methods involve estimating the missing data based on the observed data and incorporating the imputed values into the analysis. There are several imputation methods available, including mean imputation, regression imputation, multiple imputation, and others. These methods can provide unbiased estimates and increase power if the assumptions of the imputation model are met, but they can also introduce additional uncertainty if the imputation model is misspecified.\n",
    "\n",
    "The potential consequences of using different methods to handle missing data in a repeated measures ANOVA are that the estimates of the means, variances, and standard errors can vary depending on the method used. This can affect the statistical significance of the results, the power of the test, and the precision of the estimates. Therefore, it is important to carefully consider the extent and pattern of missing data and choose an appropriate method for handling missing data that minimizes bias and maximizes the validity of the analysis.\n"
   ]
  },
  {
   "cell_type": "code",
   "execution_count": null,
   "id": "6cd2be4b-e62c-4280-bd29-5c297e16c37b",
   "metadata": {},
   "outputs": [],
   "source": []
  },
  {
   "cell_type": "markdown",
   "id": "2260d969-a7fe-4875-b797-5b605a274742",
   "metadata": {},
   "source": [
    "## Q8. What are some common post-hoc tests used after ANOVA, and when would you use each one? Provide an example of a situation where a post-hoc test might be necessary."
   ]
  },
  {
   "cell_type": "markdown",
   "id": "f5a33ae8-c3a9-4d88-acec-b9a0167182d4",
   "metadata": {},
   "source": [
    "Ans:\n",
    "    \n",
    "Post-hoc tests are used to compare the means of different groups in an ANOVA when the overall F-test is significant. These tests allow us to identify which specific groups are significantly different from each other.\n",
    "\n",
    "Some common post-hoc tests include:\n",
    "\n",
    "1. Tukey's HSD (honestly significant difference): This test is appropriate when there are equal sample sizes in each group and assumes that the variances are equal across all groups. Tukey's HSD compares all possible pairs of group means and controls the family-wise error rate.\n",
    "\n",
    "2. Bonferroni correction: This test is appropriate when the sample sizes and variances are unequal across groups. The Bonferroni correction is a conservative method that controls the type-I error rate by dividing the overall alpha level by the number of pairwise comparisons.\n",
    "\n",
    "3. Scheffe's test: This test is appropriate when the sample sizes and variances are unequal across groups and is more conservative than Tukey's HSD. Scheffe's test controls the family-wise error rate and is best used when the number of pairwise comparisons is small.\n",
    "\n",
    "4. Dunn's test: This test is appropriate when there are non-normal data or unequal variances across groups. Dunn's test is a non-parametric test that compares all possible pairs of group medians.\n",
    "\n",
    "A post-hoc test might be necessary when the overall F-test in the ANOVA is significant, and we want to determine which specific groups differ significantly from each other. \n",
    "For example, suppose we want to compare the effectiveness of four different teaching methods on student performance in a particular subject. After conducting a one-way ANOVA, we find a significant difference among the four groups. A post-hoc test such as Tukey's HSD or Bonferroni correction can help us identify which specific teaching methods lead to significantly different student performance."
   ]
  },
  {
   "cell_type": "code",
   "execution_count": null,
   "id": "a6d066e5-a81b-4f14-9d59-05cc68074993",
   "metadata": {},
   "outputs": [],
   "source": []
  },
  {
   "cell_type": "markdown",
   "id": "03995c16-8458-4b05-8234-935e656e77a3",
   "metadata": {},
   "source": [
    "## Q9. A researcher wants to compare the mean weight loss of three diets: A, B, and C. They collect data from 50 participants who were randomly assigned to one of the diets. Conduct a one-way ANOVA using Python to determine if there are any significant differences between the mean weight loss of the three diets. Report the F-statistic and p-value, and interpret the results."
   ]
  },
  {
   "cell_type": "code",
   "execution_count": 12,
   "id": "9032d7b8-76c5-4afc-9941-117d68fe9c0c",
   "metadata": {},
   "outputs": [
    {
     "name": "stdout",
     "output_type": "stream",
     "text": [
      "F-statistic: 57.06379442059458\n",
      "p-value: 4.5619061215783055e-19\n",
      "We reject the null hypothesis.\n",
      "Conclusion : The mean weight loss is different for at least one diet.\n"
     ]
    }
   ],
   "source": [
    "import numpy as np\n",
    "from scipy.stats import f_oneway\n",
    "# Generate simulated data assuming normal distribution with same variance\n",
    "np.random.seed(1)\n",
    "diet_A = np.random.normal(5, 1, 50)\n",
    "diet_B = np.random.normal(4, 1, 50)\n",
    "diet_C = np.random.normal(3, 1, 50)\n",
    "# Perform one-way ANOVA\n",
    "f_statistic, p_value = f_oneway(diet_A, diet_B, diet_C)\n",
    "# Set significance level\n",
    "alpha = 0.05\n",
    "# Null hypothesis: The mean weight loss is the same for all three diets.\n",
    "# Alternative hypothesis: The mean weight loss is different for at least one diet.\n",
    "null_hypothesis = \"The mean weight loss is the same for all three diets.\"\n",
    "alternate_hypothesis = \"The mean weight loss is different for at least one diet.\"\n",
    "print(\"F-statistic:\", f_statistic)\n",
    "print(\"p-value:\", p_value)\n",
    "if p_value < alpha:\n",
    "    print(\"We reject the null hypothesis.\")\n",
    "    print(f\"Conclusion : {alternate_hypothesis}\")\n",
    "else:\n",
    "    print(\"We fail to reject the null hypothesis.\")\n",
    "    print(f\"Conclusion : {null_hypothesis}\")"
   ]
  },
  {
   "cell_type": "markdown",
   "id": "e56060bc-125d-4577-9040-06432cd85cd1",
   "metadata": {},
   "source": [
    "## Perfroming Turksy test for mean difference"
   ]
  },
  {
   "cell_type": "code",
   "execution_count": 15,
   "id": "dcb95902-fbe6-40c4-a1e5-a57a37b55c85",
   "metadata": {},
   "outputs": [
    {
     "name": "stdout",
     "output_type": "stream",
     "text": [
      "Multiple Comparison of Means - Tukey HSD, FWER=0.05\n",
      "===================================================\n",
      "group1 group2 meandiff p-adj  lower   upper  reject\n",
      "---------------------------------------------------\n",
      "     A      B  -0.8278   0.0 -1.2477 -0.4079   True\n",
      "     A      C  -1.8898   0.0 -2.3097 -1.4699   True\n",
      "     B      C   -1.062   0.0 -1.4819 -0.6421   True\n",
      "---------------------------------------------------\n"
     ]
    }
   ],
   "source": [
    "import numpy as np\n",
    "from statsmodels.stats.multicomp import pairwise_tukeyhsd\n",
    "#create DataFrame to hold data\n",
    "df = pd.DataFrame({'weight_loss': list(diet_A) + list(diet_B) + list(diet_C),\n",
    "                   'group': np.repeat(['A', 'B', 'C'], repeats=50)})\n",
    "# perform Tukey's test\n",
    "tukey = pairwise_tukeyhsd(endog=df['weight_loss'],\n",
    "                          groups=df['group'],\n",
    "                          alpha=0.05)\n",
    "# Print results\n",
    "print(tukey)"
   ]
  },
  {
   "cell_type": "markdown",
   "id": "f6cb1726-de7d-4343-97fd-0da0bd0dec9e",
   "metadata": {},
   "source": [
    "Above interpretation means all three means are different reject value is True for all of 3\n",
    "1. Mean Difference between diet_A and diet_B is -0.8278\n",
    "2. Mean Difference between diet_A and diet_C is -1.8898\n",
    "3. Mean Difference between diet_A and diet_C is -1.062\n",
    "\n",
    "Maximum mean difference is in between diet_A and diet_C\n",
    "\n",
    "All mean differences with diet_A are negative\n",
    "diet_A has shown highest weight loss compared to diet_B and diet_C"
   ]
  },
  {
   "cell_type": "code",
   "execution_count": null,
   "id": "0f2770e9-5a86-4f75-9b28-16325affed28",
   "metadata": {},
   "outputs": [],
   "source": []
  },
  {
   "cell_type": "markdown",
   "id": "23ca9780-e78a-480f-8168-04974c787f95",
   "metadata": {},
   "source": [
    "## Q10. A company wants to know if there are any significant differences in the average time it takes to complete a task using three different software programs: Program A, Program B, and Program C. They randomly assign 30 employees to one of the programs and record the time it takes each employee to complete the task. Conduct a two-way ANOVA using Python to determine if there are any main effects or interaction effects between the software programs and employee experience level (novice vs. experienced). Report the F-statistics and p-values, and interpret the results.\n",
    "Significance level=0.05."
   ]
  },
  {
   "cell_type": "code",
   "execution_count": 16,
   "id": "587af022-94b1-49b9-bdc2-04bcccc4688a",
   "metadata": {},
   "outputs": [
    {
     "name": "stdout",
     "output_type": "stream",
     "text": [
      "Simulated Data example :\n",
      "  Software Experience       Time\n",
      "0        A     Novice  12.828739\n",
      "1        A     Novice  16.994691\n",
      "2        A     Novice  15.565957\n",
      "3        A     Novice  11.987411\n",
      "4        A     Novice  13.842799\n",
      "\n",
      "======================================================================================\n",
      "\n",
      "                             df      sum_sq     mean_sq          F  \\\n",
      "C(Software)                 2.0  204.881181  102.440590  18.135666   \n",
      "C(Experience)               1.0  165.079097  165.079097  29.224933   \n",
      "C(Software):C(Experience)   2.0   17.481552    8.740776   1.547431   \n",
      "Residual                   56.0  316.319953    5.648571        NaN   \n",
      "\n",
      "                                 PR(>F)  \n",
      "C(Software)                8.460472e-07  \n",
      "C(Experience)              1.375177e-06  \n",
      "C(Software):C(Experience)  2.217544e-01  \n",
      "Residual                            NaN  \n",
      "\n",
      "\n",
      "Conclusion: There is a significant main effect of software.\n",
      "Conclusion: There is a significant main effect of experience.\n",
      "Conclusion: There is no significant interaction effect between software and experience.\n"
     ]
    }
   ],
   "source": [
    "import pandas as pd\n",
    "import statsmodels.api as sm\n",
    "from statsmodels.formula.api import ols\n",
    "# Setting random seed for reproducibility\n",
    "np.random.seed(123)\n",
    "# Generating 2 random time samples for novice and expert\n",
    "time_novice = np.random.normal(loc=15, scale=2, size=30)\n",
    "time_expert = np.random.normal(loc=10, scale=2, size=30)\n",
    "# Generate simulated data\n",
    "data = pd.DataFrame({\n",
    "    'Software': ['A']*20 + ['B']*20 + ['C']*20,\n",
    "    'Experience': ['Novice']*30 + ['Experienced']*30,\n",
    "    'Time': list(time_novice)+list(time_expert)\n",
    "})\n",
    "# Print the simulated data head \n",
    "print('Simulated Data example :')\n",
    "print(data.head())\n",
    "print('\\n======================================================================================\\n')\n",
    "# Fit the two-way ANOVA model\n",
    "model = ols('Time ~ C(Software) + C(Experience) + C(Software):C(Experience)', data=data).fit()\n",
    "table = sm.stats.anova_lm(model, typ=1)\n",
    "# Set significance level\n",
    "alpha = 0.05\n",
    "# Main effects and interaction effect\n",
    "print(table)\n",
    "print('\\n')\n",
    "if table['PR(>F)'][0] < alpha:\n",
    "    print(\"Conclusion: There is a significant main effect of software.\")\n",
    "else:\n",
    "    print(\"Conclusion: There is no significant main effect of software.\")\n",
    "if table['PR(>F)'][1] < alpha:\n",
    "    print(\"Conclusion: There is a significant main effect of experience.\")\n",
    "else:\n",
    "    print(\"Conclusion: There is no significant main effect of experience.\")\n",
    "if table['PR(>F)'][2] < alpha:\n",
    "    print(\"Conclusion: There is a significant interaction effect between software and experience.\")\n",
    "else:\n",
    "    print(\"Conclusion: There is no significant interaction effect between software and experience.\")"
   ]
  },
  {
   "cell_type": "markdown",
   "id": "31f11168-d201-4562-bfcd-5271756698df",
   "metadata": {},
   "source": [
    "## Here are the interpretations of the three conclusions:\n",
    "1. \"There is a significant main effect of software\": This means that the software programs used by the employees have a significant impact on the outcome variable (e.g., completion time), independent of the experience level of the employees. This suggests that the choice of software program is an important factor that should be considered carefully when completing this task.\n",
    "2. \"There is a significant main effect of experience\": This means that the experience level of the employees has a significant impact on the outcome variable, independent of the software program used. Specifically, this suggests that experienced employees may complete the task faster than novices, or vice versa. This finding can be helpful for the company to identify the best employees for a given task and to provide appropriate training for new employees.\n",
    "3. \"There is NO significant interaction effect between software and experience\": This means that the effect of software on the outcome variable does not depend on the experience level of the employees, and vice versa. This suggests that the software programs perform similarly for both novices and experienced employees. This finding can be helpful for the company to decide which software program to use, as they do not need to consider the experience level of the employees when making the choice."
   ]
  },
  {
   "cell_type": "code",
   "execution_count": null,
   "id": "b21c6b09-18c8-47cc-a237-e025c48239be",
   "metadata": {},
   "outputs": [],
   "source": []
  },
  {
   "cell_type": "markdown",
   "id": "49674fe2-0f10-4503-a395-441b15ec7a0a",
   "metadata": {},
   "source": [
    "## Q11. An educational researcher is interested in whether a new teaching method improves student test scores. They randomly assign 100 students to either the control group (traditional teaching method) or the experimental group (new teaching method) and administer a test at the end of the semester. Conduct a two-sample t-test using Python to determine if there are any significant differences in test scores between the two groups. If the results are significant, follow up with a post-hoc test to determine which group(s) differ significantly from each other."
   ]
  },
  {
   "cell_type": "code",
   "execution_count": 17,
   "id": "2aa353aa-849f-4880-92d8-7f0e4b4b20ff",
   "metadata": {},
   "outputs": [
    {
     "name": "stdout",
     "output_type": "stream",
     "text": [
      "Simulated data for test_scores:\n",
      "   test_score    group\n",
      "0   70.079124  control\n",
      "1   70.780965  control\n",
      "2   68.814563  control\n",
      "3   69.387097  control\n",
      "4   66.185102  control\n",
      "\n",
      "===============================\n",
      "\n",
      "t-statistic: -28.5074, p-value: 3.096206271894725e-49\n",
      "\n",
      "\n",
      "Reject the Null Hypothesis\n",
      "Conclusion : There is SIGNIFICANT difference in test scores between the control and experimental groups.\n"
     ]
    }
   ],
   "source": [
    "import pandas as pd\n",
    "import numpy as np\n",
    "from scipy.stats import ttest_ind\n",
    "# Setting numpy random seed\n",
    "np.random.seed(45)\n",
    "# Generating normal test scores with same variance for both control groups\n",
    "test_score_control = np.random.normal(loc=70, scale=3, size=50)\n",
    "test_score_experimental = np.random.normal(loc=85, scale=3, size=50)\n",
    "# Creating the dataframe\n",
    "df = pd.DataFrame({'test_score':list(test_score_control)+list(test_score_experimental),\n",
    "                   'group':['control']*50 + ['experimental']*50})\n",
    "# printing the sample dataframe\n",
    "print('Simulated data for test_scores:')\n",
    "print(df.head())\n",
    "print('\\n===============================\\n')\n",
    "null_hypothesis = \"There is NO difference in test scores between the control and experimental groups.\"\n",
    "alt_hypothesis = \"There is SIGNIFICANT difference in test scores between the control and experimental groups.\"\n",
    "# Conduct the two-sample t-test\n",
    "control_scores = df[df['group'] == 'control']['test_score']\n",
    "experimental_scores = df[df['group'] == 'experimental']['test_score']\n",
    "t_stat, p_val = ttest_ind(control_scores, experimental_scores, equal_var=True)\n",
    "print(f\"t-statistic: {t_stat:.4f}, p-value: {p_val}\")\n",
    "print('\\n')\n",
    "# Significance value \n",
    "alpha = 0.05\n",
    "if p_val<alpha:\n",
    "    print('Reject the Null Hypothesis')\n",
    "    print(f'Conclusion : {alt_hypothesis}')\n",
    "else:\n",
    "    print('Failed to reject the Null Hypothesis')\n",
    "    print(f'Conclusion : {null_hypothesis}')"
   ]
  },
  {
   "cell_type": "markdown",
   "id": "3fe5074c-39ba-4086-bf6f-b34864d38648",
   "metadata": {},
   "source": [
    "## Turkey HSD test:"
   ]
  },
  {
   "cell_type": "code",
   "execution_count": 18,
   "id": "935eb2ac-797d-41b2-968d-4636fc68678a",
   "metadata": {},
   "outputs": [
    {
     "name": "stdout",
     "output_type": "stream",
     "text": [
      "   Multiple Comparison of Means - Tukey HSD, FWER=0.05    \n",
      "==========================================================\n",
      " group1    group2    meandiff p-adj  lower   upper  reject\n",
      "----------------------------------------------------------\n",
      "control experimental  15.8829   0.0 14.7773 16.9886   True\n",
      "----------------------------------------------------------\n"
     ]
    }
   ],
   "source": [
    "from statsmodels.stats.multicomp import pairwise_tukeyhsd\n",
    "# Conduct post-hoc Tukey's test\n",
    "tukey_results = pairwise_tukeyhsd(df['test_score'], df['group'], 0.05)\n",
    "print(tukey_results)"
   ]
  },
  {
   "cell_type": "markdown",
   "id": "72b10f6f-20d1-459f-8485-54b035f77dbc",
   "metadata": {},
   "source": [
    "Tukey's Results Interpretation:\n",
    "\n",
    "1. Reject = True suggests that there is significant difference in both control and Experimental groups also p-adj is almost 0.\n",
    "2. Experimental group has increased the performance of test scores of students by mean of 15.88 approximately\n",
    "3. Mean score improved by Experimental method is (14.78,16.99) with 95% confidence level"
   ]
  },
  {
   "cell_type": "code",
   "execution_count": null,
   "id": "dca42dd1-3dc6-4350-b5de-c7646138de70",
   "metadata": {},
   "outputs": [],
   "source": []
  },
  {
   "cell_type": "markdown",
   "id": "fe947d7e-413c-4fbd-a775-b4367c9ebc26",
   "metadata": {},
   "source": [
    "## Q12. A researcher wants to know if there are any significant differences in the average daily sales of three retail stores: Store A, Store B, and Store C. They randomly select 30 days and record the sales for each store on those days. Conduct a repeated measures ANOVA using Python to determine if there are any significant differences in sales between the three stores. If the results are significant, follow up with a post-hoc test to determine which store(s) differ significantly from each other."
   ]
  },
  {
   "cell_type": "code",
   "execution_count": 19,
   "id": "0b683050-7f00-42be-b7cb-49d8ed16ce84",
   "metadata": {},
   "outputs": [
    {
     "name": "stdout",
     "output_type": "stream",
     "text": [
      "Generated data top 5 rows : \n",
      "   Day    Store        Sales\n",
      "0    0  Store A   933.187150\n",
      "1    1  Store A   950.179048\n",
      "2    2  Store A  1061.857582\n",
      "3    3  Store A  1056.869225\n",
      "4    4  Store A  1135.050948\n",
      "\n",
      "================================================\n",
      "\n",
      "               Anova\n",
      "===================================\n",
      "      F Value Num DF  Den DF Pr > F\n",
      "-----------------------------------\n",
      "Store 51.5040 2.0000 58.0000 0.0000\n",
      "===================================\n",
      "\n",
      "Reject the Null Hypothesis : Atleast one of the group has different mean.\n",
      "\n",
      "Tukey HSD posthoc test:\n",
      "    Multiple Comparison of Means - Tukey HSD, FWER=0.05    \n",
      "===========================================================\n",
      " group1  group2  meandiff p-adj    lower     upper   reject\n",
      "-----------------------------------------------------------\n",
      "Store A Store B   21.2439 0.6945   -40.881   83.3688  False\n",
      "Store A Store C -207.8078    0.0 -269.9328 -145.6829   True\n",
      "Store B Store C -229.0517    0.0 -291.1766 -166.9268   True\n",
      "-----------------------------------------------------------\n"
     ]
    }
   ],
   "source": [
    "import numpy as np\n",
    "import pandas as pd\n",
    "from statsmodels.stats.anova import AnovaRM\n",
    "from statsmodels.stats.multicomp import pairwise_tukeyhsd\n",
    "# set random seed for reproducibility\n",
    "np.random.seed(456)\n",
    "# generate sales data for Store A, B, and C\n",
    "sales_a = np.random.normal(loc=1000, scale=100, size=(30,))\n",
    "sales_b = np.random.normal(loc=1050, scale=150, size=(30,))\n",
    "sales_c = np.random.normal(loc=800, scale=80, size=(30,))\n",
    "# create a DataFrame to store the sales data\n",
    "sales_df = pd.DataFrame({'Store A': sales_a, 'Store B': sales_b, 'Store C': sales_c})\n",
    "# reshape the DataFrame for repeated measures ANOVA\n",
    "sales_melted = pd.melt(sales_df.reset_index(), id_vars=['index'], value_vars=['Store A', 'Store B', 'Store C'])\n",
    "sales_melted.columns = ['Day', 'Store', 'Sales']\n",
    "# Printing top 5 rows of generated data\n",
    "print('Generated data top 5 rows : ')\n",
    "print(sales_melted.head())\n",
    "print('\\n================================================\\n')\n",
    "# perform repeated measures ANOVA\n",
    "rm_anova = AnovaRM(sales_melted, 'Sales', 'Day', within=['Store'])\n",
    "rm_results = rm_anova.fit()\n",
    "print(rm_results)\n",
    "# check if null hypothesis should be rejected based on p-value\n",
    "if rm_results.anova_table['Pr > F'][0] < 0.05:\n",
    "    # perform post-hoc Tukey test\n",
    "    print('Reject the Null Hypothesis : Atleast one of the group has different mean.\\n')\n",
    "    print('Tukey HSD posthoc test:')\n",
    "    tukey_results = pairwise_tukeyhsd(sales_melted['Sales'], sales_melted['Store'])\n",
    "    print(tukey_results)\n",
    "else:\n",
    "    print('NO significant difference between groups.')"
   ]
  },
  {
   "cell_type": "markdown",
   "id": "2d022094-11e2-495e-8354-6ee828714a7a",
   "metadata": {},
   "source": [
    "Interpretation of above:\n",
    "1. In Repeated Measure ANOVA test we got p_value (Pr>F) as 0.0000 which is less than 0.05 .Reject the Null Hypothesis .Which means atleast one of the mean of groups is different.\n",
    "2. In Tukey's Post Hoc Test we get following interpretation :\n",
    "3. No significant difference between sales of Store A and Store B. Store B earns 21.24 dollars more than store A(becuse reject=False for this)\n",
    "4. Significant difference between sales of Store A and Store C . Store C has approx 207.8 dollars lesser compared to store A (reject=True)\n",
    "5. Siginficant difference between sales of Store B and Store C . Store C has approx 229.0 dollars lesser compared to store B (reject=True)"
   ]
  },
  {
   "cell_type": "code",
   "execution_count": null,
   "id": "f5d839b3-0b6f-486f-b7ea-634ea6e3dcb4",
   "metadata": {},
   "outputs": [],
   "source": []
  }
 ],
 "metadata": {
  "kernelspec": {
   "display_name": "Python 3 (ipykernel)",
   "language": "python",
   "name": "python3"
  },
  "language_info": {
   "codemirror_mode": {
    "name": "ipython",
    "version": 3
   },
   "file_extension": ".py",
   "mimetype": "text/x-python",
   "name": "python",
   "nbconvert_exporter": "python",
   "pygments_lexer": "ipython3",
   "version": "3.10.8"
  }
 },
 "nbformat": 4,
 "nbformat_minor": 5
}
