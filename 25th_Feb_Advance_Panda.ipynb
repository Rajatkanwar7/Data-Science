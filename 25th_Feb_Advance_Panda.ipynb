{
 "cells": [
  {
   "cell_type": "markdown",
   "id": "72a39a40-7f94-4dc5-882d-f6cd81d956c6",
   "metadata": {},
   "source": [
    "Consider following code to answer further questions:\n",
    "\n",
    "import pandas as pd\n",
    "\n",
    "course_name = [‘Data Science’, ‘Machine Learning’, ‘Big Data’, ‘Data Engineer’]\n",
    "\n",
    "duration =  [2,3,6,4]\n",
    "\n",
    "df = pd.DataFrame(data = {‘course_name’ : course_name, ‘duration’ : duration})"
   ]
  },
  {
   "cell_type": "markdown",
   "id": "fa8c1749-8ffb-4bb3-9040-5eb2929ac652",
   "metadata": {},
   "source": [
    "Q1. Write a code to print the data present in the second row of the dataframe, df."
   ]
  },
  {
   "cell_type": "code",
   "execution_count": 7,
   "id": "b89814bd-47c9-477a-8d01-9c5059993610",
   "metadata": {},
   "outputs": [
    {
     "name": "stdout",
     "output_type": "stream",
     "text": [
      "Original DataFrame :\n",
      "        course_name  duration\n",
      "0      Data Science         2\n",
      "1  Machine Learning         3\n",
      "2          Big Data         6\n",
      "3     Data Engineer         4\n",
      "\n",
      "\n",
      "\n",
      "Second row of dataFrame :\n",
      "course_name    Machine Learning\n",
      "duration                      3\n",
      "Name: 1, dtype: object\n"
     ]
    }
   ],
   "source": [
    "#Ans:\n",
    "import pandas as pd\n",
    "course_name = ['Data Science', 'Machine Learning', 'Big Data', 'Data Engineer']\n",
    "duration =  [2,3,6,4]\n",
    "df = pd.DataFrame(data = {'course_name' : course_name,'duration' : duration})\n",
    "print(\"Original DataFrame :\")\n",
    "print(df)\n",
    "print(\"\\n\\n\")\n",
    "print(\"Second row of dataFrame :\")\n",
    "print(df.loc[1])"
   ]
  },
  {
   "cell_type": "code",
   "execution_count": null,
   "id": "e92dad22-b540-421e-8612-423aa9d3c6cb",
   "metadata": {},
   "outputs": [],
   "source": []
  },
  {
   "cell_type": "markdown",
   "id": "df74dbf9-7f67-47ff-bcdd-53cda89a7cef",
   "metadata": {},
   "source": [
    "Q2. What is the difference between the functions loc and iloc in pandas.DataFrame?"
   ]
  },
  {
   "cell_type": "markdown",
   "id": "e27bc5f0-ec03-49c2-8487-e1ab016f4ddd",
   "metadata": {},
   "source": [
    "Ans:\n",
    "\n",
    "loc is used to select rows and columns based on their labels or names. It takes two parameters separated by a comma: the first parameter specifies the rows to select based on their labels, and the second parameter specifies the columns to select based on their labels. For example, df.loc[0, 'column_name'] will select the value at row 0 and column 'column_name'.\n",
    "\n",
    "\n",
    "iloc, on the other hand, is used to select rows and columns based on their integer indices. It also takes two parameters separated by a comma: the first parameter specifies the rows to select based on their integer indices, and the second parameter specifies the columns to select based on their integer indices. For example, df.iloc[0, 1] will select the value at row 0 and column 1."
   ]
  },
  {
   "cell_type": "code",
   "execution_count": null,
   "id": "bedd61c1-cb03-4253-be8c-59c7436afbe2",
   "metadata": {},
   "outputs": [],
   "source": []
  },
  {
   "cell_type": "markdown",
   "id": "3b909511-c790-4a63-aa34-55e82a055478",
   "metadata": {},
   "source": [
    "Q3. Reindex the given dataframe using a variable, reindex = [3,0,1,2] and store it in the variable, new_df \n",
    "then find the output for both new_df.loc[2] and new_df.iloc[2].\n",
    "Did you observe any difference in both the outputs? If so then explain it."
   ]
  },
  {
   "cell_type": "code",
   "execution_count": 8,
   "id": "de49ec66-2b57-4638-aef2-9de91083b6a4",
   "metadata": {},
   "outputs": [
    {
     "name": "stdout",
     "output_type": "stream",
     "text": [
      "course_name    Big Data\n",
      "duration              6\n",
      "Name: 2, dtype: object\n",
      "course_name    Machine Learning\n",
      "duration                      3\n",
      "Name: 1, dtype: object\n"
     ]
    }
   ],
   "source": [
    "import pandas as pd\n",
    "course_name = ['Data Science', 'Machine Learning', 'Big Data', 'Data Engineer']\n",
    "duration =  [2,3,6,4]\n",
    "df = pd.DataFrame(data = {'course_name' : course_name, 'duration' : duration})\n",
    "reindex = [3,0,1,2]\n",
    "new_df = df.reindex(reindex)\n",
    "print(new_df.loc[2])\n",
    "print(new_df.iloc[2])"
   ]
  },
  {
   "cell_type": "markdown",
   "id": "6c8369bd-41db-47ad-9b17-75cf9b8f128b",
   "metadata": {},
   "source": [
    "As we can see, new_df.loc[2] returns the row with index label 2 in the new_df dataframe, which is the row with index label 1 in the original df dataframe. \n",
    "\n",
    "On the other hand, new_df.iloc[2] returns the row with integer location 2 in the new_df dataframe, which is the row with integer location 0 in the original df dataframe (since we have reindexed df to start with index 3).\n"
   ]
  },
  {
   "cell_type": "code",
   "execution_count": null,
   "id": "08fd401b-d143-4b70-81b7-4bfd50fb8957",
   "metadata": {},
   "outputs": [],
   "source": []
  },
  {
   "cell_type": "markdown",
   "id": "3d5ff50b-17e3-4f5c-b9b6-55dcda94f955",
   "metadata": {},
   "source": [
    "Consider the below code to answer further questions:\n",
    "import pandas as pd\n",
    "\n",
    "import numpy as np\n",
    "\n",
    "columns = ['column_1', 'column_2', 'column_3', 'column_4', 'column_5', 'column_6']\n",
    "\n",
    "indices = [1,2,3,4,5,6]\n",
    "\n",
    "#Creating a dataframe:\n",
    "\n",
    "df1 = pd.DataFrame(np.random.rand(6,6), columns = columns, index = indices)"
   ]
  },
  {
   "cell_type": "markdown",
   "id": "a5f86400-b7d0-425d-905a-ea6e49773fcd",
   "metadata": {},
   "source": [
    "Q4. Write a code to find the following statistical measurements for the above dataframe df1:\n",
    "\n",
    "(i) mean of each and every column present in the dataframe.\n",
    "(ii) standard deviation of column, ‘column_2’"
   ]
  },
  {
   "cell_type": "code",
   "execution_count": 10,
   "id": "7d7f9c11-1d0e-4dec-b2b5-d74ab0a63e7a",
   "metadata": {},
   "outputs": [
    {
     "name": "stdout",
     "output_type": "stream",
     "text": [
      "DataFrame is : \n",
      "    column_1  column_2  column_3  column_4  column_5  column_6\n",
      "1  0.305914  0.558188  0.096194  0.145797  0.646315  0.699424\n",
      "2  0.670782  0.043881  0.377233  0.982634  0.194028  0.394712\n",
      "3  0.605275  0.716824  0.601587  0.237957  0.059527  0.982323\n",
      "4  0.835061  0.808991  0.777179  0.112640  0.787204  0.583093\n",
      "5  0.788069  0.428937  0.880924  0.481086  0.869069  0.090871\n",
      "6  0.067661  0.486754  0.310674  0.447272  0.312201  0.162774 \n",
      "\n",
      "Mean value :\n",
      " column_1    0.545460\n",
      "column_2    0.507262\n",
      "column_3    0.507298\n",
      "column_4    0.401231\n",
      "column_5    0.478057\n",
      "column_6    0.485533\n",
      "dtype: float64 \n",
      "\n",
      "std deviation of column 2 : \n",
      " 0.26789101841256496\n"
     ]
    }
   ],
   "source": [
    "import pandas as pd\n",
    "import numpy as np\n",
    "columns = ['column_1', 'column_2', 'column_3', 'column_4', 'column_5', 'column_6']\n",
    "indices = [1,2,3,4,5,6]\n",
    "#Creating a dataframe:\n",
    "df1 = pd.DataFrame(np.random.rand(6,6), columns = columns, index = indices)\n",
    "print(\"DataFrame is : \\n\",df1,\"\\n\")\n",
    "\n",
    "#Mean value of columns\n",
    "mean_values = df1.mean()\n",
    "print(\"Mean value :\\n\",mean_values,\"\\n\")\n",
    "#(ii) Finding standard deviation of column 'column_2'\n",
    "std_value = df1['column_2'].std()\n",
    "print(\"std deviation of column 2 : \\n\",std_value)\n"
   ]
  },
  {
   "cell_type": "code",
   "execution_count": null,
   "id": "bb27e27e-b069-4fa1-9d78-a2fa60cb9c7d",
   "metadata": {},
   "outputs": [],
   "source": []
  },
  {
   "cell_type": "markdown",
   "id": "923d6cdc-939b-4d83-957b-eee22bafc140",
   "metadata": {},
   "source": [
    "Q5. Replace the data present in the second row of column, ‘column_2’ by a string variable then find the \n",
    "mean of column, column_2.\n",
    "\n",
    "If you are getting errors in executing it then explain why.\n",
    "\n",
    "[Hint: To replace the data use df1.loc[] and equate this to string data of your choice.]"
   ]
  },
  {
   "cell_type": "markdown",
   "id": "5e5ec65e-f4d3-47af-ac20-b5cdbf017acf",
   "metadata": {},
   "source": [
    "Ans:\n",
    "\n",
    "Since the data in column_2 is numeric and we are trying to replace it with a string variable, we will get an error in calculating the mean of column_2 after the replacement.\n",
    "However, to replace the data in the second row of column_2 with a string variable, we can use the following code:"
   ]
  },
  {
   "cell_type": "code",
   "execution_count": 15,
   "id": "6b3f5ae3-7705-4e87-ad66-850b8234cc8c",
   "metadata": {},
   "outputs": [
    {
     "name": "stdout",
     "output_type": "stream",
     "text": [
      "0.5999388172065749\n"
     ]
    }
   ],
   "source": [
    "df1.loc[2, 'column_2'] = 'string data'\n",
    "#mean of column_2 after this replacement\n",
    "df1['column_2'] = pd.to_numeric(df1['column_2'], errors='coerce') \n",
    "mean_col2 = df1['column_2'].mean() # Calculate mean of column_2\n",
    "print(mean_col2)"
   ]
  },
  {
   "cell_type": "code",
   "execution_count": null,
   "id": "00757995-503b-4568-94f3-f8bb9332e81e",
   "metadata": {},
   "outputs": [],
   "source": []
  },
  {
   "cell_type": "code",
   "execution_count": null,
   "id": "739146f6-92ee-4c73-a3d8-e78923651ebf",
   "metadata": {},
   "outputs": [],
   "source": []
  },
  {
   "cell_type": "markdown",
   "id": "f0d76bad-becd-4709-980a-aa57c1b73c21",
   "metadata": {},
   "source": [
    "Q6. What do you understand about the windows function in pandas and list the types of windows functions?"
   ]
  },
  {
   "cell_type": "markdown",
   "id": "e7ddea00-eb39-4fd3-84bc-7c5a028d5711",
   "metadata": {},
   "source": [
    "Ans:\n",
    "\n",
    "In pandas, window functions are used to perform calculations on a rolling window of data, which is a subset of the data defined by a window size and window type. The window size defines how many previous/future values are considered, and the window type defines how the data within the window is treated (e.g. rolling sum, rolling mean, etc.).\n",
    "\n",
    "There are several types of window functions in pandas:\n",
    "1. Rolling: It is used to apply a rolling function to a series or dataframe. It takes a window size and a function to apply as input.\n",
    "\n",
    "2. Expanding: It calculates the value of a statistic over the entire dataset as the dataset expands.\n",
    "\n",
    "3. EWM (Exponentially Weighted Mean): It applies a decay function to give more weight to recent values and less weight to older values in a rolling window.\n",
    "\n",
    "4. Groupby: It is used to apply a rolling or expanding window function to groups of data defined by a key."
   ]
  },
  {
   "cell_type": "code",
   "execution_count": null,
   "id": "409d8f37-eef0-48ee-bd7a-927d42e4d917",
   "metadata": {},
   "outputs": [],
   "source": []
  },
  {
   "cell_type": "markdown",
   "id": "a6cd3e39-8b18-46fc-9aa3-2970d53b34f9",
   "metadata": {},
   "source": [
    "Q7. Write a code to print only the current month and year at the time of answering this question.\n",
    "\n",
    "[Hint: Use pandas.datetime function]"
   ]
  },
  {
   "cell_type": "code",
   "execution_count": 1,
   "id": "02001215-1e05-47cf-b5b8-64b9692140e5",
   "metadata": {},
   "outputs": [
    {
     "name": "stdout",
     "output_type": "stream",
     "text": [
      "Current month and year: 2/2023\n"
     ]
    }
   ],
   "source": [
    "#program\n",
    "import pandas as pd\n",
    "now = pd.Timestamp.now()\n",
    "month = now.month\n",
    "year = now.year\n",
    "print(f\"Current month and year: {month}/{year}\")\n"
   ]
  },
  {
   "cell_type": "code",
   "execution_count": null,
   "id": "c97a5961-c73d-43e8-96dc-4017f86371a8",
   "metadata": {},
   "outputs": [],
   "source": []
  },
  {
   "cell_type": "markdown",
   "id": "c4537ec5-ab86-4155-bbe6-fd32e9331156",
   "metadata": {},
   "source": [
    "Q8. Write a Python program that takes in two dates as input (in the format YYYY-MM-DD) and \n",
    "calculates the difference between them in days, hours, and minutes using Pandas time delta. The \n",
    "program should prompt the user to enter the dates and display the result."
   ]
  },
  {
   "cell_type": "code",
   "execution_count": 1,
   "id": "c94ad475-da66-4f9e-b050-793df01507c0",
   "metadata": {},
   "outputs": [
    {
     "name": "stdin",
     "output_type": "stream",
     "text": [
      "Enter the first date (YYYY-MM-DD):  2023-01-01\n",
      "Enter the second date (YYYY-MM-DD):  2023-02-20\n"
     ]
    },
    {
     "name": "stdout",
     "output_type": "stream",
     "text": [
      "The difference between 2023-01-01 and 2023-02-20 is:\n",
      "50 days\n",
      "0 hours\n",
      "0 minutes\n"
     ]
    }
   ],
   "source": [
    "import pandas as pd\n",
    "date1 = input(\"Enter the first date (YYYY-MM-DD): \")\n",
    "date2 = input(\"Enter the second date (YYYY-MM-DD): \")\n",
    "date1 = pd.to_datetime(date1)\n",
    "date2 = pd.to_datetime(date2)\n",
    "delta = date2 - date1\n",
    "print(\"The difference between\", date1.date(), \"and\", date2.date(), \"is:\")\n",
    "print(delta.days, \"days\")\n",
    "print(delta.seconds // 3600, \"hours\")\n",
    "print((delta.seconds % 3600) // 60, \"minutes\")\n"
   ]
  },
  {
   "cell_type": "code",
   "execution_count": null,
   "id": "3cea497b-0c42-49c5-877a-afbd405017d7",
   "metadata": {},
   "outputs": [],
   "source": []
  },
  {
   "cell_type": "markdown",
   "id": "0b111dfe-039e-4257-964d-c812d3187c64",
   "metadata": {},
   "source": [
    "Q9. Write a Python program that reads a CSV file containing categorical data and converts a specified \n",
    "column to a categorical data type. The program should prompt the user to enter the file path, column \n",
    "name, and category order, and then display the sorted data."
   ]
  },
  {
   "cell_type": "code",
   "execution_count": 4,
   "id": "625b75bb-2ecb-46b3-87f6-eebed96b9359",
   "metadata": {},
   "outputs": [
    {
     "name": "stdin",
     "output_type": "stream",
     "text": [
      "Enter the file path:  data.csv\n",
      "Enter the column name to convert:  Category\n",
      "Enter the category order (comma-separated):  Followers\n"
     ]
    },
    {
     "name": "stdout",
     "output_type": "stream",
     "text": [
      "     rank                name channel_Info Category  Posts Followers  \\\n",
      "0       1           instagram        brand      NaN   7.3K    580.1M   \n",
      "1       2           cristiano         male      NaN   3.4K    519.9M   \n",
      "2       3            leomessi         male      NaN     1K    403.7M   \n",
      "3       4         kyliejenner       female      NaN     7K    375.9M   \n",
      "4       5         selenagomez       female      NaN   1.8K    365.3M   \n",
      "..    ...                 ...          ...      ...    ...       ...   \n",
      "195   196            fcbayern         male      NaN  16.8K     35.4M   \n",
      "196   197         colesprouse         male      NaN   1.1K     35.3M   \n",
      "197   198        shaymitchell         male      NaN   6.3K     35.1M   \n",
      "198   199        ivetesangalo       female      NaN   7.8K       35M   \n",
      "199   200  paollaoliveirareal       female      NaN   4.8K     34.9M   \n",
      "\n",
      "    Avg. Likes Eng Rate  \n",
      "0        7.31K     0.1%  \n",
      "1        3.41K     1.4%  \n",
      "2        0.97K     1.7%  \n",
      "3        7.02K     1.7%  \n",
      "4        1.85K     1.1%  \n",
      "..         ...      ...  \n",
      "195     16.78K     0.6%  \n",
      "196      1.14K     3.5%  \n",
      "197      6.31K     1.2%  \n",
      "198      7.77K     0.4%  \n",
      "199      4.78K     0.7%  \n",
      "\n",
      "[200 rows x 8 columns]\n"
     ]
    }
   ],
   "source": [
    "#Program\n",
    "import pandas as pd\n",
    "file_path = input(\"Enter the file path: \")\n",
    "# read the CSV file into a pandas dataframe\n",
    "df = pd.read_csv(file_path)\n",
    "# prompt user to enter column name to convert\n",
    "col_name = input(\"Enter the column name to convert: \")\n",
    "# prompt user to enter category order\n",
    "cat_order = input(\"Enter the category order (comma-separated): \")\n",
    "# convert the column to categorical type\n",
    "df[col_name] = pd.Categorical(df[col_name], categories=cat_order.split(\",\"))\n",
    "df_sorted = df.sort_values(by=[col_name])\n",
    "# display the sorted data\n",
    "print(df_sorted)\n"
   ]
  },
  {
   "cell_type": "markdown",
   "id": "c4f42fc9-5275-41f3-a814-66851ed80221",
   "metadata": {},
   "source": [
    "In this example, the program reads a CSV file named \"data.csv\" and converts the \"category\" column to a categorical type with category order \"A,B,C\". The program then sorts the data by the \"category\" column and displays the sorted data."
   ]
  },
  {
   "cell_type": "code",
   "execution_count": null,
   "id": "0fa775a8-a2e3-417c-ad7d-d3e12e8109d0",
   "metadata": {},
   "outputs": [],
   "source": []
  },
  {
   "cell_type": "markdown",
   "id": "378716cf-d081-41ef-ad7c-8738906bb85b",
   "metadata": {},
   "source": [
    "Q10. Write a Python program that reads a CSV file containing sales data for different products and \n",
    "visualizes the data using a stacked bar chart to show the sales of each product category over time. The \n",
    "program should prompt the user to enter the file path and display the chart."
   ]
  },
  {
   "cell_type": "code",
   "execution_count": 7,
   "id": "76a1c2ef-d766-4f44-b929-622dbd921504",
   "metadata": {},
   "outputs": [
    {
     "name": "stdin",
     "output_type": "stream",
     "text": [
      "Enter CSV file path:  Customers.csv\n"
     ]
    },
    {
     "data": {
      "image/png": "[encoded data removed]",
      "text/plain": [
       "<Figure size 640x480 with 1 Axes>"
      ]
     },
     "metadata": {},
     "output_type": "display_data"
    }
   ],
   "source": [
    "#program\n",
    "import pandas as pd\n",
    "import matplotlib.pyplot as plt\n",
    "\n",
    "file_path = input(\"Enter CSV file path: \")\n",
    "df = pd.read_csv(file_path)\n",
    "df['date'] = pd.to_datetime(df['date'])\n",
    "df_grouped = df.groupby(['date', 'product'])['sales'].sum().unstack()\n",
    "ax = df_grouped.plot(kind='bar', stacked=True)\n",
    "ax.set_title('Sales by Product ')\n",
    "ax.set_xlabel('Date')\n",
    "ax.set_ylabel('Sales')\n",
    "plt.show()\n"
   ]
  },
  {
   "cell_type": "markdown",
   "id": "620749cb-cb7e-42f3-a51a-9ae0cf405de9",
   "metadata": {},
   "source": [
    "In this program, the user is prompted to enter the file path for the CSV file containing sales data. The pandas read_csv() function is then used to read the data into a DataFrame. The date column is converted to a datetime data type using the pandas to_datetime() function. The DataFrame is then grouped by date and product category, summing the sales column for each group, and the result is reshaped into a wide format using the pandas unstack() function.\n",
    "\n",
    "A stacked bar chart is then created using the plot() function of the DataFrame, with the kind parameter set to 'bar' and the stacked parameter set to True. Finally, the chart is displayed using the matplotlib show() function.\n",
    "Note that the program assumes that the CSV file has columns named date, product_category, and sales, and that the date column is in a format that can be converted to a datetime data type using the pandas to_datetime() function.\n",
    "\n",
    "\n",
    "Note that the program assumes that the CSV file has columns named date, product_category, and sales, and that the date column is in a format that can be converted to a datetime data type using the pandas to_datetime() function."
   ]
  },
  {
   "cell_type": "code",
   "execution_count": null,
   "id": "ff73111a-6fa2-471d-8516-cc313b517bb8",
   "metadata": {},
   "outputs": [],
   "source": []
  },
  {
   "cell_type": "markdown",
   "id": "06ce09e4-cd91-4b3e-a140-5dc4950862a7",
   "metadata": {},
   "source": [
    "Q11. You are given a CSV file containing student data that includes the student ID and their test score. Write \n",
    "a Python program that reads the CSV file, calculates the mean, median, and mode of the test scores, and \n",
    "displays the results in a table.\n",
    "The program should do the followingM\n",
    "1. Prompt the user to enter the file path of the CSV file containing the student dataR\n",
    "2. Read the CSV file into a Pandas DataFrameR\n",
    "3. Calculate the mean, median, and mode of the test scores using Pandas toolsR\n",
    "4. Display the mean, median, and mode in a table.\n",
    "\n",
    "Assume the CSV file contains the following columns:\n",
    "1. Student ID: The ID of the studentR\n",
    "2. Test Score: The score of the student's test."
   ]
  },
  {
   "cell_type": "code",
   "execution_count": 3,
   "id": "74dde5b0-5149-4364-9fc8-764a18b2c352",
   "metadata": {},
   "outputs": [
    {
     "name": "stdin",
     "output_type": "stream",
     "text": [
      "Enter the file path of the CSV file containing the student data:  student_data.csv\n"
     ]
    },
    {
     "name": "stdout",
     "output_type": "stream",
     "text": [
      "  Statistic Value\n",
      "0      Mean  83.5\n",
      "1    Median  85.0\n",
      "2      Mode  [85]\n"
     ]
    }
   ],
   "source": [
    "import pandas as pd\n",
    "file_path = input(\"Enter the file path of the CSV file containing the student data: \")\n",
    "df = pd.read_csv(file_path)\n",
    "mean_score = df[\"Test score\"].mean()\n",
    "median_score = df[\"Test score\"].median()\n",
    "mode_scores = df[\"Test score\"].mode()\n",
    "table = pd.DataFrame({\n",
    "    \"Statistic\": [\"Mean\", \"Median\", \"Mode\"],\n",
    "    \"Value\": [mean_score, median_score, list(mode_scores)]\n",
    "})\n",
    "print(table)\n"
   ]
  },
  {
   "cell_type": "code",
   "execution_count": null,
   "id": "6f2bc263-a738-4963-a5d6-b728053a07fb",
   "metadata": {},
   "outputs": [],
   "source": []
  },
  {
   "cell_type": "code",
   "execution_count": null,
   "id": "dda44add-a94b-4a80-b1b3-738bc87254fb",
   "metadata": {},
   "outputs": [],
   "source": []
  }
 ],
 "metadata": {
  "kernelspec": {
   "display_name": "Python 3 (ipykernel)",
   "language": "python",
   "name": "python3"
  },
  "language_info": {
   "codemirror_mode": {
    "name": "ipython",
    "version": 3
   },
   "file_extension": ".py",
   "mimetype": "text/x-python",
   "name": "python",
   "nbconvert_exporter": "python",
   "pygments_lexer": "ipython3",
   "version": "3.10.8"
  }
 },
 "nbformat": 4,
 "nbformat_minor": 5
}
