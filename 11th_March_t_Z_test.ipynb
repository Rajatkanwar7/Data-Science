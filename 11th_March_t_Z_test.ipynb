{
 "cells": [
  {
   "cell_type": "markdown",
   "id": "529b4915-cc25-4a0c-b7a8-31561d40a029",
   "metadata": {},
   "source": [
    "## Q1: What is the difference between a t-test and a z-test? Provide an example scenario where you would use each type of test."
   ]
  },
  {
   "cell_type": "markdown",
   "id": "388bb795-540e-406a-8034-cf371b70934d",
   "metadata": {},
   "source": [
    "Ans:\n",
    "\n",
    "Both t-tests and z-tests are used to compare the means of two populations, but they differ in their assumptions about the population variance and sample size. A z-test assumes that the population variance is known, while a t-test assumes that it is unknown and must be estimated from the sample variance. Additionally, a z-test is appropriate when the sample size is large (n > 30), while a t-test is appropriate when the sample size is small (n < 30).\n",
    "\n",
    "An example scenario where a z-test would be used is when comparing the mean heights of men and women in a population, where the population variance is known. In this case, a z-test can be used to determine whether the difference in mean height between the two groups is statistically significant.\n",
    "\n",
    "An example scenario where a t-test would be used is when comparing the mean test scores of two groups of students, where the population variance is unknown. In this case, a t-test can be used to determine whether the difference in mean test scores between the two groups is statistically significant."
   ]
  },
  {
   "cell_type": "code",
   "execution_count": null,
   "id": "c4ff1505-8be0-40e1-b12e-b1ee57738c98",
   "metadata": {},
   "outputs": [],
   "source": []
  },
  {
   "cell_type": "markdown",
   "id": "edd85590-61f5-4ed7-87d9-d9c940cc69f0",
   "metadata": {},
   "source": [
    "## Q2: Differentiate between one-tailed and two-tailed tests."
   ]
  },
  {
   "cell_type": "markdown",
   "id": "f54bf92e-ac09-4180-8467-7c20887e592e",
   "metadata": {},
   "source": [
    "Ans:\n",
    "    \n",
    "One-tailed test is a test of statistical significance where the null hypothesis is rejected only if the test statistic falls in one tail (either the left or the right) of the probability distribution. In other words, the test is designed to detect an effect in one specific direction, either positive or negative.\n",
    "\n",
    "On the other hand, a two-tailed test is a test of statistical significance where the null hypothesis is rejected if the test statistic falls in either tail (either the left or the right) of the probability distribution. In other words, the test is designed to detect any effect that differs from the null hypothesis, regardless of the direction of the effect.\n",
    "\n",
    "To illustrate this with an example, consider a researcher who wants to test the hypothesis that a new drug reduces blood pressure. A one-tailed test would be appropriate if the researcher is only interested in determining if the drug lowers blood pressure. The null hypothesis would be that the drug has no effect on blood pressure, and the alternative hypothesis would be that the drug lowers blood pressure. The test statistic would be calculated based on the observed data, and if the test statistic falls in the lower tail of the probability distribution, the null hypothesis would be rejected in favor of the alternative hypothesis.\n",
    "\n",
    "\n",
    "In contrast, a two-tailed test would be appropriate if the researcher wants to determine if the drug has any effect on blood pressure, regardless of whether it lowers or raises blood pressure. The null hypothesis would be that the drug has no effect on blood pressure, and the alternative hypothesis would be that the drug does have an effect on blood pressure. The test statistic would be calculated based on the observed data, and if the test statistic falls in either the upper or lower tail of the probability distribution, the null hypothesis would be rejected in favor of the alternative hypothesis."
   ]
  },
  {
   "cell_type": "code",
   "execution_count": null,
   "id": "854e7779-f5ca-4af0-b7f0-d29c73ea4904",
   "metadata": {},
   "outputs": [],
   "source": []
  },
  {
   "cell_type": "markdown",
   "id": "1cfb6757-e32c-424e-9b92-ea6e30bb78c5",
   "metadata": {},
   "source": [
    "## Q3: Explain the concept of Type 1 and Type 2 errors in hypothesis testing. Provide an example scenario for  each type of error."
   ]
  },
  {
   "cell_type": "markdown",
   "id": "c2e26cb9-336e-4e2e-8b66-3b80e94db2b0",
   "metadata": {},
   "source": [
    "Ans:\n",
    "    \n",
    "In hypothesis testing, Type 1 and Type 2 errors are two types of errors that can occur when making a decision to reject or accept a null hypothesis.\n",
    "\n",
    "1. Type 1 error, also known as a false positive, occurs when the null hypothesis is rejected when it is actually true. This means that the researcher concludes there is a statistically significant effect when there is no effect in reality.\n",
    "\n",
    "An example scenario for a Type 1 error is a medical test for a rare disease that has a false positive rate of 5%. If a person is tested positive for the disease, but in reality, they do not have the disease (false positive), the treatment for the disease will be given unnecessarily, which could lead to harmful side effects.\n",
    "\n",
    "\n",
    "2. Type 2 error, also known as a false negative, occurs when the null hypothesis is not rejected when it is actually false. This means that the researcher concludes there is no statistically significant effect when there is an effect in reality.\n",
    "\n",
    "An example scenario for a Type 2 error is a medical test for a rare disease that has a false negative rate of 10%. If a person is tested negative for the disease, but in reality, they have the disease (false negative), they will not receive the necessary treatment, which could lead to further complications."
   ]
  },
  {
   "cell_type": "code",
   "execution_count": null,
   "id": "7c6aa2f9-496c-4146-bc84-955315b2b2a6",
   "metadata": {},
   "outputs": [],
   "source": []
  },
  {
   "cell_type": "markdown",
   "id": "6b103cd1-ebd6-4d46-9c73-8d02f7dee70c",
   "metadata": {},
   "source": [
    "## Q4:  Explain Bayes's theorem with an example."
   ]
  },
  {
   "cell_type": "markdown",
   "id": "2fda4883-59a4-4d68-9e69-0c4baf45c3d6",
   "metadata": {},
   "source": [
    "Ans:\n",
    "    \n",
    "Bayes's theorem is a mathematical formula used in probability theory and statistics to calculate the conditional probability of an event based on prior knowledge of related events.\n",
    "\n",
    "The formula for Bayes's theorem is as follows:\n",
    "\n",
    "P(A|B) = P(B|A) x P(A) / P(B)\n",
    "\n",
    "Where:\n",
    "\n",
    "P(A|B) is the probability of event A occurring given that event B has occurred\n",
    "\n",
    "P(B|A) is the probability of event B occurring given that event A has occurred\n",
    "\n",
    "P(A) is the prior probability of event A occurring\n",
    "\n",
    "P(B) is the prior probability of event B occurring\n",
    "\n",
    "\n",
    "Here is an example of how Bayes's theorem can be applied:\n",
    "Suppose there is a medical test for a certain disease that affects 1% of the population. The test has a 95% accuracy rate, meaning that it correctly identifies 95% of people who have the disease and correctly identifies 95% of people who do not have the disease. If a person tests positive for the disease, what is the probability that they actually have the disease?\n",
    "Using Bayes's theorem, we can calculate the probability as follows:\n",
    "\n",
    "Let A be the event that a person has the disease (prior probability = 0.01)\n",
    "Let B be the event that a person tests positive for the disease (prior probability = 0.01 x 0.95 + 0.99 x 0.05 = 0.058)\n",
    "P(A|B) = P(B|A) x P(A) / P(B)\n",
    "P(A|B) = 0.95 x 0.01 / 0.058\n",
    "P(A|B) = 0.163\n",
    "\n",
    "Therefore, the probability that a person who tests positive for the disease actually has the disease is approximately 16.3%. This calculation shows that even though the test has a high accuracy rate, there is still a significant chance of a false positive result, and additional testing or confirmation may be necessary to confirm a diagnosis."
   ]
  },
  {
   "cell_type": "code",
   "execution_count": null,
   "id": "ff4167a0-e98e-4dd6-99cf-af8d37225e20",
   "metadata": {},
   "outputs": [],
   "source": []
  },
  {
   "cell_type": "markdown",
   "id": "b4b64a0a-68e0-4525-8241-73676238b213",
   "metadata": {},
   "source": [
    "## Q5: What is a confidence interval? How to calculate the confidence interval, explain with an example."
   ]
  },
  {
   "cell_type": "markdown",
   "id": "3a6782aa-e2ff-42f6-9c6f-2422abaa9978",
   "metadata": {},
   "source": [
    "Ans: \n",
    "    \n",
    "A confidence interval is a range of values that is likely to contain the true value of a population parameter, such as the mean or the proportion.\n",
    "\n",
    "The most commonly used level of confidence is 95%.\n",
    "To calculate the confidence interval for a population parameter, such as the population mean, we need to know the sample size, the sample mean, and the sample standard deviation. The formula for calculating the confidence interval is as follows:\n",
    "\n",
    "Confidence interval = sample mean ± margin of error\n",
    "\n",
    "where the margin of error is calculated as:\n",
    "Margin of error = Z* (standard deviation / square root of sample size)\n",
    "\n",
    "where Z* is the critical value for the desired level of confidence.\n",
    "\n",
    "For example, if the level of confidence is 95%, the Z* value is 1.96.\n",
    "Let's consider an example to illustrate how to calculate a confidence interval. Suppose we want to estimate the average weight of a certain species of bird in a particular region. We randomly sample 50 birds and weigh them, and find that the sample mean weight is 150 grams and the sample standard deviation is 20 grams. We want to calculate the 95% confidence interval for the population mean weight.\n",
    "\n",
    "First, we calculate the margin of error:\n",
    "Margin of error = 1.96 x (20 / square root of 50) = 5.54.\n",
    "\n",
    "Next, we calculate the confidence interval:\n",
    "Confidence interval = 150 ± 5.54 = (144.46, 155.54)\n",
    "\n",
    "Therefore, we can be 95% confident that the true population mean weight of this species of bird in this region lies between 144.46 and 155.54 grams."
   ]
  },
  {
   "cell_type": "code",
   "execution_count": null,
   "id": "b67fa9c6-5330-48be-b7dd-379e80731ab0",
   "metadata": {},
   "outputs": [],
   "source": []
  },
  {
   "cell_type": "markdown",
   "id": "f2d1006f-6614-4281-aa75-0350f194d327",
   "metadata": {},
   "source": [
    "## Q6. Use Bayes' Theorem to calculate the probability of an event occurring given prior knowledge of the  event's probability and new evidence. Provide a sample problem and solution."
   ]
  },
  {
   "cell_type": "markdown",
   "id": "1428da0c-a18a-456d-9efa-744b0b635cee",
   "metadata": {},
   "source": [
    "Ans:\n",
    "    \n",
    "Let's consider a sample problem to demonstrate how to use Bayes' theorem to update the probability of an event occurring given new evidence.\n",
    "\n",
    "Problem:\n",
    "Suppose there is a rare disease that affects only 1% of the population. A test for this disease has a sensitivity of 90% and a specificity of 95%. If a person tests positive for the disease, what is the probability that the person actually has the disease?\n",
    "\n",
    "Solution:\n",
    "Let's use Bayes' theorem to calculate the probability of the person having the disease given that they tested positive:\n",
    "P(Disease|Positive) = P(Positive|Disease) x P(Disease) / P(Positive)\n",
    "where:\n",
    "\n",
    "P(Disease|Positive) is the probability of the person having the disease given that they tested positive\n",
    "\n",
    "P(Positive|Disease) is the probability of testing positive given that the person has the disease, which is the sensitivity of the test, or 0.9 in this example\n",
    "P(Disease) is the prior probability of the person having the disease, which is 0.01 in this example\n",
    "\n",
    "P(Positive) is the probability of testing positive, which can be calculated using the law of total probability:\n",
    "\n",
    "P(Positive) = P(Positive|Disease) x P(Disease) + P(Positive|No Disease) x P(No Disease)\n",
    "where:\n",
    "\n",
    "P(Positive|No Disease) is the probability of testing positive given that the person does not have the disease, which is the false positive rate, or 0.05 in this example\n",
    "\n",
    "P(No Disease) is the complement of P(Disease), or 0.99 in this example\n",
    "\n",
    "Substituting these values, we get:\n",
    "P(Positive) = 0.9 x 0.01 + 0.05 x 0.99 = 0.0585\n",
    "\n",
    "Now we can substitute these values into Bayes' theorem and calculate the probability of the person having the disease given that they tested positive:\n",
    "P(Disease|Positive) = 0.9 x 0.01 / 0.0585 ≈ 0.1538\n",
    "\n",
    "Therefore, the probability of the person actually having the disease given that they tested positive is approximately 15.38%, which is relatively low. This means that even if a person tests positive for the disease, there is still a high chance that they do not actually have the disease."
   ]
  },
  {
   "cell_type": "code",
   "execution_count": null,
   "id": "1e17dd04-c823-4096-8a7c-7dff31379dd1",
   "metadata": {},
   "outputs": [],
   "source": []
  },
  {
   "cell_type": "markdown",
   "id": "6e60b5ce-5e42-4b93-bd9c-202c83c815c6",
   "metadata": {},
   "source": [
    "## Q7. Calculate the 95% confidence interval for a sample of data with a mean of 50 and a standard deviation  of 5. Interpret the results."
   ]
  },
  {
   "cell_type": "markdown",
   "id": "af05504b-1289-4e6d-928f-975af3b2015a",
   "metadata": {},
   "source": [
    "Ans:\n",
    "    \n",
    "To calculate the 95% confidence interval for a sample of data with a mean of 50 and a standard deviation of 5, we need to use the formula:\n",
    "\n",
    "Confidence interval = sample mean ± (Z* x standard error)\n",
    "where Z* is the critical value from the standard normal distribution for the desired level of confidence, which is 1.96 for a 95% confidence level, and the standard error is calculated as:\n",
    "\n",
    "Standard error = standard deviation / square root of sample size\n",
    "\n",
    "We don't have any information about the sample size in this problem, so let's assume it is a reasonably large sample, say n = 100. Then the 95% confidence interval can be calculated as:\n",
    "Confidence interval = 50 ± (1.96 x (5 / sqrt(100))) = (48.02, 51.98)\n",
    "Interpretation:\n",
    "\n",
    "We can interpret this confidence interval as follows: if we were to take many random samples of size 100 from the same population, and calculate the mean of each sample, about 95% of those sample means would fall within the interval (48.02, 51.98). We can also say that we are 95% confident that the true population mean falls within this interval. Since the interval does not include any negative values, we can conclude that the mean of the sample is significantly greater than 0 at the 95% confidence level."
   ]
  },
  {
   "cell_type": "code",
   "execution_count": null,
   "id": "9579435c-3230-4b18-8367-96da53079c88",
   "metadata": {},
   "outputs": [],
   "source": []
  },
  {
   "cell_type": "markdown",
   "id": "250ffd04-0a67-4dc1-985f-5b56d0be9f52",
   "metadata": {},
   "source": [
    "## Q8. What is the margin of error in a confidence interval? How does sample size affect the margin of error? Provide an example of a scenario where a larger sample size would result in a smaller margin of error."
   ]
  },
  {
   "cell_type": "markdown",
   "id": "3b166917-fc30-4511-921c-03f6a18e3f3e",
   "metadata": {},
   "source": [
    "Ans:\n",
    "    \n",
    "The margin of error in a confidence interval is the range of values above and below the point estimate of a population parameter that is likely to contain the true value of the parameter with a certain level of confidence.\n",
    "\n",
    "As the sample size increases, the margin of error decreases.\n",
    "\n",
    "For example, suppose we want to estimate the mean height of all high school students in a certain state with a 95% confidence level and a margin of error of 1 inch. We take a random sample of 50 students and calculate their mean height to be 68 inches, with a standard deviation of 3 inches. The margin of error for this sample can be calculated as follows:\n",
    "\n",
    "Margin of error = (Z* x standard error)\n",
    "\n",
    "where Z* is the critical value from the standard normal distribution for the desired level of confidence, which is 1.96 for a 95% confidence level, and the standard error is calculated as:\n",
    "\n",
    "Standard error = standard deviation / square root of sample size\n",
    "Plugging in the values, we get:\n",
    "\n",
    "Margin of error = 1.96 x (3 / sqrt(50)) ≈ 0.84\n",
    "\n",
    "So we can say that we are 95% confident that the true mean height of all high school students in the state falls within the interval (68 - 0.84, 68 + 0.84), or (67.16, 68.84).\n",
    "\n",
    "\n",
    "Now, let's suppose we take a larger sample of 200 students instead of 50. Keeping everything else the same, the margin of error for this sample would be:\n",
    "\n",
    "Margin of error = 1.96 x (3 / sqrt(200)) ≈ 0.42\n",
    "\n",
    "So, by increasing the sample size from 50 to 200, we have reduced the margin of error from 0.84 to 0.42, which means that we have increased the precision of our estimate. Therefore, a larger sample size generally leads to a smaller margin of error, which in turn increases the accuracy of our estimate."
   ]
  },
  {
   "cell_type": "code",
   "execution_count": null,
   "id": "fb487fe0-0524-4538-9ace-63533f8276fb",
   "metadata": {},
   "outputs": [],
   "source": []
  },
  {
   "cell_type": "markdown",
   "id": "86b60a9f-9737-4602-923a-2fd8f4836250",
   "metadata": {},
   "source": [
    "## Q9. Calculate the z-score for a data point with a value of 75, a population mean of 70, and a population  standard deviation of 5. Interpret the results."
   ]
  },
  {
   "cell_type": "markdown",
   "id": "29bc782b-2bca-410a-88de-42b30d6ec0cf",
   "metadata": {},
   "source": [
    "Ans:\n",
    "    \n",
    "The formula for calculating the z-score is:\n",
    "\n",
    "z = (x - μ) / σ\n",
    "where x is the value of the data point, μ is the population mean, and σ is the population standard deviation.\n",
    "\n",
    "Using the given values, we can calculate the z-score for a data point with a value of 75 as follows:\n",
    "\n",
    "z = (75 - 70) / 5 = 1\n",
    "\n",
    "\n",
    "Interpretation:\n",
    "The z-score of 1 indicates that the data point is one standard deviation above the population mean. This means that the value of 75 is relatively high compared to the rest of the data in the population. Specifically, if the distribution is normal, we can say that the data point falls in the 84th percentile of the distribution, meaning that 84% of the data falls below the value of 75."
   ]
  },
  {
   "cell_type": "code",
   "execution_count": null,
   "id": "af076997-eebe-4763-b9a4-95bb9bcf2bcf",
   "metadata": {},
   "outputs": [],
   "source": []
  },
  {
   "cell_type": "markdown",
   "id": "b23c12ae-5a49-4f72-8201-e2ceb908d86b",
   "metadata": {},
   "source": [
    "## Q10. In a study of the effectiveness of a new weight loss drug, a sample of 50 participants lost an average  of 6 pounds with a standard deviation of 2.5 pounds. Conduct a hypothesis test to determine if the drug is significantly effective at a 95% confidence level using a t-test."
   ]
  },
  {
   "cell_type": "markdown",
   "id": "fc44e0bd-b237-47aa-a1dc-a10f2420f901",
   "metadata": {},
   "source": [
    "Ans:\n",
    "    \n",
    "To conduct a hypothesis test to determine if the weight loss drug is significantly effective at a 95% confidence level using a t-test, we need to set up the null and alternative hypotheses and then calculate the t-statistic and corresponding p-value.\n",
    "\n",
    "Null hypothesis: The weight loss drug is not significantly effective, and the true population mean weight loss is equal to or less than 0 pounds.\n",
    "\n",
    "Alternative hypothesis: The weight loss drug is significantly effective, and the true population mean weight loss is greater than 0 pounds.\n",
    "\n",
    "Let's assume a significance level of 0.05 for this hypothesis test.\n",
    "We can use the one-sample t-test to test this hypothesis. The t-statistic can be calculated as follows:\n",
    "\n",
    "t = (x̄ - μ) / (s / sqrt(n))\n",
    "\n",
    "where x̄ is the sample mean, μ is the hypothesized population mean (0 pounds in this case), s is the sample standard deviation, and n is the sample size.\n",
    "\n",
    "Plugging in the values, we get:\n",
    "\n",
    "t = (6 - 0) / (2.5 / sqrt(50)) = 15.49\n",
    "\n",
    "Using a t-table with 49 degrees of freedom (n-1), we can find the critical t-value for a one-tailed test with a significance level of 0.05. At 49 degrees of freedom and a 0.05 significance level, the critical t-value is approximately 1.677.\n",
    "\n",
    "Since our calculated t-value of 15.49 is much larger than the critical t-value of 1.677, we can reject the null hypothesis and conclude that the weight loss drug is significantly effective at a 95% confidence level.\n",
    "\n",
    "We can also calculate the p-value associated with this test. The p-value is the probability of getting a t-value as extreme or more extreme than the one observed under the null hypothesis. In this case, the p-value is much less than 0.05 (in fact, it is close to 0), which also indicates strong evidence against the null hypothesis.\n",
    "\n",
    "Therefore, we can conclude that there is sufficient evidence to suggest that the weight loss drug is significantly effective at a 95% confidence level."
   ]
  },
  {
   "cell_type": "code",
   "execution_count": null,
   "id": "a1c28be1-b0b1-4315-a7a1-9ebe17567edd",
   "metadata": {},
   "outputs": [],
   "source": []
  },
  {
   "cell_type": "markdown",
   "id": "9e055074-d4ea-40f7-871b-dfa873ae2e3e",
   "metadata": {},
   "source": [
    "## Q11. In a survey of 500 people, 65% reported being satisfied with their current job. Calculate  the 95% confidence interval for the true proportion of people who are satisfied with their job."
   ]
  },
  {
   "cell_type": "markdown",
   "id": "e0517ab8-83c6-48dd-ac59-96f933ab53c8",
   "metadata": {},
   "source": [
    "Ans:\n",
    "    \n",
    "First, we can calculate the standard error of the proportion:\n",
    "\n",
    "SE = sqrt(p̂(1-p̂)/n) = sqrt(0.65(1-0.65)/500) = 0.026\n",
    "\n",
    "where sqrt is the square root function, p̂ is the sample proportion, and n is the sample size.\n",
    "\n",
    "Using the standard error and assuming a normal distribution, we can calculate the margin of error for a 95% confidence interval using the z-score:\n",
    "\n",
    "ME = z*SE\n",
    "where z is the critical value from the standard normal distribution corresponding to a 95% confidence level, which is 1.96.\n",
    "\n",
    "Plugging in the values, we get:\n",
    "ME = 1.96*0.026 = 0.051\n",
    "\n",
    "Finally, we can calculate the 95% confidence interval as follows:\n",
    "\n",
    "CI = p̂ ± ME = 0.65 ± 0.051\n",
    "\n",
    "The 95% confidence interval for the true proportion of people who are satisfied with their job is (0.599, 0.701).\n",
    "\n",
    "Interpretation:\n",
    "\n",
    "We can interpret this confidence interval as saying that we are 95% confident that the true proportion of people who are satisfied with their job is between 59.9% and 70.1%."
   ]
  },
  {
   "cell_type": "code",
   "execution_count": null,
   "id": "114e4ebd-cfb8-44a0-aba5-ddf0abb265a6",
   "metadata": {},
   "outputs": [],
   "source": []
  },
  {
   "cell_type": "markdown",
   "id": "42262d79-5c86-4d73-bc77-518b22c5b728",
   "metadata": {},
   "source": [
    "## Q12. A researcher is testing the effectiveness of two different teaching methods on student performance. Sample A has a mean score of 85 with a standard deviation of 6, while sample B has a mean score of 82 with a standard deviation of 5. Conduct a hypothesis test to determine if the two teaching methods have a significant difference in student performance using a t-test with a significance level of 0.01."
   ]
  },
  {
   "cell_type": "markdown",
   "id": "05049a50-388b-4c4a-b13a-e67bdd7bb286",
   "metadata": {},
   "source": [
    "Ans:\n",
    "    \n",
    "To test the hypothesis that the two teaching methods have a significant difference in student performance, we can conduct a two-sample t-test. The null hypothesis is that the population means of the two samples are equal, while the alternative hypothesis is that they are not equal.\n",
    "\n",
    "H0: μA = μB\n",
    "\n",
    "Ha: μA ≠ μB\n",
    "\n",
    "We can use a two-tailed t-test with a significance level of 0.01. The critical value for this test with a degree of freedom of 10 (sample size minus 1) is ±2.764.\n",
    "\n",
    "First, we can calculate the pooled standard deviation using the formula:\n",
    "\n",
    "Sp = sqrt(((nA-1)sA^2 + (nB-1)sB^2) / (nA + nB - 2))\n",
    "\n",
    "where sA and sB are the sample standard deviations, and nA and nB are the sample sizes. Plugging in the values, we get:\n",
    "\n",
    "Sp = sqrt(((9)(6^2) + (9)(5^2)) / (9 + 9 - 2)) = 5.37\n",
    "\n",
    "Next, we can calculate the t-statistic using the formula:\n",
    "\n",
    "t = (x̄A - x̄B) / (Sp * sqrt(1/nA + 1/nB))\n",
    "\n",
    "where x̄A and x̄B are the sample means, and nA and nB are the sample sizes. Plugging in the values, we get:\n",
    "\n",
    "t = (85 - 82) / (5.37 * sqrt(1/10 + 1/10)) = 2.43\n",
    "\n",
    "Since the absolute value of the t-statistic is greater than the critical value of 2.764, we reject the null hypothesis and conclude that there is a significant difference in student performance between the two teaching methods at a significance level of 0.01.\n",
    "\n",
    "Interpretation: The result of the hypothesis test suggests that the two teaching methods have a significant difference in student performance. Students taught by method A had a higher mean score compared to those taught by method B."
   ]
  },
  {
   "cell_type": "code",
   "execution_count": null,
   "id": "08127adc-c2e3-4438-89c6-3a389942d501",
   "metadata": {},
   "outputs": [],
   "source": []
  },
  {
   "cell_type": "markdown",
   "id": "56da38e0-27cb-46d1-82a2-3c823f1fd2aa",
   "metadata": {},
   "source": [
    "## Q13. A population has a mean of 60 and a standard deviation of 8. A sample of 50 observations has a mean  of 65. Calculate the 90% confidence interval for the true population mean."
   ]
  },
  {
   "cell_type": "markdown",
   "id": "0157457b-f4e7-4f21-9b4b-710fea0ceb0f",
   "metadata": {},
   "source": [
    "Ans:\n",
    "    \n",
    "To calculate the 90% confidence interval for the true population mean, we can use the formula:\n",
    "\n",
    "CI = x̄ ± z*(σ/√n)\n",
    "\n",
    "where CI is the confidence interval, x̄ is the sample mean, σ is the population standard deviation, n is the sample size, and z is the z-score for the desired level of confidence.\n",
    "\n",
    "Since we are using a 90% confidence level, the corresponding z-score can be found using a standard normal distribution table or calculator. The z-score for a 90% confidence level is 1.645.\n",
    "\n",
    "Plugging in the given values, we get:\n",
    "\n",
    "CI = 65 ± 1.645*(8/√50)\n",
    "\n",
    "Simplifying the equation, we get:\n",
    "\n",
    "CI = 65 ± 2.32\n",
    "\n",
    "Therefore, the 90% confidence interval for the true population mean is (62.68, 67.32).\n",
    "\n",
    "Interpretation: We can be 90% confident that the true population mean falls between 62.68 and 67.32. This means that if we were to take multiple samples of the same size and calculate the confidence interval for each sample, about 90% of those intervals would contain the true population mean."
   ]
  },
  {
   "cell_type": "code",
   "execution_count": null,
   "id": "34d9623e-defe-4731-a931-e0ead3bc3f94",
   "metadata": {},
   "outputs": [],
   "source": []
  },
  {
   "cell_type": "markdown",
   "id": "e8ba3f2d-6877-42d5-8c6f-7e7d272d76a4",
   "metadata": {
    "tags": []
   },
   "source": [
    "## Q14. In a study of the effects of caffeine on reaction time, a sample of 30 participants had an average reaction time of 0.25 seconds with a standard deviation of 0.05 seconds. Conduct a hypothesis test to determine if the caffeine has a significant effect on reaction time at a 90% confidence level using a t-test."
   ]
  },
  {
   "cell_type": "markdown",
   "id": "6a1725e5-ba83-4702-941a-103ba020a1eb",
   "metadata": {},
   "source": [
    "Ans:\n",
    "    \n",
    "To conduct a hypothesis test ,we can use a t-test. \n",
    "The null hypothesis is that there is no significant difference in reaction time between participants who consumed caffeine and those who did not, while the alternative hypothesis is that there is a significant difference.\n",
    "\n",
    "Let's set the significance level at 0.10 (90% confidence level).\n",
    "\n",
    "H0: μ = 0.25\n",
    "\n",
    "Ha: μ ≠ 0.25\n",
    "\n",
    "Where μ represents the population mean of reaction time for participants who consumed caffeine.\n",
    "\n",
    "To calculate the t-statistic, we can use the formula:\n",
    "\n",
    "t = (x̄ - μ) / (s / √n)\n",
    "\n",
    "where x̄ is the sample mean, μ is the hypothesized population mean, s is the sample standard deviation, and n is the sample size.\n",
    "\n",
    "Plugging in the given values, we get:\n",
    "\n",
    "t = (0.25 - μ) / (0.05 / √30)\n",
    "\n",
    "Critical t-value for a sample size of 30 and a significance level of 0.10 is ±1.697.\n",
    "\n",
    "If the calculated t-value falls outside of the critical t-value range, we reject the null hypothesis.\n",
    "\n",
    "Now we need to calculate the t-value:\n",
    "\n",
    "t = (0.25 - μ) / (0.05 / √30)\n",
    "\n",
    "We can rearrange the equation as:\n",
    "\n",
    "μ = 0.25 - t*(0.05 / √30)\n",
    "\n",
    "Substituting t = ±1.697, we get:\n",
    "\n",
    "μ = 0.25 - 1.697*(0.05 / √30) or μ = 0.25 + 1.697*(0.05 / √30)\n",
    "\n",
    "Solving for each equation, we get:\n",
    "\n",
    "μ = 0.24 or μ = 0.26\n",
    "\n",
    "Since the hypothesized population mean (0.25) falls within the confidence interval (0.24, 0.26), we fail to reject the null hypothesis. We can conclude that there is no significant difference in reaction time between participants who consumed caffeine and those who did not at a 90% confidence level."
   ]
  },
  {
   "cell_type": "code",
   "execution_count": null,
   "id": "b29e9885-5103-4c8a-a2c9-3a91fffea442",
   "metadata": {},
   "outputs": [],
   "source": []
  }
 ],
 "metadata": {
  "kernelspec": {
   "display_name": "Python 3 (ipykernel)",
   "language": "python",
   "name": "python3"
  },
  "language_info": {
   "codemirror_mode": {
    "name": "ipython",
    "version": 3
   },
   "file_extension": ".py",
   "mimetype": "text/x-python",
   "name": "python",
   "nbconvert_exporter": "python",
   "pygments_lexer": "ipython3",
   "version": "3.10.8"
  }
 },
 "nbformat": 4,
 "nbformat_minor": 5
}
