{
 "cells": [
  {
   "cell_type": "markdown",
   "id": "c0209f86-3775-4960-9ac6-3211033e49a7",
   "metadata": {},
   "source": [
    "Q1, Create a vehicle class with an init method having instance variables as name_of_vehicle, max_speed\n",
    "and average_of_vehicle."
   ]
  },
  {
   "cell_type": "code",
   "execution_count": 23,
   "id": "1e591f21-1dad-4b23-942e-157be663d00e",
   "metadata": {},
   "outputs": [
    {
     "data": {
      "text/plain": [
       "250"
      ]
     },
     "execution_count": 23,
     "metadata": {},
     "output_type": "execute_result"
    }
   ],
   "source": [
    "class vehicle:\n",
    "    def __init__(self, name_of_vehicle, max_speed , average_of_vehicle):\n",
    "        self.name_of_vehicle =name_of_vehicle\n",
    "        self.max_speed = max_speed\n",
    "        self.average_of_vehicle= average_of_vehicle\n",
    "        self.average_of_vehicle= average_of_vehicle\n",
    "obj_vehicle=vehicle(\"bmw\", 250 , 30)\n",
    "\n",
    "obj_vehicle.max_speed"
   ]
  },
  {
   "cell_type": "code",
   "execution_count": null,
   "id": "d949a822-054e-41ab-94a9-ddd6b8cdb2a7",
   "metadata": {},
   "outputs": [],
   "source": []
  },
  {
   "cell_type": "markdown",
   "id": "73777bef-b16a-47d1-9248-e10e7e770652",
   "metadata": {},
   "source": [
    "Q2. Create a child class car from the vehicle class created in Que 1, which will inherit the vehicle class.\n",
    "Create a method named seating_capacity which takes capacity as an argument and returns the name of\n",
    "the vehicle and its seating capacity."
   ]
  },
  {
   "cell_type": "code",
   "execution_count": 1,
   "id": "c228a95c-0af5-4ae5-97c0-ac8cb7da5230",
   "metadata": {},
   "outputs": [
    {
     "name": "stdout",
     "output_type": "stream",
     "text": [
      "mercedes 5\n",
      "bmw 4\n"
     ]
    }
   ],
   "source": [
    "class vehicle:\n",
    "    def __init__(self, name_of_vehicle, max_speed , average_of_vehicle,capacity):\n",
    "        self.name_of_vehicle =name_of_vehicle\n",
    "        self.max_speed = max_speed\n",
    "        self.average_of_vehicle= average_of_vehicle\n",
    "        self.capacity=capacity\n",
    "class car(vehicle):\n",
    "    def seating_capacity(self,capacity):       \n",
    "        print(self.name_of_vehicle,self.capacity)\n",
    "obj_car= car(\"bmw\",100, 20,4)\n",
    "obj_car2= car(\"mercedes\",200,20,5)\n",
    "obj_car2.seating_capacity(5)\n",
    "obj_car.seating_capacity(4)"
   ]
  },
  {
   "cell_type": "code",
   "execution_count": null,
   "id": "a0315152-7583-45bb-abf8-dc8888268093",
   "metadata": {},
   "outputs": [],
   "source": []
  },
  {
   "cell_type": "markdown",
   "id": "7c2ac1d3-1102-480e-b9fb-be63474b8d9a",
   "metadata": {},
   "source": [
    "Q3. What is multiple inheritance? \n",
    "Write a python code to demonstrate multiple inheritance."
   ]
  },
  {
   "cell_type": "markdown",
   "id": "b57e32ff-8c99-4512-9a8e-1388ca549b48",
   "metadata": {},
   "source": [
    "Ans:when a single child class is inherited from two or more parent classes, it is called multiple inheritance.The child class inherits all the features of the parent classes."
   ]
  },
  {
   "cell_type": "code",
   "execution_count": 37,
   "id": "a51f1fd3-eb43-4383-a857-20e0dc5f09bc",
   "metadata": {},
   "outputs": [
    {
     "name": "stdout",
     "output_type": "stream",
     "text": [
      "Mammals can give direct birth.\n",
      "Winged animals can flap.\n"
     ]
    }
   ],
   "source": [
    "#Example\n",
    "class Mammal:\n",
    "    def mammal_info(self):\n",
    "        print(\"Mammals can give direct birth.\")\n",
    "class WingedAnimal:\n",
    "    def winged_animal_info(self):\n",
    "        print(\"Winged animals can flap.\")\n",
    "class Bat(Mammal, WingedAnimal):\n",
    "    pass\n",
    "bat_obj= Bat()\n",
    "bat_obj.mammal_info()\n",
    "bat_obj.winged_animal_info()"
   ]
  },
  {
   "cell_type": "code",
   "execution_count": null,
   "id": "6a6ef07a-3ca6-45a6-a5b4-562493492479",
   "metadata": {},
   "outputs": [],
   "source": []
  },
  {
   "cell_type": "markdown",
   "id": "dfbda4c8-9236-439c-820b-ffbb11c9d25f",
   "metadata": {},
   "source": [
    "Q4. What are getter and setter in python?\n",
    "Create a class and create a getter and a setter method in this \n",
    "class."
   ]
  },
  {
   "cell_type": "markdown",
   "id": "8e6fcbf0-2ddb-4620-baea-abe7c1c19cd7",
   "metadata": {},
   "source": [
    "#Ans:\n",
    "1. Getters: These are the methods used in Object-Oriented Programming (OOPS) which helps to access the private attributes from a class.\n",
    "\n",
    "2. Setters: These are the methods used in OOPS feature which helps to set the value to private atributes in a class."
   ]
  },
  {
   "cell_type": "code",
   "execution_count": 39,
   "id": "2762dac3-1802-4fbd-baaa-1eb3e9aae63e",
   "metadata": {},
   "outputs": [
    {
     "name": "stdout",
     "output_type": "stream",
     "text": [
      "0\n",
      "2019\n"
     ]
    }
   ],
   "source": [
    "class year_graduated:\n",
    "    def __init__(self, year=0):\n",
    "        self._year = year\n",
    "   \n",
    "    def get_year(self):\n",
    "        return self._year\n",
    "    \n",
    "    def set_year(self, a):\n",
    "        self._year = a\n",
    "grad_obj = year_graduated()\n",
    "\n",
    "# Before using setter\n",
    "print(grad_obj.get_year())\n",
    "\n",
    "# After using setter\n",
    "grad_obj.set_year(2019)\n",
    "print(grad_obj._year)"
   ]
  },
  {
   "cell_type": "code",
   "execution_count": null,
   "id": "8c33fd83-2fc9-4240-aca2-f44ea9322ef6",
   "metadata": {},
   "outputs": [],
   "source": []
  },
  {
   "cell_type": "markdown",
   "id": "21fc6775-927c-4f02-b19b-02f5891aa69c",
   "metadata": {},
   "source": [
    "Q5.What is method overriding in python?\n",
    "Write a python code to demonstrate method overriding."
   ]
  },
  {
   "cell_type": "markdown",
   "id": "faa4bec1-7474-4147-b8fd-a69a152ac6dc",
   "metadata": {},
   "source": [
    "Ans:\n",
    "When a child class method overrides(or, provides it's own implementation) the parent class method of the same name, parameters and return type, it is known as method overriding."
   ]
  },
  {
   "cell_type": "code",
   "execution_count": 2,
   "id": "830129d4-12a4-4159-a0d8-32a323cc33e3",
   "metadata": {},
   "outputs": [
    {
     "name": "stdout",
     "output_type": "stream",
     "text": [
      "I have 4 sides. I am from Square class\n",
      "I am a 2D object. I am from shape class\n",
      "I have teal color. I am from Square class.\n"
     ]
    }
   ],
   "source": [
    "class Shape: \n",
    "    data1 = \"abc\"\n",
    "    def no_of_sides(self):\n",
    "        print(\"My sides need to be defined. I am from shape class.\")\n",
    "    def two_dimensional(self):\n",
    "        print(\"I am a 2D object. I am from shape class\")\n",
    "class Square (Shape):\n",
    "    data2 = \"XYZ\"\n",
    "    def no_of_sides (self):\n",
    "        print(\"I have 4 sides. I am from Square class\")\n",
    "    def color(self):\n",
    "        print(\"I have teal color. I am from Square class.\")\n",
    "\n",
    "sq = Square() \n",
    "sq.no_of_sides() \n",
    "sq.two_dimensional() \n",
    "sq.color()\n",
    "        "
   ]
  },
  {
   "cell_type": "code",
   "execution_count": null,
   "id": "ebc52db9-1baf-45a0-a2d4-5ed78be2ad52",
   "metadata": {},
   "outputs": [],
   "source": []
  }
 ],
 "metadata": {
  "kernelspec": {
   "display_name": "Python 3 (ipykernel)",
   "language": "python",
   "name": "python3"
  },
  "language_info": {
   "codemirror_mode": {
    "name": "ipython",
    "version": 3
   },
   "file_extension": ".py",
   "mimetype": "text/x-python",
   "name": "python",
   "nbconvert_exporter": "python",
   "pygments_lexer": "ipython3",
   "version": "3.10.8"
  }
 },
 "nbformat": 4,
 "nbformat_minor": 5
}
