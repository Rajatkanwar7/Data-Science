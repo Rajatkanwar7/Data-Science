{
 "cells": [
  {
   "cell_type": "markdown",
   "id": "509afe8c-7109-4d48-97c8-8db3f78bb9ff",
   "metadata": {},
   "source": [
    "Q1. What is Flask Framework? What are the advantages of Flask Framework?"
   ]
  },
  {
   "cell_type": "markdown",
   "id": "86ef9119-98be-4772-8b02-da026eb94d97",
   "metadata": {},
   "source": [
    "Ans:\n",
    "    \n",
    "Flask is a lightweight web application framework written in Python. It is designed to be simple, flexible, and easy to use. Flask provides the basic tools and features needed to build web applications, without imposing any particular way of doing things. It is widely used for developing small to medium-sized web applications, APIs, and microservices.\n",
    "\n",
    "\n",
    "Advantages of Flask framework include:\n",
    "1. Lightweight and Flexible: Flask is a lightweight framework that allows developers to choose and integrate different libraries and tools according to their needs.\n",
    "2. Easy to Learn: Flask has a simple and easy-to-learn API, making it ideal for beginners who want to learn web development using Python.\n",
    "3. Extensible: Flask is highly extensible and supports a wide range of extensions and libraries, making it easy to add new features and functionality to your web application.\n",
    "4. Modular Design: Flask is designed to be modular, which means that developers can use only the components they need for their application, making it efficient and fast.\n",
    "5. Well Documented: Flask has excellent documentation and a large community of users who provide support, making it easy to find answers to your questions and get help when needed.\n",
    "6. Testing: Flask provides built-in testing support, making it easy to write tests and ensure that your application is working correctly.\n",
    "7. Scalable: Flask can be easily scaled up to handle large and complex web applications by integrating with other tools and libraries.\n",
    "8. Compatibility: Flask is compatible with many other Python libraries and tools, allowing developers to use the tools they are already familiar with."
   ]
  },
  {
   "cell_type": "code",
   "execution_count": null,
   "id": "57965939-ce20-496e-b596-b3373067ec6a",
   "metadata": {},
   "outputs": [],
   "source": []
  },
  {
   "cell_type": "markdown",
   "id": "64ac19f8-9f39-4d5e-912e-df08452e0c73",
   "metadata": {},
   "source": [
    "Q2. Create a simple Flask application to display ‘Hello World!!’. Attach the screenshot of the output in\n",
    "Jupyter Notebook."
   ]
  },
  {
   "cell_type": "markdown",
   "id": "290836bf-b175-40a5-b59a-ff4bbf97efe1",
   "metadata": {},
   "source": [
    "#Ans: Program\n",
    "\n",
    "from flask import Flask\n",
    "\n",
    "app = Flask(__name__)\n",
    "\n",
    "@app.route(\"/\")\n",
    "\n",
    "def hello_world():\n",
    "    \n",
    "   return \"Hello World!!\"\n",
    "\n",
    "if __name__==\"__main__\":\n",
    "\n",
    "app.run(host=\"0.0.0.0\")\n",
    "\n",
    "output link:\n",
    "\n",
    "https://github.com/Rajatkanwar7/Data-Science/blob/19d2e8fc04c006ac58cb828c48bf00428749d389/que.png\n"
   ]
  },
  {
   "cell_type": "markdown",
   "id": "08f493bc-f5fb-4f88-8950-a0598d6655e4",
   "metadata": {},
   "source": [
    "Q3. What is App routing in Flask? Why do we use app routes?"
   ]
  },
  {
   "cell_type": "markdown",
   "id": "c3bd00cf-8b07-4644-81dd-7aa28b78108e",
   "metadata": {},
   "source": [
    "Ans:\n",
    "\n",
    "In Flask, app routing refers to the process of mapping URLs to Python functions or view functions that handle requests and return responses. It is a way of defining how users can access different pages or resources on a web application.\n",
    "To define an app route in Flask, you use the @app.route() decorator, followed by the URL pattern that you want to match. For example, the following code defines a route for the homepage:\n",
    "\n",
    "from flask import Flask\n",
    "\n",
    "app = Flask(__name__)\n",
    "\n",
    "@app.route('/')\n",
    "\n",
    "def home():\n",
    "    \n",
    "   return 'Hello, World!'\n",
    "\n",
    "\n",
    "We use app routes in Flask to define the structure and behavior of a web application. By defining routes, we can map URLs to specific views or functions, which can handle user requests and return responses accordingly. App routes also help to organize the code and make it more maintainable and easier to understand."
   ]
  },
  {
   "cell_type": "code",
   "execution_count": null,
   "id": "fc2f9784-b4cb-4ec7-bb23-55018d11371b",
   "metadata": {},
   "outputs": [],
   "source": []
  },
  {
   "cell_type": "markdown",
   "id": "906cda4e-3dd9-4155-8ad0-eb62550adcd5",
   "metadata": {},
   "source": [
    "Q4. Create a “/welcome” route to display the welcome message “Welcome to ABC Corporation” and a “/”\n",
    "route to show the following details:\n",
    "Company Name: ABC Corporation\n",
    "Location: India\n",
    "Contact Detail: 999-999-9999"
   ]
  },
  {
   "cell_type": "markdown",
   "id": "0121a30d-5e50-4df7-a1f5-b21129a6a419",
   "metadata": {},
   "source": [
    "ANS: Program:\n",
    "\n",
    "    \n",
    "from flask import Flask\n",
    "app = Flask(__name__)\n",
    "@app.route(\"/Welcome\")\n",
    "def hello_world():\n",
    "    return \"Welcome to ABC corporation\"\n",
    "@app.route(\"/\")\n",
    "def company_details():\n",
    "    a= \"Company :ABC corporation <br/> Location: India <br/> Contact Detail: 999-999-9999\"\n",
    "    return a\n",
    "if __name__==\"__main__\":\n",
    "    app.run(host=\"0.0.0.0\")\n",
    "    \n",
    "\n",
    "output link:\n",
    "\n",
    "\n",
    "https://github.com/Rajatkanwar7/Data-Science/blob/19d2e8fc04c006ac58cb828c48bf00428749d389/19th_feb_question4_1.png\n",
    "\n",
    "https://github.com/Rajatkanwar7/Data-Science/blob/3083a9de773ac50866c1e809ef178219dbadaaa0/Untitled2.png"
   ]
  },
  {
   "cell_type": "code",
   "execution_count": null,
   "id": "6d28d64a-7ec0-4ecf-b640-d5ba57f80d45",
   "metadata": {},
   "outputs": [],
   "source": []
  },
  {
   "cell_type": "markdown",
   "id": "c2368287-b3cd-4baa-aa71-9005e2e997bf",
   "metadata": {},
   "source": [
    "Q5. What function is used in Flask for URL Building? Write a Python code to demonstrate the working of the\n",
    "url_for() function."
   ]
  },
  {
   "cell_type": "markdown",
   "id": "5c27961e-d8cd-4998-8728-aafe34989392",
   "metadata": {},
   "source": [
    "Ans:\n",
    "Flask url_for is defined as a function that enables developers to build and generate URLs on a Flask application.\n"
   ]
  },
  {
   "cell_type": "markdown",
   "id": "6b2a0f95-8180-46a3-a3e8-e51beb617568",
   "metadata": {},
   "source": [
    "from flask import Flask, url_for\n",
    "\n",
    "app = Flask(__name__)\n",
    "\n",
    "@app.route('/')\n",
    "\n",
    "def home():\n",
    " \n",
    "   return 'Welcome to the home page'\n",
    "\n",
    "@app.route('/hello/<name>')\n",
    "\n",
    "def hello(name):\n",
    "    \n",
    "    return f'Hello, {name}!'\n",
    "\n",
    "with app.test_request_context():\n",
    "   \n",
    "    home_url = url_for('home')\n",
    "    \n",
    "    print(f'The URL for the home page is: {home_url}')\n",
    "    \n",
    "    hello_url = url_for('hello', name='Alice')\n",
    "    \n",
    "    print(f'The URL for the hello page with name Alice is: {hello_url}')"
   ]
  },
  {
   "cell_type": "markdown",
   "id": "e50cf9bb-3db5-4d06-b05b-9f357c615c93",
   "metadata": {},
   "source": [
    "In this example, we define two routes: the home page and a route that takes a parameter (/hello/<name>). The hello() function takes a parameter name and returns a greeting for the given name.\n",
    "\n",
    "We use url_for() to generate URLs for both routes. In the first example, we generate a URL for the home page, which doesn't take any parameters. In the second example, we generate a URL for the /hello/<name> route with the parameter name set to 'Alice'.\n",
    "\n",
    "    \n",
    "This demonstrates how url_for() can be used to generate URLs for routes that take parameters, allowing you to build dynamic and flexible web applications."
   ]
  }
 ],
 "metadata": {
  "kernelspec": {
   "display_name": "Python 3 (ipykernel)",
   "language": "python",
   "name": "python3"
  },
  "language_info": {
   "codemirror_mode": {
    "name": "ipython",
    "version": 3
   },
   "file_extension": ".py",
   "mimetype": "text/x-python",
   "name": "python",
   "nbconvert_exporter": "python",
   "pygments_lexer": "ipython3",
   "version": "3.10.8"
  }
 },
 "nbformat": 4,
 "nbformat_minor": 5
}
