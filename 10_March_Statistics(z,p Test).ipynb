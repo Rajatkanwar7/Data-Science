{
 "cells": [
  {
   "cell_type": "markdown",
   "id": "c26b9db3-4b86-4828-b8c2-2e92f5fcd255",
   "metadata": {},
   "source": [
    "## Q1: What is Estimation Statistics? Explain point estimate and interval estimate."
   ]
  },
  {
   "cell_type": "markdown",
   "id": "8d029205-3f98-4709-a6ad-efcea02daaee",
   "metadata": {},
   "source": [
    "Ans:\n",
    "    \n",
    "Estimation statistics is a branch of inferential statistics that deals with making inferences about population parameters based on sample statistics.\n",
    "\n",
    "Point estimate: is a single value that is used to estimate the value of an unknown population parameter. For example, the sample mean is a point estimate of the population mean. The sample proportion is a point estimate of the population proportion. Point estimates are often used as a starting point for making inferences about the population parameter.\n",
    "\n",
    "Interval estimate is a range of values that is likely to contain the value of the population parameter with a certain level of confidence.Interval estimates provide a range of values rather than a single point estimate, which can provide more information about the uncertainty of the estimate.\n",
    "For example, if we want to estimate the population mean, we can calculate a confidence interval around the sample mean. A 95% confidence interval means that if we were to repeat the sampling process multiple times, 95% of the intervals generated would contain the true population mean. The confidence interval is calculated as:\n",
    "\n",
    "Confidence interval = Sample mean ± (Critical value x Standard error)\n",
    "where the critical value is based on the level of confidence and the standard error is a measure of the variability of the sample mean"
   ]
  },
  {
   "cell_type": "code",
   "execution_count": null,
   "id": "6d322592-990a-47a2-a0a8-1f8fc491fb6f",
   "metadata": {},
   "outputs": [],
   "source": []
  },
  {
   "cell_type": "markdown",
   "id": "4ec1fc42-b244-410d-b31b-f14dcd89e16b",
   "metadata": {},
   "source": [
    "## Q2. Write a Python function to estimate the population mean using a sample mean and standard  deviation."
   ]
  },
  {
   "cell_type": "code",
   "execution_count": 2,
   "id": "0451794f-ea1b-4d9b-850c-1425d7ea3539",
   "metadata": {},
   "outputs": [
    {
     "name": "stdout",
     "output_type": "stream",
     "text": [
      "Estimated population mean: 10.2\n",
      "Confidence interval: (9.77370471731644, 10.626295282683559)\n"
     ]
    }
   ],
   "source": [
    "import math\n",
    "from scipy.stats import t\n",
    "def estimate_pop_mean(sample_mean, sample_std, sample_size, alpha=0.05):\n",
    "    df = sample_size - 1\n",
    "    t_value = t.ppf(1 - alpha/2, df)\n",
    "    \n",
    "    # Calculate the standard error of the mean\n",
    "    std_error = sample_std / math.sqrt(sample_size)\n",
    "    \n",
    "    # Calculate the confidence interval\n",
    "    lower = sample_mean - t_value * std_error\n",
    "    upper = sample_mean + t_value * std_error\n",
    "    \n",
    "    # Return the estimated population mean and the confidence interval\n",
    "    return (sample_mean, (lower, upper))\n",
    "sample_mean = 10.2\n",
    "sample_std = 1.5\n",
    "sample_size = 50\n",
    "pop_mean, conf_interval = estimate_pop_mean(sample_mean, sample_std, sample_size)\n",
    "print(\"Estimated population mean:\", pop_mean)\n",
    "print(\"Confidence interval:\", conf_interval)\n"
   ]
  },
  {
   "cell_type": "code",
   "execution_count": null,
   "id": "33f141c1-9775-4e4c-99c5-92e449578aa1",
   "metadata": {},
   "outputs": [],
   "source": []
  },
  {
   "cell_type": "markdown",
   "id": "ab01b57d-41af-452c-960b-0e3e3a11700f",
   "metadata": {},
   "source": [
    "## Q3: What is Hypothesis testing? Why is it used? State the importance of Hypothesis testing."
   ]
  },
  {
   "cell_type": "markdown",
   "id": "691c1417-dac0-442a-b423-db55b4bc0fe7",
   "metadata": {},
   "source": [
    "Ans:\n",
    "\n",
    "Hypothesis testing is a statistical method that is used to make decisions about a population based on sample data.\n",
    "\n",
    "In hypothesis testing, we start by assuming that the null hypothesis is true, and then we collect sample data and use it to calculate a test statistic. If the test statistic is very unlikely to occur if the null hypothesis were true, we reject the null hypothesis and accept the alternative hypothesis. On the other hand, if the test statistic is likely to occur if the null hypothesis were true, we fail to reject the null hypothesis.\n",
    "\n",
    "Hypothesis testing is used in many areas of research, including social sciences, medical research, engineering, and business. It is used to test theories, evaluate the effectiveness of interventions, and make decisions based on data.\n",
    "\n",
    "\n",
    "The importance of hypothesis testing lies in its ability to provide a systematic and objective way to make decisions based on data. Hypothesis testing allows researchers to determine whether their findings are statistically significant, which means that the observed effect is unlikely to be due to chance alone. This can help researchers to avoid drawing incorrect conclusions or making decisions based on unreliable data    \n",
    "  "
   ]
  },
  {
   "cell_type": "code",
   "execution_count": null,
   "id": "a3de82f3-7cfe-4839-a779-b936f0d75ece",
   "metadata": {},
   "outputs": [],
   "source": []
  },
  {
   "cell_type": "markdown",
   "id": "cfc6cb8c-ea5b-456e-a2cc-dd1ff83572e5",
   "metadata": {},
   "source": [
    "## Q4. Create a hypothesis that states whether the average weight of male college students is greater than  the average weight of female college students."
   ]
  },
  {
   "cell_type": "markdown",
   "id": "a708d0ae-cfb4-40ea-9ae6-00b850a3c0f4",
   "metadata": {},
   "source": [
    "Ans:\n",
    "\n",
    "Hypothesis: The average weight of male college students is greater than the average weight of female college students.\n",
    "\n",
    "This can be stated as a one-tailed hypothesis:\n",
    "\n",
    "H0: μ_female = μ_male\n",
    "\n",
    "Ha: μ_female < μ_male\n",
    "\n",
    "where H0 is the null hypothesis (the average weight of male and female college students is equal), and Ha is the alternative hypothesis (the average weight of male college students is greater than the average weight of female college students"
   ]
  },
  {
   "cell_type": "code",
   "execution_count": null,
   "id": "5489e868-6004-44e9-b5f0-ae4f5826dbcf",
   "metadata": {},
   "outputs": [],
   "source": []
  },
  {
   "cell_type": "markdown",
   "id": "9f7b44b9-6f8b-44df-afcd-aaac416b229d",
   "metadata": {},
   "source": [
    "## Q5. Write a Python script to conduct a hypothesis test on the difference between two population means,  given a sample from each population."
   ]
  },
  {
   "cell_type": "code",
   "execution_count": 3,
   "id": "a80cc86f-54cf-4e2b-9368-945dca80a03d",
   "metadata": {},
   "outputs": [
    {
     "name": "stdout",
     "output_type": "stream",
     "text": [
      "Sample 1: mean = 6.9, std = 1.1972189997378646, size = 10\n",
      "Sample 2: mean = 6.0, std = 1.4907119849998598, size = 10\n",
      "t = 1.488558185333923, p = 0.15391495424405038\n"
     ]
    }
   ],
   "source": [
    "import numpy as np\n",
    "from scipy import stats\n",
    "# Sample data from population 1\n",
    "pop1 = np.array([5, 8, 7, 6, 9, 7, 8, 6, 6, 7])\n",
    "# Sample data from population 2\n",
    "pop2 = np.array([4, 6, 5, 7, 8, 4, 6, 5, 7, 8])\n",
    "# Calculate sample statistics\n",
    "n1 = len(pop1)\n",
    "n2 = len(pop2)\n",
    "mean1 = np.mean(pop1)\n",
    "mean2 = np.mean(pop2)\n",
    "std1 = np.std(pop1, ddof=1)\n",
    "std2 = np.std(pop2, ddof=1)\n",
    "# Conduct a two-sample t-test\n",
    "t, p = stats.ttest_ind(pop1, pop2)\n",
    "# Print the results\n",
    "print('Sample 1: mean = {}, std = {}, size = {}'.format(mean1, std1, n1))\n",
    "print('Sample 2: mean = {}, std = {}, size = {}'.format(mean2, std2, n2))\n",
    "print('t = {}, p = {}'.format(t, p))\n"
   ]
  },
  {
   "cell_type": "markdown",
   "id": "095286cf-07dd-442a-9194-0a63d9d10fd9",
   "metadata": {},
   "source": [
    "In this example, we have sample data from two populations, pop1 and pop2. We calculate the sample statistics (sample size, mean, and standard deviation) for each population using NumPy functions. We then conduct a two-sample t-test using the ttest_ind function from the SciPy library. Finally, we print the results, which include the sample statistics for each population and the t-statistic and p-value from the t-test."
   ]
  },
  {
   "cell_type": "code",
   "execution_count": null,
   "id": "6f1cf81b-1c53-4f9e-9a6c-c3c8a6a489b7",
   "metadata": {},
   "outputs": [],
   "source": []
  },
  {
   "cell_type": "markdown",
   "id": "e124c52d-2c25-4b57-ade1-aec364a9041d",
   "metadata": {},
   "source": [
    "## Q6: What is a null and alternative hypothesis? Give some examples."
   ]
  },
  {
   "cell_type": "markdown",
   "id": "75619162-4c3e-4c8d-a07e-33c1ee581ae2",
   "metadata": {},
   "source": [
    "Ans:\n",
    "    \n",
    "A null hypothesis (H0) is a statement about a population parameter (e.g., population mean or proportion) that assumes no significant difference or relationship between two variables.\n",
    "\n",
    "Alternative hypothesis (Ha) is a statement that contradicts the null hypothesis and suggests that there is a significant difference or relationship between two variables. The alternative hypothesis can be directional or non-directional.\n",
    "Here are some examples of null and alternative hypotheses:\n",
    "\n",
    "1. Example for a two-tailed test:\n",
    "\n",
    "Null Hypothesis: The mean score on a standardized test for a group of students is 75.\n",
    "\n",
    "Alternative Hypothesis: The mean score on a standardized test for a group of students is not equal to 75.\n",
    "\n",
    "\n",
    "2. Example for a one-tailed test:\n",
    "\n",
    "Null Hypothesis: The proportion of male students in a college is 50%.\n",
    "\n",
    "Alternative Hypothesis: The proportion of male students in a college is greater than 50%."
   ]
  },
  {
   "cell_type": "code",
   "execution_count": null,
   "id": "03103c48-4c7b-42f3-90e7-bcbdf5a98828",
   "metadata": {},
   "outputs": [],
   "source": []
  },
  {
   "cell_type": "markdown",
   "id": "6ea67bed-cbae-4ed8-9a4e-e27c6f6a0a4b",
   "metadata": {},
   "source": [
    "## Q7: Write down the steps involved in hypothesis testing."
   ]
  },
  {
   "cell_type": "markdown",
   "id": "cdda268f-75f2-4954-a3ca-00e9e1679c9a",
   "metadata": {},
   "source": [
    "Ans:\n",
    "    \n",
    "Here are the general steps involved in hypothesis testing:\n",
    "\n",
    "1. State the null and alternative hypotheses: Define the null and alternative hypotheses based on the research question or problem being investigated.\n",
    "2. Determine the appropriate test statistic and significance level: Choose the appropriate statistical test and significance level based on the nature of the data and the research question.\n",
    "3. Collect and analyze the data: Collect a sample of data and analyze it using the chosen statistical test.\n",
    "4. Calculate the test statistic: Calculate the test statistic based on the data and the chosen statistical test.\n",
    "5. Determine the p-value: Calculate the p-value, which is the probability of observing a test statistic as extreme as the one calculated from the data, assuming that the null hypothesis is true.\n",
    "6. Compare the p-value to the significance level: Compare the p-value to the significance level. If the p-value is less than the significance level, reject the null hypothesis; otherwise, fail to reject the null hypothesis.\n",
    "7. Interpret the results: Interpret the results of the hypothesis test in the context of the research question. If the null hypothesis is rejected, the alternative hypothesis may be supported. If the null hypothesis is not rejected, no significant difference or relationship is observed between the variables.\n",
    "8. Draw conclusions: Draw conclusions based on the results of the hypothesis test, and communicate the findings in a clear and concise manner."
   ]
  },
  {
   "cell_type": "code",
   "execution_count": null,
   "id": "dd4788c3-b301-4e4c-8aa0-7a972d775474",
   "metadata": {},
   "outputs": [],
   "source": []
  },
  {
   "cell_type": "markdown",
   "id": "a4fca176-dcec-46d9-87dc-76395cf36d61",
   "metadata": {},
   "source": [
    "## Q8. Define p-value and explain its significance in hypothesis testing."
   ]
  },
  {
   "cell_type": "markdown",
   "id": "cad7eec0-b1d9-4319-875f-7c2e8ca1e938",
   "metadata": {},
   "source": [
    "Ans:\n",
    "    \n",
    "The p-value is the probability of obtaining a test statistic as extreme as the one observed in the data, assuming that the null hypothesis is true.\n",
    "\n",
    "Significance of p value: \n",
    "\n",
    "1. It provides a way to assess the strength of evidence against the null hypothesis. If the p-value is small, typically less than 0.05, it suggests that the observed difference between the sample and population is unlikely to have occurred by chance, and we have strong evidence to reject the null hypothesis. On the other hand, if the p-value is large, greater than 0.05, it suggests that the observed difference between the sample and population is likely to have occurred by chance, and we fail to reject the null hypothesis.\n",
    "2. The p-value is a useful tool for determining the statistical significance of results in hypothesis testing. It helps researchers make decisions about the presence or absence of a significant effect, and can also inform future research by providing guidance on the appropriate direction and magnitude of future studies"
   ]
  },
  {
   "cell_type": "code",
   "execution_count": null,
   "id": "e09c38a7-03e0-495f-96d5-6eb7b906cad4",
   "metadata": {},
   "outputs": [],
   "source": []
  },
  {
   "cell_type": "markdown",
   "id": "af867c0a-70a4-4a4b-98f9-3c9a108301b4",
   "metadata": {},
   "source": [
    "## Q9. Generate a Student's t-distribution plot using Python's matplotlib library, with the degrees of freedom  parameter set to 10."
   ]
  },
  {
   "cell_type": "code",
   "execution_count": 4,
   "id": "b4b34633-d6c4-4d3a-8ddc-25f736c041ec",
   "metadata": {},
   "outputs": [
    {
     "data": {
      "image/png": "[encoded data removed]",
      "text/plain": [
       "<Figure size 640x480 with 1 Axes>"
      ]
     },
     "metadata": {},
     "output_type": "display_data"
    }
   ],
   "source": [
    "import numpy as np\n",
    "import matplotlib.pyplot as plt\n",
    "# Generate x values for the t-distribution plot\n",
    "x = np.linspace(-5, 5, 500)\n",
    "# Calculate the probability density function (pdf) values for the t-distribution\n",
    "df = 10 # degrees of freedom\n",
    "pdf = (1 / np.sqrt(df*np.pi) * np.power(1 + np.power(x, 2)/df, -(df+1)/2))\n",
    "# Plot the t-distribution\n",
    "plt.plot(x, pdf, 'r-', label='t-distribution with df=10')\n",
    "# Add axis labels and a legend\n",
    "plt.xlabel('x')\n",
    "plt.ylabel('pdf')\n",
    "plt.legend()\n",
    "# Show the plot\n",
    "plt.show()\n"
   ]
  },
  {
   "cell_type": "code",
   "execution_count": null,
   "id": "65ffec01-a257-45ff-89f2-8c1f29d65428",
   "metadata": {},
   "outputs": [],
   "source": []
  },
  {
   "cell_type": "markdown",
   "id": "13a0ef9e-cc1b-479c-8ebe-fa44ebe2ec3b",
   "metadata": {},
   "source": [
    "## Q10. Write a Python program to calculate the two-sample t-test for independent samples, given two random samples of equal size and a null hypothesis that the population means are equal."
   ]
  },
  {
   "cell_type": "code",
   "execution_count": 5,
   "id": "b3e5a439-e23e-4c23-983f-f4ebc613e0d7",
   "metadata": {},
   "outputs": [
    {
     "name": "stdout",
     "output_type": "stream",
     "text": [
      "t-test statistic: -4.823491988318599\n",
      "p-value: 2.8092534764755833e-06\n"
     ]
    }
   ],
   "source": [
    "import numpy as np\n",
    "from scipy.stats import ttest_ind\n",
    "# Generate two random samples of equal size\n",
    "sample1 = np.random.normal(10, 2, 100)\n",
    "sample2 = np.random.normal(12, 2, 100)\n",
    "# Calculate the t-test statistic and p-value\n",
    "t_statistic, p_value = ttest_ind(sample1, sample2)\n",
    "# Print the results\n",
    "print('t-test statistic:', t_statistic)\n",
    "print('p-value:', p_value)"
   ]
  },
  {
   "cell_type": "markdown",
   "id": "4a4e411d-5cb7-4094-b6ff-774cc6feb5f2",
   "metadata": {},
   "source": [
    "In this example code, we first generate two random samples of equal size using the NumPy random.normal() function. We then use the scipy.stats.ttest_ind() function to calculate the t-test statistic and p-value for the two samples, assuming equal variances. The resulting t-test statistic and p-value are printed to the console."
   ]
  },
  {
   "cell_type": "code",
   "execution_count": null,
   "id": "b5cf6292-df8e-45e7-9c79-50fbedf1d354",
   "metadata": {},
   "outputs": [],
   "source": []
  },
  {
   "cell_type": "markdown",
   "id": "2437c4ad-9adb-458e-b3a4-8498213c2d5a",
   "metadata": {},
   "source": [
    "## Q11: What is Student’s t distribution? When to use the t-Distribution."
   ]
  },
  {
   "cell_type": "markdown",
   "id": "37723410-4409-4c6d-b369-44bfbb060d33",
   "metadata": {},
   "source": [
    "Ans:\n",
    "    \n",
    "Student's t-distribution is a probability distribution that arises when we want to estimate the mean of a population from a sample, and the standard deviation of the population is unknown.  \n",
    "\n",
    "\n",
    "The t-distribution is commonly used in hypothesis testing when the sample size is small and the population standard deviation is unknown. It is also used in confidence interval estimation for small samples. In general, the t-distribution is used to test hypotheses about the mean of a population when the sample size is small or the population standard deviation is unknown.\n",
    "\n",
    "The t-distribution is used in situations where the sample size is small, typically less than 30, and the population standard deviation is unknown. It is used to estimate the population mean and to test hypotheses about the population mean based on the sample mean. The t-distribution is also used in situations where the data is not normally distributed, but the sample size is large enough to allow for the central limit theorem to apply."
   ]
  },
  {
   "cell_type": "code",
   "execution_count": null,
   "id": "46bb9d86-f7f3-44cf-9650-ab053d06e694",
   "metadata": {},
   "outputs": [],
   "source": []
  },
  {
   "cell_type": "markdown",
   "id": "adf44a79-c5f4-40cf-af44-aac87ef290e6",
   "metadata": {},
   "source": [
    "## Q12: What is t-statistic? State the formula for t-statistic."
   ]
  },
  {
   "cell_type": "markdown",
   "id": "0b68211a-2ce1-44b5-8586-fae5cd34ecc5",
   "metadata": {},
   "source": [
    "Ans:\n",
    "\n",
    "The t-statistic is a measure of the difference between the sample mean and the hypothesized population mean, in units of the standard error of the sample mean.\n",
    "\n",
    "The formula for the t-statistic is:\n",
    "\n",
    "t = (x̄ - μ) / (s / sqrt(n))\n",
    "\n",
    "where:\n",
    "\n",
    "x̄ is the sample mean\n",
    "\n",
    "μ is the hypothesized population mean under the null hypothesis\n",
    "\n",
    "s is the sample standard deviation\n",
    "\n",
    "n is the sample size\n",
    "\n",
    "sqrt is the square root function"
   ]
  },
  {
   "cell_type": "code",
   "execution_count": null,
   "id": "9fe80ca2-82d1-4534-8929-c0165c759b68",
   "metadata": {},
   "outputs": [],
   "source": []
  },
  {
   "cell_type": "markdown",
   "id": "683bcde8-8906-4082-a6ea-75b81411dab5",
   "metadata": {},
   "source": [
    "## Q13. A coffee shop owner wants to estimate the average daily revenue for their shop. They take a random sample of 50 days and find the sample mean revenue to be 500 dollar with a standard deviation of $50. \n",
    "\n",
    "## Estimate the population mean revenue with a 95% confidence interval."
   ]
  },
  {
   "cell_type": "markdown",
   "id": "fa214c21-cb7e-43ef-b076-01fbc0bedc42",
   "metadata": {},
   "source": [
    "Ans:\n",
    "    \n",
    "To estimate the population mean revenue with a 95% confidence interval, we can use the following formula:\n",
    "\n",
    "CI = x̄ ± t*(s / sqrt(n))\n",
    "\n",
    "where:\n",
    "\n",
    "x̄ is the sample mean revenue ($500)\n",
    "\n",
    "s is the sample standard deviation ($50)\n",
    "\n",
    "n is the sample size (50)\n",
    "\n",
    "t is the critical value of the t-distribution with n-1 degrees of freedom and a 95% confidence level.\n",
    "Degrees of freedom is, n-1 = 50-1 = 49.\n",
    "\n",
    "\n",
    "We can find the critical value of the t-distribution using a t-table or a statistical software, such as Python's scipy.stats.t module. \n",
    "\n",
    "For a 95% confidence level and 49 degrees of freedom, the critical value is approximately 2.01.\n",
    "\n",
    "Plugging in the values, we get:\n",
    "CI = $500 ± 2.01 * ($50 / sqrt(50))\n",
    "\n",
    "Simplifying the equation, we get:\n",
    "CI = $500 ± $14.14\n",
    "\n",
    "\n",
    "Therefore, the 95% confidence interval for the population mean revenue is:\n",
    "\n",
    "($500 - $14.14, $500 + $14.14) = ($485.86, $514.14)\n",
    "\n",
    "We can say with 95% confidence that the true population mean revenue falls within this interval."
   ]
  },
  {
   "cell_type": "code",
   "execution_count": null,
   "id": "4f7abbcc-3170-4a57-85ef-a8adddb8db09",
   "metadata": {},
   "outputs": [],
   "source": []
  },
  {
   "cell_type": "markdown",
   "id": "e8ad0282-cd86-4a2e-a807-973ed1d84774",
   "metadata": {},
   "source": [
    "## Q14. A researcher hypothesizes that a new drug will decrease blood pressure by 10 mmHg. They conduct a  clinical trial with 100 patients and find that the sample mean decrease in blood pressure is 8 mmHg with a standard deviation  3 mmHg.Test the hypothesis with a significance level of 0.05."
   ]
  },
  {
   "cell_type": "markdown",
   "id": "9aefd6ad-1f64-4f05-9a9b-566cc069d988",
   "metadata": {},
   "source": [
    "Ans:\n",
    "    \n",
    "To test the hypothesis that the new drug decreases blood pressure by 10 mmHg, we can use a one-sample t-test with the following null and alternative hypotheses:\n",
    "\n",
    "1. Null hypothesis: The true mean decrease in blood pressure is equal to 10 mmHg.\n",
    "2. Alternative hypothesis: The true mean decrease in blood pressure is less than 10 mmHg.\n",
    "\n",
    "3. We can calculate the t-statistic using the formula:\n",
    "\n",
    "t = (x̄ - μ) / (s / sqrt(n))\n",
    "where:\n",
    "x̄ is the sample mean decrease in blood pressure (8 mmHg)\n",
    "μ is the hypothesized mean decrease in blood pressure (10 mmHg)\n",
    "s is the sample standard deviation (3 mmHg)\n",
    "n is the sample size (100)\n",
    "\n",
    "Plugging in the values, we get:\n",
    "\n",
    "t = (8 - 10) / (3 / sqrt(100))\n",
    "\n",
    "t = -2.82\n",
    "\n",
    "Degrees of freedom is, n-1 = 100-1 = 99. \n",
    "\n",
    "Using a t-table,the critical value of t for a one-tailed test with 99 degrees of freedom and a significance level of 0.05 is approximately -1.66.\n",
    "\n",
    "Since the calculated t-statistic (-2.82) is less than the critical value (-1.66), we can reject the null hypothesis and conclude that the true mean decrease in blood pressure is less than 10 mmHg at a significance level of 0.05.\n",
    "Therefore, we have evidence that the new drug does not decrease blood pressure by 10 mmHg as hypothesized.    "
   ]
  },
  {
   "cell_type": "code",
   "execution_count": null,
   "id": "d868736f-825b-4f65-ab9d-9bbc7abc38e5",
   "metadata": {},
   "outputs": [],
   "source": []
  },
  {
   "cell_type": "markdown",
   "id": "6818e99b-2607-4b87-96ef-25c78af39821",
   "metadata": {},
   "source": [
    "## Q15. An electronics company produces a certain type of product with a mean weight of 5 pounds and a standard deviation of 0.5 pounds. A random sample of 25 products is taken, and the sample mean weight is found to be 4.8 pounds. Test the hypothesis that the true mean weight of the products is less than 5 pounds with a significance level of 0.01."
   ]
  },
  {
   "cell_type": "markdown",
   "id": "5860fa14-a0b9-45a3-b659-abf7dad35230",
   "metadata": {},
   "source": [
    "Ans:\n",
    "    \n",
    "To test the hypothesis we can use a one-sample t-test with the following null and alternative hypotheses:\n",
    "\n",
    "1. Null hypothesis: The true mean weight of the products is equal to 5 pounds.\n",
    "\n",
    "2. Alternative hypothesis: The true mean weight of the products is less than 5 pounds.\n",
    "\n",
    "We can calculate the t-statistic using the formula:\n",
    "\n",
    "t = (x̄ - μ) / (s / sqrt(n))\n",
    "\n",
    "where:\n",
    "\n",
    "x̄ is the sample mean weight (4.8 pounds)\n",
    "\n",
    "μ is the hypothesized mean weight (5 pounds)\n",
    "\n",
    "s is the sample standard deviation (0.5 pounds)\n",
    "\n",
    "n is the sample size (25)\n",
    "\n",
    "Plugging in the values, we get:\n",
    "\n",
    "t = (4.8 - 5) / (0.5 / sqrt(25))\n",
    "t = -2.0\n",
    "\n",
    "Degree of freedom is, n-1 = 25-1 = 24. \n",
    "\n",
    "Using a t-table the critical value of t for a one-tailed test with 24 degrees of freedom and a significance level of 0.01 is approximately -2.492.\n",
    "\n",
    "Since the calculated t-statistic (-2.0) is greater than the critical value (-2.492), we cannot reject the null hypothesis at a significance level of 0.01. Therefore, we do not have sufficient evidence to conclude that the true mean weight of the products is less than 5 pounds"
   ]
  },
  {
   "cell_type": "code",
   "execution_count": null,
   "id": "c4ae7c41-1042-49e2-850d-8f8f7aee70ed",
   "metadata": {},
   "outputs": [],
   "source": []
  },
  {
   "cell_type": "markdown",
   "id": "ab1f5094-45c2-4296-bd92-5028e9ee3fa3",
   "metadata": {
    "tags": []
   },
   "source": [
    "## Q16. Two groups of students are given different study materials to prepare for a test. The first group (n1 = 30) has a mean score of 80 with a standard deviation of 10, and the second group (n2 = 40) has a mean score of 75 with a standard deviation of 8. Test the hypothesis that the population means for the two groups are equal with a significance level of 0.01."
   ]
  },
  {
   "cell_type": "markdown",
   "id": "586dffc6-5a1b-448a-a855-62f4fb1a6acf",
   "metadata": {},
   "source": [
    "Ans:\n",
    "    \n",
    "To test the hypothesis that the population means for the two groups are equal, we can use a two-sample t-test for independent samples with the following null and alternative hypotheses:\n",
    "\n",
    "1. Null hypothesis: The population means for the two groups are equal.\n",
    "2. Alternative hypothesis: The population means for the two groups are not equal.\n",
    "\n",
    "We can calculate the test statistic t using the formula:\n",
    "\n",
    "t = (x̄1 - x̄2) / sqrt((s1^2 / n1) + (s2^2 / n2))\n",
    "\n",
    "where:\n",
    "\n",
    "x̄1 is the sample mean score for the first group (80)\n",
    "\n",
    "x̄2 is the sample mean score for the second group (75)\n",
    "\n",
    "s1 is the sample standard deviation for the first group (10)\n",
    "\n",
    "s2 is the sample standard deviation for the second group (8)\n",
    "\n",
    "n1 is the sample size for the first group (30)\n",
    "\n",
    "n2 is the sample size for the second group (40)\n",
    "\n",
    "Plugging in the values, we get:\n",
    "\n",
    "t = (80 - 75) / sqrt((10^2 / 30) + (8^2 / 40))\n",
    "\n",
    "t = 2.68\n",
    "\n",
    "Degree of freedom for this problem is (n1 + n2 - 2) = (30 + 40 - 2) = 68. \n",
    "\n",
    "Using a t-table,the critical value of t for a two-tailed test with 68 degrees of freedom and a significance level of 0.01 is approximately ±2.650.\n",
    "\n",
    "Since the calculated t-statistic (2.68) is greater than the critical value (±2.650), we reject the null hypothesis at a significance level of 0.01. Therefore, we have sufficient evidence to conclude that the population means for the two groups are not equal."
   ]
  },
  {
   "cell_type": "code",
   "execution_count": null,
   "id": "4b0c21c2-904b-413c-af16-eacb1db7995f",
   "metadata": {},
   "outputs": [],
   "source": []
  },
  {
   "cell_type": "markdown",
   "id": "8b34c55e-10a6-4bf4-b0bd-2157d11a878e",
   "metadata": {
    "tags": []
   },
   "source": [
    "## Q17. A marketing company wants to estimate the average number of ads watched by viewers during a TV program. They take a random sample of 50 viewers and find that the sample mean is 4 with a standard deviation of 1.5. Estimate the population mean with a 99% confidence interval."
   ]
  },
  {
   "cell_type": "markdown",
   "id": "6d518f54-04a8-4a9f-b756-66e1dcc60382",
   "metadata": {},
   "source": [
    "Ans:\n",
    "    \n",
    "To estimate the population mean number of ads watched by viewers during a TV program with a 99% confidence interval, we can use the following formula:\n",
    "\n",
    "CI = x̄ ± t*(s / sqrt(n))\n",
    "\n",
    "where:\n",
    "\n",
    "x̄ is the sample mean (4)\n",
    "\n",
    "s is the sample standard deviation (1.5)\n",
    "\n",
    "n is the sample size (50)\n",
    "\n",
    "t is the t-value from the t-distribution with (n - 1) degrees of freedom and a confidence level of 99%.\n",
    "\n",
    "From T-table ,the t-value for a 99% confidence level and 49 degrees of freedom (50 - 1) is approximately 2.68.\n",
    "\n",
    "Plugging in the values, we get:\n",
    "\n",
    "CI = 4 ± 2.68*(1.5 / sqrt(50))\n",
    "CI = (3.36, 4.64)\n",
    "\n",
    "Therefore, we can say with 99% confidence that the population mean number of ads watched by viewers during a TV program is between 3.36 and 4.64 "
   ]
  },
  {
   "cell_type": "code",
   "execution_count": null,
   "id": "4fd8188d-c562-4e69-9a69-5751c71e3afc",
   "metadata": {},
   "outputs": [],
   "source": []
  }
 ],
 "metadata": {
  "kernelspec": {
   "display_name": "Python 3 (ipykernel)",
   "language": "python",
   "name": "python3"
  },
  "language_info": {
   "codemirror_mode": {
    "name": "ipython",
    "version": 3
   },
   "file_extension": ".py",
   "mimetype": "text/x-python",
   "name": "python",
   "nbconvert_exporter": "python",
   "pygments_lexer": "ipython3",
   "version": "3.10.8"
  }
 },
 "nbformat": 4,
 "nbformat_minor": 5
}
