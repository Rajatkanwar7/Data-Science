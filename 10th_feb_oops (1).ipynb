{
 "cells": [
  {
   "cell_type": "markdown",
   "id": "3a33935f-f5de-43b7-acc5-584de47edad0",
   "metadata": {},
   "source": [
    "Q1. Which function is used to open a file? What are the different modes of opening a file? Explain each mode\n",
    "of file opening."
   ]
  },
  {
   "cell_type": "markdown",
   "id": "a9c3a86a-479b-4da6-a5f3-4c20d3636964",
   "metadata": {},
   "source": [
    "Ans:In Python, we use the open() method to open files.\n",
    "Different modes to open a file:\n",
    "1. r :\tOpen a file for reading. \n",
    "2. w\tOpen a file for writing. Creates a new         file if it does not exist or truncates\n",
    "        the file if it exists.\n",
    "3. x :\tOpen a file for exclusive creation.\n",
    "        If the file already exists, the\n",
    "        operation fails.\n",
    "4. a :\tOpen a file for appending at the end\n",
    "        of the file without truncating it.\n",
    "        Creates a new file if it does not             exist.\n",
    "5. t :\tOpen in text mode.\n",
    "6. b :\tOpen in binary mode.\n",
    "7. rb : It lets the user open the file for\n",
    "        reading in binary format.rb+’): It\n",
    "        lets the user open the file for\n",
    "        reading and writing in binary format.\n",
    "8. wb : It lets the user open the file for\n",
    "        writing in binary format. When a file\n",
    "        gets opened in this mode, there are\n",
    "        two things that can happen mostly. A\n",
    "        new file gets created if the file does\n",
    "        not exist. The content within the file\n",
    "        will get overwritten if the file\n",
    "        exists and has some data stored in it. "
   ]
  },
  {
   "cell_type": "code",
   "execution_count": null,
   "id": "41b01290-53e8-4471-94b1-a048fc76527a",
   "metadata": {},
   "outputs": [],
   "source": []
  },
  {
   "cell_type": "code",
   "execution_count": null,
   "id": "8b9919a5-20f9-481f-aca1-49ef97276982",
   "metadata": {},
   "outputs": [],
   "source": []
  },
  {
   "cell_type": "markdown",
   "id": "63874291-5625-49c6-85f4-09f901538a1a",
   "metadata": {},
   "source": [
    "Q2. Why close() function is used?\n",
    "Why is it important to close a file?"
   ]
  },
  {
   "cell_type": "markdown",
   "id": "6a4ff5d6-87fc-4580-9c72-db85923bcb72",
   "metadata": {},
   "source": [
    "Ans:The close() method closes an open file.\n",
    "It is important to close a file because:\n",
    "\n",
    "1.It can slow down your program. Too many things open, and thus more used space in the RAM, will impact performance.\n",
    "2.For the most part, many changes to files in python do not go into effect until after the file is closed, so if your script edits, leaves open, and reads a file, it won't see the edits.\n",
    "3.Theoretically,you could run in to limits of how many files you can have open.\n",
    "4.It is sloppy programming."
   ]
  },
  {
   "cell_type": "code",
   "execution_count": null,
   "id": "388c73cc-9e86-448c-8a1c-848390c21f94",
   "metadata": {},
   "outputs": [],
   "source": []
  },
  {
   "cell_type": "markdown",
   "id": "c8ff6a38-000f-4093-a503-21775dd1845b",
   "metadata": {},
   "source": [
    "Q3. Write a python program to create a text file. Write ‘I want to become a Data Scientist’ in that file. Then close the file. Open this file and read the content of the file."
   ]
  },
  {
   "cell_type": "code",
   "execution_count": 6,
   "id": "fb9b258b-a44b-485a-8a58-e184cc790209",
   "metadata": {},
   "outputs": [
    {
     "data": {
      "text/plain": [
       "'I want to become a data scientist'"
      ]
     },
     "execution_count": 6,
     "metadata": {},
     "output_type": "execute_result"
    }
   ],
   "source": [
    "#python program\n",
    "f = open(\"myfile.txt\",\"w\")\n",
    "f.write(\"I want to become a data scientist\")\n",
    "f.close()\n",
    "f = open(\"myfile.txt\",\"r\")\n",
    "f.read()"
   ]
  },
  {
   "cell_type": "code",
   "execution_count": 7,
   "id": "e6470640-bc23-4bbc-b4fb-1a497cc16a12",
   "metadata": {},
   "outputs": [],
   "source": [
    "f.close()"
   ]
  },
  {
   "cell_type": "code",
   "execution_count": null,
   "id": "8ebb5720-4636-45a4-87b1-c57f99cfac02",
   "metadata": {},
   "outputs": [],
   "source": []
  },
  {
   "cell_type": "markdown",
   "id": "b253c658-be29-47b5-b8a9-5f9ce86dbcff",
   "metadata": {},
   "source": [
    "Q4. Explain the following with python code: read(), readline() and readlines()."
   ]
  },
  {
   "cell_type": "code",
   "execution_count": null,
   "id": "34c8c034-7aa2-4071-9b48-f97e834ec7a1",
   "metadata": {},
   "outputs": [],
   "source": [
    "Ans: Using Read()\n",
    "\n",
    "The read() method returns the specified number of bytes from the file.\n",
    "Default is -1 which means the whole file."
   ]
  },
  {
   "cell_type": "code",
   "execution_count": 38,
   "id": "36309589-c791-4196-8c3e-f2430a79bed5",
   "metadata": {},
   "outputs": [
    {
     "data": {
      "text/plain": [
       "'this is a file to demonstrate read function\\n welcome to python Programming\\n Have a great day!'"
      ]
     },
     "execution_count": 38,
     "metadata": {},
     "output_type": "execute_result"
    }
   ],
   "source": [
    "f= open(\"myread.txt\",\"w\")\n",
    "f.write(\"this is a file to demonstrate read function\\n welcome to python Programming\\n Have a great day!\")\n",
    "f.close()\n",
    "f= open(\"myread.txt\",\"r\")\n",
    "f.read()\n"
   ]
  },
  {
   "cell_type": "code",
   "execution_count": 39,
   "id": "bb85e2c1-1be7-498c-81bc-eb0e972b076f",
   "metadata": {},
   "outputs": [],
   "source": [
    "f.close()"
   ]
  },
  {
   "cell_type": "markdown",
   "id": "62ee2815-583b-495f-b7b7-70bb7930c624",
   "metadata": {},
   "source": [
    "The readline() method returns one line from the file."
   ]
  },
  {
   "cell_type": "code",
   "execution_count": 34,
   "id": "4bb08770-3128-426a-98c5-966cc91c1f06",
   "metadata": {},
   "outputs": [
    {
     "data": {
      "text/plain": [
       "'this is a file to demonstrate read function\\n'"
      ]
     },
     "execution_count": 34,
     "metadata": {},
     "output_type": "execute_result"
    }
   ],
   "source": [
    "#Using readline method\n",
    "f= open(\"myread.txt\",\"r\")\n",
    "f.readline()"
   ]
  },
  {
   "cell_type": "code",
   "execution_count": 36,
   "id": "7908c393-1033-4683-8ddf-a7809da0066c",
   "metadata": {},
   "outputs": [],
   "source": [
    "f.close()"
   ]
  },
  {
   "cell_type": "markdown",
   "id": "1ee01972-d7fe-4dee-b7a4-41e10b624aa3",
   "metadata": {},
   "source": [
    "The readlines() method returns a list containing each line in the file as a list item."
   ]
  },
  {
   "cell_type": "code",
   "execution_count": 35,
   "id": "e3ea6049-7842-46cf-ac4f-077536912619",
   "metadata": {},
   "outputs": [
    {
     "data": {
      "text/plain": [
       "['this is a file to demonstrate read function\\n',\n",
       " ' welcome to python Programming\\n',\n",
       " ' Have a great day!']"
      ]
     },
     "execution_count": 35,
     "metadata": {},
     "output_type": "execute_result"
    }
   ],
   "source": [
    "#using readlines method\n",
    "f=open(\"myread.txt\",\"r\")\n",
    "f.readlines()"
   ]
  },
  {
   "cell_type": "code",
   "execution_count": 37,
   "id": "a35acf4a-6789-49d5-9f1a-10fc8d015f88",
   "metadata": {},
   "outputs": [],
   "source": [
    "f.close()"
   ]
  },
  {
   "cell_type": "code",
   "execution_count": null,
   "id": "95be84bf-e58e-4b25-994c-5fcbb5145c60",
   "metadata": {},
   "outputs": [],
   "source": []
  },
  {
   "cell_type": "markdown",
   "id": "f4dc2651-f4e2-4853-9e55-d2378a8599ff",
   "metadata": {},
   "source": [
    "Q5. Explain why with statement is used with open(). What is the advantage of using with statement and open() together?"
   ]
  },
  {
   "cell_type": "markdown",
   "id": "522f4b55-32dd-448e-8192-2cc0a21c349a",
   "metadata": {},
   "source": [
    "Ans:\n",
    "The with statement works with the open() function to open a file.\n",
    "Unlike open() where you have to close the file with the close() method, the with statement closes the file for you without you telling it to.\n",
    "Advantage of using with with open() function:\n",
    "1.with statement closes the file for you and you get to write less code.\n",
    "2.If the program runs into any exception inside the with block, the with open context in python closes the file before terminating the program. In this way the data inside the file remains safe even if the program is terminated abruptly."
   ]
  },
  {
   "cell_type": "code",
   "execution_count": null,
   "id": "6e2310fc-0b6a-46d4-a779-366fd0ce4b6f",
   "metadata": {},
   "outputs": [],
   "source": []
  },
  {
   "cell_type": "markdown",
   "id": "db3b8d4a-0388-4847-b4fb-c31021fe0941",
   "metadata": {},
   "source": [
    "Q6. Explain the write() and writelines() functions. Give a suitable example."
   ]
  },
  {
   "cell_type": "markdown",
   "id": "203195eb-a692-47ad-a4fe-8059d5205786",
   "metadata": {},
   "source": [
    "write() function:\n",
    "The write() method writes a specified text to the file. Where the specified text will be inserted depends on the file mode and stream position."
   ]
  },
  {
   "cell_type": "code",
   "execution_count": 27,
   "id": "6b6b0a19-a0b5-4aef-8ec2-b42248eeb859",
   "metadata": {},
   "outputs": [
    {
     "data": {
      "text/plain": [
       "'See you soon!See you soon!'"
      ]
     },
     "execution_count": 27,
     "metadata": {},
     "output_type": "execute_result"
    }
   ],
   "source": [
    "f = open(\"my2.txt\", \"a\")\n",
    "f.write(\"See you soon!\")\n",
    "f.close()\n",
    "f = open(\"my2.txt\", \"r\")\n",
    "f.read()"
   ]
  },
  {
   "cell_type": "code",
   "execution_count": 28,
   "id": "70e3f78d-c392-45ea-b07f-efa2c7fb09cc",
   "metadata": {},
   "outputs": [],
   "source": [
    "f.close()"
   ]
  },
  {
   "cell_type": "code",
   "execution_count": null,
   "id": "1938fc82-0c4e-4670-8b8e-467c8484e618",
   "metadata": {},
   "outputs": [],
   "source": [
    "writeline() :This function writes the content of a list to a file."
   ]
  },
  {
   "cell_type": "code",
   "execution_count": 33,
   "id": "37a49d9e-a7d3-4402-bae9-cc1eebfb894e",
   "metadata": {},
   "outputs": [
    {
     "name": "stdout",
     "output_type": "stream",
     "text": [
      "The content is written\n"
     ]
    }
   ],
   "source": [
    "file1 = open(\"name.txt\", \"w\") \n",
    "file1.writelines([\"kanwar\",\"2\",\"abc\",\"Rsk\"]) \n",
    "file1.close() \n",
    "print(\"The content is written\")"
   ]
  },
  {
   "cell_type": "code",
   "execution_count": null,
   "id": "ed81b38c-8bb8-4692-ae4d-2070549e0dd2",
   "metadata": {},
   "outputs": [],
   "source": [
    "\n"
   ]
  }
 ],
 "metadata": {
  "kernelspec": {
   "display_name": "Python 3 (ipykernel)",
   "language": "python",
   "name": "python3"
  },
  "language_info": {
   "codemirror_mode": {
    "name": "ipython",
    "version": 3
   },
   "file_extension": ".py",
   "mimetype": "text/x-python",
   "name": "python",
   "nbconvert_exporter": "python",
   "pygments_lexer": "ipython3",
   "version": "3.10.8"
  }
 },
 "nbformat": 4,
 "nbformat_minor": 5
}
