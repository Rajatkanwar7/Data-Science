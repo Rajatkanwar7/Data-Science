{
 "cells": [
  {
   "cell_type": "code",
   "execution_count": 10,
   "id": "700b9ff6-afbe-4403-8436-06c2cf816bf0",
   "metadata": {},
   "outputs": [
    {
     "name": "stdout",
     "output_type": "stream",
     "text": [
      "Valid Password\n",
      "Invalid Password\n",
      "Invalid Password\n",
      "Invalid Password\n"
     ]
    }
   ],
   "source": [
    "def password_check(string): \n",
    "    lower,upper,digit,special=0,0,0,0\n",
    "    if len(string)==10:\n",
    "        for i in string:\n",
    "            if (i.isupper()):\n",
    "                upper+=1\n",
    "            if (i.islower()):\n",
    "                lower+=1\n",
    "            if (i.isdigit()):\n",
    "                digit+=1\n",
    "            if (i=='@'or i=='#'or i=='d' or i=='£' or i=='_' or i=='&' or i=='*' or i=='~' or i=='€' or i=='¥' or i=='$' or i=='¢'or i=='%'):\n",
    "                special+=1\n",
    "    if(lower>=2 and upper>=2 and special>=3 and digit>=1 and lower+special+upper+digit==len(string)):\n",
    "        print(\"Valid Password\")\n",
    "    else:\n",
    "        print(\"Invalid Password\")          \n",
    "password_check('DB@#@abc12')\n",
    "password_check('DB@#@ABC12')\n",
    "password_check('bb@#@abc12')\n",
    "password_check('db123abc@1')"
   ]
  },
  {
   "cell_type": "code",
   "execution_count": null,
   "id": "c6d9161b-ec0a-4f25-974c-c518ac74da62",
   "metadata": {},
   "outputs": [],
   "source": []
  },
  {
   "cell_type": "markdown",
   "id": "1787ec41-2c15-42e6-8e19-d0f7effdcd9b",
   "metadata": {},
   "source": [
    "Q2. Using Lambda or map or filter or list comprehension."
   ]
  },
  {
   "cell_type": "code",
   "execution_count": 33,
   "id": "94714625-afd8-4559-84c5-059709724574",
   "metadata": {},
   "outputs": [
    {
     "name": "stdout",
     "output_type": "stream",
     "text": [
      "True\n"
     ]
    }
   ],
   "source": [
    "#Check if the string starts with a particular letter\n",
    "starts_with = lambda x: True if x.startswith('I') else False\n",
    "print(starts_with('India'))"
   ]
  },
  {
   "cell_type": "code",
   "execution_count": 67,
   "id": "e044d5cd-2d41-492e-9c8f-4fbaf52eafe6",
   "metadata": {},
   "outputs": [
    {
     "name": "stdout",
     "output_type": "stream",
     "text": [
      "False\n",
      "True\n"
     ]
    }
   ],
   "source": [
    "#check if string starts with particular letter\n",
    "start=lambda x: True if x[0]=='R' else False\n",
    "print(start(\"tsk\"))\n",
    "print(start(\"Rsk\"))"
   ]
  },
  {
   "cell_type": "code",
   "execution_count": null,
   "id": "6feac78d-7c2a-429f-ab0e-3c3a30cd93be",
   "metadata": {},
   "outputs": [],
   "source": []
  },
  {
   "cell_type": "code",
   "execution_count": 20,
   "id": "f50d356c-a057-41ea-a004-98456ad9ffb9",
   "metadata": {},
   "outputs": [
    {
     "name": "stdout",
     "output_type": "stream",
     "text": [
      "True\n",
      "False\n"
     ]
    }
   ],
   "source": [
    "#Check if the string is numeric\n",
    "str= lambda x:True if x.isnumeric() else False\n",
    "print(str('1234'))\n",
    "print(str('ABc123'))"
   ]
  },
  {
   "cell_type": "code",
   "execution_count": null,
   "id": "f00820e7-2603-4bc6-abec-09fa712269a5",
   "metadata": {},
   "outputs": [],
   "source": []
  },
  {
   "cell_type": "code",
   "execution_count": 3,
   "id": "e2036060-8ce9-462d-b170-77d8d82f512b",
   "metadata": {},
   "outputs": [
    {
     "name": "stdout",
     "output_type": "stream",
     "text": [
      "[('orange', 80), ('mango', 99), ('grapes', 1000)]\n"
     ]
    }
   ],
   "source": [
    "#Sort a list of tuples having fruit names and their quantity.\n",
    "\n",
    "a=[(\"mango\",99),(\"orange\",80), (\"grapes\", 1000)]\n",
    "newList = sorted(a, key = lambda x : x[1],reverse=False)\n",
    "print(newList)"
   ]
  },
  {
   "cell_type": "code",
   "execution_count": 1,
   "id": "f9f34d25-598e-430e-a9ea-865a580b7b45",
   "metadata": {},
   "outputs": [
    {
     "name": "stdout",
     "output_type": "stream",
     "text": [
      "[('grapes', 1000), ('mango', 99), ('orange', 80)]\n"
     ]
    }
   ],
   "source": [
    "#Sort a list of tuples having fruit names and their quantity.\n",
    "\n",
    "a=[(\"mango\",99),(\"orange\",80), (\"grapes\", 1000)]\n",
    "newList = sorted(a, key = lambda x : x[1],reverse=True)\n",
    "print(newList)"
   ]
  },
  {
   "cell_type": "code",
   "execution_count": null,
   "id": "3df98b6c-98db-4fc7-bb00-437690e711f2",
   "metadata": {},
   "outputs": [],
   "source": []
  },
  {
   "cell_type": "code",
   "execution_count": 23,
   "id": "05aea3da-4496-45d3-aee9-2298d6bf5c22",
   "metadata": {},
   "outputs": [
    {
     "name": "stdout",
     "output_type": "stream",
     "text": [
      "[1, 4, 9, 16, 25, 36, 49, 64, 81, 100]\n"
     ]
    }
   ],
   "source": [
    "#Find the squares of numbers from 1 to 10\n",
    "num=[1,2,3,4,5,6,7,8,9,10]\n",
    "product= list(map(lambda x: x**2,num))\n",
    "print(product)"
   ]
  },
  {
   "cell_type": "code",
   "execution_count": 31,
   "id": "e37d97fa-1062-43d1-bf9d-2a1226c7c6a7",
   "metadata": {},
   "outputs": [
    {
     "name": "stdout",
     "output_type": "stream",
     "text": [
      "[1, 4, 9, 16, 25, 36, 49, 64, 81, 100]\n"
     ]
    }
   ],
   "source": [
    "#find the square from 1 to 10\n",
    "result = [i*i for i in range(1,11)]\n",
    "print(result)"
   ]
  },
  {
   "cell_type": "code",
   "execution_count": null,
   "id": "97270c1c-199c-4e34-8607-7e2ca3a83049",
   "metadata": {},
   "outputs": [],
   "source": []
  },
  {
   "cell_type": "code",
   "execution_count": 26,
   "id": "135e9b4d-d36e-49cf-8275-ddde90d29d9f",
   "metadata": {},
   "outputs": [
    {
     "name": "stdout",
     "output_type": "stream",
     "text": [
      "[1.0, 1.2599210498948732, 1.4422495703074083, 1.5874010519681994, 1.7099759466766968, 1.8171205928321397, 1.912931182772389, 2.0, 2.080083823051904, 2.154434690031884]\n"
     ]
    }
   ],
   "source": [
    "#Find the cube root of numbers from 1 to 10\n",
    "\n",
    "num=[1,2,3,4,5,6,7,8,9,10]\n",
    "cube_root= list(map(lambda x: x**(1/3),num))\n",
    "print(cube_root)"
   ]
  },
  {
   "cell_type": "code",
   "execution_count": 32,
   "id": "34534b04-e595-4d07-8aec-aee9017307c8",
   "metadata": {},
   "outputs": [
    {
     "name": "stdout",
     "output_type": "stream",
     "text": [
      "[1.0, 1.2599210498948732, 1.4422495703074083, 1.5874010519681994, 1.7099759466766968, 1.8171205928321397, 1.912931182772389, 2.0, 2.080083823051904, 2.154434690031884]\n"
     ]
    }
   ],
   "source": [
    "#find the cube root from 1 to 10\n",
    "result = [i**(1/3) for i in range(1,11)]\n",
    "print(result)"
   ]
  },
  {
   "cell_type": "code",
   "execution_count": null,
   "id": "b5ce39e1-9e23-47a6-84ca-955e2ca14326",
   "metadata": {},
   "outputs": [],
   "source": []
  },
  {
   "cell_type": "code",
   "execution_count": 63,
   "id": "864e5dec-2f96-4413-b3eb-25ca0a463d84",
   "metadata": {},
   "outputs": [
    {
     "data": {
      "text/plain": [
       "'Even'"
      ]
     },
     "execution_count": 63,
     "metadata": {},
     "output_type": "execute_result"
    }
   ],
   "source": [
    "#find Even and odd number using lambda function\n",
    "check=lambda num:\"Even\" if num%2==0 else \"Not Even\"\n",
    "check(4)"
   ]
  },
  {
   "cell_type": "code",
   "execution_count": 64,
   "id": "2b55fe25-53cc-411d-bd6d-6ec948aea26a",
   "metadata": {},
   "outputs": [
    {
     "data": {
      "text/plain": [
       "'Not Even'"
      ]
     },
     "execution_count": 64,
     "metadata": {},
     "output_type": "execute_result"
    }
   ],
   "source": [
    "check(5)"
   ]
  },
  {
   "cell_type": "code",
   "execution_count": null,
   "id": "231c8c53-5b15-46d1-800f-b0df3908e401",
   "metadata": {},
   "outputs": [],
   "source": []
  },
  {
   "cell_type": "code",
   "execution_count": 53,
   "id": "fa0927ea-d402-4533-ae97-1f9bcb1a3049",
   "metadata": {},
   "outputs": [
    {
     "name": "stdout",
     "output_type": "stream",
     "text": [
      "[1, 3, 5, 7, 9]\n"
     ]
    }
   ],
   "source": [
    "#Filter odd numbers from the given list.\n",
    "numbers = [1,2,3,4,5,6,7,8,9,10]\n",
    "oddnumbers= list(filter(lambda x: x%2 != 0, numbers))\n",
    "print(oddnumbers)"
   ]
  },
  {
   "cell_type": "code",
   "execution_count": null,
   "id": "4a3764fa-54c6-49cd-8d08-180695a41a3e",
   "metadata": {},
   "outputs": [],
   "source": []
  },
  {
   "cell_type": "code",
   "execution_count": 68,
   "id": "9a3dd32f-84bb-4560-bafd-368e6185e8f6",
   "metadata": {},
   "outputs": [
    {
     "name": "stdout",
     "output_type": "stream",
     "text": [
      "Positive number list [1, 2, 3, 4, 5, 6]\n",
      "Negative number list [-1, -2, -3, -4, -5]\n"
     ]
    }
   ],
   "source": [
    "#Sort a list into positive and negative numbers\n",
    "\n",
    "list1=[1,2,3,4,5,6,-1,-2,-3,-4,-5,0]\n",
    "pos_num= list(filter(lambda x: x>0,list1))\n",
    "neg_num= list(filter(lambda x:x<0,list1))\n",
    "print(\"Positive number list\",pos_num)\n",
    "print(\"Negative number list\",neg_num)"
   ]
  },
  {
   "cell_type": "code",
   "execution_count": null,
   "id": "7df32688-a44f-4ba9-a0c4-31c7e54818b9",
   "metadata": {},
   "outputs": [],
   "source": []
  }
 ],
 "metadata": {
  "kernelspec": {
   "display_name": "Python 3 (ipykernel)",
   "language": "python",
   "name": "python3"
  },
  "language_info": {
   "codemirror_mode": {
    "name": "ipython",
    "version": 3
   },
   "file_extension": ".py",
   "mimetype": "text/x-python",
   "name": "python",
   "nbconvert_exporter": "python",
   "pygments_lexer": "ipython3",
   "version": "3.10.8"
  }
 },
 "nbformat": 4,
 "nbformat_minor": 5
}
