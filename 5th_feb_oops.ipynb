{
 "cells": [
  {
   "cell_type": "markdown",
   "id": "84cf38cf-0b6c-4119-aac5-47b5f06aa5e3",
   "metadata": {},
   "source": [
    "Q1.Explain Class and Object with respect to Object oriented programming.Give an example"
   ]
  },
  {
   "cell_type": "markdown",
   "id": "ac131456-7961-4eac-ba74-2595f5f8a6fb",
   "metadata": {
    "tags": []
   },
   "source": [
    "Ans:\n",
    "    Class: The class is a user-defined data structure that binds the data members and methods into a single unit. Class is a blueprint or code template for object creation.\n"
   ]
  },
  {
   "cell_type": "markdown",
   "id": "997371b0-566b-4bbe-9c6f-21ccdc7fe67b",
   "metadata": {},
   "source": [
    "Object: An object is an instance of a class. It is a collection of attributes (variables) and methods. We use the object of a class to perform actions"
   ]
  },
  {
   "cell_type": "markdown",
   "id": "33c25d9c-0b0e-43dc-b35c-bc49a08d1040",
   "metadata": {},
   "source": [
    "Objects have two characteristics: They have states and behaviors. Attributes represent its state, and methods represent its behavior.\n",
    "In short, Every object has the following property.\n",
    "Identity: Every object must be uniquely identified.\n",
    "State: An object has an attribute that represents a state of an object, and it also reflects the property of an object.\n",
    "Behavior: An object has methods that represent its behavior"
   ]
  },
  {
   "cell_type": "markdown",
   "id": "f8c3207a-9f21-4e8b-ab20-eb9c91c0a21a",
   "metadata": {},
   "source": [
    "Real life Example:"
   ]
  },
  {
   "cell_type": "markdown",
   "id": "eba456c6-dad6-455b-abf0-aeb9af0ec1e5",
   "metadata": {},
   "source": [
    "A real-life example of class and objects.\n",
    "Class: Person\n",
    "State: Name, Sex, Profession\n",
    "Behavior: Working, Study\n",
    "Using the above class, we can create multiple objects that depict different states and behavior.\n",
    "Object 1: rajat\n",
    "State:\n",
    "Name: rajat\n",
    "Sex: Male\n",
    "Profession: Software Engineer\n",
    "Behavior:\n",
    "Working: She is working as a software developer at ABC Company\n",
    "Study: She studies 2 hours a day \n",
    "Syntax:"
   ]
  },
  {
   "cell_type": "code",
   "execution_count": 5,
   "id": "a2412784-28bc-4e35-ae81-88e570d462d2",
   "metadata": {},
   "outputs": [
    {
     "name": "stdout",
     "output_type": "stream",
     "text": [
      "Name: Rajat Sex: Male Profession: Software Engineer.\n",
      "Rajat working as a Software Engineer.\n"
     ]
    }
   ],
   "source": [
    "class Person:\n",
    "    def __init__(fury, name, sex, profession):\n",
    "        fury.name = name\n",
    "        fury.sex = sex\n",
    "        fury.profession = profession\n",
    "    def show(fury):\n",
    "        print('Name:', fury.name, 'Sex:', fury.sex, 'Profession:', fury.profession) \n",
    "    def work(fury):\n",
    "        print(fury.name, 'working as a', fury.profession)\n",
    "rajat = Person('Rajat', 'Male', 'Software Engineer.')\n",
    "rajat.show()\n",
    "rajat.work()"
   ]
  },
  {
   "cell_type": "code",
   "execution_count": null,
   "id": "78eaa422-c3de-49db-ac07-cbdf91b1bb9e",
   "metadata": {},
   "outputs": [],
   "source": []
  },
  {
   "cell_type": "markdown",
   "id": "0f08f5ac-b29e-4687-a73b-a31fb9e736ae",
   "metadata": {},
   "source": [
    "Q2.Name the four pillars of oops."
   ]
  },
  {
   "cell_type": "markdown",
   "id": "28b43c3d-7fb7-441f-8236-d47f75ae7622",
   "metadata": {},
   "source": [
    "Ans:There are four pillars:\n",
    "1.Encapsulation:To enclose something in or as if in a capsule.\n",
    "2.Polymorphism:The condition of occurrence in several different forms.\n",
    "3.Inheritance:To receive a quality, characteristic, etc., from your parents or family.inheritance allows us to define a class that inherits methods and properties from another class.\n",
    "4.Abstraction:A general idea rather than one that relates to a particular object, person, or situation."
   ]
  },
  {
   "cell_type": "code",
   "execution_count": null,
   "id": "fd46e99c-d21b-4788-9e03-210945f29773",
   "metadata": {},
   "outputs": [],
   "source": []
  },
  {
   "cell_type": "markdown",
   "id": "87d060ce-716e-47b7-853c-a5f683ab4444",
   "metadata": {},
   "source": [
    "Q3. Explain why the __init__() function is used. Give a suitable example."
   ]
  },
  {
   "cell_type": "markdown",
   "id": "d198dcc7-bec1-4ac8-b1ab-a889c69f3331",
   "metadata": {},
   "source": [
    "Ans:The __init__ function is a constructor method which is used in object-oriented programming to declare, initialize and manipulate the object, and this method is called automatically when an object of the class is created.\n",
    "Example:"
   ]
  },
  {
   "cell_type": "code",
   "execution_count": 7,
   "id": "80ca2dd2-c0e8-40d9-b7cd-c674d29d31f7",
   "metadata": {},
   "outputs": [
    {
     "name": "stdout",
     "output_type": "stream",
     "text": [
      "Constructor method has been called.\n"
     ]
    }
   ],
   "source": [
    "class TestClass:\n",
    "    def __init__(self):\n",
    "        print('Constructor method has been called.')\n",
    "object = TestClass()"
   ]
  },
  {
   "cell_type": "code",
   "execution_count": null,
   "id": "2391a2cc-a532-4811-acf8-f5f90a96666e",
   "metadata": {},
   "outputs": [],
   "source": []
  },
  {
   "cell_type": "markdown",
   "id": "c5e2067d-9b63-437d-ae12-b60eb3cd7efa",
   "metadata": {},
   "source": [
    "Q4.Why self is used in oop?"
   ]
  },
  {
   "cell_type": "markdown",
   "id": "c1af3613-e203-4da8-a13d-2ecc2c638637",
   "metadata": {},
   "source": [
    "Ans:The self parameter is a reference to the current instance of the class, and is used to access variables that belongs to the class."
   ]
  },
  {
   "cell_type": "code",
   "execution_count": null,
   "id": "952c08db-23c6-4d03-a455-a431e57d4348",
   "metadata": {},
   "outputs": [],
   "source": []
  },
  {
   "cell_type": "markdown",
   "id": "03128bc8-1893-4618-9236-3ed02e2bd5db",
   "metadata": {},
   "source": [
    "Q5.What is inheritance? Give an example for each type of inheritance."
   ]
  },
  {
   "cell_type": "markdown",
   "id": "14bd88d8-a5dc-4ba4-a345-3d08951d346d",
   "metadata": {},
   "source": [
    "Ans:It is the concept of deriving a new class from an existing class."
   ]
  },
  {
   "cell_type": "markdown",
   "id": "17dbdef8-5394-477d-8370-9ca4b76e3f2c",
   "metadata": {},
   "source": [
    "Types of inheritance \n",
    "1). Single inheritance\n",
    "2). Multiple inheritances\n",
    "3). Multilevel inheritance\n",
    "4). Hierarchical inheritance\n",
    "5). Hybrid inheritance"
   ]
  },
  {
   "cell_type": "markdown",
   "id": "5072196e-8c12-4496-bb8a-e96e7f7a0307",
   "metadata": {},
   "source": [
    "1.Single inheritance:When child class is derived from only one parent class. Example:\n"
   ]
  },
  {
   "cell_type": "code",
   "execution_count": 16,
   "id": "53efebb0-45ba-478e-a1fa-96ce5e7a05ac",
   "metadata": {},
   "outputs": [
    {
     "name": "stdout",
     "output_type": "stream",
     "text": [
      "Amazon is an Online Ecommerce Store\n",
      "BMW is a Car brand\n"
     ]
    }
   ],
   "source": [
    "class Brands:           \n",
    "    brand_name_1 = \"Amazon\"\n",
    "    brand_name_2 = \"BMW\"\n",
    "class Products(Brands): \n",
    "    prod_1 = \"Online Ecommerce Store\"\n",
    "    prod_2 = \"Car brand\"\n",
    "    \n",
    "obj_1 = Products()\n",
    "print(obj_1.brand_name_1+\" is an \"+obj_1.prod_1)\n",
    "print(obj_1.brand_name_2+\" is a \"+obj_1.prod_2)\n"
   ]
  },
  {
   "cell_type": "code",
   "execution_count": 31,
   "id": "11c36fca-c9a2-4819-8678-ec604d7c1a30",
   "metadata": {},
   "outputs": [
    {
     "name": "stdout",
     "output_type": "stream",
     "text": [
      "Amazon is an Online Ecommerce Store\n",
      "BMW is an Car brand\n"
     ]
    }
   ],
   "source": [
    "##2.Multiple Inheritance: When child class is derived or inherited from more than one parent class. Example:\n",
    "\n",
    "class Brands:           \n",
    "    brand_name_1 = \"Amazon\"\n",
    "    brand_name_2 = \"BMW\"\n",
    "class Products: \n",
    "    prod_1 = \"Online Ecommerce Store\"\n",
    "    prod_2 = \"Car brand\"\n",
    "class Popularity(Brands,Products):\n",
    "    prod_1_popularity = '100'\n",
    "    prod_2_popularity = '70'\n",
    "obj_1 = Popularity()        \n",
    "print(obj_1.brand_name_1+\" is an \"+obj_1.prod_1)\n",
    "print(obj_1.brand_name_2+\" is an \"+obj_1.prod_2) \n"
   ]
  },
  {
   "cell_type": "markdown",
   "id": "a857e83f-3dd2-407a-b210-c4f784ed6ff2",
   "metadata": {
    "tags": []
   },
   "source": [
    "3.Multilevel Inheritance: In multilevel inheritance, we have one parent class and child class that is derived or inherited from that parent class"
   ]
  },
  {
   "cell_type": "code",
   "execution_count": 30,
   "id": "cb4e3263-fafd-4a7a-8acf-fd901f418fdb",
   "metadata": {},
   "outputs": [
    {
     "name": "stdout",
     "output_type": "stream",
     "text": [
      "Amazon is an Online Ecommerce Store of popularity 100\n",
      "BMW is an Car brand of popularity 70\n"
     ]
    }
   ],
   "source": [
    "class Brands:           \n",
    "    brand_name_1 = \"Amazon\"\n",
    "    brand_name_2 = \"BMW\"\n",
    "class Products: \n",
    "    prod_1 = \"Online Ecommerce Store\"\n",
    "    prod_2 = \"Car brand\"\n",
    "class Popularity(Brands,Products):\n",
    "    prod_1_popularity = 100\n",
    "    prod_2_popularity = 70\n",
    "obj_1 = Popularity()        \n",
    "print(obj_1.brand_name_1+\" is an \"+obj_1.prod_1+\" of popularity \"+str(obj_1.prod_1_popularity))\n",
    "print(obj_1.brand_name_2+\" is an \"+obj_1.prod_2+\" of popularity \"+str(obj_1.prod_2_popularity))\n"
   ]
  },
  {
   "cell_type": "markdown",
   "id": "75df3802-ae20-4de7-99a3-d7a59accb2ea",
   "metadata": {},
   "source": [
    "4.Hierarchical inheritance: When we derive or inherit more than one child class from one(same) parent class. Then this type of inheritance is called hierarchical inheritance. Example:"
   ]
  },
  {
   "cell_type": "code",
   "execution_count": 38,
   "id": "ba9e6bcb-8c53-4467-8d0e-8104f46e9a01",
   "metadata": {},
   "outputs": [
    {
     "name": "stdout",
     "output_type": "stream",
     "text": [
      "Amazon is an Online Ecommerce Store\n",
      "BMW is an Car Brand\n"
     ]
    }
   ],
   "source": [
    "class Brands:                \n",
    "    brand_name_1 = \"Amazon\"\n",
    "    brand_name_2 = \"BMW\"\n",
    "    \n",
    "class Products(Brands):      \n",
    "    prod_1 = \"Online Ecommerce Store\"\n",
    "    prod_2 = \"Car Brand\"\n",
    "class Popularity(Brands):        \n",
    "    prod_1_popularity = 100\n",
    "    prod_2_popularity = 70\n",
    "class Value(Brands):\n",
    "    prod_1_value = \"Excellent Value\"\n",
    "    prod_2_value = \"Better Value\"\n",
    "    \n",
    "obj_1 = Products()\n",
    "obj_2 = Popularity()\n",
    "obj_3 = Value()\n",
    "print(obj_1.brand_name_1+\" is an \"+obj_1.prod_1)\n",
    "print(obj_1.brand_name_2+\" is an \"+obj_1.prod_2)\n"
   ]
  },
  {
   "cell_type": "markdown",
   "id": "0fca7654-52a1-47d9-971d-4be4d6055d3f",
   "metadata": {},
   "source": [
    "5.Hybrid inheritance satisfies more than one form of inheritance ie. It may be consists of all types of inheritance that we have done above."
   ]
  },
  {
   "cell_type": "code",
   "execution_count": 39,
   "id": "4738caa7-fd4d-4795-b997-2547a8c70d23",
   "metadata": {},
   "outputs": [
    {
     "name": "stdout",
     "output_type": "stream",
     "text": [
      "This function is in school.\n",
      "This function is in student 1. \n"
     ]
    }
   ],
   "source": [
    "#exMple\n",
    "class School:\n",
    "    def func1(self):\n",
    "        print(\"This function is in school.\")\n",
    "class Student1(School):\n",
    "    def func2(self):\n",
    "        print(\"This function is in student 1. \")\n",
    "class Student2(School):\n",
    "    def func3(self):\n",
    "        print(\"This function is in student 2.\")\n",
    "class Student3(Student1, School):\n",
    "    def func4(self):\n",
    "        print(\"This function is in student 3.\")\n",
    "object = Student3()\n",
    "object.func1()\n",
    "object.func2()"
   ]
  },
  {
   "cell_type": "code",
   "execution_count": null,
   "id": "b6d2605b-36fb-4fec-b6bb-1246dff1f34f",
   "metadata": {},
   "outputs": [],
   "source": []
  }
 ],
 "metadata": {
  "kernelspec": {
   "display_name": "Python 3 (ipykernel)",
   "language": "python",
   "name": "python3"
  },
  "language_info": {
   "codemirror_mode": {
    "name": "ipython",
    "version": 3
   },
   "file_extension": ".py",
   "mimetype": "text/x-python",
   "name": "python",
   "nbconvert_exporter": "python",
   "pygments_lexer": "ipython3",
   "version": "3.10.8"
  }
 },
 "nbformat": 4,
 "nbformat_minor": 5
}
