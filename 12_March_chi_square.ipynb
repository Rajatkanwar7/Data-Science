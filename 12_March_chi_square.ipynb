{
 "cells": [
  {
   "cell_type": "markdown",
   "id": "af644b0a-9e9b-4860-a03c-bd2a51e21ca1",
   "metadata": {},
   "source": [
    "## Q1. Calculate the 95% confidence interval for a sample of data with a mean of 50 and a standard deviation of 5 using Python. Interpret the results."
   ]
  },
  {
   "cell_type": "code",
   "execution_count": 9,
   "id": "9b030c03-12b8-48de-a3fd-31d241242a1e",
   "metadata": {},
   "outputs": [
    {
     "name": "stdout",
     "output_type": "stream",
     "text": [
      "95% Confidence Interval:  (48.73484868811834, 51.26515131188166)\n"
     ]
    }
   ],
   "source": [
    "import scipy.stats as stats\n",
    "sample_mean = 50\n",
    "sample_std = 5\n",
    "sample_size = 60 # assuming a sample size of 60\n",
    "conf_interval = stats.norm.interval(0.95, loc=sample_mean, scale=sample_std / (sample_size**0.5))\n",
    "print(\"95% Confidence Interval: \", conf_interval)\n"
   ]
  },
  {
   "cell_type": "markdown",
   "id": "0d3a5ddb-1241-4db2-ba38-e3c164acf9c7",
   "metadata": {},
   "source": [
    "Interpretation:\n",
    "\n",
    "The 95% confidence interval calculated from the sample data with a mean of 50 and a standard deviation of 5 is (48.73, 51.26). This means that if we were to repeat the sampling process many times and calculate the confidence interval for each sample, we would expect 95% of the intervals to contain the true population mean. In other words, we are 95% confident that the true population mean falls between 48.73 and 51.26."
   ]
  },
  {
   "cell_type": "code",
   "execution_count": null,
   "id": "8c679d10-b4d6-4cde-8643-6615da493927",
   "metadata": {},
   "outputs": [],
   "source": []
  },
  {
   "cell_type": "markdown",
   "id": "f101b4a3-9f04-442c-8ddb-6044a06f2da9",
   "metadata": {
    "tags": []
   },
   "source": [
    "## Q2. Conduct a chi-square goodness of fit test to determine if the distribution of colors of M&Ms in a bag matches the expected distribution of 20% blue, 20% orange, 20% green, 10% yellow, 10% red, and 20% brown. Use Python to perform the test with a significance level of 0.05."
   ]
  },
  {
   "cell_type": "code",
   "execution_count": 18,
   "id": "6f9f9aab-a150-4df0-bf38-644d1021fe82",
   "metadata": {},
   "outputs": [
    {
     "name": "stdout",
     "output_type": "stream",
     "text": [
      "Accept null hypothesis\n"
     ]
    }
   ],
   "source": [
    "import numpy as np\n",
    "import scipy.stats as stat\n",
    "# observed frequencies of colors in a bag of M&Ms\n",
    "observed = np.array([24, 18, 20, 11, 12, 15]) \n",
    "# expected frequencies of colors in a bag of M&Ms based on the given distribution\n",
    "expected = np.array([0.2, 0.2, 0.2, 0.1, 0.1, 0.2]) * sum(observed) \n",
    "# calculate the chi-square test statistic and p-value\n",
    "statistic, p_value = chisquare(observed, f_exp=expected)\n",
    "\n",
    "#print(\"Chi-square test statistic: \", statistic)\n",
    "#print(\"p-value: \", p_value)\n",
    "\n",
    "#calculate critical value\n",
    "significance= 0.05\n",
    "dof = len(observed)-1\n",
    "critical_value= stat.chi2.ppf(1-significance,dof)\n",
    "\n",
    "if statistic > critical_value:\n",
    "    print(\"Reject null hypothesis\")\n",
    "else:\n",
    "    print(\"Accept null hypothesis\")\n"
   ]
  },
  {
   "cell_type": "markdown",
   "id": "64958c38-6671-468e-9378-42fcbfb24950",
   "metadata": {},
   "source": [
    "Interpretation:\n",
    "\n",
    "Here critical value is greater than chisquare test value. Therefore, we fail to reject the null hypothesis that the distribution of colors of M&Ms in the bag matches the expected distribution. In other words, there is not enough evidence to suggest that the observed frequencies significantly differ from the expected frequencies."
   ]
  },
  {
   "cell_type": "code",
   "execution_count": null,
   "id": "e80ce671-f609-4d97-876d-40544b34a058",
   "metadata": {},
   "outputs": [],
   "source": []
  },
  {
   "cell_type": "markdown",
   "id": "c1f363f1-94f3-4c92-9fb2-7f18c8960c23",
   "metadata": {
    "tags": []
   },
   "source": [
    "## Q3. Use Python to calculate the chi-square statistic and p-value for a contingency table with the following data:Interpret the results of the test.\n",
    "\n",
    "   GroupA  GroupB\n",
    "\n",
    "Outcome1    20      15\n",
    "\n",
    "Outcome2    10      25\n",
    "\n",
    "Outcome3     15      20\n"
   ]
  },
  {
   "cell_type": "code",
   "execution_count": 2,
   "id": "1f012e22-0569-4bce-acca-192435cf2d6e",
   "metadata": {},
   "outputs": [
    {
     "name": "stdout",
     "output_type": "stream",
     "text": [
      "Chi-square statistic: 5.83\n",
      "P-value: 0.0541\n",
      "Degrees of freedom: 2\n",
      "Expected frequencies: \n",
      "[[15. 20.]\n",
      " [15. 20.]\n",
      " [15. 20.]]\n"
     ]
    }
   ],
   "source": [
    "import numpy as np\n",
    "from scipy.stats import chi2_contingency\n",
    "# contingency table\n",
    "observed = np.array([[20, 15], [10, 25], [15, 20]])\n",
    "# perform chi-square test\n",
    "chi2, p, dof, expected = chi2_contingency(observed)\n",
    "# print results\n",
    "print(\"Chi-square statistic: {:.2f}\".format(chi2))\n",
    "print(\"P-value: {:.4f}\".format(p))\n",
    "print(\"Degrees of freedom: {}\".format(dof))\n",
    "print(\"Expected frequencies: \\n{}\".format(expected))"
   ]
  },
  {
   "cell_type": "markdown",
   "id": "1802953d-e779-4986-979b-45a40c9a88f6",
   "metadata": {},
   "source": [
    "Interpretation :\n",
    "The output shows that the chi-square statistic is 5.83, the p-value is 0.0541, and the degrees of freedom are 2. Since the p-value is greater than the significance level of 0.05, we fail to reject the null hypothesis. Therefore, we can conclude that there is not enough evidence to suggest that the distribution of outcomes differs between Group A and Group B at a significance level of 0.05."
   ]
  },
  {
   "cell_type": "code",
   "execution_count": null,
   "id": "8332d231-6a31-45e0-ae7d-16b859d39848",
   "metadata": {},
   "outputs": [],
   "source": []
  },
  {
   "cell_type": "markdown",
   "id": "ab66d49c-2fb5-4134-b0bb-eeda0ef86983",
   "metadata": {
    "tags": []
   },
   "source": [
    "## Q4. A study of the prevalence of smoking in a population of 500 individuals found that 60 individuals smoked. Use Python to calculate the 95% confidence interval for the true proportion of individuals in the population who smoke."
   ]
  },
  {
   "cell_type": "code",
   "execution_count": 1,
   "id": "79b1f9c1-4809-40e3-b9f3-a8ac29a90534",
   "metadata": {},
   "outputs": [
    {
     "name": "stdout",
     "output_type": "stream",
     "text": [
      "95% confidence interval: (0.0944, 0.1514)\n"
     ]
    }
   ],
   "source": [
    "from statsmodels.stats.proportion import proportion_confint\n",
    "# Sample size and number of successes\n",
    "n = 500\n",
    "p = 60/n\n",
    "# Calculate the confidence interval\n",
    "ci = proportion_confint(p * n, n, alpha=0.05, method='wilson')\n",
    "# Print the confidence interval\n",
    "print(\"95% confidence interval: ({:.4f}, {:.4f})\".format(ci[0], ci[1]))\n"
   ]
  },
  {
   "cell_type": "code",
   "execution_count": null,
   "id": "8be13070-eb30-43f8-a6ce-c485b243e2ea",
   "metadata": {},
   "outputs": [],
   "source": []
  },
  {
   "cell_type": "markdown",
   "id": "ad792379-39ce-4f12-a9b8-5150b7214419",
   "metadata": {},
   "source": [
    "## Q5. Calculate the 90% confidence interval for a sample of data with a mean of 75 and a standard deviation of 12 using Python. Interpret the results."
   ]
  },
  {
   "cell_type": "code",
   "execution_count": 20,
   "id": "40f0dd96-59b3-4fc0-8598-cacca6cb360a",
   "metadata": {},
   "outputs": [
    {
     "name": "stdout",
     "output_type": "stream",
     "text": [
      "90% confidence interval: (73.0262, 76.9738)\n"
     ]
    }
   ],
   "source": [
    "import scipy.stats as stats\n",
    "# Sample size and sample mean\n",
    "n = 100\n",
    "x_bar = 75\n",
    "# Standard error\n",
    "se = 12 / (n ** 0.5)\n",
    "# Calculate the confidence interval\n",
    "ci = stats.norm.interval(0.9, loc=x_bar, scale=se)\n",
    "# Print the confidence interval\n",
    "print(\"90% confidence interval: ({:.4f}, {:.4f})\".format(ci[0], ci[1]))\n"
   ]
  },
  {
   "cell_type": "markdown",
   "id": "8d2d6df1-98b6-43c7-8f4a-9a3caeef1826",
   "metadata": {},
   "source": [
    "The 90% confidence interval for the true population mean is between 73.02 and 76.97. This means that if we were to repeat our sampling process many times, 90% of the resulting confidence intervals would contain the true population mean. Alternatively, we can say that we can be 90% confident that the true population mean lies within this interval."
   ]
  },
  {
   "cell_type": "code",
   "execution_count": null,
   "id": "fa1ab20a-e425-450c-8f96-403348e3493a",
   "metadata": {},
   "outputs": [],
   "source": []
  },
  {
   "cell_type": "markdown",
   "id": "62cf6887-74a2-446f-a35a-cff4f75c396c",
   "metadata": {},
   "source": [
    "## Q6. Use Python to plot the chi-square distribution with 10 degrees of freedom. Label the axes and shade the area corresponding to a chi-square statistic of 15."
   ]
  },
  {
   "cell_type": "code",
   "execution_count": 24,
   "id": "6eae4175-5fdf-45be-b136-42851701526e",
   "metadata": {},
   "outputs": [
    {
     "data": {
      "image/png": "[encoded data removed]",
      "text/plain": [
       "<Figure size 640x480 with 1 Axes>"
      ]
     },
     "metadata": {},
     "output_type": "display_data"
    }
   ],
   "source": [
    "import numpy as np\n",
    "import scipy.stats as stats\n",
    "import matplotlib.pyplot as plt\n",
    "# Degrees of freedom\n",
    "df = 10\n",
    "# Create a range of values for the x-axis\n",
    "x = np.linspace(0, 30, 1000)\n",
    "# Calculate the chi-square distribution for the given degrees of freedom\n",
    "chi2 = stats.chi2.pdf(x, df)\n",
    "# Create a plot\n",
    "plt.plot(x, chi2, label=\"chi-square distribution with {} df\".format(df))\n",
    "# Shade the area corresponding to a chi-square statistic of 15\n",
    "x_shade = np.linspace(15, 30, 100)\n",
    "y_shade = stats.chi2.pdf(x_shade, df)\n",
    "plt.fill_between(x_shade, y_shade, color='blue', alpha=0.2, label=\"area of chi-square stat = 15\")\n",
    "# Add axis labels and title\n",
    "plt.xlabel('chi-square statistic')\n",
    "plt.ylabel('probability density')\n",
    "plt.title('Chi-square distribution')\n",
    "# Add a legend\n",
    "plt.legend()\n",
    "# Display the plot\n",
    "plt.show()\n"
   ]
  },
  {
   "cell_type": "code",
   "execution_count": null,
   "id": "f359583a-052b-43cf-b70e-1768c28ee693",
   "metadata": {},
   "outputs": [],
   "source": []
  },
  {
   "cell_type": "markdown",
   "id": "62d9c53e-6347-4464-a6cf-7dddc318830c",
   "metadata": {},
   "source": [
    "## Q7. A random sample of 1000 people was asked if they preferred Coke or Pepsi. Of the sample, 520 preferred Coke. Calculate a 99% confidence interval for the true proportion of people in the population who prefer Coke."
   ]
  },
  {
   "cell_type": "markdown",
   "id": "1e0ae085-1c19-443f-b27c-4e32bfaef4d3",
   "metadata": {
    "jp-MarkdownHeadingCollapsed": true,
    "tags": []
   },
   "source": [
    "Ans:\n",
    "\n",
    "To calculate a 99% confidence interval for the true proportion of people in the population who prefer Coke, given a random sample of 1000 people, with 520 preferring Coke, we can use the following formula:\n",
    "\n",
    "CI = (p̂ - z*SE, p̂ + z*SE)\n",
    "\n",
    "Where p̂ is the sample proportion of people who prefer Coke, z is the z-score for the 99% confidence level (which is approximately 2.576), and SE is the standard error of the sample proportion, which can be calculated as:\n",
    "\n",
    "SE = sqrt((p̂ * (1 - p̂)) / n)\n",
    "\n",
    "where n is the sample size."
   ]
  },
  {
   "cell_type": "code",
   "execution_count": 26,
   "id": "9881c095-25ba-41d8-983b-c4481fad7a1a",
   "metadata": {},
   "outputs": [
    {
     "name": "stdout",
     "output_type": "stream",
     "text": [
      "99% confidence interval: (0.4793, 0.5607)\n"
     ]
    }
   ],
   "source": [
    "import math\n",
    "# Sample size and proportion\n",
    "n = 1000\n",
    "p = 520 / n\n",
    "# Calculate standard error and margin of error\n",
    "se = math.sqrt((p * (1 - p)) / n)\n",
    "z = 2.576 # z-score for 99% confidence level\n",
    "margin_of_error = z * se\n",
    "# Calculate the confidence interval\n",
    "ci = (p - margin_of_error, p + margin_of_error)\n",
    "# Print the confidence interval\n",
    "print(\"99% confidence interval: ({:.4f}, {:.4f})\".format(ci[0], ci[1]))\n"
   ]
  },
  {
   "cell_type": "markdown",
   "id": "28cf49f2-59f2-4906-b38d-965fd5587c94",
   "metadata": {
    "tags": []
   },
   "source": [
    "Therefore, we can say with 99% confidence that the true proportion of people in the population who prefer Coke is between 0.4793 and 0.5607."
   ]
  },
  {
   "cell_type": "code",
   "execution_count": null,
   "id": "44a67edb-b7ec-4131-bb42-fb8d5ed11a35",
   "metadata": {},
   "outputs": [],
   "source": []
  },
  {
   "cell_type": "markdown",
   "id": "52ba22be-ace4-4013-b1e5-b7c54590a915",
   "metadata": {},
   "source": [
    "## Q8. A researcher hypothesizes that a coin is biased towards tails. They flip the coin 100 times and observe 45 tails. Conduct a chi-square goodness of fit test to determine if the observed frequencies match the expected frequencies of a fair coin. Use a significance level of 0.05."
   ]
  },
  {
   "cell_type": "code",
   "execution_count": 27,
   "id": "184db19b-aded-487e-84d0-a895993b8da1",
   "metadata": {},
   "outputs": [
    {
     "name": "stdout",
     "output_type": "stream",
     "text": [
      "The null hypothesis is not rejected at the 0.05 level of significance\n",
      "Test statistic: 1.0000\n",
      "p-value: 0.3173\n"
     ]
    }
   ],
   "source": [
    "import numpy as np\n",
    "from scipy.stats import chisquare\n",
    "# Define the null hypothesis and the alternative hypothesis\n",
    "# Null hypothesis: The coin is fair\n",
    "# Alternative hypothesis: The coin is biased towards tails\n",
    "null_hypothesis = [0.5, 0.5]\n",
    "alternative_hypothesis = [0.4, 0.6]\n",
    "# Observed frequencies\n",
    "observed_frequencies = [55, 45]\n",
    "# Determine the expected frequencies under the null hypothesis\n",
    "expected_frequencies = [null_hypothesis[0]*sum(observed_frequencies), null_hypothesis[1]*sum(observed_frequencies)]\n",
    "# Calculate the test statistic\n",
    "test_statistic, p_value = chisquare(observed_frequencies, expected_frequencies)\n",
    "# Determine the degrees of freedom for the test\n",
    "degrees_of_freedom = len(observed_frequencies) - 1\n",
    "# Compare the p-value to the significance level and make a conclusion\n",
    "significance_level = 0.05\n",
    "if p_value <= significance_level:\n",
    "    print(\"The null hypothesis is rejected at the {} level of significance\".format(significance_level))\n",
    "else:\n",
    "    print(\"The null hypothesis is not rejected at the {} level of significance\".format(significance_level))\n",
    "    \n",
    "print(\"Test statistic: {:.4f}\".format(test_statistic))\n",
    "print(\"p-value: {:.4f}\".format(p_value))\n"
   ]
  },
  {
   "cell_type": "markdown",
   "id": "a210cebf-6614-449b-8989-e78fd57a2ca1",
   "metadata": {},
   "source": [
    "Since the p-value (0.4795) is greater than the significance level of 0.05, we fail to reject the null hypothesis. Therefore, we do not have sufficient evidence to conclude that the coin is biased towards tails."
   ]
  },
  {
   "cell_type": "code",
   "execution_count": null,
   "id": "a934e8d0-429e-47f3-ada6-d5083821805d",
   "metadata": {},
   "outputs": [],
   "source": []
  },
  {
   "cell_type": "markdown",
   "id": "eddbf81b-26e9-4741-b66a-48cba855d0ba",
   "metadata": {},
   "source": [
    "## Q9. A study was conducted to determine if there is an association between smoking status (smoker or non-smoker) and lung cancer diagnosis (yes or no). The results are shown in the contingency table below. Conduct a chi-square test for independence to determine if there is a significant association between smoking status and lung cancer diagnosis.Use a significance level of 0.05.\n",
    "\n",
    "## Lung Cancer: Yes No\n",
    "## Smoker 60 140\n",
    "## Non-smoker 30 170"
   ]
  },
  {
   "cell_type": "markdown",
   "id": "c4a6a7f8-ea64-45f3-8a35-a0d68baa6606",
   "metadata": {},
   "source": [
    "Ans. :\n",
    "To conduct a chi-square test for independence, we need to first state our null and alternative hypotheses.\n",
    "\n",
    "Null hypothesis: Smoking status and lung cancer diagnosis are independent.\n",
    "\n",
    "Alternative hypothesis:There is a significant association between smoking status and lung cancer diagnosis.\n",
    "\n",
    "Next, we need to calculate the expected values for each cell in the contingency table assuming the null hypothesis is true. We can do this by calculating the row and column totals and using those to determine the expected values.\n",
    "        Lung Cancer: Yes   Lung Cancer: No       Row Total\n",
    "Smoker       60                 140                200\n",
    "Non-smoker   30                 170                200\n",
    "Column Total 90                 310                400\n",
    "\n",
    "Expected value for cell (1,1) = (20090)/400 = 45\n",
    "\n",
    "Expected value for cell (1,2) = (200310)/400 = 155\n",
    "\n",
    "Expected value for cell (2,1) = (20090)/400 = 45\n",
    "\n",
    "Expected value for cell (2,2) = (200310)/400 = 155\n",
    "\n",
    "We can now calculate the chi-square statistic using the formula:\n",
    "\n",
    "χ² = Σ [(Observed value - Expected value)² / Expected value]\n",
    "\n",
    "The degrees of freedom for a contingency table with 2 rows and 2 columns is (number of rows - 1) * (number of columns - 1) = 1.\n",
    "\n",
    "Plugging in the values from our contingency table, we get:\n",
    "\n",
    "χ² = [(60-45)²/45] + [(140-155)²/155] + [(30-45)²/45] + [(170-155)²/155]\n",
    "\n",
    "= 5.33 + 5.33 + 5.33 + 5.33\n",
    "= 21.32\n",
    "\n",
    "The critical value of chi-square with 1 degree of freedom at a significance level of 0.05 is 3.84. Since our calculated chi-square value (21.32) is greater than the critical value (3.84), we reject the null hypothesis and conclude that there is a significant association between smoking status and lung cancer diagnosis.\n",
    "\n",
    "Therefore, we can conclude that there is a significant difference between the expected and observed frequencies, and hence there is an association between smoking status and lung cancer diagnosis."
   ]
  },
  {
   "cell_type": "code",
   "execution_count": null,
   "id": "8bef747a-7f8a-4aaf-bef1-f7ae72dcb2ac",
   "metadata": {},
   "outputs": [],
   "source": []
  },
  {
   "cell_type": "markdown",
   "id": "3e1da915-cbf3-40b4-a360-ec0f4d92502c",
   "metadata": {},
   "source": [
    "## Q10. A study was conducted to determine if the proportion of people who prefer milk chocolate, dark chocolate, or white chocolate is different in the U.S. versus the U.K. A random sample of 500 people from the U.S. and a random sample of 500 people from the U.K. were surveyed. The results are shown in the contingency table below. Conduct a chi-square test for independence to determine if there is a significant association between chocolate preference and country of origin."
   ]
  },
  {
   "cell_type": "markdown",
   "id": "1f1e577b-3667-4497-971e-8bef97efaeae",
   "metadata": {},
   "source": [
    "Ans:\n",
    "\n",
    "To conduct a chi-square test for independence, we need to first state our null and alternative hypotheses.\n",
    "\n",
    "Null hypothesis: there is no association between chocolate preference and country of origin.\n",
    "\n",
    "Alternative hypothesis: There is a significant association between chocolate preference and country of origin.\n",
    "\n",
    "Next, we need to calculate the expected values for each cell in the contingency table assuming the null hypothesis is true. We can do this by calculating the row and column totals and using those to determine the expected values.\n",
    "              Milk Chocolate  Dark Chocolate  White Chocolate  Row Total\n",
    "U.S. (n=500)      200             150              150            500\n",
    "U.K. (n=500)      225             175              100            500\n",
    "Column Total      425             325              250            1000\n",
    "\n",
    "Expected value for cell (1,1) = (500425)/1000 = 212.5\n",
    "\n",
    "Expected value for cell (1,2) = (500325)/1000 = 162.5\n",
    "\n",
    "Expected value for cell (1,3) = (500250)/1000 = 125\n",
    "\n",
    "Expected value for cell (2,1) = (500425)/1000 = 212.5\n",
    "\n",
    "Expected value for cell (2,2) = (500325)/1000 = 162.5\n",
    "\n",
    "Expected value for cell (2,3) = (500250)/1000 = 125\n",
    "\n",
    "We can now calculate the chi-square statistic using the formula:\n",
    "\n",
    "χ² = Σ [(Observed value - Expected value)² / Expected value]\n",
    "\n",
    "The degrees of freedom for a contingency table with 2 rows and 3 columns is (number of rows - 1) * (number of columns - 1) = 2.\n",
    "\n",
    "Plugging in the values from our contingency table, we get:\n",
    "\n",
    "χ² = [(200-212.5)²/212.5] + [(150-162.5)²/162.5] + [(150-125)²/125] + [(225-212.5)²/212.5] + [(175-162.5)²/162.5] + [(100-125)²/125]\n",
    "\n",
    "= 1.64 + 1.64 + 6.4 + 1.64 + 1.64 + 6.4\n",
    "= 18.32\n",
    "\n",
    "The critical value of chi-square with 2 degrees of freedom at a significance level of 0.01 is 9.21. Since our calculated chi-square value (18.32) is greater than the critical value (9.21), we reject the null hypothesis and conclude that there is a significant association between chocolate preference and country of origin.\n",
    "\n",
    "Therefore, we can conclude that there is a significant difference between the expected and observed frequencies, and hence there is an association between chocolate preference and country of origin."
   ]
  },
  {
   "cell_type": "code",
   "execution_count": null,
   "id": "63c05cab-dfcd-4d98-b6c1-df7aea56fa93",
   "metadata": {},
   "outputs": [],
   "source": []
  },
  {
   "cell_type": "markdown",
   "id": "2955754a-e998-4122-a3d8-0625bad08a67",
   "metadata": {},
   "source": [
    "## Q11. A random sample of 30 people was selected from a population with an unknown mean and standard deviation. The sample mean was found to be 72 and the sample standard deviation was found to be 10. Conduct a hypothesis test to determine if the population mean is significantly different from 70. Use a significance level of 0.05."
   ]
  },
  {
   "cell_type": "markdown",
   "id": "7f99b0b9-cd4f-4c85-a472-d98d184031b8",
   "metadata": {},
   "source": [
    "Ans:\n",
    "    \n",
    "To conduct a hypothesis test to determine if the population mean is significantly different from 70 given a sample of size 30, sample mean of 72, and sample standard deviation of 10, we can use the following steps:\n",
    "Define the null hypothesis and the alternative hypothesis.\n",
    "1. Determine the test statistic using the formula t = (x̄ - μ) / (s / sqrt(n)).\n",
    "2. Determine the degrees of freedom for the test.\n",
    "3. Calculate the p-value using a t-distribution table or a t-distribution function in Python.\n",
    "4. Compare the p-value to the significance level and make a conclusion"
   ]
  },
  {
   "cell_type": "code",
   "execution_count": 31,
   "id": "bfc83fd9-636b-4a75-9118-00dbe7e6d252",
   "metadata": {},
   "outputs": [
    {
     "name": "stdout",
     "output_type": "stream",
     "text": [
      "The null hypothesis is not rejected at the 0.05 level of significance\n",
      "Test statistic: 1.0954\n",
      "p-value: 0.2823\n"
     ]
    }
   ],
   "source": [
    "import numpy as np\n",
    "from scipy.stats import t\n",
    "# Define the null hypothesis and the alternative hypothesis\n",
    "# Null hypothesis: The population mean is 70\n",
    "# Alternative hypothesis: The population mean is not 70\n",
    "null_hypothesis = 70\n",
    "alternative_hypothesis = 'not equal'\n",
    "# Sample size, sample mean, and sample standard deviation\n",
    "n = 30\n",
    "sample_mean = 72\n",
    "sample_std = 10\n",
    "# Set the significance level\n",
    "significance_level = 0.05\n",
    "# Determine the test statistic\n",
    "t_statistic = (sample_mean - null_hypothesis) / (sample_std / np.sqrt(n))\n",
    "# Determine the degrees of freedom for the test\n",
    "df = n - 1\n",
    "# Calculate the p-value using the t-distribution function\n",
    "p_value = 2 * (1 - t.cdf(np.abs(t_statistic), df))\n",
    "# Compare the p-value to the significance level and make a conclusion\n",
    "if p_value < significance_level:\n",
    "    print(\"The null hypothesis is rejected at the {} level of significance\".format(significance_level))\n",
    "else:\n",
    "    print(\"The null hypothesis is not rejected at the {} level of significance\".format(significance_level))\n",
    "    \n",
    "print(\"Test statistic: {:.4f}\".format(t_statistic))\n",
    "print(\"p-value: {:.4f}\".format(p_value))"
   ]
  },
  {
   "cell_type": "markdown",
   "id": "059f0b19-043d-4635-8536-33b09c71c358",
   "metadata": {},
   "source": [
    "Since the p-value (0.2823) is greater than the significance level of 0.05, we fail to reject the null hypothesis. Therefore, we do not have sufficient evidence to conclude that the population mean is significantly different from 70."
   ]
  },
  {
   "cell_type": "code",
   "execution_count": null,
   "id": "bcf213d6-a817-4580-bff9-c2dd58fffbc9",
   "metadata": {},
   "outputs": [],
   "source": []
  }
 ],
 "metadata": {
  "kernelspec": {
   "display_name": "Python 3 (ipykernel)",
   "language": "python",
   "name": "python3"
  },
  "language_info": {
   "codemirror_mode": {
    "name": "ipython",
    "version": 3
   },
   "file_extension": ".py",
   "mimetype": "text/x-python",
   "name": "python",
   "nbconvert_exporter": "python",
   "pygments_lexer": "ipython3",
   "version": "3.10.8"
  }
 },
 "nbformat": 4,
 "nbformat_minor": 5
}
