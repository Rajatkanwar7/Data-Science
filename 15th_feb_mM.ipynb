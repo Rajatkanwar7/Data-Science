{
 "cells": [
  {
   "cell_type": "markdown",
   "id": "4718b6d1-a5ac-45b8-be34-bbdb73c3858d",
   "metadata": {},
   "source": [
    "Q1. What is multiprocessing in python? Why is it useful?"
   ]
  },
  {
   "cell_type": "markdown",
   "id": "98966bda-6a04-4a23-a41e-7912a127df82",
   "metadata": {},
   "source": [
    "Ans:\n",
    "\n",
    "Multiprocessing is a technique in Python for parallel computing, which allows a programmer to execute multiple processes concurrently to perform a task. It is a way of using multiple CPU cores to speed up the execution of a program.\n",
    "In Python, the multiprocessing module provides a way to spawn child processes that can run concurrently and communicate with each other using shared memory. These child processes can perform different tasks in parallel, making the program more efficient and faster.\n",
    "\n",
    "\n",
    "Multiprocessing is useful for computationally intensive tasks, such as image processing, data analysis, scientific simulations, and machine learning, which require significant processing power. By using multiprocessing, these tasks can be executed in parallel, making use of all available CPU cores and reducing the time required for execution.\n",
    "Another advantage of multiprocessing is that it provides better fault tolerance and reliability than multi-threading, as each process runs in its own memory space, reducing the risk of conflicts and data corruption. \n",
    "\n",
    "\n",
    "Additionally, multiprocessing can take advantage of multiple CPUs and multiple cores, which can significantly speed up the program's execution time."
   ]
  },
  {
   "cell_type": "code",
   "execution_count": null,
   "id": "1d87faa8-5018-4130-9bf4-c378da5e13d4",
   "metadata": {},
   "outputs": [],
   "source": []
  },
  {
   "cell_type": "markdown",
   "id": "4adaa324-d368-471c-96ab-2aa563c27b87",
   "metadata": {},
   "source": [
    "Ans:\n",
    "    \n",
    "   Multiprocessing and multithreading are two techniques in Python for achieving parallelism and concurrency in a program. Here are the main differences between the two:\n",
    "   \n",
    "   \n",
    "1. Process vs. Thread: The fundamental difference between multiprocessing and multithreading is that multiprocessing allows the creation of multiple processes, whereas multithreading allows the creation of multiple threads within a single process.\n",
    "\n",
    "\n",
    "2. Memory space: Each process has its own memory space, while all threads in a process share the same memory space. This means that data sharing between processes requires more explicit communication, while data sharing between threads is more straightforward but requires additional synchronization mechanisms.\n",
    "\n",
    "\n",
    "3. GIL: The Global Interpreter Lock (GIL) is a mechanism in CPython that ensures that only one thread can execute Python bytecode at a time. This means that multithreading in Python does not make full use of multiple CPUs or multiple cores. In contrast, multiprocessing can take full advantage of multiple CPUs or multiple cores.\n",
    "\n",
    "\n",
    "4. CPU-bound vs. I/O bound: Multiprocessing is better suited for CPU-bound tasks that require a lot of processing power, while multithreading is better suited for I/O-bound tasks that spend most of their time waiting for input/output operations to complete.\n",
    "\n",
    "\n",
    "5. Overhead: Multiprocessing has a higher overhead than multithreading due to the creation of multiple processes, which requires more memory and system resources.\n",
    "\n"
   ]
  },
  {
   "cell_type": "markdown",
   "id": "fa2855a6-6912-4725-b293-77fc9a01c8d3",
   "metadata": {},
   "source": [
    "Q2. What are the differences between multiprocessing and multithreading?"
   ]
  },
  {
   "cell_type": "code",
   "execution_count": null,
   "id": "4db4b528-80e1-4781-9c98-c68cd7cad4fb",
   "metadata": {},
   "outputs": [],
   "source": []
  },
  {
   "cell_type": "markdown",
   "id": "8a27e164-b772-4eec-95ab-bbe0e7eb938d",
   "metadata": {},
   "source": [
    "Q3. Write a python code to create a process using the multiprocessing module."
   ]
  },
  {
   "cell_type": "code",
   "execution_count": 1,
   "id": "211f8fd1-b643-4e27-b501-98183fd1f36d",
   "metadata": {},
   "outputs": [
    {
     "name": "stdout",
     "output_type": "stream",
     "text": [
      "Worker 1 starting\n",
      "Worker 1 finishing\n",
      "Main process exiting\n"
     ]
    }
   ],
   "source": [
    "import multiprocessing\n",
    "def worker(num):\n",
    "    \"\"\"Function that will be executed in a separate process\"\"\"\n",
    "    print(f\"Worker {num} starting\")\n",
    "    # Do some work here\n",
    "    print(f\"Worker {num} finishing\")\n",
    "if __name__ == \"__main__\":\n",
    "    # Create a new process and start it\n",
    "    p = multiprocessing.Process(target=worker, args=(1,))\n",
    "    p.start()\n",
    "    # Wait for the process to finish\n",
    "    p.join()\n",
    "    print(\"Main process exiting\")\n"
   ]
  },
  {
   "cell_type": "code",
   "execution_count": null,
   "id": "2050018d-1034-4235-b995-1aca0b65ff19",
   "metadata": {},
   "outputs": [],
   "source": []
  },
  {
   "cell_type": "markdown",
   "id": "e211aef1-4ad3-40ca-bc93-ea04d8dbf1e2",
   "metadata": {},
   "source": [
    "Q4. What is a multiprocessing pool in python? Why is it used?"
   ]
  },
  {
   "cell_type": "markdown",
   "id": "01fdbfd5-63fc-4cb6-ad3d-a5f1d9b6662e",
   "metadata": {},
   "source": [
    "Ans:\n",
    "    \n",
    "A multiprocessing pool in Python is a convenient way to distribute work across multiple processes. It allows a programmer to execute a function on a large dataset using multiple processes in parallel.\n",
    "\n",
    "A multiprocessing pool is created using the multiprocessing.Pool class, which provides a simple interface to create a pool of worker processes. The pool can then be used to execute a function on multiple inputs in parallel, distributing the work across the available processes.\n",
    "Here is an example of using a multiprocessing pool:"
   ]
  },
  {
   "cell_type": "code",
   "execution_count": 2,
   "id": "cb64bd55-db83-4100-9eeb-58ab5ed53b56",
   "metadata": {},
   "outputs": [
    {
     "name": "stdout",
     "output_type": "stream",
     "text": [
      "Worker 2 startingWorker 1 startingWorker 3 startingWorker 4 starting\n",
      "\n",
      "\n",
      "\n",
      "Worker 2 finishingWorker 3 finishingWorker 1 finishingWorker 4 finishing\n",
      "\n",
      "\n",
      "\n",
      "Worker 5 startingWorker 6 starting\n",
      "\n",
      "Worker 5 finishingWorker 6 finishing\n",
      "\n",
      "All workers finished\n"
     ]
    }
   ],
   "source": [
    "import multiprocessing\n",
    "def worker(num):\n",
    "    \"\"\"Function that will be executed in a separate process\"\"\"\n",
    "    print(f\"Worker {num} starting\")\n",
    "    # Do some work here\n",
    "    print(f\"Worker {num} finishing\")\n",
    "if __name__ == \"__main__\":\n",
    "    # Create a pool of worker processes\n",
    "    pool = multiprocessing.Pool(processes=4)\n",
    "    # Execute the worker function on multiple inputs in parallel\n",
    "    results = pool.map(worker, [1, 2, 3, 4, 5, 6])\n",
    "    # Close the pool and wait for all processes to finish\n",
    "    pool.close()\n",
    "    pool.join()\n",
    "    print(\"All workers finished\")\n"
   ]
  },
  {
   "cell_type": "code",
   "execution_count": null,
   "id": "b73923f8-cc25-4191-a2d7-9bb3f2a55cef",
   "metadata": {},
   "outputs": [],
   "source": []
  },
  {
   "cell_type": "code",
   "execution_count": null,
   "id": "73798aca-1d5c-4be6-93f7-15149549cb37",
   "metadata": {},
   "outputs": [],
   "source": [
    "Q5. How can we create a pool of worker processes in python using the multiprocessing module?"
   ]
  },
  {
   "cell_type": "markdown",
   "id": "54f74f39-6a92-4383-a836-f20ce9025064",
   "metadata": {},
   "source": [
    "Ans:\n",
    "\n",
    "In Python, you can create a pool of worker processes using the multiprocessing.Pool class from the multiprocessing module. Here's an example code that shows how to create a pool of worker processes in Python:"
   ]
  },
  {
   "cell_type": "code",
   "execution_count": 3,
   "id": "40073fa5-683b-45e9-bdb9-65d79a48032d",
   "metadata": {},
   "outputs": [
    {
     "name": "stdout",
     "output_type": "stream",
     "text": [
      "Worker 1 startingWorker 2 startingWorker 3 startingWorker 4 starting\n",
      "\n",
      "\n",
      "\n",
      "Worker 1 finishingWorker 2 finishingWorker 3 finishingWorker 4 finishing\n",
      "\n",
      "\n",
      "\n",
      "Worker 5 startingWorker 6 starting\n",
      "\n",
      "Worker 5 finishingWorker 6 finishing\n",
      "\n",
      "All workers finished\n"
     ]
    }
   ],
   "source": [
    "import multiprocessing\n",
    "def worker(num):\n",
    "    \"\"\"Function that will be executed in a separate process\"\"\"\n",
    "    print(f\"Worker {num} starting\")\n",
    "    # Do some work here\n",
    "    print(f\"Worker {num} finishing\")\n",
    "if __name__ == \"__main__\":\n",
    "    # Create a pool of worker processes\n",
    "    pool = multiprocessing.Pool(processes=4)\n",
    "    # Execute the worker function on multiple inputs in parallel\n",
    "    results = pool.map(worker, [1, 2, 3, 4, 5, 6])\n",
    "    # Close the pool and wait for all processes to finish\n",
    "    pool.close()\n",
    "    pool.join()\n",
    "    print(\"All workers finished\")\n"
   ]
  },
  {
   "cell_type": "markdown",
   "id": "4ed7fda0-f8af-4696-a339-edae4d78a36c",
   "metadata": {},
   "source": [
    "In this example, we define a worker function that will be executed in a separate process. We then create a pool of worker processes using the multiprocessing.Pool class and specify the number of processes to create as an argument (in this case, 4).\n",
    "\n",
    "\n",
    "We then use the map() method of the pool to execute the worker function on a list of inputs [1, 2, 3, 4, 5, 6]. The map() method distributes the work across the available processes and returns a list of results.\n",
    "\n",
    "After all the work is complete, we close the pool and wait for all the processes to finish using the close() and join() methods. Finally, we print a message indicating that all workers have finished.\n",
    "\n",
    "The multiprocessing.Pool class provides other methods for executing functions on inputs in parallel, such as apply(), apply_async(), and imap(). Each of these methods has different features and advantages, so it's worth exploring the documentation to find the best method for your use case."
   ]
  },
  {
   "cell_type": "code",
   "execution_count": null,
   "id": "4c8ee15d-f903-4748-b5b9-8e5b0625f444",
   "metadata": {},
   "outputs": [],
   "source": []
  },
  {
   "cell_type": "markdown",
   "id": "9a465581-ebef-4026-8a0a-41a7e8ee7e4e",
   "metadata": {},
   "source": [
    "Q6. Write a python program to create 4 processes, each process should print a different number using the\n",
    "multiprocessing module in python."
   ]
  },
  {
   "cell_type": "code",
   "execution_count": null,
   "id": "2f7b5d33-7dc0-4525-9755-c7d4245e9d1f",
   "metadata": {},
   "outputs": [],
   "source": [
    "import multiprocessing\n",
    "def print_number(num):\n",
    "    \"\"\"Function that will be executed in a separate process\"\"\"\n",
    "    print(f\"Process {multiprocessing.current_process().name} printing number {num}\")\n",
    "if __name__ == \"__main__\":\n",
    "    # Create a list of numbers to print\n",
    "    numbers = [1, 2, 3, 4]\n",
    "    # Create a process for each number in the list\n",
    "    processes = []\n",
    "    for num in numbers:\n",
    "        process = multiprocessing.Process(target=print_number, args=(num,))\n",
    "        processes.append(process)\n",
    "    # Start all processes\n",
    "    for process in processes:\n",
    "        process.start()\n",
    "    # Wait for all processes to finish\n",
    "    for process in processes:\n",
    "        process.join()\n",
    "    print(\"All processes finished\")\n"
   ]
  },
  {
   "cell_type": "markdown",
   "id": "3c51b55e-ee7a-4520-b387-6da98673b9d2",
   "metadata": {},
   "source": [
    "In this example, we define a print_number function that takes a number as an argument and prints it along with the name of the process that is executing it. We then create a list of numbers to print and create a process for each number using the multiprocessing.Process class. We add each process to a list of processes.\n",
    "We then start all processes by calling the start() method on each process in the list. This will start each process and execute the print_number function in parallel.\n",
    "After starting all processes, we wait for them to finish by calling the join() method on each process in the list. This will wait for each process to finish before continuing execution of the main program.\n",
    "Finally, we print a message indicating that all processes have finished.\n",
    "ChatGPT Feb 13 Version. Free Research Preview. Our goal is to make AI systems more natural and safe to interact with. Your feedback will help us improve."
   ]
  }
 ],
 "metadata": {
  "kernelspec": {
   "display_name": "Python 3 (ipykernel)",
   "language": "python",
   "name": "python3"
  },
  "language_info": {
   "codemirror_mode": {
    "name": "ipython",
    "version": 3
   },
   "file_extension": ".py",
   "mimetype": "text/x-python",
   "name": "python",
   "nbconvert_exporter": "python",
   "pygments_lexer": "ipython3",
   "version": "3.10.8"
  }
 },
 "nbformat": 4,
 "nbformat_minor": 5
}
