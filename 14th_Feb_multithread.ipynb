{
 "cells": [
  {
   "cell_type": "markdown",
   "id": "36ff36b9-2700-4746-9071-af331e7de75e",
   "metadata": {},
   "source": [
    "Q1. what is multithreading in python? why is it used?\n",
    "Name the modules used fo handle thread in python."
   ]
  },
  {
   "cell_type": "markdown",
   "id": "c5517be8-30bc-47ad-a91b-0d156068c28a",
   "metadata": {},
   "source": [
    "Ans:\n",
    "    Multithreading is a threading technique in Python programming to run multiple threads concurrently by rapidly switching between threads with a CPU help (called context switching). Besides, it allows sharing of its data space with the main threads inside a process that share information and communication with other threads easier than individual processes. Multithreading aims to perform multiple tasks simultaneously, which increases performance, speed and improves the rendering of the application.\n",
    "  \n",
    "It is used because:\n",
    "1. It ensures effective utilization of computer system resources.\n",
    "2. Multithreaded applications are more responsive.\n",
    "3. It shares resources and its state with sub-threads (child) which makes it more economical.\n",
    "4. It makes the multiprocessor architecture more effective due to similarity.\n",
    "5. It saves time by executing multiple threads at the same time.\n",
    "6. The system does not require too much memory to store multiple threads \n",
    "\n",
    "There are two main modules of multithreading used to handle threads in Python.\n",
    "1. The thread module\n",
    "2. The threading module\n",
    "\n",
    "1.Thread modules:\n",
    "It is started with Python 3, designated as obsolete, and can only be accessed with the _thread that support backward compatibility.\n",
    "\n",
    "Syntax: thread.start_new_thread ( function_name, args[, kwargs] )  \n",
    "\n",
    "2.Threading modules:\n",
    "\n",
    "The threading module is a high-level implementation of multithreading used to deploy an application in Python."
   ]
  },
  {
   "cell_type": "code",
   "execution_count": null,
   "id": "9b84af32-7fa8-437a-a064-c1ca4e697053",
   "metadata": {},
   "outputs": [],
   "source": []
  },
  {
   "cell_type": "markdown",
   "id": "b35bf79a-1254-466e-a0bc-13cffe91f6e4",
   "metadata": {},
   "source": [
    "Q2. Why threading modules used? write the use of following functions:\n",
    "1. activeCount\n",
    "2. currentThread\n",
    "3. enumerate    "
   ]
  },
  {
   "cell_type": "markdown",
   "id": "66511f8b-bdfa-4622-8995-000cc75f0d0d",
   "metadata": {},
   "source": [
    "Ans:\n",
    "The threading module exposes all the methods of the thread module and provides some additional methods −\n",
    "1. threading.activeCount() − Returns the number of thread objects that are active.\n",
    "2. threading.currentThread() − Returns the number of thread objects in the caller's thread control.\n",
    "3. threading.enumerate() − Returns a list of all thread objects that are currently active.\n",
    "\n",
    "In addition to the methods, the threading module has the Thread class that implements threading. The methods provided by the Thread class are as follows −\n",
    "\n",
    "1. run()  − The run() method is the entry point for a thread.\n",
    "2. start()  − The start() method starts a thread by calling the run method.\n",
    "3. join([time])  − The join() waits for threads to terminate.\n",
    "4. isAlive()  − The isAlive() method checks whether a thread is still executing.\n",
    "5. getName()  − The getName() method returns the name of a thread.\n",
    "6. setName()  − The setName() method sets the name of a thread."
   ]
  },
  {
   "cell_type": "code",
   "execution_count": null,
   "id": "815cc5e1-db54-4e20-8eff-cc1c4d564393",
   "metadata": {},
   "outputs": [],
   "source": []
  },
  {
   "cell_type": "markdown",
   "id": "90015b83-a0ce-41c9-87d8-28e9ae1dafc9",
   "metadata": {},
   "source": [
    "3. Explain the following functions:\n",
    "a). run()\n",
    "b). start()\n",
    "c). join()\n",
    "d). isAlive()"
   ]
  },
  {
   "cell_type": "markdown",
   "id": "40b70de3-4440-49ab-adda-6c476154a559",
   "metadata": {},
   "source": [
    "Ans:\n",
    "\n",
    "a). Thread.run() method is an inbuilt method of the Thread class of the threading module in Python. This method is used to represent a thread's activity.This method can also be overridden in the subclass.\n",
    "\n",
    "Module:\n",
    "    from threading import Thread\n",
    "\n",
    "Syntax:\n",
    "    run()\n",
    "    \n",
    "Parameter(s):\n",
    "None\n",
    "\n",
    "Return value:\n",
    "The return type of this method is <class 'NoneType'>, it returns nothing"
   ]
  },
  {
   "cell_type": "markdown",
   "id": "94170a13-8025-4d8b-806b-5d625c28220a",
   "metadata": {},
   "source": [
    "b). Thread.start() method is an inbuilt method of the Thread class of the threading module in Python. It is used to start a thread's activity. This method calls the run() method internally which then executes the target method. This method must be called at most one time for one thread. If it is called more than once, it raises a RuntimeError.\n",
    "\n",
    "Module:\n",
    "    from threading import Thread\n",
    "\n",
    "Syntax:\n",
    "    start()\n",
    "\n",
    "Parameter(s):\n",
    "None\n",
    "\n",
    "Return value:\n",
    "The return type of this method is <class 'NoneType'>, it does not return anything."
   ]
  },
  {
   "cell_type": "markdown",
   "id": "2b7ce49e-0bb2-493d-a3d0-5cc402756c7d",
   "metadata": {},
   "source": [
    "c). Thread.join() method is an inbuilt method of the Thread class of the threading module in Python. Whenever this method is called for any Thread object, it blocks the calling thread till the time the thread whose join() method is called terminates, either normally or through an unhandled exception.\n",
    "\n",
    "Module:\n",
    "    from threading import Thread\n",
    "Syntax:\n",
    "    join(timeout=None)\n",
    "\n",
    "Parameter(s):\n",
    "timeout: It is an optional parameter, which specifies a timeout for the operation in seconds. it should be a floating-point number. When a timeout argument is missing, the operation will block until the thread terminates.\n",
    "\n",
    "Return value:\n",
    "The return type of this method is <class 'NoneType'>, it returns nothing."
   ]
  },
  {
   "cell_type": "markdown",
   "id": "42a33028-e38a-430e-9732-66b1720c5ebe",
   "metadata": {},
   "source": [
    "d). Thread.is_alive() method is an inbuilt method of the Thread class of the threading module in Python. It uses a Thread object, and checks whether that thread is alive or not, ie, it is still running or not. This method returns True before the run() starts until just after the run() method is executed.\n",
    "\n",
    "Module:\n",
    "    from threading import Thread\n",
    "\n",
    "Syntax:\n",
    "    is_alive()\n",
    "\n",
    "Parameter(s):\n",
    "None\n",
    "\n",
    "Return value:\n",
    "The return type of this method is <class 'bool'>, it returns True is the thread is alive else returns False."
   ]
  },
  {
   "cell_type": "code",
   "execution_count": null,
   "id": "70aa3ed1-1516-4c43-b588-d904f1925fa9",
   "metadata": {},
   "outputs": [],
   "source": []
  },
  {
   "cell_type": "markdown",
   "id": "a7790652-b434-449b-8540-4004c00fb480",
   "metadata": {},
   "source": [
    "Q4. Write a python program to create two threads. Thread one must print the list of squares and thread two must print the list of cubes."
   ]
  },
  {
   "cell_type": "code",
   "execution_count": 42,
   "id": "f01f2a77-43d5-44b2-8aae-747b45026420",
   "metadata": {},
   "outputs": [
    {
     "name": "stdout",
     "output_type": "stream",
     "text": [
      " Calculate the square root of the given number\n",
      " Calculate the cube of  the given number\n",
      "Square of 4 is :  16\n",
      " Cube of 4  is :  64\n",
      "Square of 5 is :  25\n",
      " Cube of 5  is :  125\n",
      "Square of 6 is :  36\n",
      " Cube of 6  is :  216\n",
      "Square of 7 is :  49\n",
      " Cube of 7  is :  343\n",
      "Square of 2 is :  4\n",
      " Cube of 2  is :  8\n",
      " Total time taking by threads is : 1676689145.466139\n",
      " Again executing the main thread\n",
      " Thread 1 and Thread 2 have finished their execution.\n"
     ]
    }
   ],
   "source": [
    "import threading\n",
    "import time\n",
    "def cal_sqre(num):   \n",
    "    print(\" Calculate the square root of the given number\")  \n",
    "    for n in num:   \n",
    "        time.sleep(0.3) \n",
    "        print('Square of', n ,'is : ', n * n)  \n",
    "      \n",
    "def cal_cube(num):\n",
    "    print(\" Calculate the cube of  the given number\")  \n",
    "    for n in num:   \n",
    "        time.sleep(0.3)  \n",
    "        print(\" Cube of\", n,\" is : \", n * n *n)  \n",
    "      \n",
    "ar = [4, 5, 6, 7, 2] \n",
    "      \n",
    "t1 = time.time() \n",
    "th1 = threading.Thread(target=cal_sqre, args=(ar, ))  \n",
    "th2 = threading.Thread(target=cal_cube, args=(ar, ))  \n",
    "th1.start()  \n",
    "th2.start()  \n",
    "th1.join()  \n",
    "th2.join()  \n",
    "print(\" Total time taking by threads is :\", time.time() - t) \n",
    "print(\" Again executing the main thread\")  \n",
    "print(\" Thread 1 and Thread 2 have finished their execution.\") "
   ]
  },
  {
   "cell_type": "markdown",
   "id": "ae902d40-9cbc-472b-ae0b-75d905d14cce",
   "metadata": {},
   "source": [
    "Q5. State advantages and disadvantages of multithreading."
   ]
  },
  {
   "cell_type": "markdown",
   "id": "18798e20-b3b2-47e6-975f-eee0d9b9b777",
   "metadata": {},
   "source": [
    "Ans: Advantages:\n",
    "1. Python multithreading enables efficient utilization of the resources as the threads share the data space and memory.\n",
    "2. Multithreading in Python allows the concurrent and parallel occurrence of various tasks.\n",
    "3. It causes a reduction in time consumption or response time, thereby increasing the performance.\n",
    "\n",
    "Disadvantages: \n",
    "1. Increases the complexity of the program.\n",
    "2. Synchronization of shared resources (objects, data) is necessary.\n",
    "3. Difficult to debug unpredictable results\n",
    "4. Constructing and synchronizing threads is CPU/memory intensive"
   ]
  },
  {
   "cell_type": "code",
   "execution_count": null,
   "id": "b8589ea1-f55e-4416-adb5-8b093ecdb8e1",
   "metadata": {},
   "outputs": [],
   "source": []
  },
  {
   "cell_type": "markdown",
   "id": "25690531-e3cb-4339-9c75-632afffac7ac",
   "metadata": {},
   "source": [
    "Q6. Explain deadlocks and race conditions."
   ]
  },
  {
   "cell_type": "markdown",
   "id": "2ed37dff-be62-4129-8ccb-7571b1afad3b",
   "metadata": {},
   "source": [
    "Ans:\n",
    "Deadlocks: When two processes are waiting for each other directly or indirectly, it is called deadlock.\n",
    "This usually occurs when two processes are waiting for shared resources acquired by others. For example, If thread T1 acquired resource R1 and it also needs resource R2 for it to accomplish its task. But the resource R2 is acquired by thread T2 which is waiting for resource R1(which is acquired by T1).. Neither of them will be able to accomplish its task, as they keep waiting for the other resources they need."
   ]
  },
  {
   "cell_type": "markdown",
   "id": "f289f430-12c8-4480-b36c-f720badef8c4",
   "metadata": {},
   "source": [
    "Race conditions:\n",
    "A race condition occurs when two threads try to access a shared variable simultaneously.The first thread reads the value from the shared variable. The second thread also reads the value from the same shared variable.Then both threads try to change the value of the shared variable. And they race to see which thread writes a value to the variable last."
   ]
  }
 ],
 "metadata": {
  "kernelspec": {
   "display_name": "Python 3 (ipykernel)",
   "language": "python",
   "name": "python3"
  },
  "language_info": {
   "codemirror_mode": {
    "name": "ipython",
    "version": 3
   },
   "file_extension": ".py",
   "mimetype": "text/x-python",
   "name": "python",
   "nbconvert_exporter": "python",
   "pygments_lexer": "ipython3",
   "version": "3.10.8"
  }
 },
 "nbformat": 4,
 "nbformat_minor": 5
}
