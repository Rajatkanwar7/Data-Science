{
 "cells": [
  {
   "cell_type": "markdown",
   "id": "a449619c-adb7-4ccb-9d08-683d3628afa0",
   "metadata": {},
   "source": [
    "## Q1. What is the difference between Ordinal Encoding and Label Encoding? Provide an example of when you  might choose one over the other."
   ]
  },
  {
   "cell_type": "markdown",
   "id": "8fc75180-3573-4f51-8639-977348d8d24e",
   "metadata": {},
   "source": [
    "Ans:\n",
    "    \n",
    "Difference between these two techniques:\n",
    "\n",
    "Ordinal encoding is a method of encoding categorical data where each unique category is assigned an integer value based on its order or rank. For example, if we have a categorical feature \"education level\" with categories \"high school\", \"some college\", \"associate degree\", \"bachelor's degree\", and \"graduate degree\", we could assign values of 1, 2, 3, 4, and 5 respectively, based on the order of education level.\n",
    "Label encoding is a method of encoding categorical data where each unique category is assigned a unique integer value. For example, if we have a categorical feature \"color\" with categories \"red\", \"blue\", and \"green\", we could assign values of 1, 2, and 3 respectively, based on the order in which they appear in the dataset.\n",
    "\n",
    "In general, if there is an inherent order or ranking in the categories, it makes sense to use ordinal encoding. For example, if we have a feature \"income level\" with categories \"low\", \"medium\", and \"high\", it makes sense to use ordinal encoding because there is a clear order to the categories.\n",
    "On the other hand, if there is no inherent order or ranking in the categories, it makes more sense to use label encoding. For example, if we have a feature \"favorite fruit\" with categories \"apple\", \"banana\", \"orange\", and \"mango\", there is no clear order to the categories, so label encoding would be more appropriate."
   ]
  },
  {
   "cell_type": "code",
   "execution_count": null,
   "id": "27567379-04a0-4ef7-ae9b-25bc9d8e6f95",
   "metadata": {},
   "outputs": [],
   "source": []
  },
  {
   "cell_type": "markdown",
   "id": "45cbc5a0-2302-4825-846b-357acb9a5c7d",
   "metadata": {},
   "source": [
    "## Q2. Explain how Target Guided Ordinal Encoding works and provide an example of when you might use it in  a machine learning project."
   ]
  },
  {
   "cell_type": "markdown",
   "id": "a6325e60-366a-4f30-b882-1e1bd80da0ca",
   "metadata": {},
   "source": [
    "Ans:\n",
    "    \n",
    "Target Guided Ordinal Encoding is a technique used to encode categorical variables based on the target variable. This method creates a monotonic relationship between the encoded variable and the target variable, which can be helpful in improving the predictive power of the encoded variable.\n",
    "\n",
    "Here's how Target Guided Ordinal Encoding works:\n",
    "\n",
    "1. Group the categories of the categorical variable by their mean target value. For example, if we have a categorical variable \"city\" with four categories (\"New York\", \"Los Angeles\", \"Chicago\", \"Houston\") and corresponding target values of [0.3, 0.5, 0.2, 0.4], we would group the categories as follows: \"Los Angeles\", \"Houston\", \"New York\", \"Chicago\", since their corresponding mean target values are 0.5, 0.4, 0.3, and 0.2 respectively.\n",
    "2. Assign an ordinal number to each group based on its mean target value. The group with the highest mean target value is assigned the highest number, and so on. In the example above, we would assign the numbers 4, 3, 2, and 1 respectively.\n",
    "3. Replace the original categorical variable with the assigned ordinal numbers.\n",
    "\n",
    "Target Guided Ordinal Encoding can be useful in a machine learning project when the categorical variable has a strong relationship with the target variable and there is a need to capture this relationship in the encoded variable.\n",
    "For example, if we are building a model to predict customer churn, and we have a categorical variable \"subscription type\" with categories \"basic\", \"premium\", and \"ultimate\", we could use Target Guided Ordinal Encoding to create an encoded variable that captures the relationship between subscription type and churn. This encoded variable could then be used as a feature in our machine learning model to improve its predictive power."
   ]
  },
  {
   "cell_type": "code",
   "execution_count": null,
   "id": "68f05858-237a-4d64-a781-d8af74f7e8ef",
   "metadata": {},
   "outputs": [],
   "source": []
  },
  {
   "cell_type": "markdown",
   "id": "7d71a613-8bf9-4af1-bbdf-212adc96fcf7",
   "metadata": {},
   "source": [
    "## Q3. Define covariance and explain why it is important in statistical analysis. How is covariance calculated?"
   ]
  },
  {
   "cell_type": "markdown",
   "id": "3d026bff-6a4d-4bc3-8062-a4d7029f3f2b",
   "metadata": {},
   "source": [
    "Ans:\n",
    "    \n",
    "Covariance is a measure of the linear relationship between two variables.A positive covariance means that the variables tend to increase or decrease together, while a negative covariance means that one variable tends to increase when the other variable decreases.\n",
    "\n",
    "Covariance is an important statistical concept because it helps us to understand the relationship between two variables. For example, if we are analyzing the relationship between education level and income, we can calculate the covariance between these two variables to determine if they are positively or negatively related. If we find a positive covariance, we can conclude that people with higher education levels tend to have higher incomes, while a negative covariance would suggest the opposite.\n",
    "\n",
    "Covariance is calculated as follows:\n",
    "\n",
    "cov(X, Y) = E[(X - E[X])(Y - E[Y])]\n",
    "\n",
    "where X and Y are the two variables, E[X] and E[Y] are their respective means, and E[] denotes the expected value. The formula subtracts the mean value of each variable from their respective values, multiplies the resulting differences, and takes the expected value of the product.\n",
    "\n",
    "The resulting value can be positive, negative, or zero. A positive value indicates that the two variables tend to move in the same direction, a negative value indicates that they tend to move in opposite directions, and a value of zero indicates that there is no linear relationship between the two variables."
   ]
  },
  {
   "cell_type": "code",
   "execution_count": null,
   "id": "9ea82e4c-4d90-490b-a188-04ecfb0bc083",
   "metadata": {},
   "outputs": [],
   "source": []
  },
  {
   "cell_type": "markdown",
   "id": "f1687ae0-1c20-4f30-a75e-d154a28baf71",
   "metadata": {},
   "source": [
    "## Q4. For a dataset with the following categorical variables: Color (red, green, blue), Size (small, medium, large), and Material (wood, metal, plastic), perform label encoding using Python's scikit-learn library. Show your code and explain the output."
   ]
  },
  {
   "cell_type": "code",
   "execution_count": 4,
   "id": "7bb2bd25-77d6-49d2-8e2f-4e39ad457f7e",
   "metadata": {},
   "outputs": [
    {
     "name": "stdout",
     "output_type": "stream",
     "text": [
      "Dataframe Before Encoding :\n",
      "    Color    Size Material\n",
      "0    red   small     wood\n",
      "1  green  medium    metal\n",
      "2   blue   large  plastic\n",
      "3    red   small  plastic\n",
      "\n",
      "\n",
      "Dataframe After Encoding :\n",
      "    Color  Size  Material\n",
      "0      2     2         2\n",
      "1      1     1         0\n",
      "2      0     0         1\n",
      "3      2     2         1\n"
     ]
    }
   ],
   "source": [
    "import pandas as pd\n",
    "from sklearn.preprocessing import LabelEncoder\n",
    "# Define the data as a list of lists\n",
    "data = [['red', 'small', 'wood'],\n",
    "        ['green', 'medium', 'metal'],\n",
    "        ['blue', 'large', 'plastic'],\n",
    "        ['red', 'small', 'plastic']]\n",
    "# Define the column names\n",
    "columns = ['Color', 'Size', 'Material']\n",
    "# Create a DataFrame\n",
    "df = pd.DataFrame(data, columns=columns)\n",
    "# Print Dataframe before encoding\n",
    "print(f'Dataframe Before Encoding :\\n {df}')\n",
    "print('\\n')\n",
    "# Create a LabelEncoder object\n",
    "le = LabelEncoder()\n",
    "# Apply label encoding to each column in the DataFrame\n",
    "for col in df.columns:\n",
    "    df[col] = le.fit_transform(df[col])\n",
    "# Print the encoded DataFrame\n",
    "print(f'Dataframe After Encoding :\\n {df}')"
   ]
  },
  {
   "cell_type": "markdown",
   "id": "715d1205-26fe-4249-aac8-79144b2bbac7",
   "metadata": {},
   "source": [
    "In the encoded dataset, each categorical variable has been replaced with numerical values. For example, 'red' is encoded as 2, 'green' as 1, and 'blue' as 0 for the 'Color' variable. Similarly, 'small' is encoded as 2, 'medium' as 0, and 'large' as 1 for the 'Size' variable, and 'wood' is encoded as 2, 'metal' as 1, and 'plastic' as 0 for the 'Material' variable.\n",
    "\n",
    "This encoding is done based on alphabetical order eg. blue = 0 , green = 1 , red = 2."
   ]
  },
  {
   "cell_type": "code",
   "execution_count": null,
   "id": "ad8c582b-c0da-412a-a736-cd528382ed47",
   "metadata": {},
   "outputs": [],
   "source": []
  },
  {
   "cell_type": "markdown",
   "id": "f8506a68-825c-4c21-b360-b10ac1428f33",
   "metadata": {},
   "source": [
    "## Q5. Calculate the covariance matrix for the following variables in a dataset: Age, Income, and Education  level. Interpret the results."
   ]
  },
  {
   "cell_type": "markdown",
   "id": "42c48942-9ca6-401f-8083-5b391f27bfc4",
   "metadata": {},
   "source": [
    "Ans:\n",
    "\n",
    "To calculate the covariance matrix for the variables Age, Income, and Education level, we can use the following formula: \n",
    "    \n",
    "    cov(Age, Age)    cov(Age, Income)    cov(Age, Education)\n",
    "    cov(Income, Age)  cov(Income, Income)  cov(Income, Education)\n",
    "    cov(Education, Age) cov(Education, Income) cov(Education, Education)\n",
    "Where cov(x,y) represents the covariance between variable x and y."
   ]
  },
  {
   "cell_type": "code",
   "execution_count": 16,
   "id": "2142c080-905e-4519-a59b-9649a0bc748f",
   "metadata": {},
   "outputs": [
    {
     "name": "stdout",
     "output_type": "stream",
     "text": [
      "Dataframe: \n",
      "    Age  Income  Education\n",
      "0   32   60000         14\n",
      "1   45   75000         18\n",
      "2   28   50000         12\n",
      "3   36   65000         15\n",
      "4   47   80000         20 \n",
      "\n",
      "Covariance matrix:\n",
      " [[6.730e+01 9.675e+04 2.590e+01]\n",
      " [9.675e+04 1.425e+08 3.775e+04]\n",
      " [2.590e+01 3.775e+04 1.020e+01]]\n"
     ]
    }
   ],
   "source": [
    "# example in python\n",
    "    \n",
    "import numpy as np\n",
    "import pandas as pd\n",
    "# create a sample dataset\n",
    "data = pd.DataFrame({\n",
    "    'Age': [32, 45, 28, 36, 47],\n",
    "    'Income': [60000, 75000, 50000, 65000, 80000],\n",
    "    'Education': [14, 18, 12, 15, 20]\n",
    "})\n",
    "print('Dataframe: \\n',data,'\\n')\n",
    "# calculate the covariance matrix\n",
    "cov_matrix = np.cov(data.T)\n",
    "# print the covariance matrix\n",
    "print(\"Covariance matrix:\\n\",cov_matrix)\n"
   ]
  },
  {
   "cell_type": "markdown",
   "id": "adcee2a3-aa52-4eeb-a32c-dc4610f9bac4",
   "metadata": {},
   "source": [
    "The resulting covariance matrix shows the covariance values between each pair of variables. For example, the covariance between Age and Income is positive, indicating that as Age increases, Income tends to increase as well.The diagonal elements in the matrix represent the variance of each variable."
   ]
  },
  {
   "cell_type": "code",
   "execution_count": null,
   "id": "e98cc9dc-becc-4e2b-ae97-84cfe1ce76d5",
   "metadata": {},
   "outputs": [],
   "source": []
  },
  {
   "cell_type": "markdown",
   "id": "a4b2085a-b427-4e7a-b9b7-2d9f42350821",
   "metadata": {
    "tags": []
   },
   "source": [
    "## Q6. You are working on a machine learning project with a dataset containing several categorical  variables, including \"Gender\" (Male/Female), \"Education Level\" (High School/Bachelor's/Master's/PhD),  and \"Employment Status\" (Unemployed/Part-Time/Full-Time). Which encoding method would you use for each variable, and why?"
   ]
  },
  {
   "cell_type": "markdown",
   "id": "a944b037-9c44-46f1-bb0d-f6530a86a0e5",
   "metadata": {
    "tags": []
   },
   "source": [
    "# Ans:\n",
    "\n",
    "For the given categorical variables \"Gender\", \"Education Level\", and \"Employment Status\", we can use different encoding methods based on the nature of the data and the machine learning algorithm we plan to use. Here are some possible encoding methods:\n",
    "1. Gender: Since there are only two categories (Male/Female), we can use binary encoding. We can assign 0 to Male and 1 to Female. Alternatively, we can use label encoding, where we assign 0 to one category and 1 to the other category. The choice between binary and label encoding would depend on the machine learning algorithm we plan to use. For example, binary encoding may be more suitable for algorithms like logistic regression, while label encoding may be more suitable for decision tree-based algorithms.\n",
    "2. Education Level: This variable has more than two categories, and the categories have a natural order (i.e., High School < Bachelor's < Master's < PhD). In this case, we can use ordinal encoding, where we assign a numerical value to each category based on its rank. For example, we can assign 0 to High School, 1 to Bachelor's, 2 to Master's, and 3 to PhD. This encoding preserves the order of the categories and allows the machine learning algorithm to capture the relationship between them.\n",
    "3. Employment Status: This variable also has more than two categories, but the categories do not have a natural order. In this case, we can use one-hot encoding, where we create a binary variable for each category. For example, we can create three binary variables: \"Unemployed\" (1 if the person is unemployed, 0 otherwise), \"Part-Time\" (1 if the person is part-time employed, 0 otherwise), and \"Full-Time\" (1 if the person is full-time employed, 0 otherwise). This encoding allows the machine learning algorithm to treat each category as a separate feature and capture the relationship between the categories.\n",
    "\n",
    "\n",
    "Binary encoding and label encoding may be suitable for categorical variables with two categories, ordinal encoding may be suitable for categorical variables with ordered categories, and one-hot encoding may be suitable for categorical variables with non-ordered categories."
   ]
  },
  {
   "cell_type": "code",
   "execution_count": null,
   "id": "8fb9e353-a39f-402a-b929-05090b1e4b66",
   "metadata": {},
   "outputs": [],
   "source": []
  },
  {
   "cell_type": "markdown",
   "id": "25024fbf-73e7-4778-b915-9012bf796053",
   "metadata": {},
   "source": [
    "## Q7. You are analyzing a dataset with two continuous variables, \"Temperature\" and \"Humidity\", and two categorical variables, \"Weather Condition\" (Sunny/Cloudy/Rainy) and \"Wind Direction\" (North/South/East/West). Calculate the covariance between each pair of variables and interpret the results."
   ]
  },
  {
   "cell_type": "code",
   "execution_count": 17,
   "id": "76995b65-2dbd-4607-b450-9580fa532192",
   "metadata": {},
   "outputs": [
    {
     "data": {
      "text/html": [
       "<div>\n",
       "<style scoped>\n",
       "    .dataframe tbody tr th:only-of-type {\n",
       "        vertical-align: middle;\n",
       "    }\n",
       "\n",
       "    .dataframe tbody tr th {\n",
       "        vertical-align: top;\n",
       "    }\n",
       "\n",
       "    .dataframe thead th {\n",
       "        text-align: right;\n",
       "    }\n",
       "</style>\n",
       "<table border=\"1\" class=\"dataframe\">\n",
       "  <thead>\n",
       "    <tr style=\"text-align: right;\">\n",
       "      <th></th>\n",
       "      <th>Temperature</th>\n",
       "      <th>Humidity</th>\n",
       "      <th>Weather Condition</th>\n",
       "      <th>Wind Direction</th>\n",
       "    </tr>\n",
       "  </thead>\n",
       "  <tbody>\n",
       "    <tr>\n",
       "      <th>0</th>\n",
       "      <td>25.862597</td>\n",
       "      <td>50.526311</td>\n",
       "      <td>Sunny</td>\n",
       "      <td>South</td>\n",
       "    </tr>\n",
       "    <tr>\n",
       "      <th>1</th>\n",
       "      <td>33.177413</td>\n",
       "      <td>55.809608</td>\n",
       "      <td>Sunny</td>\n",
       "      <td>South</td>\n",
       "    </tr>\n",
       "    <tr>\n",
       "      <th>2</th>\n",
       "      <td>25.186682</td>\n",
       "      <td>70.091030</td>\n",
       "      <td>Sunny</td>\n",
       "      <td>West</td>\n",
       "    </tr>\n",
       "    <tr>\n",
       "      <th>3</th>\n",
       "      <td>20.579252</td>\n",
       "      <td>68.981094</td>\n",
       "      <td>Sunny</td>\n",
       "      <td>South</td>\n",
       "    </tr>\n",
       "    <tr>\n",
       "      <th>4</th>\n",
       "      <td>19.284039</td>\n",
       "      <td>78.624127</td>\n",
       "      <td>Rainy</td>\n",
       "      <td>East</td>\n",
       "    </tr>\n",
       "  </tbody>\n",
       "</table>\n",
       "</div>"
      ],
      "text/plain": [
       "   Temperature   Humidity Weather Condition Wind Direction\n",
       "0    25.862597  50.526311             Sunny          South\n",
       "1    33.177413  55.809608             Sunny          South\n",
       "2    25.186682  70.091030             Sunny           West\n",
       "3    20.579252  68.981094             Sunny          South\n",
       "4    19.284039  78.624127             Rainy           East"
      ]
     },
     "execution_count": 17,
     "metadata": {},
     "output_type": "execute_result"
    }
   ],
   "source": [
    "import numpy as np\n",
    "import pandas as pd\n",
    "# Set seed for reproducibility\n",
    "np.random.seed(321)\n",
    "# Generate data\n",
    "n = 1000\n",
    "temp = np.random.normal(25, 5, n)\n",
    "humidity = np.random.normal(60, 10, n)\n",
    "weather_condition = np.random.choice(['Sunny', 'Cloudy', 'Rainy'], size=n)\n",
    "wind_direction = np.random.choice(['North', 'South', 'East', 'West'], size=n)\n",
    "# Create dataframe\n",
    "df = pd.DataFrame({\n",
    "    'Temperature': temp, \n",
    "    'Humidity': humidity, \n",
    "    'Weather Condition': weather_condition, \n",
    "    'Wind Direction': wind_direction\n",
    "})\n",
    "# Show first few rows\n",
    "df.head()"
   ]
  },
  {
   "cell_type": "code",
   "execution_count": 18,
   "id": "1fd4068c-7b0b-4be2-99b5-e1a8f182ba80",
   "metadata": {},
   "outputs": [
    {
     "data": {
      "text/html": [
       "<div>\n",
       "<style scoped>\n",
       "    .dataframe tbody tr th:only-of-type {\n",
       "        vertical-align: middle;\n",
       "    }\n",
       "\n",
       "    .dataframe tbody tr th {\n",
       "        vertical-align: top;\n",
       "    }\n",
       "\n",
       "    .dataframe thead th {\n",
       "        text-align: right;\n",
       "    }\n",
       "</style>\n",
       "<table border=\"1\" class=\"dataframe\">\n",
       "  <thead>\n",
       "    <tr style=\"text-align: right;\">\n",
       "      <th></th>\n",
       "      <th>Temperature</th>\n",
       "      <th>Humidity</th>\n",
       "    </tr>\n",
       "  </thead>\n",
       "  <tbody>\n",
       "    <tr>\n",
       "      <th>Temperature</th>\n",
       "      <td>25.165416</td>\n",
       "      <td>1.610779</td>\n",
       "    </tr>\n",
       "    <tr>\n",
       "      <th>Humidity</th>\n",
       "      <td>1.610779</td>\n",
       "      <td>105.612893</td>\n",
       "    </tr>\n",
       "  </tbody>\n",
       "</table>\n",
       "</div>"
      ],
      "text/plain": [
       "             Temperature    Humidity\n",
       "Temperature    25.165416    1.610779\n",
       "Humidity        1.610779  105.612893"
      ]
     },
     "execution_count": 18,
     "metadata": {},
     "output_type": "execute_result"
    }
   ],
   "source": [
    "df.cov(numeric_only=True)"
   ]
  },
  {
   "cell_type": "markdown",
   "id": "ac23cc6b-f5fb-4dbf-a9a4-5b6193f155cb",
   "metadata": {},
   "source": [
    "The covariance between \"Temperature\" and \"Humidity\" is 1.611 , indicating a positive relationship between the two variables. This means that as temperature increases, humidity tends to increase as well. The variances of each variable are shown on the diagonal, with Humidity having a larger variance than Temperature."
   ]
  },
  {
   "cell_type": "markdown",
   "id": "4289b463-2f74-4551-a320-8b8fd647d51d",
   "metadata": {},
   "source": [
    "To calculate the covariance between the continuous variables and the categorical variables, we can group the data by the categorical variables and calculate the covariance for each group. Here's an example code:\n",
    "\n",
    "It is important to note that we cannot calculate the covariance between continuous and categorical variables since covariance requires numerical data. Therefore, we cannot interpret the covariance between \"Temperature\" and \"Weather Condition\" or between \"Humidity\" and \"Wind Direction\". In general, we need to be careful when interpreting covariance and consider the nature of the variables being analyzed."
   ]
  },
  {
   "cell_type": "code",
   "execution_count": null,
   "id": "9d63b911-7a66-4a1e-9f76-4af215b94b26",
   "metadata": {},
   "outputs": [],
   "source": []
  }
 ],
 "metadata": {
  "kernelspec": {
   "display_name": "Python 3 (ipykernel)",
   "language": "python",
   "name": "python3"
  },
  "language_info": {
   "codemirror_mode": {
    "name": "ipython",
    "version": 3
   },
   "file_extension": ".py",
   "mimetype": "text/x-python",
   "name": "python",
   "nbconvert_exporter": "python",
   "pygments_lexer": "ipython3",
   "version": "3.10.8"
  }
 },
 "nbformat": 4,
 "nbformat_minor": 5
}
