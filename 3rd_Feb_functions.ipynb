{
 "cells": [
  {
   "cell_type": "markdown",
   "id": "7e73fed5-f822-449f-9c1d-f95f1d9383ad",
   "metadata": {},
   "source": [
    "Q1. Which keyword is used to create a function? Create a function to return a list of odd numbers in the\n",
    "range of 1 to 25."
   ]
  },
  {
   "cell_type": "code",
   "execution_count": null,
   "id": "fb44f8df-c98d-45aa-9680-3ed349fb7cbc",
   "metadata": {},
   "outputs": [],
   "source": [
    "Ans: def keyboard"
   ]
  },
  {
   "cell_type": "code",
   "execution_count": 4,
   "id": "9c8a2ebd-5d88-4d85-968c-00f8e5eeaeb8",
   "metadata": {},
   "outputs": [
    {
     "name": "stdout",
     "output_type": "stream",
     "text": [
      "[1, 3, 5, 7, 9, 11, 13, 15, 17, 19, 21, 23, 25]\n"
     ]
    }
   ],
   "source": [
    "def value():\n",
    "    l=list()\n",
    "    for i in range(1,26):\n",
    "        if i%2==1:\n",
    "            l.append(i)\n",
    "    print(l)\n",
    "value()   "
   ]
  },
  {
   "cell_type": "code",
   "execution_count": null,
   "id": "72960623-2da3-45c2-b335-24d82dd603f0",
   "metadata": {},
   "outputs": [],
   "source": []
  },
  {
   "cell_type": "markdown",
   "id": "cd187a8a-19a7-4c8d-aedd-528e7913f41a",
   "metadata": {},
   "source": [
    "Q2. Why *args and **kwargs is used in some functions? Create a function each for *args and **kwargs to\n",
    "demonstrate their use."
   ]
  },
  {
   "cell_type": "markdown",
   "id": "fe44ae7e-ccbc-4c9b-b07c-e8609a69f53e",
   "metadata": {},
   "source": [
    "Ans:\n",
    "    In Python, we can pass a variable number of arguments to a function using special symbols. There are two special symbols:\n",
    "  1.*args (Non Keyword Arguments)\n",
    "  2.**kwargs (Keyword Arguments)\n",
    "  We use *args and **kwargs as an argument when we are unsure about the number of arguments to pass in the functions.\n"
   ]
  },
  {
   "cell_type": "code",
   "execution_count": 5,
   "id": "6581b0b4-f767-4d93-a3a4-56af323e6ddc",
   "metadata": {},
   "outputs": [
    {
     "name": "stdout",
     "output_type": "stream",
     "text": [
      "Sum: 8\n",
      "Sum: 22\n",
      "Sum: 17\n"
     ]
    }
   ],
   "source": [
    "# *args function\n",
    "def add(*num):\n",
    "    sum = 0   \n",
    "    for n in num:\n",
    "        sum = sum + n\n",
    "    print(\"Sum:\",sum)\n",
    "add(3,5)\n",
    "add(4,5,6,7)\n",
    "add(1,2,3,5,6)"
   ]
  },
  {
   "cell_type": "code",
   "execution_count": null,
   "id": "b841ce05-74e3-41d1-a19e-024e3a32c38d",
   "metadata": {},
   "outputs": [],
   "source": [
    "# *kwargs function"
   ]
  },
  {
   "cell_type": "code",
   "execution_count": 6,
   "id": "19789f44-3f28-494e-9853-0e9873af0900",
   "metadata": {},
   "outputs": [
    {
     "name": "stdout",
     "output_type": "stream",
     "text": [
      "\n",
      "Data type of argument: <class 'dict'>\n",
      "Firstname is rajat\n",
      "Lastname is Sharma\n",
      "Age is 22\n",
      "Phone is 1234567890\n",
      "\n",
      "Data type of argument: <class 'dict'>\n",
      "Firstname is rahul\n",
      "Lastname is thakur\n",
      "Email is rahul@nomail.com\n",
      "Country is india\n",
      "Age is 25\n",
      "Phone is 9876543210\n"
     ]
    }
   ],
   "source": [
    "def intro(**data):\n",
    "    print(\"\\nData type of argument:\",type(data))\n",
    "    for key, value in data.items():\n",
    "        print(\"{} is {}\".format(key,value))\n",
    "intro(Firstname=\"rajat\", Lastname=\"Sharma\", Age=22, Phone=1234567890)\n",
    "intro(Firstname=\"rahul\", Lastname=\"thakur\", Email=\"rahul@nomail.com\", Country=\"india\", Age=25, Phone=9876543210)"
   ]
  },
  {
   "cell_type": "code",
   "execution_count": null,
   "id": "8546f56e-0e0b-4bdb-93fa-e94ac0042d1b",
   "metadata": {},
   "outputs": [],
   "source": []
  },
  {
   "cell_type": "markdown",
   "id": "3883c48e-bbeb-43d6-9fb7-2e0e613e55cb",
   "metadata": {},
   "source": [
    "Q3.What is an iterator in python? Name the method used to initialise the iterator object and the method\n",
    "used for iteration. Use these methods to print the first five elements of the given list [2, 4, 6, 8, 10, 12, 14, 16,\n",
    "18, 20]."
   ]
  },
  {
   "cell_type": "markdown",
   "id": "52352236-abfe-41d9-9d9e-751168092804",
   "metadata": {},
   "source": [
    "Ans:\n",
    "    Iterators are methods that iterate collections like lists, tuples, etc. Using an iterator method, we can loop through an object and return its elements.\n",
    "    The iterator consists of two methods: \n",
    "    1.iter()\n",
    "    2.next()  \n",
    "Iter() method is used to initialize the iterator object so that the instance of this object can be used for iterating.\n",
    "\n",
    "Syntax is\n",
    "myiterator = iter()\n",
    "\n",
    "\n",
    "The next() method is used to iterate over the iterable objects. The next() method returns the next value in the iterable objects.\n",
    "\n",
    "Syntax is\n",
    "item = next(myiterator)"
   ]
  },
  {
   "cell_type": "code",
   "execution_count": 4,
   "id": "34c90a63-6173-4d27-a1d1-029b7da04ecb",
   "metadata": {},
   "outputs": [
    {
     "name": "stdout",
     "output_type": "stream",
     "text": [
      "2\n",
      "4\n",
      "6\n",
      "8\n",
      "10\n"
     ]
    }
   ],
   "source": [
    "#Iteration to display first 5 elements of the list.\n",
    "list =[2, 4, 6, 8, 10, 12, 14, 16,18, 20]\n",
    "iter_list=iter(list)\n",
    "print(next(iter_list))\n",
    "print(next(iter_list))\n",
    "print(next(iter_list))\n",
    "print(next(iter_list))\n",
    "print(next(iter_list))"
   ]
  },
  {
   "cell_type": "code",
   "execution_count": 2,
   "id": "0a51626e-ff68-4142-8253-d0bee739b200",
   "metadata": {},
   "outputs": [
    {
     "name": "stdout",
     "output_type": "stream",
     "text": [
      "2\n",
      "4\n",
      "6\n",
      "8\n",
      "10\n"
     ]
    }
   ],
   "source": [
    "#iteraltion using for loop\n",
    "list =[2, 4, 6, 8, 10, 12, 14, 16,18, 20]\n",
    "for i in list[:5]:\n",
    "    print(i)"
   ]
  },
  {
   "cell_type": "code",
   "execution_count": null,
   "id": "9e1452cd-0072-4eb6-be9e-33cb75925f7d",
   "metadata": {},
   "outputs": [],
   "source": []
  },
  {
   "cell_type": "code",
   "execution_count": null,
   "id": "6514b1c7-36a8-4064-ac76-0d5097eeb9bc",
   "metadata": {},
   "outputs": [],
   "source": [
    "Q4.What is a generator function in python? Why yield keyword is used? Give an example of a generator\n",
    "function."
   ]
  },
  {
   "cell_type": "markdown",
   "id": "7cf799b0-e1b2-4386-91e5-a297abf64a94",
   "metadata": {},
   "source": [
    "Ans:A generator is a function that returns an iterator that produces a sequence of values when iterated over.\n",
    "Generators are useful when we want to produce a large sequence of values, but we don't want to store all of them in memory at once.\n",
    "Here,the yield keyword is used to produce a value from the generator so yield is used instead of return."
   ]
  },
  {
   "cell_type": "code",
   "execution_count": 6,
   "id": "bf858afa-4588-4f88-b970-36fc805f4d96",
   "metadata": {},
   "outputs": [
    {
     "name": "stdout",
     "output_type": "stream",
     "text": [
      "0\n",
      "1\n",
      "2\n"
     ]
    }
   ],
   "source": [
    "def my_generator(n):\n",
    "    value = 0\n",
    "    while value < n:\n",
    "        yield value\n",
    "        value += 1\n",
    "for value in my_generator(3):\n",
    "    print(value)"
   ]
  },
  {
   "cell_type": "markdown",
   "id": "40bd458b-7165-4708-adf3-17be81442cc6",
   "metadata": {},
   "source": [
    "Q5.Create a generator function for prime numbers less than 1000. Use the next() method to print the\n",
    "first 20 prime numbers."
   ]
  },
  {
   "cell_type": "code",
   "execution_count": 28,
   "id": "30d1211b-ce6a-4814-b0b7-a60192c92565",
   "metadata": {},
   "outputs": [
    {
     "name": "stdout",
     "output_type": "stream",
     "text": [
      "2\n",
      "3\n",
      "5\n",
      "7\n",
      "11\n",
      "13\n",
      "17\n",
      "19\n",
      "23\n",
      "29\n",
      "31\n",
      "37\n",
      "41\n",
      "43\n",
      "47\n",
      "53\n",
      "59\n",
      "61\n",
      "67\n",
      "71\n"
     ]
    }
   ],
   "source": [
    "def getPrimes(n):\n",
    "    i = 2\n",
    "    while i < n :\n",
    "        prime = True\n",
    "        for a in range(2, i):\n",
    "            if i%a == 0:\n",
    "                prime = False\n",
    "                break\n",
    "        if prime:    \n",
    "            yield i\n",
    "        i += 1\n",
    "Prime_number=list(getPrimes(1001))\n",
    "iter_list=iter(Prime_number) #displaying first 20 prime numbers using next() function\n",
    "for m in range(20):\n",
    "    print(next(iter_list))"
   ]
  },
  {
   "cell_type": "code",
   "execution_count": null,
   "id": "ba8ea563-f7aa-4ee7-9166-74609a7c0fd3",
   "metadata": {},
   "outputs": [],
   "source": []
  },
  {
   "cell_type": "code",
   "execution_count": null,
   "id": "86b865b3-03df-425c-b6f9-fa933952359e",
   "metadata": {},
   "outputs": [],
   "source": []
  }
 ],
 "metadata": {
  "kernelspec": {
   "display_name": "Python 3 (ipykernel)",
   "language": "python",
   "name": "python3"
  },
  "language_info": {
   "codemirror_mode": {
    "name": "ipython",
    "version": 3
   },
   "file_extension": ".py",
   "mimetype": "text/x-python",
   "name": "python",
   "nbconvert_exporter": "python",
   "pygments_lexer": "ipython3",
   "version": "3.10.8"
  }
 },
 "nbformat": 4,
 "nbformat_minor": 5
}
