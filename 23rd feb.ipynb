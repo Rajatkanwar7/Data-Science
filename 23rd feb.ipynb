{
 "cells": [
  {
   "cell_type": "markdown",
   "id": "9ef57cc2-c48f-44f7-9cbb-29cb7bdf93e5",
   "metadata": {},
   "source": [
    "Q1. Create a Pandas Series that contains the following data: 4, 8, 15, 16, 23, and 42. Then, print the series."
   ]
  },
  {
   "cell_type": "code",
   "execution_count": 2,
   "id": "e23999db-21d3-4812-a9a0-dc8c3742c4bb",
   "metadata": {},
   "outputs": [
    {
     "name": "stdout",
     "output_type": "stream",
     "text": [
      "0     4\n",
      "1     8\n",
      "2    15\n",
      "3    16\n",
      "4    23\n",
      "5    42\n",
      "dtype: int64\n"
     ]
    }
   ],
   "source": [
    "import pandas as pd\n",
    "data = [4, 8, 15, 16, 23, 42]\n",
    "series = pd.Series(data)\n",
    "print(series)\n"
   ]
  },
  {
   "cell_type": "code",
   "execution_count": null,
   "id": "0cf8c7a8-fb6b-43b3-b32b-f5cbaedff6e5",
   "metadata": {},
   "outputs": [],
   "source": []
  },
  {
   "cell_type": "markdown",
   "id": "8e9b32ac-7362-4082-99f3-92a04a03087d",
   "metadata": {},
   "source": [
    "Q2. Create a variable of list type containing 10 elements in it, and apply pandas.Series function on the \n",
    "variable print it."
   ]
  },
  {
   "cell_type": "code",
   "execution_count": 3,
   "id": "51146bc3-4b9b-452f-b066-e54223a032ba",
   "metadata": {},
   "outputs": [
    {
     "name": "stdout",
     "output_type": "stream",
     "text": [
      "0     1\n",
      "1     2\n",
      "2     3\n",
      "3     4\n",
      "4     5\n",
      "5     6\n",
      "6     7\n",
      "7     8\n",
      "8     9\n",
      "9    10\n",
      "dtype: int64\n"
     ]
    }
   ],
   "source": [
    "import pandas as pd\n",
    "my_list = [1, 2, 3, 4, 5, 6, 7, 8, 9, 10]\n",
    "my_series = pd.Series(my_list)\n",
    "print(my_series)\n"
   ]
  },
  {
   "cell_type": "code",
   "execution_count": null,
   "id": "77d70029-7fd3-41ba-bdae-a61918564aa2",
   "metadata": {},
   "outputs": [],
   "source": []
  },
  {
   "cell_type": "markdown",
   "id": "5789aa78-563e-4c0b-9605-9d10af87d20b",
   "metadata": {},
   "source": [
    "Q3. Create a Pandas DataFrame that contains the following data:\n",
    "(check assignment pdf for dataframe)\n",
    "Then, print the DataFrame."
   ]
  },
  {
   "cell_type": "code",
   "execution_count": 16,
   "id": "34eb1fb1-34b4-4b51-823f-7fecea7fd255",
   "metadata": {},
   "outputs": [
    {
     "name": "stdout",
     "output_type": "stream",
     "text": [
      "     Name  Age  Gender\n",
      "0   Alice   25  Female\n",
      "1     Bob   30    Male\n",
      "2  Claire   27  Female\n"
     ]
    }
   ],
   "source": [
    "import pandas as pd\n",
    "data = {'Name': ['Alice', 'Bob', 'Claire'],\n",
    "        'Age': [25, 30, 27],\n",
    "        'Gender': ['Female', 'Male', 'Female']}\n",
    "df = pd.DataFrame(data)\n",
    "print(df)\n"
   ]
  },
  {
   "cell_type": "code",
   "execution_count": null,
   "id": "550cce13-3323-4250-b790-16db3928c489",
   "metadata": {},
   "outputs": [],
   "source": []
  },
  {
   "cell_type": "markdown",
   "id": "d3b4c382-41fd-43e1-9e22-b6000141250b",
   "metadata": {},
   "source": [
    "Q4. What is ‘DataFrame’ in pandas and how is it different from pandas.series? Explain with an example."
   ]
  },
  {
   "cell_type": "markdown",
   "id": "1ed775e4-c23f-4384-bd3c-e2de545c60ec",
   "metadata": {},
   "source": [
    "A Series is a one-dimensional array-like object that can hold any data type such as integers, floats, strings, and so on. Each element in the series has a unique index. We can think of a Series as a single column of data, with each row represented by its index.\n",
    "\n",
    "A DataFrame, on the other hand, is a two-dimensional tabular data structure with labeled axes (rows and columns). It can be thought of as a collection of Series, where each Series represents a column of data. In other words, a DataFrame is a table with rows and columns, similar to an Excel spreadsheet or a SQL table.\n",
    "\n",
    "Example:\n",
    "\n"
   ]
  },
  {
   "cell_type": "code",
   "execution_count": 19,
   "id": "d2f1c1e8-fe5b-4218-afdb-b1fc457942c6",
   "metadata": {},
   "outputs": [
    {
     "name": "stdout",
     "output_type": "stream",
     "text": [
      "0    10\n",
      "1    20\n",
      "2    30\n",
      "3    40\n",
      "4    50\n",
      "dtype: int64\n",
      "     Name  Age    Country\n",
      "0   Alice   25        USA\n",
      "1     Bob   30     Canada\n",
      "2  Clarie   35  Australia\n"
     ]
    }
   ],
   "source": [
    "import pandas as pd\n",
    "# Creating a Series\n",
    "my_series = pd.Series([10, 20, 30, 40, 50])\n",
    "# Creating a DataFrame\n",
    "data = {'Name': ['Alice', 'Bob', 'Clarie'],\n",
    "        'Age': [25, 30, 35],\n",
    "        'Country': ['USA', 'Canada', 'Australia']}\n",
    "df = pd.DataFrame(data)\n",
    "# Printing the Series and the DataFrame\n",
    "print(my_series)\n",
    "\n",
    "print(df)\n"
   ]
  },
  {
   "cell_type": "markdown",
   "id": "c9af99aa-02af-4cb2-8a46-fd08364f9050",
   "metadata": {},
   "source": [
    "As we can see, the my_series object is a one-dimensional array-like object with five elements and an index column that starts from 0. On the other hand, the df object is a two-dimensional tabular data structure with five rows and three columns, each with a label ('Name', 'Age', and 'Country')."
   ]
  },
  {
   "cell_type": "code",
   "execution_count": null,
   "id": "09303c1b-2eec-49f0-b0e0-7c0f1a45ae1f",
   "metadata": {},
   "outputs": [],
   "source": []
  },
  {
   "cell_type": "markdown",
   "id": "e1585549-45ce-4d5d-a7f9-5961280d43bb",
   "metadata": {},
   "source": [
    "Q5. What are some common functions you can use to manipulate data in a Pandas DataFrame? Can \n",
    "you give an example of when you might use one of these functions?"
   ]
  },
  {
   "cell_type": "markdown",
   "id": "1f9564dc-69cc-426f-9a0c-2fc427374397",
   "metadata": {},
   "source": [
    "Ans:\n",
    "\n",
    "Pandas provides a wide range of functions to manipulate data in a DataFrame. Here are some of the most common ones:\n",
    "\n",
    "1. head() and tail(): These functions are used to show the first and last n rows of a DataFrame. For example, df.head(10) will show the first 10 rows of the DataFrame df.\n",
    "\n",
    "2. describe(): This function generates descriptive statistics of the DataFrame, such as mean, standard deviation, minimum, maximum, and quartile values. For example, df.describe() will show the statistical summary of the DataFrame df.\n",
    "\n",
    "3. sort_values(): This function is used to sort the DataFrame by one or more columns. For example, df.sort_values('Age') will sort the DataFrame df by the Age column in ascending order.\n",
    "\n",
    "4. groupby(): This function is used to group the DataFrame by one or more columns and perform aggregation functions on the groups. For example, df.groupby('Country')['Age'].mean() will group the DataFrame df by the Country column and calculate the mean age for each country.\n",
    "\n",
    "5. drop(): This function is used to remove rows or columns from the DataFrame. For example, df.drop(['Country'], axis=1) will remove the Country column from the DataFrame df.\n",
    "\n",
    "6. apply(): This function is used to apply a function to each element or row/column of the DataFrame. For example, df['Age'].apply(lambda x: x + 5) will add 5 to each element in the Age column of the DataFrame df"
   ]
  },
  {
   "cell_type": "code",
   "execution_count": 21,
   "id": "ce79dab5-2753-4ffd-b31d-e1d59afa2df5",
   "metadata": {},
   "outputs": [
    {
     "name": "stdout",
     "output_type": "stream",
     "text": [
      "     Name  Age  Gender\n",
      "0   Alice   25  Female\n",
      "1     Bob   30    Male\n",
      "2  Claire   27  Female\n",
      "    Name  Age  Gender\n",
      "0  Alice   25  Female\n",
      "1    Bob   30    Male\n"
     ]
    }
   ],
   "source": [
    "#Example\n",
    "import pandas as pd\n",
    "data = {'Name': ['Alice', 'Bob', 'Claire'],\n",
    "        'Age': [25, 30, 27],\n",
    "        'Gender': ['Female', 'Male', 'Female']}\n",
    "df = pd.DataFrame(data)\n",
    "print(df)\n",
    "print(df.head(2))\n"
   ]
  },
  {
   "cell_type": "code",
   "execution_count": 22,
   "id": "aeeb4134-9a51-4f39-a55b-cadd8f2284c0",
   "metadata": {},
   "outputs": [
    {
     "name": "stdout",
     "output_type": "stream",
     "text": [
      "      Name  Age  Grade\n",
      "0    Alice   25   80.0\n",
      "1      Bob   30   90.0\n",
      "2  Charlie   35   80.0\n",
      "3    David   40   70.0\n",
      "4      Eva   45   80.0\n"
     ]
    }
   ],
   "source": [
    "#Example\n",
    "import pandas as pd\n",
    "# Creating a DataFrame\n",
    "data = {'Name': ['Alice', 'Bob', 'Charlie', 'David', 'Eva'],\n",
    "        'Age': [25, 30, 35, 40, 45],\n",
    "        'Grade': [80, 90, None, 70, None]}\n",
    "df = pd.DataFrame(data)\n",
    "# Filling missing grades with the mean grade\n",
    "mean_grade = df['Grade'].mean()\n",
    "df['Grade'].fillna(mean_grade, inplace=True)\n",
    "# Printing the updated DataFrame\n",
    "print(df)\n"
   ]
  },
  {
   "cell_type": "code",
   "execution_count": null,
   "id": "30e89207-e17d-4f8a-9c36-3a0314af86f3",
   "metadata": {},
   "outputs": [],
   "source": []
  },
  {
   "cell_type": "markdown",
   "id": "7bc5f1fd-18cf-4e9d-94f4-d34d6b632b1a",
   "metadata": {},
   "source": [
    "Q6. Which of the following is mutable in nature Series, DataFrame, Panel?"
   ]
  },
  {
   "cell_type": "markdown",
   "id": "a0303111-f5d6-415a-addb-3c4780e851ac",
   "metadata": {},
   "source": [
    "Ans:\n",
    "\n",
    "Series and DataFrame are mutable in nature, while Panel is immutable.\n",
    "\n",
    "In other words, the values in Series and DataFrame can be changed or modified after they have been created. On the other hand, the values in Panel cannot be changed once they are created. Instead, a new Panel object must be created with the desired changes. However, it's worth noting that Panel is deprecated in recent versions of Pandas and is no longer recommended for use."
   ]
  },
  {
   "cell_type": "code",
   "execution_count": null,
   "id": "269b6e88-b9c6-4854-9471-e1837c778f5a",
   "metadata": {},
   "outputs": [],
   "source": []
  },
  {
   "cell_type": "markdown",
   "id": "20950ec6-f6ca-48e4-9e6c-05cdad886935",
   "metadata": {},
   "source": [
    "Q7. Create a DataFrame using multiple Series. Explain with an example."
   ]
  },
  {
   "cell_type": "markdown",
   "id": "995d72df-54c5-4bfb-ba70-dc5c153542de",
   "metadata": {},
   "source": [
    "Ans:\n",
    "We can create a Pandas DataFrame by combining multiple Pandas Series. Here's an example:"
   ]
  },
  {
   "cell_type": "code",
   "execution_count": 24,
   "id": "f16a50ab-9213-45cb-a3f4-bd3c30836afd",
   "metadata": {},
   "outputs": [
    {
     "name": "stdout",
     "output_type": "stream",
     "text": [
      "      Name  Age  Grade\n",
      "0    Alice   25     80\n",
      "1      Bob   30     90\n",
      "2  Charlie   35     85\n",
      "3    David   40     70\n",
      "4      Eva   45     95\n"
     ]
    }
   ],
   "source": [
    "import pandas as pd\n",
    "# Creating a Series of student names\n",
    "names = pd.Series(['Alice', 'Bob', 'Charlie', 'David', 'Eva'])\n",
    "# Creating a Series of student ages\n",
    "ages = pd.Series([25, 30, 35, 40, 45])\n",
    "# Creating a Series of student grades\n",
    "grades = pd.Series([80, 90, 85, 70, 95])\n",
    "# Combining the Series into a DataFrame\n",
    "data = {'Name': names, 'Age': ages, 'Grade': grades}\n",
    "df = pd.DataFrame(data)\n",
    "# Printing the DataFrame\n",
    "print(df)\n"
   ]
  },
  {
   "cell_type": "code",
   "execution_count": null,
   "id": "e816487c-482f-4745-afea-c45116130756",
   "metadata": {},
   "outputs": [],
   "source": []
  }
 ],
 "metadata": {
  "kernelspec": {
   "display_name": "Python 3 (ipykernel)",
   "language": "python",
   "name": "python3"
  },
  "language_info": {
   "codemirror_mode": {
    "name": "ipython",
    "version": 3
   },
   "file_extension": ".py",
   "mimetype": "text/x-python",
   "name": "python",
   "nbconvert_exporter": "python",
   "pygments_lexer": "ipython3",
   "version": "3.10.8"
  }
 },
 "nbformat": 4,
 "nbformat_minor": 5
}
