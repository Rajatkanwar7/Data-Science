{
 "cells": [
  {
   "cell_type": "markdown",
   "id": "2494ad11-3253-404f-b15f-b1ec06f72a6f",
   "metadata": {},
   "source": [
    "## Q1. Write a Python function that takes in two arrays of data and calculates the F-value for a variance ratio test. The function should return the F-value and the corresponding p-value for the test."
   ]
  },
  {
   "cell_type": "code",
   "execution_count": 1,
   "id": "9b6bd628-636a-429b-9644-bdd6e6e5c257",
   "metadata": {},
   "outputs": [
    {
     "name": "stdout",
     "output_type": "stream",
     "text": [
      "F-value: 4.00\n",
      "P-value: 0.2080\n"
     ]
    }
   ],
   "source": [
    "import numpy as np\n",
    "from scipy.stats import f\n",
    "def variance_ratio_test(array1, array2):\n",
    "    \"\"\"\n",
    "    Perform variance ratio test on two arrays of data.\n",
    "    Parameters:\n",
    "    array1 (array-like): First array of data\n",
    "    array2 (array-like): Second array of data\n",
    "    Returns:\n",
    "    f_value (float): F-value for the variance ratio test\n",
    "    p_value (float): Corresponding p-value for the test\n",
    "    \"\"\"\n",
    "    n1, n2 = len(array1), len(array2)\n",
    "    var1, var2 = np.var(array1), np.var(array2)\n",
    "    if var1 >= var2:\n",
    "        f_value = var1 / var2\n",
    "        dfn, dfd = n1-1, n2-1\n",
    "    else:\n",
    "        f_value = var2 / var1\n",
    "        dfn, dfd = n2-1, n1-1\n",
    "    p_value = f.sf(f_value, dfn, dfd) * 2\n",
    "    return f_value, p_value\n",
    "array1 = [1, 2, 3, 4, 5]\n",
    "array2 = [2, 4, 6, 8, 10]\n",
    "f_value, p_value = variance_ratio_test(array1, array2)\n",
    "print(f\"F-value: {f_value:.2f}\")\n",
    "print(f\"P-value: {p_value:.4f}\")\n",
    "# Example usage"
   ]
  },
  {
   "cell_type": "markdown",
   "id": "5a39f1bd-096f-42bd-ac53-32afef92e724",
   "metadata": {},
   "source": [
    "Here,the p-value is calculated using the f.sf method from scipy.stats, which calculates the survival function (1 - CDF) of the F distribution. We multiply this by 2 to get the two-tailed p-value for a two-sample test.\n"
   ]
  },
  {
   "cell_type": "code",
   "execution_count": null,
   "id": "d85f2198-2422-4167-a1a3-a6fed01c51fe",
   "metadata": {},
   "outputs": [],
   "source": []
  },
  {
   "cell_type": "markdown",
   "id": "f1e9d785-39cc-4b58-a6f8-dc936978a653",
   "metadata": {},
   "source": [
    "## Q2. Given a significance level of 0.05 and the degrees of freedom for the numerator and denominator of an F-distribution, write a Python function that returns the critical F-value for a two-tailed test."
   ]
  },
  {
   "cell_type": "code",
   "execution_count": 2,
   "id": "b0873725-909f-443d-ae28-b96f6c68551b",
   "metadata": {},
   "outputs": [
    {
     "name": "stdout",
     "output_type": "stream",
     "text": [
      "Critical F-value: 4.2361\n"
     ]
    }
   ],
   "source": [
    "from scipy.stats import f\n",
    "def critical_f_value(dfn, dfd):\n",
    "    \"\"\"\n",
    "    Calculate the critical F-value for a two-tailed test at a significance level of 0.05.\n",
    "    Parameters:\n",
    "    dfn (int): Degrees of freedom for the numerator\n",
    "    dfd (int): Degrees of freedom for the denominator\n",
    "    Returns:\n",
    "    f_crit (float): Critical F-value for the test\n",
    "    \"\"\"\n",
    "    alpha = 0.05\n",
    "    f_crit = f.ppf(1 - alpha/2, dfn, dfd)\n",
    "    return f_crit\n",
    "# Example usage\n",
    "dfn = 5\n",
    "dfd = 10\n",
    "f_crit = critical_f_value(dfn, dfd)\n",
    "print(f\"Critical F-value: {f_crit:.4f}\")\n"
   ]
  },
  {
   "cell_type": "code",
   "execution_count": null,
   "id": "9b98e9d5-f0a8-44af-8aaf-d319ceb42afe",
   "metadata": {},
   "outputs": [],
   "source": []
  },
  {
   "cell_type": "markdown",
   "id": "5e9a8455-562a-45a9-85bc-51c78b5f6e19",
   "metadata": {},
   "source": [
    "## Q3. Write a Python program that generates random samples from two normal distributions with known variances and uses an F-test to determine if the variances are equal. The program should output the F-value, degrees of freedom, and p-value for the test."
   ]
  },
  {
   "cell_type": "code",
   "execution_count": 3,
   "id": "ca986008-e6f3-4e1a-a712-30d4104bd3ff",
   "metadata": {},
   "outputs": [
    {
     "name": "stdout",
     "output_type": "stream",
     "text": [
      "F-value: 0.9028\n",
      "Degrees of freedom: (19, 24)\n",
      "P-value: 1.1705\n"
     ]
    }
   ],
   "source": [
    "import numpy as np\n",
    "from scipy.stats import f\n",
    "# Set random seed for reproducibility\n",
    "np.random.seed(123)\n",
    "# Define parameters\n",
    "n1, n2 = 20, 25\n",
    "mu1, mu2 = 10, 12\n",
    "var1, var2 = 5, 8\n",
    "# Generate random samples from normal distributions\n",
    "sample1 = np.random.normal(mu1, np.sqrt(var1), n1)\n",
    "sample2 = np.random.normal(mu2, np.sqrt(var2), n2)\n",
    "# Calculate F-value and p-value for F-test\n",
    "f_value = np.var(sample1, ddof=1) / np.var(sample2, ddof=1)\n",
    "dfn, dfd = n1 - 1, n2 - 1\n",
    "p_value = f.sf(f_value, dfn, dfd) * 2\n",
    "# Print results\n",
    "print(f\"F-value: {f_value:.4f}\")\n",
    "print(f\"Degrees of freedom: ({dfn}, {dfd})\")\n",
    "print(f\"P-value: {p_value:.4f}\")\n"
   ]
  },
  {
   "cell_type": "code",
   "execution_count": null,
   "id": "9049d32c-a9bd-4476-9a71-dc72f6b01968",
   "metadata": {},
   "outputs": [],
   "source": []
  },
  {
   "cell_type": "markdown",
   "id": "d0dbb1f5-d2d2-400e-92dc-2de26a50a7d4",
   "metadata": {},
   "source": [
    "## Q4.The variances of two populations are known to be 10 and 15. A sample of 12 observations is taken from each population. Conduct an F-test at the 5% significance level to determine if the variances are significantly different."
   ]
  },
  {
   "cell_type": "markdown",
   "id": "9d9c7d62-f3f0-495f-8fdc-c11afe7fd8ce",
   "metadata": {},
   "source": [
    "Ans:\n",
    "    \n",
    "To conduct an F-test to determine if the variances of two populations are significantly different, we need to set up the null and alternative hypotheses:\n",
    "\n",
    "1. Null hypothesis: The variances of the two populations are equal.\n",
    "2. Alternative hypothesis: The variances of the two populations are not equal.\n",
    "\n",
    "We will use a significance level of 0.05 for this test.\n",
    "The F-test statistic is calculated as the ratio of the larger sample variance to the smaller sample variance. In this case, the larger sample variance is 15 and the smaller sample variance is 10, so the F-test statistic is:\n",
    "\n",
    "F = 15/10 = 1.5\n",
    "\n",
    "To calculate the p-value for this test, we need to look up the critical F-value in an F-distribution table or use a calculator. With 11 degrees of freedom for the numerator and 11 degrees of freedom for the denominator (since we have 12 observations in each sample), the critical F-value at a 5% significance level is approximately 2.687.\n",
    "\n",
    "Since the calculated F-value of 1.5 is less than the critical F-value of 2.687, we fail to reject the null hypothesis. We do not have sufficient evidence to conclude that the variances of the two populations are significantly different at the 5% significance level.\n",
    "\n",
    "Therefore, we can conclude that there is not enough evidence to suggest that the variances of the two populations are different at a 5% significance level"
   ]
  },
  {
   "cell_type": "code",
   "execution_count": null,
   "id": "cd595699-ba9a-4812-b6c5-54dff2b1fe43",
   "metadata": {},
   "outputs": [],
   "source": []
  },
  {
   "cell_type": "markdown",
   "id": "dd799de5-b6e5-495f-a14c-333323e4b0b0",
   "metadata": {},
   "source": [
    "## Q5. A manufacturer claims that the variance of the diameter of a certain product is 0.005. A sample of 25 products is taken, and the sample variance is found to be 0.006. Conduct an F-test at the 1% significance level to determine if the claim is justified."
   ]
  },
  {
   "cell_type": "markdown",
   "id": "507f70d4-69f0-42be-85a2-246d9d1eec20",
   "metadata": {},
   "source": [
    "Ans:\n",
    "\n",
    "To conduct an F-test, we need to set up the null and alternative hypotheses as follows:\n",
    "1. Null hypothesis (H0): The variance of the diameter of the product is 0.005.\n",
    "2. Alternative hypothesis (HA): The variance of the diameter of the product is greater than 0.005.\n",
    "\n",
    "We will use the F-test statistic to test these hypotheses, which is defined as the ratio of the sample variance to the population variance:\n",
    "\n",
    "F = sample variance / population variance\n",
    "\n",
    "Under the null hypothesis, this statistic follows an F-distribution with degrees of freedom (n-1) and (N-n), where n is the sample size and N is the population size. In this case, we have:\n",
    "\n",
    "n = 25\n",
    "\n",
    "N = unknown\n",
    "\n",
    "To find the critical value of F at the 1% significance level, we need to look up the F-distribution table with (24, infinity) degrees of freedom. From the table, we find that the critical value is 2.492.\n",
    "\n",
    "Now we can calculate the test statistic:\n",
    "\n",
    "F = sample variance / population variance = 0.006 / 0.005 = 1.2\n",
    "\n",
    "Since the calculated F-value (1.2) is less than the critical value (2.492), we fail to reject the null hypothesis. Therefore, we conclude that there is not enough evidence to support the claim that the variance of the diameter of the product is greater than 0.005 at the 1% significance level.\n"
   ]
  },
  {
   "cell_type": "code",
   "execution_count": null,
   "id": "e4f77830-dc4f-4d7d-8320-1223a273643e",
   "metadata": {},
   "outputs": [],
   "source": []
  },
  {
   "cell_type": "markdown",
   "id": "6af70b6b-d376-42cb-a00d-aab3fed81e12",
   "metadata": {},
   "source": [
    "## Q6. Write a Python function that takes in the degrees of freedom for the numerator and denominator of an F-distribution and calculates the mean and variance of the distribution. The function should return the mean and variance as a tuple."
   ]
  },
  {
   "cell_type": "code",
   "execution_count": 5,
   "id": "fa9c67bd-1d49-4a4b-8442-a57457840221",
   "metadata": {},
   "outputs": [
    {
     "name": "stdout",
     "output_type": "stream",
     "text": [
      "Mean: 1.1111111111111112\n",
      "Variance: 0.7098765432098766\n"
     ]
    }
   ],
   "source": [
    "import math\n",
    "def f_distribution_mean_variance(df1, df2):\n",
    "    \"\"\"\n",
    "    Calculates the mean and variance of an F-distribution with degrees of freedom df1 and df2.\n",
    "    Args:\n",
    "    - df1: degrees of freedom for the numerator\n",
    "    - df2: degrees of freedom for the denominator\n",
    "    Returns:\n",
    "    - tuple of the mean and variance of the F-distribution\n",
    "    \"\"\"\n",
    "    # Calculate the mean of the F-distribution\n",
    "    if df2 <= 2:\n",
    "        mean = math.inf\n",
    "    else:\n",
    "        mean = df2 / (df2 - 2)\n",
    "    # Calculate the variance of the F-distribution\n",
    "    if df2 <= 4:\n",
    "        variance = math.nan\n",
    "    else:\n",
    "        variance = (2 * df2 ** 2 * (df1 + df2 - 2)) / (df1 * (df2 - 2) ** 2 * (df2 - 4))\n",
    "    return (mean, variance)\n",
    "mean, variance = f_distribution_mean_variance(5, 20)\n",
    "print(\"Mean:\", mean)\n",
    "print(\"Variance:\", variance)"
   ]
  },
  {
   "cell_type": "code",
   "execution_count": null,
   "id": "79d5d21c-dcd1-4783-b095-b4836c3459f5",
   "metadata": {},
   "outputs": [],
   "source": []
  },
  {
   "cell_type": "markdown",
   "id": "978ee5c2-c522-4555-a932-cbb54be46b97",
   "metadata": {
    "tags": []
   },
   "source": [
    "## Q7. A random sample of 10 measurements is taken from a normal population with unknown variance. The sample variance is found to be 25. Another random sample of 15 measurements is taken from another normal population with unknown variance, and the sample variance is found to be 20. Conduct an F-test at the 10% significance level to determine if the variances are significantly different."
   ]
  },
  {
   "cell_type": "markdown",
   "id": "8bdb59af-9869-49e9-b327-721d6e18ad8d",
   "metadata": {},
   "source": [
    "Ans:\n",
    "    \n",
    "To determine if the variances of the two populations are significantly different, we can conduct an F-test at the 10% significance level.\n",
    "\n",
    "The null hypothesis is that the variances are equal, and the alternative hypothesis is that they are not equal.\n",
    "\n",
    "The test statistic for the F-test is calculated as the ratio of the sample variances:\n",
    "\n",
    "F = s1^2 / s2^2\n",
    "\n",
    "where s1^2 is the sample variance for the first population and s2^2 is the sample variance for the second population.\n",
    "\n",
    "Under the null hypothesis of equal variances, the F-statistic follows an F-distribution with (n1 - 1) and (n2 - 1) degrees of freedom, where n1 and n2 are the sample sizes for the first and second populations, respectively.\n",
    "\n",
    "To conduct the F-test, we can follow these steps:\n",
    "1. Set the significance level (alpha) to 0.10.\n",
    "2. Calculate the F-statistic using the sample variances and sample sizes.\n",
    "3. Calculate the critical value from the F-distribution with (n1 - 1) and (n2 - 1) degrees of freedom and the given significance level.\n",
    "4. Compare the F-statistic to the critical value. If the F-statistic is greater than the critical value, reject the null hypothesis and conclude that the variances are significantly different. Otherwise, fail to reject the null hypothesis.\n",
    "\n",
    "Let's apply these steps to the given problem:\n",
    "\n",
    "alpha = 0.10\n",
    "\n",
    "F = s1^2 / s2^2 = 25 / 20 = 1.25\n",
    "\n",
    "The critical value for the F-distribution with (10 - 1) and (15 - 1) degrees of freedom at alpha = 0.10 is 2.449.\n",
    "\n",
    "Since 1.25 is less than 2.449, we fail to reject the null hypothesis and conclude that there is not enough evidence to suggest that the variances are significantly different at the 10% significance level.\n",
    "\n",
    "Therefore, we cannot conclude that the variances of the two populations are significantly different based on the given samples."
   ]
  },
  {
   "cell_type": "code",
   "execution_count": null,
   "id": "d5eb38ac-caba-4369-8e37-e87785b9772c",
   "metadata": {},
   "outputs": [],
   "source": []
  },
  {
   "cell_type": "markdown",
   "id": "c6203298-9bac-4e90-8538-7d675db6e718",
   "metadata": {},
   "source": [
    "## Q8. The following data represent the waiting times in minutes at two different restaurants on a Saturday night: Restaurant A: 24, 25, 28, 23, 22, 20, 27; Restaurant B: 31, 33, 35, 30, 32, 36. Conduct an F-test at the 5% significance level to determine if the variances are significantly different."
   ]
  },
  {
   "cell_type": "markdown",
   "id": "088dc540-87b6-43c1-9d2f-bcfbd8401001",
   "metadata": {},
   "source": [
    "Ans:\n",
    "    \n",
    "To test whether the variances of the waiting times at the two restaurants are significantly different, we can use the F-test. The null hypothesis is that the variances are equal, and the alternative hypothesis is that they are not equal.\n",
    "We can calculate the F-statistic using the formula:\n",
    "\n",
    "F = s1^2 / s2^2\n",
    "\n",
    "where s1^2 is the variance of Restaurant A's waiting times, and s2^2 is the variance of Restaurant B's waiting times.\n",
    "\n",
    "First, let's calculate the variances:\n",
    "\n",
    "s1^2 = ((24-25.43)^2 + (25-25.43)^2 + (28-25.43)^2 + (23-25.43)^2 + (22-25.43)^2 + (20-25.43)^2 + (27-25.43)^2) / 6 = 9.238\n",
    "\n",
    "s2^2 = ((31-32.83)^2 + (33-32.83)^2 + (35-32.83)^2 + (30-32.83)^2 + (32-32.83)^2 + (36-32.83)^2) / 5 = 7.476\n",
    "\n",
    "Next, we can calculate the F-statistic:\n",
    "\n",
    "F = s1^2 / s2^2 = 9.238 / 7.476 = 1.234\n",
    "\n",
    "To test the hypothesis, we need to compare the F-statistic to the F-distribution with (n1-1) and (n2-1) degrees of freedom at the 5% significance level. The degrees of freedom are 6-1 = 5 for Restaurant A and 5-1 = 4 for Restaurant B.\n",
    "\n",
    "Using a statistical software or F-distribution tables, we can find that the critical F-value for a 5% significance level with 5 and 4 degrees of freedom is 4.10.\n",
    "\n",
    "Since our calculated F-statistic (1.234) is less than the critical F-value (4.10), we fail to reject the null hypothesis that the variances are equal. Therefore, we conclude that there is not enough evidence to suggest that the variances of waiting times at the two restaurants are significantly different"
   ]
  },
  {
   "cell_type": "code",
   "execution_count": null,
   "id": "641ab1b8-59b7-4dbf-814a-0fd75f96adff",
   "metadata": {},
   "outputs": [],
   "source": []
  },
  {
   "cell_type": "markdown",
   "id": "e4ad4dff-2bbb-41d8-8983-f5adcb7518ab",
   "metadata": {},
   "source": [
    "## Q9. The following data represent the test scores of two groups of students: Group A: 80, 85, 90, 92, 87, 83; Group B: 75, 78, 82, 79, 81, 84. Conduct an F-test at the 1% significance level to determine if the variances are significantly different."
   ]
  },
  {
   "cell_type": "markdown",
   "id": "b153e222-c3a7-475c-8c89-6c13beef0e14",
   "metadata": {},
   "source": [
    "Ans:\n",
    "    \n",
    "To test whether the variances of the test scores of Group A and Group B are significantly different, we can use the F-test. \n",
    "\n",
    "The null hypothesis is that the variances are equal, and the alternative hypothesis is that they are not equal.\n",
    "\n",
    "We can calculate the F-statistic using the formula:\n",
    "\n",
    "F = s1^2 / s2^2\n",
    "\n",
    "where s1^2 is the variance of Group A's test scores, and s2^2 is the variance of Group B's test scores.\n",
    "\n",
    "First, let's calculate the variances:\n",
    "\n",
    "s1^2 = ((80-87)^2 + (85-87)^2 + (90-87)^2 + (92-87)^2 + (87-87)^2 + (83-87)^2) / 5 = 28.8\n",
    "\n",
    "s2^2 = ((75-80)^2 + (78-80)^2 + (82-80)^2 + (79-80)^2 + (81-80)^2 + (84-80)^2) / 5 = 10.8\n",
    "\n",
    "Next, we can calculate the F-statistic:\n",
    "\n",
    "F = s1^2 / s2^2 = 28.8 / 10.8 = 2.67\n",
    "\n",
    "To test the hypothesis, we need to compare the F-statistic to the F-distribution with (n1-1) and (n2-1) degrees of freedom at the 1% significance level. The degrees of freedom are 5-1 = 4 for Group A and 5-1 = 4 for Group B.\n",
    "Using a statistical software or F-distribution tables, we can find that the critical F-value for a 1% significance level with 4 and 4 degrees of freedom is 7.44.\n",
    "\n",
    "Since our calculated F-statistic (2.67) is less than the critical F-value (7.44), we fail to reject the null hypothesis that the variances are equal. Therefore, we conclude that there is not enough evidence to suggest that the variances of test scores of Group A and Group B are significantly different"
   ]
  },
  {
   "cell_type": "code",
   "execution_count": null,
   "id": "a0753b2b-0b22-4bf2-af1e-daf7fa0de83e",
   "metadata": {},
   "outputs": [],
   "source": []
  }
 ],
 "metadata": {
  "kernelspec": {
   "display_name": "Python 3 (ipykernel)",
   "language": "python",
   "name": "python3"
  },
  "language_info": {
   "codemirror_mode": {
    "name": "ipython",
    "version": 3
   },
   "file_extension": ".py",
   "mimetype": "text/x-python",
   "name": "python",
   "nbconvert_exporter": "python",
   "pygments_lexer": "ipython3",
   "version": "3.10.8"
  }
 },
 "nbformat": 4,
 "nbformat_minor": 5
}
