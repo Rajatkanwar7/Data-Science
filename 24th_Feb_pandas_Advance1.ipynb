{
 "cells": [
  {
   "cell_type": "markdown",
   "id": "26f9f6b9-34d7-4c64-9015-72e4f953bbea",
   "metadata": {},
   "source": [
    "Q1. List any five functions of the pandas library with execution."
   ]
  },
  {
   "cell_type": "markdown",
   "id": "fdc4378a-d92c-4275-ad27-886fab4c2d75",
   "metadata": {},
   "source": [
    "1. read_csv(): This function is used to read CSV (Comma Separated Values) files into a pandas DataFrame object. Here's an example of how to use it:"
   ]
  },
  {
   "cell_type": "code",
   "execution_count": 7,
   "id": "dbe88858-fcea-4311-b070-3ace8dacb0e4",
   "metadata": {},
   "outputs": [
    {
     "name": "stdout",
     "output_type": "stream",
     "text": [
      "   rank         name channel_Info                  Category Posts Followers  \\\n",
      "0     1    instagram        brand               photography  7.3K    580.1M   \n",
      "1     2    cristiano         male  Health, Sports & Fitness  3.4K    519.9M   \n",
      "2     3     leomessi         male  Health, Sports & Fitness    1K    403.7M   \n",
      "3     4  kyliejenner       female             entertainment    7K    375.9M   \n",
      "4     5  selenagomez       female             entertainment  1.8K    365.3M   \n",
      "\n",
      "  Avg. Likes Eng Rate  \n",
      "0      7.31K     0.1%  \n",
      "1      3.41K     1.4%  \n",
      "2      0.97K     1.7%  \n",
      "3      7.02K     1.7%  \n",
      "4      1.85K     1.1%  \n"
     ]
    }
   ],
   "source": [
    "import pandas as pd\n",
    "df = pd.read_csv('data.csv')\n",
    "print(df.head())\n"
   ]
  },
  {
   "cell_type": "markdown",
   "id": "0f138479-9f3d-46a0-84cc-28857707e854",
   "metadata": {},
   "source": [
    "2. groupby(): This function is used to group rows of a DataFrame by one or more columns and perform an aggregate function on each group. Here's an example of how to use it:"
   ]
  },
  {
   "cell_type": "code",
   "execution_count": 16,
   "id": "62fe69aa-dab7-4f15-9041-d26c767c8e0e",
   "metadata": {},
   "outputs": [
    {
     "name": "stdout",
     "output_type": "stream",
     "text": [
      "rank  Category                \n",
      "1     photography                 580.1M\n",
      "2     Health, Sports & Fitness    519.9M\n",
      "3     Health, Sports & Fitness    403.7M\n",
      "4     entertainment               375.9M\n",
      "5     entertainment               365.3M\n",
      "Name: Followers, dtype: object\n"
     ]
    }
   ],
   "source": [
    "import pandas as pd\n",
    "df = pd.read_csv('data.csv')\n",
    "grouped_data = df.groupby(['rank', 'Category'])['Followers'].sum()\n",
    "print(grouped_data.head())\n"
   ]
  },
  {
   "cell_type": "markdown",
   "id": "da001a76-6fb1-4e83-9934-8c777b2a9382",
   "metadata": {},
   "source": [
    "3. dropna(): This function is used to remove rows or columns from a DataFrame that contain missing values (NaN). Here's an example of how to use it:"
   ]
  },
  {
   "cell_type": "code",
   "execution_count": 17,
   "id": "1c52d1e4-7e4b-4903-9884-bd2b12841f73",
   "metadata": {},
   "outputs": [
    {
     "name": "stdout",
     "output_type": "stream",
     "text": [
      "   rank         name channel_Info                  Category Posts Followers  \\\n",
      "0     1    instagram        brand               photography  7.3K    580.1M   \n",
      "1     2    cristiano         male  Health, Sports & Fitness  3.4K    519.9M   \n",
      "2     3     leomessi         male  Health, Sports & Fitness    1K    403.7M   \n",
      "3     4  kyliejenner       female             entertainment    7K    375.9M   \n",
      "4     5  selenagomez       female             entertainment  1.8K    365.3M   \n",
      "\n",
      "  Avg. Likes Eng Rate  \n",
      "0      7.31K     0.1%  \n",
      "1      3.41K     1.4%  \n",
      "2      0.97K     1.7%  \n",
      "3      7.02K     1.7%  \n",
      "4      1.85K     1.1%  \n"
     ]
    }
   ],
   "source": [
    "import pandas as pd\n",
    "df = pd.read_csv('data.csv')\n",
    "df = df.dropna()\n",
    "print(df.head())\n"
   ]
  },
  {
   "cell_type": "markdown",
   "id": "941b5935-098a-427f-bb35-9daeac4bb5bb",
   "metadata": {},
   "source": [
    "4. merge(): This function is used to merge two or more DataFrames based on a common column.\n",
    "\n",
    "5. pivot_table(): This function is used to create a spreadsheet-style pivot table as a DataFrame. Here's an example of how to use it:"
   ]
  },
  {
   "cell_type": "code",
   "execution_count": 99,
   "id": "48a06d8c-df90-4f04-818c-ca918471fdb7",
   "metadata": {},
   "outputs": [
    {
     "name": "stdout",
     "output_type": "stream",
     "text": [
      "Category               Beauty & Makeup Craft/DIY Health, Sports & Fitness  \\\n",
      "channel_Info Followers                                                      \n",
      "brand        220.6M                NaN       NaN                      NaN   \n",
      "             257.6M                NaN       NaN                     nike   \n",
      "             35.8M                 NaN       NaN                      NaN   \n",
      "             36.4M                 NaN       NaN                      NaN   \n",
      "             38.5M                 NaN       NaN                      NaN   \n",
      "...                                ...       ...                      ...   \n",
      "male         80.2M                 NaN       NaN                      NaN   \n",
      "             84.9M                 NaN       NaN                      NaN   \n",
      "             87.2M                 NaN       NaN                 k.mbappe   \n",
      "             91.6M                 NaN       NaN                      NaN   \n",
      "             99.9M                 NaN       NaN          championsleague   \n",
      "\n",
      "Category               Lifestyle News & Politics entertainment fashion food  \\\n",
      "channel_Info Followers                                                        \n",
      "brand        220.6M          NaN             NaN        natgeo     NaN  NaN   \n",
      "             257.6M          NaN             NaN           NaN     NaN  NaN   \n",
      "             35.8M           NaN             NaN        disney     NaN  NaN   \n",
      "             36.4M           NaN             NaN           NaN     NaN  NaN   \n",
      "             38.5M           NaN             NaN           NaN      hm  NaN   \n",
      "...                          ...             ...           ...     ...  ...   \n",
      "male         80.2M           NaN             NaN       khaby00     NaN  NaN   \n",
      "             84.9M           NaN             NaN     vindiesel     NaN  NaN   \n",
      "             87.2M           NaN             NaN           NaN     NaN  NaN   \n",
      "             91.6M           NaN             NaN     gal_gadot     NaN  NaN   \n",
      "             99.9M           NaN             NaN           NaN     NaN  NaN   \n",
      "\n",
      "Category               photography    technology  \n",
      "channel_Info Followers                            \n",
      "brand        220.6M            NaN           NaN  \n",
      "             257.6M            NaN           NaN  \n",
      "             35.8M             NaN           NaN  \n",
      "             36.4M             NaN  mercedesbenz  \n",
      "             38.5M             NaN           NaN  \n",
      "...                            ...           ...  \n",
      "male         80.2M             NaN           NaN  \n",
      "             84.9M             NaN           NaN  \n",
      "             87.2M             NaN           NaN  \n",
      "             91.6M             NaN           NaN  \n",
      "             99.9M             NaN           NaN  \n",
      "\n",
      "[182 rows x 10 columns]\n"
     ]
    }
   ],
   "source": [
    "import pandas as pd\n",
    "import numpy as np\n",
    "df = pd.read_csv('data.csv')\n",
    "table = pd.pivot_table(df, values ='name', index =['channel_Info', 'Followers'],columns =['Category'], aggfunc = np.sum)\n",
    "print(table)"
   ]
  },
  {
   "cell_type": "code",
   "execution_count": null,
   "id": "f4d4c5c8-7306-4366-9b5e-63abbf6862c3",
   "metadata": {},
   "outputs": [],
   "source": []
  },
  {
   "cell_type": "markdown",
   "id": "72b3c42f-e4db-485b-8761-f31c07d4369b",
   "metadata": {},
   "source": [
    "Q2. Given a Pandas DataFrame df with columns 'A', 'B', and 'C', write a Python function to re-index the \n",
    "DataFrame with a new index that starts from 1 and increments by 2 for each row."
   ]
  },
  {
   "cell_type": "code",
   "execution_count": 39,
   "id": "6578f3c4-b53d-4e17-8653-19b85c8779ba",
   "metadata": {},
   "outputs": [
    {
     "name": "stdout",
     "output_type": "stream",
     "text": [
      "Original DataFrame:\n",
      "   A  B   C\n",
      "0  1  5   9\n",
      "1  2  6  10\n",
      "2  3  7  11\n",
      "3  4  8  12\n",
      "Reindexed DataFrame:\n",
      "   A  B   C\n",
      "1  1  5   9\n",
      "3  2  6  10\n",
      "5  3  7  11\n",
      "7  4  8  12\n"
     ]
    }
   ],
   "source": [
    "import pandas as pd\n",
    "def reindex_dataframe(df):\n",
    "    new_index = range(1, 2*len(df)+1, 2)\n",
    "    df.index = new_index\n",
    "    return df\n",
    "df = pd.DataFrame({'A': [1, 2, 3, 4], 'B': [5, 6, 7, 8], 'C': [9, 10, 11, 12]})\n",
    "print(\"Original DataFrame:\")\n",
    "print(df)\n",
    "df = reindex_dataframe(df)\n",
    "print(\"Reindexed DataFrame:\")\n",
    "print(df)"
   ]
  },
  {
   "cell_type": "code",
   "execution_count": null,
   "id": "ebdcc759-a686-4749-9745-c9368aff8dcd",
   "metadata": {},
   "outputs": [],
   "source": []
  },
  {
   "cell_type": "markdown",
   "id": "9188ca45-82b9-4ebe-a596-fc13fea711bc",
   "metadata": {},
   "source": [
    "Q3. You have a Pandas DataFrame df with a column named 'Values'. Write a Python function that \n",
    "iterates over the DataFrame and calculates the sum of the first three values in the 'Values' column. The \n",
    "function should print the sum to the console."
   ]
  },
  {
   "cell_type": "code",
   "execution_count": 43,
   "id": "221e3274-24ad-43b9-9e02-be1bb5887bc8",
   "metadata": {},
   "outputs": [
    {
     "name": "stdout",
     "output_type": "stream",
     "text": [
      "Sum of the first three values in the 'Values' column: 6\n"
     ]
    }
   ],
   "source": [
    "import pandas as pd\n",
    "def calculate_sum(df):\n",
    "    values = df['Values'][:3]\n",
    "    total = sum(values)\n",
    "    print(\"Sum of the first three values in the 'Values' column:\", total)\n",
    "df = pd.DataFrame({'Values': [1, 2, 3, 4, 5]})\n",
    "calculate_sum(df)\n"
   ]
  },
  {
   "cell_type": "code",
   "execution_count": null,
   "id": "f8014b3f-31f3-4cf0-abac-8e5e2ee41e80",
   "metadata": {},
   "outputs": [],
   "source": []
  },
  {
   "cell_type": "markdown",
   "id": "c53f1dd5-8256-43dd-83dd-71a9b6a674fb",
   "metadata": {},
   "source": [
    "Q4. Given a Pandas DataFrame df with a column 'Text', write a Python function to create a new column \n",
    "'Word_Count' that contains the number of words in each row of the 'Text' column."
   ]
  },
  {
   "cell_type": "code",
   "execution_count": 46,
   "id": "61c31876-acf3-481b-b229-bfd562033794",
   "metadata": {},
   "outputs": [
    {
     "name": "stdout",
     "output_type": "stream",
     "text": [
      "Original DataFrame:\n",
      "                             Text\n",
      "0            hi! my name is Rajat\n",
      "1  Welcome to my github accounts \n",
      "2        Follow for more programs\n",
      "\n",
      "\n",
      "\n",
      "New DataFrame:\n",
      "                             Text  Word_Count\n",
      "0            hi! my name is Rajat           5\n",
      "1  Welcome to my github accounts            5\n",
      "2        Follow for more programs           4\n"
     ]
    }
   ],
   "source": [
    "import pandas as pd\n",
    "def add_word_count_column(df):\n",
    "    df['Word_Count'] = df['Text'].apply(lambda x: len(str(x).split()))\n",
    "    return df\n",
    "df = pd.DataFrame({'Text': ['hi! my name is Rajat', 'Welcome to my github accounts ', 'Follow for more programs']})\n",
    "print(\"Original DataFrame:\")\n",
    "print(df)\n",
    "df = add_word_count_column(df)\n",
    "print('\\n\\n')\n",
    "print(\"New DataFrame:\")\n",
    "print(df)\n"
   ]
  },
  {
   "cell_type": "code",
   "execution_count": null,
   "id": "402f98f9-e70f-4638-b3e3-1777e4867d45",
   "metadata": {},
   "outputs": [],
   "source": []
  },
  {
   "cell_type": "markdown",
   "id": "398d9ae6-1bdb-43ca-80b5-cfa4dbbbe5a4",
   "metadata": {},
   "source": [
    "Q5. How are DataFrame.size() and DataFrame.shape() different?"
   ]
  },
  {
   "cell_type": "markdown",
   "id": "b73db307-614a-432e-bbb8-7a7f678698f1",
   "metadata": {
    "jupyter": {
     "source_hidden": true
    },
    "tags": []
   },
   "source": [
    "DataFrame.size returns the total number of elements in a DataFrame, which is equal to the product of the number of rows and the number of columns.\n",
    "\n",
    "On the other hand, DataFrame.shape returns a tuple that contains the number of rows and the number of columns in a DataFrame. This method does not take any arguments and returns a tuple of two integer values.\n",
    "\n",
    "Here are examples:"
   ]
  },
  {
   "cell_type": "code",
   "execution_count": 47,
   "id": "6fb6c47d-b6bc-48a1-8960-90f5f6b23406",
   "metadata": {},
   "outputs": [
    {
     "name": "stdout",
     "output_type": "stream",
     "text": [
      "Size of the DataFrame: 6\n"
     ]
    }
   ],
   "source": [
    "#Dataframe.size()\n",
    "import pandas as pd\n",
    "df = pd.DataFrame({'A': [1, 2, 3], 'B': [4, 5, 6]})\n",
    "size = df.size\n",
    "print(\"Size of the DataFrame:\", size)\n"
   ]
  },
  {
   "cell_type": "code",
   "execution_count": 55,
   "id": "cb210b53-756d-4053-aa1c-d15023468db1",
   "metadata": {},
   "outputs": [
    {
     "name": "stdout",
     "output_type": "stream",
     "text": [
      "Shape of the DataFrame: (3, 2)\n"
     ]
    }
   ],
   "source": [
    "#DataFrame shape\n",
    "import pandas as pd\n",
    "df = pd.DataFrame({'A': [1, 2, 3], 'B': [4, 5, 6]})\n",
    "shape = df.shape\n",
    "print(\"Shape of the DataFrame:\", shape)\n"
   ]
  },
  {
   "cell_type": "code",
   "execution_count": null,
   "id": "344b6912-86d6-4ee4-b352-d1b04b4cff46",
   "metadata": {},
   "outputs": [],
   "source": []
  },
  {
   "cell_type": "markdown",
   "id": "808f7016-d4c6-4624-9281-2d12e97b96c2",
   "metadata": {},
   "source": [
    "Q6. Which function of pandas do we use to read an excel file?"
   ]
  },
  {
   "cell_type": "markdown",
   "id": "5fd01f29-9956-468c-a2ba-eb697465dbcf",
   "metadata": {},
   "source": [
    "Ans:\n",
    "\n",
    "In pandas, we use the read_excel() function to read an Excel file. This function is used to read data from an Excel file and create a pandas DataFrame. The read_excel() function is part of the pandas library and is used to read Excel files in different formats, including XLS and XLSX."
   ]
  },
  {
   "cell_type": "markdown",
   "id": "ead676a1-1dc4-494f-89ea-953d9ac11098",
   "metadata": {},
   "source": []
  },
  {
   "cell_type": "markdown",
   "id": "b703643d-9fa5-422a-9605-2651cbfc4327",
   "metadata": {},
   "source": [
    "Q7. You have a Pandas DataFrame df that contains a column named 'Email' that contains email \n",
    "addresses in the format 'username@domain.com'. Write a Python function that creates a new column \n",
    "'Username' in df that contains only the username part of each email address."
   ]
  },
  {
   "cell_type": "code",
   "execution_count": 54,
   "id": "e948d2cb-a309-4d4f-990e-9123f7d6319c",
   "metadata": {},
   "outputs": [
    {
     "name": "stdout",
     "output_type": "stream",
     "text": [
      "                   Email     Username\n",
      "0  rajatkanwar@gmail.com  rajatkanwar\n",
      "1  kanwarrajat@gmail.com  kanwarrajat\n",
      "2    furyworld@gmail.com    furyworld\n"
     ]
    }
   ],
   "source": [
    "import pandas as pd\n",
    "def extract_username(df):    \n",
    "    df['Username'] = df['Email'].apply(lambda x: x.split('@')[0])    \n",
    "    return df\n",
    "\n",
    "df = pd.DataFrame({'Email': ['rajatkanwar@gmail.com', 'kanwarrajat@gmail.com', 'furyworld@gmail.com']})\n",
    "df = extract_username(df) \n",
    "print(df)\n"
   ]
  },
  {
   "cell_type": "code",
   "execution_count": null,
   "id": "520670b1-7d3b-41ef-b104-2bae6783f27b",
   "metadata": {},
   "outputs": [],
   "source": []
  },
  {
   "cell_type": "markdown",
   "id": "f483fb56-e4a3-4fb4-9e31-8901cce3326f",
   "metadata": {},
   "source": [
    "Q8. You have a Pandas DataFrame df with columns 'A', 'B', and 'C'. Write a Python function that selects \n",
    "all rows where the value in column 'A' is greater than 5 and the value in column 'B' is less than 10. The \n",
    "function should return a new DataFrame that contains only the selected rows."
   ]
  },
  {
   "cell_type": "code",
   "execution_count": 59,
   "id": "01e22471-086b-4d1b-a87e-dcfbd5f49412",
   "metadata": {},
   "outputs": [
    {
     "name": "stdout",
     "output_type": "stream",
     "text": [
      "   A  B  C\n",
      "1  8  2  7\n",
      "2  6  9  4\n",
      "4  9  1  2\n"
     ]
    }
   ],
   "source": [
    "import pandas as pd\n",
    "def select_rows(df):\n",
    "    selected_rows = df.loc[(df['A'] > 5) & (df['B'] < 10)]    \n",
    "    return selected_rows\n",
    "\n",
    "\n",
    "df = pd.DataFrame({'A': [3, 8, 6, 2,9], 'B': [5, 2, 9, 3,1], 'C': [1, 7, 4, 5,2]})\n",
    "selected_rows = select_rows(df)\n",
    "print(selected_rows)\n"
   ]
  },
  {
   "cell_type": "code",
   "execution_count": null,
   "id": "55a0ac31-aca7-4a82-be1a-3fbc1acd26ea",
   "metadata": {},
   "outputs": [],
   "source": []
  },
  {
   "cell_type": "markdown",
   "id": "fc84b65b-2e25-4832-94de-d58b90aeb324",
   "metadata": {},
   "source": [
    "Q9. Given a Pandas DataFrame df with a column 'Values', write a Python function to calculate the mean, \n",
    "median, and standard deviation of the values in the 'Values' column."
   ]
  },
  {
   "cell_type": "code",
   "execution_count": 61,
   "id": "07750540-fa04-42ff-9899-e8148b78fa04",
   "metadata": {},
   "outputs": [
    {
     "name": "stdout",
     "output_type": "stream",
     "text": [
      "Mean: 10.5\n",
      "Median: 6.0\n",
      "Standard deviation: 11.861703081766969\n"
     ]
    }
   ],
   "source": [
    "import pandas as pd\n",
    "df = pd.DataFrame({'Values': [1, 2, 4, 8,16,32]})\n",
    "mean = df['Values'].mean()\n",
    "median = df['Values'].median()\n",
    "std_dev = df['Values'].std()\n",
    "print(\"Mean:\", mean)\n",
    "print(\"Median:\", median)\n",
    "print(\"Standard deviation:\", std_dev)"
   ]
  },
  {
   "cell_type": "code",
   "execution_count": null,
   "id": "235f0abb-68e5-49ed-b2c1-1e5fe05ee2ca",
   "metadata": {},
   "outputs": [],
   "source": []
  },
  {
   "cell_type": "markdown",
   "id": "b341284f-6c2d-4527-98b6-b8116ef16549",
   "metadata": {},
   "source": [
    "Q10. Given a Pandas DataFrame df with a column 'Sales' and a column 'Date', write a Python function to \n",
    "create a new column 'MovingAverage' that contains the moving average of the sales for the past 7 days \n",
    "for each row in the DataFrame. The moving average should be calculated using a window of size 7 and \n",
    "should include the current day."
   ]
  },
  {
   "cell_type": "code",
   "execution_count": 66,
   "id": "b323ccfb-b7b9-4ed7-a457-9a4ff48ed4c3",
   "metadata": {},
   "outputs": [
    {
     "name": "stdout",
     "output_type": "stream",
     "text": [
      "         Date  Sales  MovingAverage\n",
      "0  2023-02-24      5            5.0\n",
      "1  2023-02-25     10            7.5\n",
      "2  2023-02-26     15           10.0\n",
      "3  2023-02-27     20           12.5\n",
      "4  2023-02-28     25           15.0\n",
      "5  2023-03-01     30           17.5\n",
      "6  2023-03-02     35           20.0\n",
      "7  2023-03-03     40           25.0\n",
      "8  2023-03-04     45           30.0\n",
      "9  2023-03-05     50           35.0\n",
      "10 2023-03-06     55           40.0\n",
      "11 2023-03-07     60           45.0\n",
      "12 2023-03-08     65           50.0\n",
      "13 2023-03-09     70           55.0\n"
     ]
    }
   ],
   "source": [
    "#Ans:\n",
    "    \n",
    "import pandas as pd\n",
    "def calculate_moving_average(df):    \n",
    "    df.set_index('Date', inplace=True)\n",
    "    ma = df['Sales'].rolling(window=7, min_periods=1).mean()\n",
    "    df['MovingAverage'] = ma    \n",
    "    df.reset_index(inplace=True)\n",
    "    return df\n",
    "df = pd.DataFrame({'Date': pd.date_range('2023-02-24', periods=14), 'Sales': [5, 10, 15, 20, 25, 30, 35, 40, 45, 50, 55, 60, 65, 70]})\n",
    "df = calculate_moving_average(df)\n",
    "print(df)\n"
   ]
  },
  {
   "cell_type": "code",
   "execution_count": null,
   "id": "228853cf-3ba5-4dc3-9a05-fde4bf8a0f66",
   "metadata": {},
   "outputs": [],
   "source": []
  },
  {
   "cell_type": "markdown",
   "id": "298f6a3c-d126-4ca6-b87a-968bb28e327a",
   "metadata": {},
   "source": [
    "Q11. You have a Pandas DataFrame df with a column 'Date'. Write a Python function that creates a new \n",
    "column 'Weekday' in the DataFrame. The 'Weekday' column should contain the weekday name (e.g. \n",
    "Monday, Tuesday) corresponding to each date in the 'Date' column."
   ]
  },
  {
   "cell_type": "code",
   "execution_count": 73,
   "id": "30d35ab0-0c1a-4f65-813a-0780c6467302",
   "metadata": {},
   "outputs": [
    {
     "name": "stdout",
     "output_type": "stream",
     "text": [
      "        Date    Weekday\n",
      "0 2023-01-01     Sunday\n",
      "1 2023-01-02     Monday\n",
      "2 2023-01-03    Tuesday\n",
      "3 2023-01-04  Wednesday\n",
      "4 2023-01-05   Thursday\n"
     ]
    }
   ],
   "source": [
    "import pandas as pd\n",
    "def add_weekday_column(df):    \n",
    "    df['Date'] = pd.to_datetime(df['Date'])        \n",
    "    df['Weekday'] = df['Date'].dt.day_name()\n",
    "    return df\n",
    "\n",
    "\n",
    "df =pd.DataFrame({'Date': ['2023-01-01','2023-01-02','2023-01-03','2023-01-04','2023-01-05']})\n",
    "df= add_weekday_column(df)\n",
    "print(df)"
   ]
  },
  {
   "cell_type": "code",
   "execution_count": null,
   "id": "f312e920-1b99-4052-9278-89db989645dc",
   "metadata": {},
   "outputs": [],
   "source": []
  },
  {
   "cell_type": "markdown",
   "id": "cea3cec3-305d-484e-9f83-16de51a3637f",
   "metadata": {},
   "source": [
    "Q12. Given a Pandas DataFrame df with a column 'Date' that contains timestamps, write a Python \n",
    "function to select all rows where the date is between '2023-01-01' and '2023-01-31'."
   ]
  },
  {
   "cell_type": "code",
   "execution_count": 84,
   "id": "7bfa97b1-0336-4202-8b48-d614a0f9bc39",
   "metadata": {},
   "outputs": [
    {
     "name": "stdout",
     "output_type": "stream",
     "text": [
      "         Date\n",
      "0  2023-01-01\n",
      "1  2023-01-02\n",
      "2  2023-01-03\n",
      "3  2023-01-04\n",
      "4  2023-01-05\n",
      "5  2023-01-06\n",
      "6  2023-01-07\n",
      "7  2023-01-08\n",
      "8  2023-01-09\n",
      "9  2023-01-10\n",
      "10 2023-01-11\n",
      "11 2023-01-12\n",
      "12 2023-01-13\n",
      "13 2023-01-14\n",
      "14 2023-01-15\n",
      "15 2023-01-16\n",
      "16 2023-01-17\n",
      "17 2023-01-18\n",
      "18 2023-01-19\n",
      "19 2023-01-20\n",
      "20 2023-01-21\n",
      "21 2023-01-22\n",
      "22 2023-01-23\n",
      "23 2023-01-24\n",
      "24 2023-01-25\n",
      "25 2023-01-26\n",
      "26 2023-01-27\n",
      "27 2023-01-28\n",
      "28 2023-01-29\n",
      "29 2023-01-30\n",
      "30 2023-01-31\n"
     ]
    }
   ],
   "source": [
    "def select_january_data(df):\n",
    "    df['Date'] = pd.to_datetime(df['Date'])\n",
    "    selected_data = df[(df['Date'] >= '2023-01-01') & (df['Date'] <= '2023-01-31')]    \n",
    "    return selected_data\n",
    "dates = pd.date_range(start='2023-01-01', end='2023-04-25')\n",
    "df = pd.DataFrame({'Date': dates})\n",
    "df=select_january_data(df)\n",
    "print(df)"
   ]
  },
  {
   "cell_type": "code",
   "execution_count": null,
   "id": "9d735c3c-1afe-434c-8748-5ec8f0e148c0",
   "metadata": {},
   "outputs": [],
   "source": []
  },
  {
   "cell_type": "markdown",
   "id": "a659a6d9-c17c-43aa-a04b-ac8b83d904f8",
   "metadata": {},
   "source": [
    "Q13. To use the basic functions of pandas, what is the first and foremost necessary library that needs to \n",
    "be imported?"
   ]
  },
  {
   "cell_type": "code",
   "execution_count": null,
   "id": "ad5f2f89-4efc-4145-b662-875fa6bd51bd",
   "metadata": {},
   "outputs": [],
   "source": [
    "#Ans:\n",
    "import pandas as pd"
   ]
  },
  {
   "cell_type": "markdown",
   "id": "f541ba70-4458-4205-97d1-0bad22bb8690",
   "metadata": {},
   "source": [
    "This code imports the pandas library and assigns it an alias 'pd', which is a common convention in the data science community. Once the library is imported, you can use its functions and methods to manipulate and analyze data in a tabular format."
   ]
  }
 ],
 "metadata": {
  "kernelspec": {
   "display_name": "Python 3 (ipykernel)",
   "language": "python",
   "name": "python3"
  },
  "language_info": {
   "codemirror_mode": {
    "name": "ipython",
    "version": 3
   },
   "file_extension": ".py",
   "mimetype": "text/x-python",
   "name": "python",
   "nbconvert_exporter": "python",
   "pygments_lexer": "ipython3",
   "version": "3.10.8"
  }
 },
 "nbformat": 4,
 "nbformat_minor": 5
}
