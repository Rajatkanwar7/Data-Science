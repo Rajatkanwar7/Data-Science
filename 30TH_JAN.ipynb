{
 "cells": [
  {
   "cell_type": "markdown",
   "id": "6d860471-17f4-4dfe-85c7-f424241bcce8",
   "metadata": {},
   "source": [
    " Q1.WRITE A PROGRAM TO ACCEPT PERCENTAGE FROM THE USER AND DISPLAY THE GRADE ACCORDINGLY TO THE FOLLOWING CRETERIA."
   ]
  },
  {
   "cell_type": "code",
   "execution_count": 14,
   "id": "0aa274b4-5d85-4397-a498-88ae605c028f",
   "metadata": {},
   "outputs": [
    {
     "name": "stdin",
     "output_type": "stream",
     "text": [
      "Enter the percentage -4\n"
     ]
    },
    {
     "name": "stdout",
     "output_type": "stream",
     "text": [
      "Grade D\n"
     ]
    }
   ],
   "source": [
    "n =float(input(\"Enter the percentage\"))\n",
    "if n >90 and n<=100:\n",
    "    print(\"Grade A\")\n",
    "elif n>80 and n<=90:\n",
    "    print(\"Grade B\")\n",
    "elif n> 60 and n<= 80:\n",
    "    print(\"Grade C\")\n",
    "elif n<60:\n",
    "    print(\"Grade D\")\n",
    "else:\n",
    "    print(\"invalid value\")"
   ]
  },
  {
   "cell_type": "markdown",
   "id": "e988494d-2cf8-46c2-94b9-1476963925ee",
   "metadata": {},
   "source": [
    "Q2 WRITE A PROGRAM TO ACCEPT THE COST OF A BIKE AND DISPLAY THE ROAD TAX TO BE PAID ACCORDING TO THE FOLLOWING CRETERIA."
   ]
  },
  {
   "cell_type": "code",
   "execution_count": 3,
   "id": "7b8e1269-0852-48c1-8d5a-6b3d9678f76c",
   "metadata": {},
   "outputs": [
    {
     "name": "stdin",
     "output_type": "stream",
     "text": [
      "Enter the cost price of bike 1000\n"
     ]
    },
    {
     "name": "stdout",
     "output_type": "stream",
     "text": [
      "Tax paid 50.0\n"
     ]
    }
   ],
   "source": [
    "tax_paid =0\n",
    "Total_amount =0\n",
    "\n",
    "n =float(input(\"Enter the cost price of bike\"))\n",
    "if n >100000:\n",
    "    tax=0.15*n\n",
    "    print(\"Tax paid\",tax)\n",
    "elif n>50000 and n<=100000:\n",
    "    tax=0.10*n\n",
    "    print(\"Tax paid\",tax)\n",
    "elif n<=50000:\n",
    "    tax=0.05*n\n",
    "    print(\"Tax paid\",tax)\n",
    "else:\n",
    "    print(\"invalid value\")\n"
   ]
  },
  {
   "cell_type": "markdown",
   "id": "191fce63-34f1-4a70-88bf-3b9aa7d80ec9",
   "metadata": {},
   "source": [
    "Q3.Accept any city from the user and display the monumnets of that city."
   ]
  },
  {
   "cell_type": "code",
   "execution_count": 4,
   "id": "a0e95665-e7d4-4988-940c-04a5369b7c41",
   "metadata": {},
   "outputs": [
    {
     "name": "stdin",
     "output_type": "stream",
     "text": [
      "Enter a city delhi\n"
     ]
    },
    {
     "name": "stdout",
     "output_type": "stream",
     "text": [
      "Red Fort\n"
     ]
    }
   ],
   "source": [
    "city = input(\"Enter a city\")\n",
    "if city.upper() == \"DELHI\":\n",
    "    print(\"Red Fort\")\n",
    "elif city.upper() == \"AGRA\":\n",
    "    print(\"Taj Mahal\")\n",
    "elif city.upper() == \"JAIPUR\":\n",
    "    print(\"Jal Mahal\")\n",
    "else:\n",
    "    print(\"Enter a valid city\")"
   ]
  },
  {
   "cell_type": "markdown",
   "id": "10d950ee-be03-4290-9f68-0334680b702b",
   "metadata": {},
   "source": [
    "q4. check how many times a given number can be divided by 3 before it is less than or equal to 10."
   ]
  },
  {
   "cell_type": "code",
   "execution_count": 27,
   "id": "05005c11-fe50-41d8-87ea-ef74721af4f9",
   "metadata": {},
   "outputs": [
    {
     "name": "stdin",
     "output_type": "stream",
     "text": [
      "Enter the number\n",
      " 3\n"
     ]
    },
    {
     "name": "stdout",
     "output_type": "stream",
     "text": [
      "The number divided by three by 0 times\n"
     ]
    }
   ],
   "source": [
    "count=0\n",
    "num=float(input(\"Enter the number\\n\"))\n",
    "while num>=10:\n",
    "    num=num/3\n",
    "    count=count+1\n",
    "print(\"The number divided by three by\",count,\"times\")"
   ]
  },
  {
   "cell_type": "markdown",
   "id": "6478ed89-7c81-4344-9e3a-b0c1a7542a5e",
   "metadata": {},
   "source": [
    "Absoulte divided by 3 with no remainder"
   ]
  },
  {
   "cell_type": "code",
   "execution_count": null,
   "id": "f7ecd0f5-5903-4546-aeaa-add4cf2e2c47",
   "metadata": {},
   "outputs": [
    {
     "name": "stdin",
     "output_type": "stream",
     "text": [
      "Enter the number\n",
      " 90\n"
     ]
    },
    {
     "name": "stdout",
     "output_type": "stream",
     "text": [
      "The number divided by three by 2 times\n"
     ]
    }
   ],
   "source": [
    "count=0\n",
    "num=float(input(\"Enter the number\\n\"))\n",
    "while num>=10 and num%3==0:\n",
    "    num=num/3\n",
    "    count=count+1\n",
    "print(\"The number divided by three by\",count,\"times\")"
   ]
  },
  {
   "cell_type": "code",
   "execution_count": null,
   "id": "070243bd-9187-483d-b4e7-dd6292406142",
   "metadata": {},
   "outputs": [],
   "source": [
    "#Q5.when and why to use while loop,give a detailed description with example python\n",
    "Python While Loop is used to execute a block of statements repeatedly until a given condition is satisfied. And when the condition becomes false, the line immediately after the loop in the program is executed.\n",
    "Example:"
   ]
  },
  {
   "cell_type": "code",
   "execution_count": 30,
   "id": "4bc0e11b-37f6-444a-bd5b-c6e21ed7643d",
   "metadata": {},
   "outputs": [],
   "source": [
    "count = 0\n",
    "while (count < 3):\n",
    "    count = count + 1\n",
    "    print(\"Hello World\")"
   ]
  },
  {
   "cell_type": "markdown",
   "id": "9968da1d-aedd-4ed6-a838-c11004de7e52",
   "metadata": {},
   "source": [
    "In the above example, the condition for while will be True as long as the counter variable (count) is less than 3. "
   ]
  },
  {
   "cell_type": "markdown",
   "id": "fdde782b-5b5d-4b17-8894-345f8877fb59",
   "metadata": {},
   "source": [
    "##Q6. Nested while loop to print pattern\n",
    "##Example 1"
   ]
  },
  {
   "cell_type": "code",
   "execution_count": 31,
   "id": "5786429a-19f7-4e40-9954-8400057512e0",
   "metadata": {},
   "outputs": [
    {
     "name": "stdin",
     "output_type": "stream",
     "text": [
      "Enter number of rows :  6\n"
     ]
    },
    {
     "name": "stdout",
     "output_type": "stream",
     "text": [
      "* \n",
      "* * \n",
      "* * * \n",
      "* * * * \n",
      "* * * * * \n",
      "* * * * * * \n"
     ]
    }
   ],
   "source": [
    "n = int(input('Enter number of rows : '))\n",
    "i = 1\n",
    "while i <= n :\n",
    "    j = 1\n",
    "    while j <= i:\n",
    "        print(\"*\", end = \" \")\n",
    "        j += 1\n",
    "    print()\n",
    "    i += 1"
   ]
  },
  {
   "cell_type": "markdown",
   "id": "b7673278-96e5-4a5b-9ca4-89e87153445a",
   "metadata": {},
   "source": [
    "Eamaple 2"
   ]
  },
  {
   "cell_type": "code",
   "execution_count": 32,
   "id": "a4a63743-c7ec-4aae-80db-3275393d5dec",
   "metadata": {},
   "outputs": [
    {
     "name": "stdin",
     "output_type": "stream",
     "text": [
      "Enter number of rows :  5\n"
     ]
    },
    {
     "name": "stdout",
     "output_type": "stream",
     "text": [
      "* * * * * \n",
      "* * * * \n",
      "* * * \n",
      "* * \n",
      "* \n"
     ]
    }
   ],
   "source": [
    "n = int(input('Enter number of rows : '))\n",
    "i = 1\n",
    "while i <= n :\n",
    "    j = n\n",
    "    while j >= i:\n",
    "        print(\"*\", end = \" \")\n",
    "        j -= 1\n",
    "    print()\n",
    "    i += 1"
   ]
  },
  {
   "cell_type": "markdown",
   "id": "ae6cbcd8-8091-4828-9e35-ef4698a136cc",
   "metadata": {},
   "source": [
    "Example 3"
   ]
  },
  {
   "cell_type": "code",
   "execution_count": 33,
   "id": "2463a34c-791a-4051-90f2-3907e1270a93",
   "metadata": {},
   "outputs": [
    {
     "name": "stdin",
     "output_type": "stream",
     "text": [
      "Enter the number of rows 5\n"
     ]
    },
    {
     "name": "stdout",
     "output_type": "stream",
     "text": [
      "* * * * * \n",
      " * * * * \n",
      "  * * * \n",
      "   * * \n",
      "    * \n"
     ]
    }
   ],
   "source": [
    "rows=int(input(\"Enter the number of rows\"))\n",
    "i = 0\n",
    "while i <= rows - 1:\n",
    "    j = 0\n",
    "    while j < i:\n",
    "        print('', end=' ')\n",
    "        j += 1\n",
    "    k = i\n",
    "    while k <= rows - 1:\n",
    "        print('*', end=' ')\n",
    "        k += 1\n",
    "    print()\n",
    "    i += 1"
   ]
  },
  {
   "cell_type": "markdown",
   "id": "063a8840-029b-438c-b0b3-70f476ba8c79",
   "metadata": {},
   "source": [
    "Q7.Reverse a while loop to display number 10 to 1\n"
   ]
  },
  {
   "cell_type": "code",
   "execution_count": 34,
   "id": "532fbc49-df7d-4ee3-8085-1460de49dce2",
   "metadata": {},
   "outputs": [
    {
     "name": "stdout",
     "output_type": "stream",
     "text": [
      "10\n",
      "9\n",
      "8\n",
      "7\n",
      "6\n",
      "5\n",
      "4\n",
      "3\n",
      "2\n",
      "1\n"
     ]
    }
   ],
   "source": [
    "i = 10\n",
    "while i > 0:\n",
    "    print(i)\n",
    "    i = i - 1"
   ]
  },
  {
   "cell_type": "markdown",
   "id": "f5ebb9f4-af3c-4903-8ba7-5ce3e1f88074",
   "metadata": {},
   "source": [
    "Q8.Use while loop to display number 1 to 10."
   ]
  },
  {
   "cell_type": "code",
   "execution_count": 36,
   "id": "00add099-1ac6-4888-9cbd-f401d49690be",
   "metadata": {},
   "outputs": [
    {
     "name": "stdout",
     "output_type": "stream",
     "text": [
      "1\n",
      "2\n",
      "3\n",
      "4\n",
      "5\n",
      "6\n",
      "7\n",
      "8\n",
      "9\n",
      "10\n"
     ]
    }
   ],
   "source": [
    "i = 1\n",
    "while i <=10:\n",
    "    print(i)\n",
    "    i = i + 1"
   ]
  },
  {
   "cell_type": "code",
   "execution_count": null,
   "id": "25454c6e-1115-43ae-a516-d0dea23328bb",
   "metadata": {},
   "outputs": [],
   "source": []
  }
 ],
 "metadata": {
  "kernelspec": {
   "display_name": "Python 3 (ipykernel)",
   "language": "python",
   "name": "python3"
  },
  "language_info": {
   "codemirror_mode": {
    "name": "ipython",
    "version": 3
   },
   "file_extension": ".py",
   "mimetype": "text/x-python",
   "name": "python",
   "nbconvert_exporter": "python",
   "pygments_lexer": "ipython3",
   "version": "3.10.8"
  }
 },
 "nbformat": 4,
 "nbformat_minor": 5
}
