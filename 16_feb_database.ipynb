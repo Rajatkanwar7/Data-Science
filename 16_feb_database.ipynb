{
 "cells": [
  {
   "cell_type": "markdown",
   "id": "7aa6e4f0-d9c6-41e7-96f9-98a72e51093e",
   "metadata": {},
   "source": [
    "Q1. What is a database? Differentiate between SQL and NoSQL databases."
   ]
  },
  {
   "cell_type": "markdown",
   "id": "acefad2a-8eac-47ad-bc12-aa600b1bfa25",
   "metadata": {},
   "source": [
    "Ans:\n",
    "\n",
    "A database is a collection of data that is organized in a way that allows for efficient storage, retrieval, and management of the data. Databases are used to store large amounts of data that can be accessed, updated, and managed by multiple users.\n",
    "\n",
    "Difference between SQL and NoSQL: \n",
    "\n",
    "1. Data Model: SQL databases use a fixed schema, which means that the structure of the data is predefined and all data has to fit into this structure. NoSQL databases, on the other hand, use a flexible schema, which means that the data structure can be changed as needed.\n",
    "\n",
    "\n",
    "2. Query Language: SQL databases use SQL to retrieve and manipulate data. NoSQL databases have their own query languages, which are often less powerful than SQL, but are more flexible and easier to use.\n",
    "\n",
    "3. Scalability: SQL databases are vertically scalable, which means that they can only be scaled up by adding more hardware resources to the server. NoSQL databases are horizontally scalable, which means that they can be scaled out by adding more servers to the database cluster.\n",
    "\n",
    "\n",
    "4. Data Consistency: SQL databases offer strong data consistency, which means that data is always consistent across all nodes in the database. NoSQL databases often sacrifice data consistency in favor of scalability and performance.\n",
    "\n",
    "\n",
    "5. Data Storage: SQL databases are usually used for structured data that fits neatly into tables. NoSQL databases are often used for unstructured or semi-structured data, such as JSON documents or key-value pairs."
   ]
  },
  {
   "cell_type": "code",
   "execution_count": null,
   "id": "a87d3240-0492-48ed-ba32-8599ede5c578",
   "metadata": {},
   "outputs": [],
   "source": []
  },
  {
   "cell_type": "markdown",
   "id": "41f370a8-24ba-4605-8648-ba771754c751",
   "metadata": {},
   "source": [
    "Q2. What is DDL? Explain why CREATE, DROP, ALTER, and TRUNCATE are used with an example."
   ]
  },
  {
   "cell_type": "markdown",
   "id": "ef73fd55-d83b-4140-93c3-f71fe02a9a6c",
   "metadata": {},
   "source": [
    "Ans:\n",
    "\n",
    "DDL stands for Data Definition Language, which is a subset of SQL used to create, modify, and delete database structures and schema. DDL commands are used to define the structure of database objects like tables, views, indexes, and procedures.\n",
    "\n",
    "\n",
    "Commonly used DDL commands in SQL:\n",
    "\n",
    "1. CREATE: It is used to create a new table or other database objects such as views, procedures, and indexes. For example, to create a table named \"Employees\" with columns such as ID, Name, and Salary, the following SQL statement can be used:\n",
    "\n",
    "\n",
    "CREATE TABLE Employees (\n",
    "   ID INT PRIMARY KEY,\n",
    "   Name VARCHAR(50),\n",
    "   Salary DECIMAL(10, 2)\n",
    ");\n",
    "\n",
    "2. DROP: \n",
    "It is used to delete an existing table or other database objects such as views, procedures, and indexes. For example, to drop the table named \"Employees,\" the following SQL statement can be used:\n",
    "DROP TABLE Employees;\n",
    "\n",
    "3.ALTER: \n",
    "It is used to modify the structure of an existing table or other database objects. For example, to add a new column named \"Age\" to the \"Employees\" table, the following SQL statement can be used:\n",
    "\n",
    "ALTER TABLE Employees ADD Age INT;\n",
    "\n",
    "4.TRUNCATE: \n",
    "It is used to delete all the data from an existing table. Unlike the DROP command, TRUNCATE preserves the structure of the table. For example, to delete all the data from the \"Employees\" table, the following SQL statement can be used:\n",
    "\n",
    "TRUNCATE TABLE Employees;"
   ]
  },
  {
   "cell_type": "code",
   "execution_count": null,
   "id": "a7d28cfb-7941-47c2-a2f3-47ab48e95043",
   "metadata": {},
   "outputs": [],
   "source": []
  },
  {
   "cell_type": "markdown",
   "id": "dca53b75-4f86-4cf1-8111-61c08079b455",
   "metadata": {},
   "source": [
    "Q3. What is DML? Explain INSERT, UPDATE, and DELETE with an example."
   ]
  },
  {
   "cell_type": "markdown",
   "id": "6afa0aec-4166-4cfe-b4b2-c43328798efe",
   "metadata": {},
   "source": [
    "Ans:\n",
    "\n",
    "DML stands for Data Manipulation Language, which is a subset of SQL used to manipulate data within the database. DML commands are used to insert, update, and delete data from database tables.\n",
    "Commonly used DML commands in SQL:\n",
    "\n",
    "1. INSERT: It is used to insert new data into a table. For example, to insert a new record into a table named \"Employees\" with values for columns such as ID, Name, and Salary, the following SQL statement can be used:\n",
    "\n",
    "INSERT INTO Employees (ID, Name, Salary) VALUES (1, 'John', 50000);\n",
    "\n",
    "2.UPDATE: It is used to modify the existing data in a table. For example, to update the salary of an employee with ID 1 in the \"Employees\" table to 60000, the following SQL statement can be used:\n",
    "\n",
    "UPDATE Employees SET Salary = 60000 WHERE ID = 1;\n",
    "\n",
    "3.DELETE: It is used to delete data from a table. For example, to delete an employee record with ID 1 from the \"Employees\" table, the following SQL statement can be used:\n",
    "\n",
    "DELETE FROM Employees WHERE ID = 1;\n"
   ]
  },
  {
   "cell_type": "code",
   "execution_count": null,
   "id": "a5b0496e-4f1e-449e-9e47-fb3cf09e5f22",
   "metadata": {},
   "outputs": [],
   "source": []
  },
  {
   "cell_type": "markdown",
   "id": "633d11df-c770-444e-83c8-71b2008e8d90",
   "metadata": {},
   "source": [
    "Q4. What is DQL? Explain SELECT with an example."
   ]
  },
  {
   "cell_type": "markdown",
   "id": "7becb0c6-1b94-487e-8eb5-36ebd1cdb543",
   "metadata": {},
   "source": [
    "Ans: \n",
    "    DQL stands for Data Query Language, which is a subset of SQL used to retrieve data from the database. DQL commands are used to query, search, and retrieve data from the tables of the database.\n",
    "    \n",
    "The most commonly used DQL command in SQL is SELECT.\n",
    "\n",
    "Assume we have a table \"Employees\" with columns such as ID, Name, Age, and Salary, containing the data.To retrieve all the data from the \"Employees\" table, the following SELECT statement can be used:\n",
    "\n",
    "SELECT * FROM Employees;"
   ]
  },
  {
   "cell_type": "code",
   "execution_count": null,
   "id": "43015a86-bdc3-4a3e-b5df-acae1c0b6a4e",
   "metadata": {},
   "outputs": [],
   "source": []
  },
  {
   "cell_type": "code",
   "execution_count": null,
   "id": "1bec4c98-e7b1-4d26-a66b-5fa62c601247",
   "metadata": {},
   "outputs": [],
   "source": [
    "Q5. Explain Primary Key and Foreign Key."
   ]
  },
  {
   "cell_type": "markdown",
   "id": "eab14394-f2fa-48d4-b55c-68a9d9a6b7e7",
   "metadata": {},
   "source": [
    "Ans:\n",
    "A primary key is a column or a set of columns in a table that uniquely identifies each row of the table. It is used to enforce the integrity of the data and ensure that each row in the table is uniquely identified. A primary key cannot contain null values, and its value must be unique for each row. Typically, a primary key is created when a table is first created, and it is used as a reference point for other tables.\n",
    "\n",
    "For example, in a table named \"Employees\", the primary key may be the \"ID\" column, which contains unique values for each employee. This ensures that each row in the \"Employees\" table is uniquely identified by its ID, and that no two employees have the same ID.\n",
    "\n",
    "\n",
    "A foreign key, on the other hand, is a column or a set of columns in a table that refers to the primary key of another table. It is used to establish relationships between tables and enforce referential integrity. A foreign key can have null values, which indicates that there is no corresponding record in the referenced table.\n",
    "\n",
    "For example, in a table named \"Orders\", a foreign key may be the \"EmployeeID\" column, which refers to the \"ID\" column in the \"Employees\" table. This establishes a relationship between the \"Orders\" table and the \"Employees\" table, and ensures that each order is associated with a specific employee."
   ]
  },
  {
   "cell_type": "code",
   "execution_count": null,
   "id": "c6be79fe-f0f6-4eb9-b265-d1d21ceca46b",
   "metadata": {},
   "outputs": [],
   "source": []
  },
  {
   "cell_type": "markdown",
   "id": "99c0052e-f0dd-4f58-a292-018d1d5e6005",
   "metadata": {},
   "source": [
    "Q6. Write a python code to connect MySQL to python. Explain the cursor() and execute() method."
   ]
  },
  {
   "cell_type": "markdown",
   "id": "7795afc1-3127-4e6e-bf9d-01346c70af55",
   "metadata": {},
   "source": [
    "Ans:\n",
    "python code to connect mySQL server:\n",
    "    \n",
    "import mysql.connector\n",
    "\n",
    "mydb = mysql.connector.connect(\n",
    "  host=\"localhost\",\n",
    "  user=\"username\",\n",
    "  password=\"password\",\n",
    "  database=\"database_name\"\n",
    ")\n",
    "\n",
    "mycursor = mydb.cursor()\n",
    "\n",
    "The cursor() method creates a cursor object that is used to interact with the database. The cursor object allows us to execute SQL queries, fetch data from the database, and perform other database operations.\n",
    "\n",
    "The execute() method is used to execute an SQL query on the database. We can pass the SQL query as a parameter to the execute() method, and it will execute the query on the database.\n"
   ]
  },
  {
   "cell_type": "code",
   "execution_count": null,
   "id": "127e016b-c51c-4d22-a6a3-a21eda5e0dcf",
   "metadata": {},
   "outputs": [],
   "source": []
  },
  {
   "cell_type": "markdown",
   "id": "3010086d-f86a-4c2d-b0f3-5f7bcc31498f",
   "metadata": {},
   "source": [
    "Q7. Give the order of execution of SQL clauses in an SQL query."
   ]
  },
  {
   "cell_type": "markdown",
   "id": "1c7756d0-16bf-4dc0-8e4f-c7c4d5b50a65",
   "metadata": {},
   "source": [
    "Ans: In general, the clauses are executed in the order listed below:\n",
    "\n",
    "1. FROM: This clause specifies the table or tables from which the data will be retrieved.\n",
    "2. JOIN: If the query includes a join operation, the JOIN clause is executed next to combine the data from multiple tables.\n",
    "3. WHERE: This clause is used to filter the data based on a specified condition. It is executed after the FROM and JOIN clauses, but before the SELECT clause.\n",
    "4. GROUP BY: This clause is used to group the data based on a specified column or set of columns. It is executed after the WHERE clause, but before the SELECT clause.\n",
    "5. HAVING: If the query includes a GROUP BY clause, the HAVING clause is used to filter the data based on a specified condition. It is executed after the GROUP BY clause, but before the SELECT clause.\n",
    "6. SELECT: This clause is used to select the columns that will be included in the query result. It is executed after all the preceding clauses.\n",
    "7. DISTINCT: If the query includes a DISTINCT clause, it is executed next to remove any duplicate rows from the query result.\n",
    "8. ORDER BY: This clause is used to sort the query result based on a specified column or set of columns. It is executed after all the preceding clauses.\n",
    "9. LIMIT: If the query includes a LIMIT clause, it is executed last to limit the number of rows returned in the query result."
   ]
  },
  {
   "cell_type": "code",
   "execution_count": null,
   "id": "80740051-689c-4838-913f-5257c0a631fc",
   "metadata": {},
   "outputs": [],
   "source": []
  }
 ],
 "metadata": {
  "kernelspec": {
   "display_name": "Python 3 (ipykernel)",
   "language": "python",
   "name": "python3"
  },
  "language_info": {
   "codemirror_mode": {
    "name": "ipython",
    "version": 3
   },
   "file_extension": ".py",
   "mimetype": "text/x-python",
   "name": "python",
   "nbconvert_exporter": "python",
   "pygments_lexer": "ipython3",
   "version": "3.10.8"
  }
 },
 "nbformat": 4,
 "nbformat_minor": 5
}
