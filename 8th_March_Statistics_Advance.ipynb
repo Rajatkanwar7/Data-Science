{
 "cells": [
  {
   "cell_type": "markdown",
   "id": "7e427a94-c14e-4041-8c00-360898da460f",
   "metadata": {},
   "source": [
    "## Q1. What is the Probability density function?"
   ]
  },
  {
   "cell_type": "markdown",
   "id": "ba70b4f7-9bba-4503-9490-ffb9296eeebf",
   "metadata": {},
   "source": [
    "Ans:\n",
    "    \n",
    "The probability density function (PDF) is a fundamental concept in probability theory and statistics. It describes the likelihood of a continuous random variable taking on a particular value within a range of values.\n",
    "\n",
    "\n",
    "The PDF of a continuous random variable is a function that assigns a probability density to each possible value of the variable. The area under the PDF curve between any two values represents the probability that the random variable will take on a value within that range."
   ]
  },
  {
   "cell_type": "code",
   "execution_count": null,
   "id": "f2bb60a5-6d62-4bef-9f59-d116bf2b8ba8",
   "metadata": {},
   "outputs": [],
   "source": []
  },
  {
   "cell_type": "markdown",
   "id": "0142cecf-9b6c-45dc-b0b3-193868e65ea1",
   "metadata": {},
   "source": [
    "## Q2. What are the types of Probability distribution?"
   ]
  },
  {
   "cell_type": "markdown",
   "id": "060bc2df-bde3-4c2c-a8ab-d6759a70e769",
   "metadata": {},
   "source": [
    "Ans:\n",
    "    \n",
    "There are several types of probability distributions, but two main categories are discrete probability distributions and continuous probability distributions.\n",
    "\n",
    "\n",
    "## 1. Discrete probability distributions:\n",
    "\n",
    "Discrete probability distributions are used to model random variables that take on only discrete values, such as integers. Examples of discrete probability distributions include the Bernoulli distribution, binomial distribution, Poisson distribution, and geometric distribution.\n",
    "\n",
    "a). Bernoulli Distribution: It is a discrete probability distribution that models the probability of success or failure in a single trial of an experiment.\n",
    "\n",
    "b). Binomial Distribution: It models the probability of a specific number of successes in a fixed number of independent trials.\n",
    "\n",
    "c). Poisson Distribution: It models the probability of a given number of events occurring in a fixed interval of time.\n",
    "\n",
    "d). Geometric Distribution: It models the probability of the number of trials required to obtain the first success in a series of independent trials.\n",
    "\n",
    "\n",
    "## 2. Continuous probability distributions:\n",
    "\n",
    "Continuous probability distributions are used to model random variables that take on continuous values, such as real numbers. Examples of continuous probability distributions include the normal distribution, exponential distribution, and beta distribution.\n",
    "\n",
    "a).Normal Distribution: It is a continuous probability distribution that is commonly used to model real-world phenomena such as heights, weights, and IQ scores. It is also known as the Gaussian distribution or bell curve.\n",
    "\n",
    "b).Exponential Distribution: It models the probability of the time between two events occurring in a Poisson process.\n",
    "\n",
    "c).Beta Distribution: It is used to model random variables that take on values between 0 and 1, such as the proportion of successes in a series of trials"
   ]
  },
  {
   "cell_type": "code",
   "execution_count": null,
   "id": "d39d6132-c914-4d49-97ec-fe778572d087",
   "metadata": {},
   "outputs": [],
   "source": []
  },
  {
   "cell_type": "markdown",
   "id": "bda4e437-d4b1-4210-a9b7-ed73a4395587",
   "metadata": {},
   "source": [
    "## Q3. Write a Python function to calculate the probability density function of a normal distribution with given mean and standard deviation at a given point."
   ]
  },
  {
   "cell_type": "code",
   "execution_count": 6,
   "id": "5cb73cfe-edc2-4850-9eb6-a7343c13060f",
   "metadata": {},
   "outputs": [
    {
     "data": {
      "text/plain": [
       "0.3989422804014327"
      ]
     },
     "execution_count": 6,
     "metadata": {},
     "output_type": "execute_result"
    }
   ],
   "source": [
    "import math\n",
    "def normal_pdf(x, mu, sigma):\n",
    "    \"\"\"Calculates the probability density function of a normal distribution\n",
    "    with mean mu and standard deviation sigma, evaluated at the point x.\"\"\"\n",
    "    \n",
    "    exponent = -1/2 * ((x - mu) / sigma) ** 2\n",
    "    coefficient = 1 / (sigma * math.sqrt(2 * math.pi))\n",
    "    return coefficient * math.exp(exponent)\n",
    "\n",
    "normal_pdf(0, 0, 1)"
   ]
  },
  {
   "cell_type": "code",
   "execution_count": null,
   "id": "48be96fa-2f5d-495f-b80a-1219282a0c5a",
   "metadata": {},
   "outputs": [],
   "source": []
  },
  {
   "cell_type": "markdown",
   "id": "f8db7704-a0cc-4d1f-bbe4-c57bceedcbae",
   "metadata": {},
   "source": [
    "## Q4. What are the properties of Binomial distribution? Give two examples of events where binomial distribution can be applied."
   ]
  },
  {
   "cell_type": "markdown",
   "id": "76989345-bb23-414d-9a6b-1a8dfea2fbea",
   "metadata": {},
   "source": [
    "Ans:\n",
    "    \n",
    "The properties of the binomial distribution include:\n",
    "1. The trials must be independent of each other.\n",
    "2. Each trial must have two possible outcomes, typically labeled as \"success\" and \"failure\".\n",
    "3. The probability of success (p) is constant for all trials.\n",
    "4. The number of trials (n) is fixed and known in advance.\n",
    "5. The random variable X, representing the number of successes, has a binomial distribution.\n",
    "\n",
    "Here are two examples of events where binomial distribution can be applied:\n",
    "1. A manufacturer of computer chips wants to test whether a new design meets the required quality standards. The manufacturer conducts a sample of 100 chips, and each chip is tested for defects. Suppose the probability of a chip being defective is 0.05. The number of defective chips in the sample follows a binomial distribution, with n=100 and p=0.05.\n",
    "2. An online store wants to determine the click-through rate (CTR) of a new advertising campaign. The store runs the campaign on a sample of 1000 users and tracks the number of users who clicked on the ad. Suppose the probability of a user clicking on the ad is 0.1. The number of users who click on the ad follows a binomial distribution, with n=1000 and p=0.1."
   ]
  },
  {
   "cell_type": "code",
   "execution_count": null,
   "id": "d209cabe-baab-4c6b-8cfa-d0e6e54cb87b",
   "metadata": {},
   "outputs": [],
   "source": []
  },
  {
   "cell_type": "markdown",
   "id": "2928132d-99ba-4f65-a3e7-bce3303498ef",
   "metadata": {},
   "source": [
    "## Q5. Generate a random sample of size 1000 from a binomial distribution with probability of success 0.4 and plot a histogram of the results using matplotlib."
   ]
  },
  {
   "cell_type": "code",
   "execution_count": 16,
   "id": "b565c0a3-26ce-4e5f-a934-2f23f32a0a2e",
   "metadata": {},
   "outputs": [
    {
     "data": {
      "image/png": "[encoded data removed]",
      "text/plain": [
       "<Figure size 640x480 with 1 Axes>"
      ]
     },
     "metadata": {},
     "output_type": "display_data"
    }
   ],
   "source": [
    "import numpy as np\n",
    "import matplotlib.pyplot as plt\n",
    "# Set the parameters of the binomial distribution\n",
    "n = 1000\n",
    "p = 0.4\n",
    "# Generate a random sample of size 1000 from the binomial distribution\n",
    "sample = np.random.binomial(n, p, 1000)\n",
    "# histogram plot \n",
    "plt.hist(sample, bins=20, alpha=0.5, density=True)\n",
    "# Label the axes and title the plot\n",
    "plt.xlabel('Number of Successes')\n",
    "plt.ylabel('Probability Density')\n",
    "plt.title('Histogram of Binomial Distribution')\n",
    "plt.show()"
   ]
  },
  {
   "cell_type": "code",
   "execution_count": null,
   "id": "bdb77d6b-03aa-44e8-a011-b7d641b09a46",
   "metadata": {},
   "outputs": [],
   "source": []
  },
  {
   "cell_type": "markdown",
   "id": "dc69d218-dcbb-482d-9c99-c25c01b64607",
   "metadata": {},
   "source": [
    "## Q6.Write a Python function to calculate the cumulative distribution function of a Poisson distribution with given mean at a given point."
   ]
  },
  {
   "cell_type": "code",
   "execution_count": 14,
   "id": "7291f4c3-fba3-4117-ac25-eb32e390c6da",
   "metadata": {},
   "outputs": [
    {
     "name": "stdout",
     "output_type": "stream",
     "text": [
      "0.9160820579686966\n"
     ]
    }
   ],
   "source": [
    "import math\n",
    "def poisson_cdf(x, mu):\n",
    "    cdf = 0\n",
    "    for i in range(x+1):\n",
    "        cdf += math.exp(-mu) * mu**i / math.factorial(i)\n",
    "    return cdf\n",
    "    \n",
    "# Evaluate the CDF of a Poisson distribution with mean 3, at x=5\n",
    "cdf = poisson_cdf(5, 3)\n",
    "print(cdf)\n"
   ]
  },
  {
   "cell_type": "code",
   "execution_count": null,
   "id": "1fadd113-c905-42cd-a6fe-71fc85332bfb",
   "metadata": {},
   "outputs": [],
   "source": []
  },
  {
   "cell_type": "markdown",
   "id": "03b893d5-fe40-4d19-a626-050c0d8ce8c3",
   "metadata": {},
   "source": [
    "## Q7. How Binomial distribution different from Poisson distribution?"
   ]
  },
  {
   "cell_type": "markdown",
   "id": "cf42e385-699b-4c35-ad92-db3d03491639",
   "metadata": {},
   "source": [
    "Ans: Difference between binomial and Poisson distribution:\n",
    "\n",
    "1. Number of Trials: The Binomial distribution is used to model the number of successes in a fixed number of independent trials, while the Poisson distribution is used to model the number of rare events that occur in a fixed interval of time or space.\n",
    "\n",
    "2. Probability of Success: In the Binomial distribution, the probability of success is fixed and remains constant for all trials, while in the Poisson distribution, the probability of success is very small and the occurrence of rare events is modeled by a low average rate of occurrence.\n",
    "\n",
    "3. Sample Size: In the Binomial distribution, the sample size (number of trials) is usually moderate to large, while in the Poisson distribution, the sample size is usually fixed and small.\n",
    "\n",
    "4. Shape of the Distribution: The Binomial distribution is generally bell-shaped (symmetric) when the sample size is large, while the Poisson distribution is generally skewed to the right.\n",
    "\n",
    "5. Assumptions: The Binomial distribution assumes that the trials are independent and have a fixed probability of success, while the Poisson distribution assumes that the rare events occur randomly and independently in time or space."
   ]
  },
  {
   "cell_type": "code",
   "execution_count": null,
   "id": "3118fa43-b815-4a49-b637-66cde6d8a3b2",
   "metadata": {},
   "outputs": [],
   "source": []
  },
  {
   "cell_type": "markdown",
   "id": "2e2624c6-34bd-4977-ae9e-0f2e1167b6f7",
   "metadata": {},
   "source": [
    "## Q8. Generate a random sample of size 1000 from a Poisson distribution with mean 5 and calculate the  sample mean and variance."
   ]
  },
  {
   "cell_type": "code",
   "execution_count": 15,
   "id": "d9af18d0-3a23-46a8-b940-fb9b7f1e4163",
   "metadata": {},
   "outputs": [
    {
     "name": "stdout",
     "output_type": "stream",
     "text": [
      "Sample Mean: 4.992\n",
      "Sample Variance: 5.315251251251251\n"
     ]
    }
   ],
   "source": [
    "import numpy as np\n",
    "# Generate a random sample of size 1000 from a Poisson distribution with mean 5\n",
    "sample = np.random.poisson(5, 1000)\n",
    "# Calculate the sample mean and variance\n",
    "sample_mean = np.mean(sample)\n",
    "sample_var = np.var(sample, ddof=1)\n",
    "print(\"Sample Mean:\", sample_mean)\n",
    "print(\"Sample Variance:\", sample_var)\n"
   ]
  },
  {
   "cell_type": "code",
   "execution_count": null,
   "id": "7979c7a1-34b5-4122-acb4-39bcfad5e3fc",
   "metadata": {},
   "outputs": [],
   "source": []
  },
  {
   "cell_type": "markdown",
   "id": "40e02168-ad87-4d77-92a3-c8dfca519649",
   "metadata": {},
   "source": [
    "## Q9. How mean and variance are related in Binomial distribution and Poisson distribution?"
   ]
  },
  {
   "cell_type": "markdown",
   "id": "c9acf4e0-9b1f-41cd-9cbb-369646cfbc9b",
   "metadata": {},
   "source": [
    "Ans:\n",
    "\n",
    "For a Binomial distribution with parameters 'n' and 'p', the mean is 'mu' = 'np' and the variance is 'sigma^2 = np(1-p)', where 'n' is the number of trials and 'p' is the probability of success in each trial. Note that as 'p' gets closer to 0 or 1, the variance gets smaller and the distribution becomes more concentrated around the mean.\n",
    "\n",
    "For a Poisson distribution with mean 'lambda', the mean and variance are both equal to 'lambda'. This means that the Poisson distribution is a special case of the Binomial distribution, where the number of trials approaches infinity and the probability of success approaches 0 in such a way that 'lambda = np' remains constant. In other words, the Poisson distribution can be thought of as a limiting case of the Binomial distribution, where the probability of success is very small and the number of trials is very large.\n",
    "\n",
    "In both cases, the mean and variance provide important information about the distribution and its properties. They can be used to calculate other statistical measures, such as the standard deviation, skewness, and kurtosis, and to compare different distributions to each other."
   ]
  },
  {
   "cell_type": "code",
   "execution_count": null,
   "id": "044cf3dc-5468-40f3-97a1-9cf095ed86a4",
   "metadata": {},
   "outputs": [],
   "source": []
  },
  {
   "cell_type": "markdown",
   "id": "f351c926-79cf-49c0-97b4-71d67cb01fdf",
   "metadata": {},
   "source": [
    "## Q10. In normal distribution with respect to mean position, where does the least frequent data appear?"
   ]
  },
  {
   "cell_type": "markdown",
   "id": "b081af3f-e6b5-47b0-9339-88e945d80ae4",
   "metadata": {},
   "source": [
    "Ans:\n",
    "    \n",
    "In a normal distribution, the least frequent data appears in the tails of the distribution, which are the areas farthest from the mean. Specifically, the least frequent data appears at the extreme ends of the distribution, where the probability density function drops off rapidly towards zero    "
   ]
  },
  {
   "cell_type": "code",
   "execution_count": null,
   "id": "97b2576d-6437-479b-8358-dc86678642f4",
   "metadata": {},
   "outputs": [],
   "source": []
  }
 ],
 "metadata": {
  "kernelspec": {
   "display_name": "Python 3 (ipykernel)",
   "language": "python",
   "name": "python3"
  },
  "language_info": {
   "codemirror_mode": {
    "name": "ipython",
    "version": 3
   },
   "file_extension": ".py",
   "mimetype": "text/x-python",
   "name": "python",
   "nbconvert_exporter": "python",
   "pygments_lexer": "ipython3",
   "version": "3.10.8"
  }
 },
 "nbformat": 4,
 "nbformat_minor": 5
}
