{
 "cells": [
  {
   "cell_type": "markdown",
   "id": "c46e8213-7690-4def-8af7-20a17b7f0209",
   "metadata": {},
   "source": [
    "### Q1. In order to predict house price based on several characteristics, such as location, square footage, number of bedrooms, etc., you are developing an SVM regression model. Which regression metric in this situation would be the best to employ?\n",
    "\n",
    "### Dataset link: \n",
    "https://drive.google.com/file/d/1Z9oLpmt6IDRNw7IeNcHYTGeJRYypRSC0/viewusp=share_link"
   ]
  },
  {
   "cell_type": "code",
   "execution_count": 5,
   "id": "a178b28d-3f6c-4a1a-ac72-550fd3991a17",
   "metadata": {},
   "outputs": [],
   "source": [
    "import pandas as pd\n",
    "url = 'https://drive.google.com/file/d/1Z9oLpmt6IDRNw7IeNcHYTGeJRYypRSC0/view?usp=share_link'\n",
    "path = 'https://drive.google.com/uc?export=download&id='+url.split('/')[-2]\n",
    "df = pd.read_csv(path)"
   ]
  },
  {
   "cell_type": "code",
   "execution_count": 6,
   "id": "a657de51-3b88-42da-980e-930314519da2",
   "metadata": {},
   "outputs": [
    {
     "data": {
      "text/html": [
       "<div>\n",
       "<style scoped>\n",
       "    .dataframe tbody tr th:only-of-type {\n",
       "        vertical-align: middle;\n",
       "    }\n",
       "\n",
       "    .dataframe tbody tr th {\n",
       "        vertical-align: top;\n",
       "    }\n",
       "\n",
       "    .dataframe thead th {\n",
       "        text-align: right;\n",
       "    }\n",
       "</style>\n",
       "<table border=\"1\" class=\"dataframe\">\n",
       "  <thead>\n",
       "    <tr style=\"text-align: right;\">\n",
       "      <th></th>\n",
       "      <th>area_type</th>\n",
       "      <th>availability</th>\n",
       "      <th>location</th>\n",
       "      <th>size</th>\n",
       "      <th>society</th>\n",
       "      <th>total_sqft</th>\n",
       "      <th>bath</th>\n",
       "      <th>balcony</th>\n",
       "      <th>price</th>\n",
       "    </tr>\n",
       "  </thead>\n",
       "  <tbody>\n",
       "    <tr>\n",
       "      <th>0</th>\n",
       "      <td>Super built-up  Area</td>\n",
       "      <td>19-Dec</td>\n",
       "      <td>Electronic City Phase II</td>\n",
       "      <td>2 BHK</td>\n",
       "      <td>Coomee</td>\n",
       "      <td>1056</td>\n",
       "      <td>2.0</td>\n",
       "      <td>1.0</td>\n",
       "      <td>39.07</td>\n",
       "    </tr>\n",
       "    <tr>\n",
       "      <th>1</th>\n",
       "      <td>Plot  Area</td>\n",
       "      <td>Ready To Move</td>\n",
       "      <td>Chikka Tirupathi</td>\n",
       "      <td>4 Bedroom</td>\n",
       "      <td>Theanmp</td>\n",
       "      <td>2600</td>\n",
       "      <td>5.0</td>\n",
       "      <td>3.0</td>\n",
       "      <td>120.00</td>\n",
       "    </tr>\n",
       "    <tr>\n",
       "      <th>2</th>\n",
       "      <td>Built-up  Area</td>\n",
       "      <td>Ready To Move</td>\n",
       "      <td>Uttarahalli</td>\n",
       "      <td>3 BHK</td>\n",
       "      <td>NaN</td>\n",
       "      <td>1440</td>\n",
       "      <td>2.0</td>\n",
       "      <td>3.0</td>\n",
       "      <td>62.00</td>\n",
       "    </tr>\n",
       "    <tr>\n",
       "      <th>3</th>\n",
       "      <td>Super built-up  Area</td>\n",
       "      <td>Ready To Move</td>\n",
       "      <td>Lingadheeranahalli</td>\n",
       "      <td>3 BHK</td>\n",
       "      <td>Soiewre</td>\n",
       "      <td>1521</td>\n",
       "      <td>3.0</td>\n",
       "      <td>1.0</td>\n",
       "      <td>95.00</td>\n",
       "    </tr>\n",
       "    <tr>\n",
       "      <th>4</th>\n",
       "      <td>Super built-up  Area</td>\n",
       "      <td>Ready To Move</td>\n",
       "      <td>Kothanur</td>\n",
       "      <td>2 BHK</td>\n",
       "      <td>NaN</td>\n",
       "      <td>1200</td>\n",
       "      <td>2.0</td>\n",
       "      <td>1.0</td>\n",
       "      <td>51.00</td>\n",
       "    </tr>\n",
       "  </tbody>\n",
       "</table>\n",
       "</div>"
      ],
      "text/plain": [
       "              area_type   availability                  location       size  \\\n",
       "0  Super built-up  Area         19-Dec  Electronic City Phase II      2 BHK   \n",
       "1            Plot  Area  Ready To Move          Chikka Tirupathi  4 Bedroom   \n",
       "2        Built-up  Area  Ready To Move               Uttarahalli      3 BHK   \n",
       "3  Super built-up  Area  Ready To Move        Lingadheeranahalli      3 BHK   \n",
       "4  Super built-up  Area  Ready To Move                  Kothanur      2 BHK   \n",
       "\n",
       "   society total_sqft  bath  balcony   price  \n",
       "0  Coomee        1056   2.0      1.0   39.07  \n",
       "1  Theanmp       2600   5.0      3.0  120.00  \n",
       "2      NaN       1440   2.0      3.0   62.00  \n",
       "3  Soiewre       1521   3.0      1.0   95.00  \n",
       "4      NaN       1200   2.0      1.0   51.00  "
      ]
     },
     "execution_count": 6,
     "metadata": {},
     "output_type": "execute_result"
    }
   ],
   "source": [
    "df.head()"
   ]
  },
  {
   "cell_type": "markdown",
   "id": "c6e6c6cb-8bc9-4abc-9315-1bc31921d8d7",
   "metadata": {},
   "source": [
    "In this situation, the best regression metric to employ would be the mean squared error (MSE) as it measures the average squared difference between the predicted and actual values. \n",
    "This would be an appropriate metric to use for a regression model that aims to predict house prices based on several characteristics as it provides a quantitative measure of the accuracy of the model's predictions. \n",
    "\n",
    "Other commonly used regression metrics include root mean squared error (RMSE), mean absolute error (MAE), and R-squared (R2) which measures the proportion of the variance in the dependent variable that is explained by the independent variables."
   ]
  },
  {
   "cell_type": "code",
   "execution_count": null,
   "id": "f96be95d-2d65-41de-86cf-d08f6df9829d",
   "metadata": {},
   "outputs": [],
   "source": []
  },
  {
   "cell_type": "markdown",
   "id": "ac9dca24-acb4-432f-9155-aac93ebad7fd",
   "metadata": {
    "tags": []
   },
   "source": [
    "### Q2. You have built an SVM regression model and are trying to decide between using MSE or R-squared as your evaluation metric. Which metric would be more appropriate if your goal is to predict the actual price of a house as accurately as possible?"
   ]
  },
  {
   "cell_type": "markdown",
   "id": "c4c8ba46-a289-4571-8a45-33a48c557e8a",
   "metadata": {},
   "source": [
    "### Ans:\n",
    "\n",
    "If the goal is to predict the actual price of a house as accurately as possible, then the most appropriate evaluation metric would be the mean squared error (MSE). MSE measures the average squared difference between the predicted and actual values, which provides a measure of the accuracy of the model's predictions in terms of the absolute error. In this context, the primary objective is to minimize the absolute error between the predicted and actual house prices, and MSE is a more direct measure of this goal than R-squared. R-squared measures the proportion of the variance in the dependent variable that is explained by the independent variables, which is important for understanding the overall performance of the model, but it does not directly measure the accuracy of the predictions."
   ]
  },
  {
   "cell_type": "code",
   "execution_count": null,
   "id": "90785a33-46ac-4243-b337-a0a57341e29d",
   "metadata": {},
   "outputs": [],
   "source": []
  },
  {
   "cell_type": "markdown",
   "id": "e4b44dc4-c4fb-4ec6-ab6c-ced539be05b2",
   "metadata": {
    "tags": []
   },
   "source": [
    "### Q3. You have a dataset with a significant number of outliers and are trying to select an appropriate regression metric to use with your SVM model. Which metric would be the most appropriate in this scenario?"
   ]
  },
  {
   "cell_type": "markdown",
   "id": "ed0f7bb9-2fc4-4a42-911b-7a9bea04bc27",
   "metadata": {},
   "source": [
    "### Ans:\n",
    "\n",
    "When dealing with a dataset that contains a significant number of outliers, it is generally more appropriate to use a robust regression metric, as these metrics are less sensitive to outliers than standard regression metrics. One example of a robust regression metric is the mean absolute error (MAE), which measures the average absolute difference between the predicted and actual values. MAE is less sensitive to outliers than the mean squared error (MSE), which can be heavily influenced by extreme values in the dataset. Another option is to use a trimmed mean, which involves excluding a certain percentage of the extreme values from the calculation of the mean. This approach can be useful in cases where the outliers are particularly extreme or numerous."
   ]
  },
  {
   "cell_type": "code",
   "execution_count": null,
   "id": "274325ca-887a-4451-a326-b9305cdbc920",
   "metadata": {},
   "outputs": [],
   "source": []
  },
  {
   "cell_type": "markdown",
   "id": "d8b8bf71-f56e-4088-9a8a-57ca2cb59023",
   "metadata": {},
   "source": [
    "### Q4. You have built an SVM regression model using a polynomial kernel and are trying to select the best metric to evaluate its performance. You have calculated both MSE and RMSE and found that both values are very close. Which metric should you choose to use in this case?"
   ]
  },
  {
   "cell_type": "markdown",
   "id": "7baf629d-1a41-4818-8002-e700f2b3c5bf",
   "metadata": {},
   "source": [
    "### Ans:\n",
    "\n",
    "When evaluating an SVM regression model that uses a polynomial kernel, both the mean squared error (MSE) and root mean squared error (RMSE) can be useful metrics for evaluating performance. The choice between the two depends on whether you want to give more weight to large errors or not. The RMSE gives more weight to large errors because it involves taking the square root of the MSE, which means that errors that are farther from the target value have a greater impact on the metric. On the other hand, if you want to have a metric that penalizes all errors equally, then MSE is more appropriate. In the case where both values are very close, it may be best to choose the metric that is more intuitive or easier to interpret in the context of the problem. Ultimately, the choice of metric depends on the specific goals of the project and the preferences of the researcher."
   ]
  },
  {
   "cell_type": "code",
   "execution_count": null,
   "id": "afb54605-f511-45b0-a132-6d3823328ff7",
   "metadata": {},
   "outputs": [],
   "source": []
  },
  {
   "cell_type": "markdown",
   "id": "1cb9ab58-9566-4776-9d27-1fbbfb6946b9",
   "metadata": {},
   "source": [
    "### Q5. You are comparing the performance of different SVM regression models using different kernels (linear, polynomial, and RBF) and are trying to select the best evaluation metric. Which metric would be most appropriate if your goal is to measure how well the model explains the variance in the target variable?"
   ]
  },
  {
   "cell_type": "markdown",
   "id": "1674c31a-20e9-4ea3-988b-650e87804ce8",
   "metadata": {},
   "source": [
    "### Ans:\n",
    "\n",
    "If the goal is to measure how well an SVM regression model with different kernels explains the variance in the target variable, then the most appropriate evaluation metric would be the coefficient of determination, or R-squared. R-squared is a statistical measure that represents the proportion of variance in the dependent variable that is explained by the independent variables in the model.\n",
    "\n",
    "R-squared ranges from 0 to 1, with higher values indicating a better fit. Therefore, when comparing the performance of different SVM regression models using different kernels, the one with the highest R-squared value would be the best fit for explaining the variance in the target variable.\n",
    "\n",
    "It is important to note that R-squared alone may not be sufficient for selecting the best model, as it only measures the goodness of fit of the model, but not necessarily its predictive power. Therefore, other evaluation metrics, such as mean squared error or root mean squared error, should also be considered when selecting the best SVM regression model."
   ]
  },
  {
   "cell_type": "code",
   "execution_count": null,
   "id": "104b8cc2-d42d-4975-9849-06bb36d1d229",
   "metadata": {},
   "outputs": [],
   "source": []
  }
 ],
 "metadata": {
  "kernelspec": {
   "display_name": "Python 3 (ipykernel)",
   "language": "python",
   "name": "python3"
  },
  "language_info": {
   "codemirror_mode": {
    "name": "ipython",
    "version": 3
   },
   "file_extension": ".py",
   "mimetype": "text/x-python",
   "name": "python",
   "nbconvert_exporter": "python",
   "pygments_lexer": "ipython3",
   "version": "3.10.8"
  }
 },
 "nbformat": 4,
 "nbformat_minor": 5
}
