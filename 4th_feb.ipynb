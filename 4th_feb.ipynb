{
 "cells": [
  {
   "cell_type": "markdown",
   "id": "0926c5a7-8567-4e17-b6c1-310735e504bf",
   "metadata": {},
   "source": [
    "Q1. Create a Python program to sort given list of tuples based on integer value using a lamda function."
   ]
  },
  {
   "cell_type": "code",
   "execution_count": 2,
   "id": "ec2324e8-61a2-4824-940c-800e55e31e37",
   "metadata": {},
   "outputs": [
    {
     "name": "stdout",
     "output_type": "stream",
     "text": [
      "[('Sachin Tendulkar', 34357), ('Ricky Ponting', 27483), ('Jack Kallis', 25534), ('Virat Kohli', 24936)]\n"
     ]
    }
   ],
   "source": [
    "a1=[('Sachin Tendulkar', 34357), ('Ricky Ponting', 27483), ('Jack Kallis', 25534), ('Virat Kohli', 24936)]\n",
    "newlist = sorted(a1, key = lambda x : x[1],reverse=True)\n",
    "print(newlist)"
   ]
  },
  {
   "cell_type": "markdown",
   "id": "690b0484-1240-471a-81dc-ab68de92fdbf",
   "metadata": {},
   "source": [
    "Q2.Python program to find the squares of all the numbers in the given list using lamda and map function."
   ]
  },
  {
   "cell_type": "code",
   "execution_count": 5,
   "id": "1f0ebbeb-12cc-4cc2-959e-f017990454cc",
   "metadata": {},
   "outputs": [
    {
     "name": "stdout",
     "output_type": "stream",
     "text": [
      "[1, 4, 9, 16, 25, 36, 49, 64, 81, 100]\n"
     ]
    }
   ],
   "source": [
    "numbers=[1, 2, 3, 4, 5, 6, 7, 8, 9, 10]\n",
    "square_numbers = list(map(lambda x: x ** 2, numbers))\n",
    "print(square_numbers)"
   ]
  },
  {
   "cell_type": "markdown",
   "id": "c6b4890c-0cb2-4774-99b6-780a31d2897b",
   "metadata": {},
   "source": [
    "Q3. Write a python program to convert the given list of integers into a tuple of strings. Use map and lambda functions"
   ]
  },
  {
   "cell_type": "code",
   "execution_count": 6,
   "id": "f82f398e-8279-4126-8a1e-96f88881124e",
   "metadata": {},
   "outputs": [
    {
     "name": "stdout",
     "output_type": "stream",
     "text": [
      "('1', '2', '3', '4', '5', '6', '7', '8', '9', '10')\n"
     ]
    }
   ],
   "source": [
    "#Given String: [1, 2, 3, 4, 5, 6, 7, 8, 9, 10]\n",
    "x=[1, 2, 3, 4, 5, 6, 7, 8, 9, 10]\n",
    "result_tuple = tuple(map(str,x))\n",
    "print(result_tuple)"
   ]
  },
  {
   "cell_type": "markdown",
   "id": "f5276af5-8db7-418c-8333-60b85753b1ed",
   "metadata": {},
   "source": [
    "Q4. Write a python program using reduce function to compute the product of a list containing numbers\n",
    "from 1 to 25."
   ]
  },
  {
   "cell_type": "code",
   "execution_count": 10,
   "id": "2a648681-a0dc-4afa-bb5b-277f4556408d",
   "metadata": {},
   "outputs": [
    {
     "name": "stdout",
     "output_type": "stream",
     "text": [
      "15511210043330985984000000\n"
     ]
    }
   ],
   "source": [
    "from functools import reduce\n",
    "nums = [1,2,3,4,5,6,7,8,9,10,11,12,13,14,15,16,17,18,19,20,21,22,23,24,25]\n",
    "product = reduce( (lambda x, y: x * y), nums)\n",
    "print(product)"
   ]
  },
  {
   "cell_type": "markdown",
   "id": "a867a8b9-54e7-49a1-a4bd-a698fdc621cd",
   "metadata": {},
   "source": [
    "Q5. Write a python program to filter the numbers in a given list that are divisible by 2 and 3 using the\n",
    "filter function."
   ]
  },
  {
   "cell_type": "code",
   "execution_count": null,
   "id": "e1f244d2-4275-485b-9fb4-21b66062f9ae",
   "metadata": {},
   "outputs": [],
   "source": [
    "#given[2, 3, 6, 9, 27, 60, 90, 120, 55, 46]"
   ]
  },
  {
   "cell_type": "code",
   "execution_count": 15,
   "id": "46ab392e-fb35-49a4-a001-5ab7695a2d1e",
   "metadata": {},
   "outputs": [
    {
     "name": "stdout",
     "output_type": "stream",
     "text": [
      "[6, 60, 90, 120]\n"
     ]
    }
   ],
   "source": [
    "a=[2, 3, 6, 9, 27, 60, 90, 120, 55, 46]\n",
    "result = list(filter(lambda x: (x % 2 == 0 and x%3==0), a))\n",
    "print(result)"
   ]
  },
  {
   "cell_type": "markdown",
   "id": "230aa7d1-5cc6-41d8-8148-6de37638d00d",
   "metadata": {},
   "source": [
    "Q6. Write a python program to find palindromes in the given list of strings using lambda and filter\n",
    "function."
   ]
  },
  {
   "cell_type": "code",
   "execution_count": null,
   "id": "c298c058-1a10-41fa-bfbf-ac65d4edc31b",
   "metadata": {},
   "outputs": [],
   "source": [
    "#given list =['python', 'php', 'aba', 'radar', 'level']"
   ]
  },
  {
   "cell_type": "code",
   "execution_count": 16,
   "id": "8b9b38a0-92eb-4494-ba9d-7835df211dab",
   "metadata": {},
   "outputs": [
    {
     "name": "stdout",
     "output_type": "stream",
     "text": [
      "['php', 'aba', 'radar', 'level']\n"
     ]
    }
   ],
   "source": [
    "list1 =['python', 'php', 'aba', 'radar', 'level']\n",
    "result = list(filter(lambda x: (x == \"\".join(reversed(x))),list1)) \n",
    "print(result) "
   ]
  },
  {
   "cell_type": "code",
   "execution_count": null,
   "id": "02399529-1c50-4eb1-b0b3-5fe13f6a3fda",
   "metadata": {},
   "outputs": [],
   "source": []
  }
 ],
 "metadata": {
  "kernelspec": {
   "display_name": "Python 3 (ipykernel)",
   "language": "python",
   "name": "python3"
  },
  "language_info": {
   "codemirror_mode": {
    "name": "ipython",
    "version": 3
   },
   "file_extension": ".py",
   "mimetype": "text/x-python",
   "name": "python",
   "nbconvert_exporter": "python",
   "pygments_lexer": "ipython3",
   "version": "3.10.8"
  }
 },
 "nbformat": 4,
 "nbformat_minor": 5
}
