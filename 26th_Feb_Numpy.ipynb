{
 "cells": [
  {
   "cell_type": "markdown",
   "id": "ce515cd2-38cd-4b62-b310-3655c9cb4741",
   "metadata": {},
   "source": [
    "Consider the below code to answer further questions:\n",
    "\n",
    "import numpy as np\n",
    "\n",
    "list_ = [ ‘1’ , ’2’ , ‘3’ , ‘4’ , ‘5’ ]\n",
    "\n",
    "array_list = np.array(object = list_)\n",
    "\n",
    "Q1. Is there any difference in the data type of variables list_ and array_list? If there is then write a code \n",
    "to print the data types of both the variables."
   ]
  },
  {
   "cell_type": "markdown",
   "id": "80694dc8-815c-4b9c-b116-dc721101b433",
   "metadata": {},
   "source": [
    "Ans:\n",
    "\n",
    "Yes, there is a difference in the data type of variables list_ and array_list. list_ is a list of strings, while array_list is a numpy array of strings."
   ]
  },
  {
   "cell_type": "code",
   "execution_count": 2,
   "id": "60bc8d48-ebe6-49fc-8a50-00affb7a3d49",
   "metadata": {},
   "outputs": [
    {
     "name": "stdout",
     "output_type": "stream",
     "text": [
      "Type of list_: <class 'list'>\n",
      "Type of array_list: <class 'numpy.ndarray'>\n"
     ]
    }
   ],
   "source": [
    "import numpy as np\n",
    "list = ['1', '2', '3', '4', '5']\n",
    "arraylist = np.array(list_)\n",
    "print(\"Type of list_:\", type(list))\n",
    "print(\"Type of array_list:\", type(arraylist))\n"
   ]
  },
  {
   "cell_type": "code",
   "execution_count": null,
   "id": "5adac8f2-a711-4188-a9f7-adeb407bb3a8",
   "metadata": {},
   "outputs": [],
   "source": []
  },
  {
   "cell_type": "markdown",
   "id": "e8934a71-6b41-4962-90bf-4fd75a4a0aa6",
   "metadata": {},
   "source": [
    "Q2. Write a code to print the data type of each and every element of both the variables list_ and array_list."
   ]
  },
  {
   "cell_type": "code",
   "execution_count": 3,
   "id": "6c734b62-3bf0-4f49-a1f2-5c3071d3c86f",
   "metadata": {},
   "outputs": [
    {
     "name": "stdout",
     "output_type": "stream",
     "text": [
      "<class 'str'>\n",
      "<class 'str'>\n",
      "<class 'str'>\n",
      "<class 'str'>\n",
      "<class 'str'>\n",
      "<class 'numpy.ndarray'>\n",
      "<class 'numpy.ndarray'>\n",
      "<class 'numpy.ndarray'>\n",
      "<class 'numpy.ndarray'>\n",
      "<class 'numpy.ndarray'>\n"
     ]
    }
   ],
   "source": [
    "import numpy as np\n",
    "list_ = ['1', '2', '3', '4', '5']\n",
    "array_list = np.array(object=list_)\n",
    "# Printing data type of each element in list_\n",
    "for element in list_:\n",
    "    print(type(element))\n",
    "    \n",
    "# Printing data type of each element in array_list\n",
    "for element in np.nditer(array_list):\n",
    "    print(type(element))\n"
   ]
  },
  {
   "cell_type": "code",
   "execution_count": null,
   "id": "118c7094-63c4-4a85-9903-108dd24f70de",
   "metadata": {},
   "outputs": [],
   "source": []
  },
  {
   "cell_type": "markdown",
   "id": "7d7b1a4f-7d33-49d5-94de-9cadb1c8e749",
   "metadata": {},
   "source": [
    "Q3. Considering the following changes in the variable, array_list:\n",
    "\n",
    "array_list = np.array(object = list_, dtype = int)\n",
    "\n",
    "Will there be any difference in the data type of the elements present in both the variables, list_ and \n",
    "arra_list? If so then print the data types of each and every element present in both the variables, list_ \n",
    "and arra_list."
   ]
  },
  {
   "cell_type": "markdown",
   "id": "a8ab6c72-58fe-462b-adb3-33269e44b6a1",
   "metadata": {},
   "source": [
    "Ans:\n",
    "\n",
    "Yes, there will be a difference in the data type of the elements present in both the variables list_ and array_list. The elements in list_ are strings, whereas the elements in array_list will be integers due to the dtype=int argument."
   ]
  },
  {
   "cell_type": "code",
   "execution_count": 4,
   "id": "3a1c7fe5-526b-4cd7-bf3e-27e8fa541c24",
   "metadata": {},
   "outputs": [
    {
     "name": "stdout",
     "output_type": "stream",
     "text": [
      "<class 'str'>\n",
      "<class 'str'>\n",
      "<class 'str'>\n",
      "<class 'str'>\n",
      "<class 'str'>\n",
      "<class 'numpy.int64'>\n",
      "<class 'numpy.int64'>\n",
      "<class 'numpy.int64'>\n",
      "<class 'numpy.int64'>\n",
      "<class 'numpy.int64'>\n"
     ]
    }
   ],
   "source": [
    "list_ = ['1', '2', '3', '4', '5']\n",
    "array_list = np.array(object=list_, dtype=int)\n",
    "# print data types of elements in list_\n",
    "for elem in list_:\n",
    "    print(type(elem))\n",
    "    \n",
    "# print data types of elements in array_list\n",
    "for elem in array_list:\n",
    "    print(type(elem))\n"
   ]
  },
  {
   "cell_type": "code",
   "execution_count": null,
   "id": "0fe6d8d7-d65d-4737-9a33-f92512ee42e3",
   "metadata": {},
   "outputs": [],
   "source": []
  },
  {
   "cell_type": "markdown",
   "id": "3524dc3f-ad2c-4040-82f0-6a219208aacc",
   "metadata": {},
   "source": [
    "Consider the below code to answer further questions:\n",
    "\n",
    "import numpy as np\n",
    "\n",
    "num_list = [ [ 1 , 2 , 3 ] , [ 4 , 5 , 6 ] ]\n",
    "\n",
    "num_array = np.array(object = num_list)\n",
    "\n",
    "Q4. Write a code to find the following characteristics of variable, num_array:\n",
    "\n",
    "(i)\t shape\n",
    "(ii) size"
   ]
  },
  {
   "cell_type": "code",
   "execution_count": 5,
   "id": "1eb69b7a-ea8d-47b5-902e-793b9bdeb995",
   "metadata": {},
   "outputs": [
    {
     "name": "stdout",
     "output_type": "stream",
     "text": [
      "Shape of num_array: (2, 3)\n",
      "Size of num_array: 6\n"
     ]
    }
   ],
   "source": [
    "import numpy as np\n",
    "num_list = [[1, 2, 3], [4, 5, 6]]\n",
    "num_array = np.array(object=num_list)\n",
    "print(\"Shape of num_array:\", num_array.shape)\n",
    "print(\"Size of num_array:\", num_array.size)\n"
   ]
  },
  {
   "cell_type": "code",
   "execution_count": null,
   "id": "4dc8675f-485d-469c-9066-e354c26aa302",
   "metadata": {},
   "outputs": [],
   "source": []
  },
  {
   "cell_type": "markdown",
   "id": "412aa3a6-170e-4f1a-8e9b-d24fa319e960",
   "metadata": {},
   "source": [
    "Q5. Write a code to create numpy array of 3*3 matrix containing zeros only,using a numpy array creation function.\n",
    "\n",
    "[Hint: The size of the array will be 9 and the shape will be (3,3).]"
   ]
  },
  {
   "cell_type": "code",
   "execution_count": 6,
   "id": "c9ef8f3f-d598-4b09-b7ce-3dde40cf2233",
   "metadata": {},
   "outputs": [
    {
     "name": "stdout",
     "output_type": "stream",
     "text": [
      "[[0. 0. 0.]\n",
      " [0. 0. 0.]\n",
      " [0. 0. 0.]]\n"
     ]
    }
   ],
   "source": [
    "import numpy as np\n",
    "zeros_array = np.zeros((3, 3))\n",
    "print(zeros_array)\n"
   ]
  },
  {
   "cell_type": "code",
   "execution_count": null,
   "id": "8f0f13a1-4d99-4930-a316-f63f00846313",
   "metadata": {},
   "outputs": [],
   "source": []
  },
  {
   "cell_type": "markdown",
   "id": "2e3fc6ad-c6b5-462a-82ce-4d9d673345c4",
   "metadata": {},
   "source": [
    "Q6. Create an identity matrix of shape (5,5) using numpy functions?\n",
    "\n",
    "[Hint: An identity matrix is a matrix containing 1 diagonally and other elements will be 0.]"
   ]
  },
  {
   "cell_type": "code",
   "execution_count": 7,
   "id": "632f8033-cecd-4d02-ada6-6df44690379e",
   "metadata": {},
   "outputs": [
    {
     "name": "stdout",
     "output_type": "stream",
     "text": [
      "[[1. 0. 0. 0. 0.]\n",
      " [0. 1. 0. 0. 0.]\n",
      " [0. 0. 1. 0. 0.]\n",
      " [0. 0. 0. 1. 0.]\n",
      " [0. 0. 0. 0. 1.]]\n"
     ]
    }
   ],
   "source": [
    "import numpy as np\n",
    "identity_matrix = np.identity(5)\n",
    "print(identity_matrix)\n"
   ]
  },
  {
   "cell_type": "code",
   "execution_count": null,
   "id": "96adaf13-b305-4cc7-8db4-cdefc1bc5e52",
   "metadata": {},
   "outputs": [],
   "source": []
  }
 ],
 "metadata": {
  "kernelspec": {
   "display_name": "Python 3 (ipykernel)",
   "language": "python",
   "name": "python3"
  },
  "language_info": {
   "codemirror_mode": {
    "name": "ipython",
    "version": 3
   },
   "file_extension": ".py",
   "mimetype": "text/x-python",
   "name": "python",
   "nbconvert_exporter": "python",
   "pygments_lexer": "ipython3",
   "version": "3.10.8"
  }
 },
 "nbformat": 4,
 "nbformat_minor": 5
}
