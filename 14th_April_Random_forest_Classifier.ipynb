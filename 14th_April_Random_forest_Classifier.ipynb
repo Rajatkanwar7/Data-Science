{
 "cells": [
  {
   "cell_type": "markdown",
   "id": "f298b4c7-028b-422e-a2c7-af2a617a8bcf",
   "metadata": {
    "tags": []
   },
   "source": [
    "### Build a random forest classifier to predict the risk of heart disease based on a dataset of patient information. The dataset contains 303 instances with 14 features, including age, sex, chest pain type, resting blood pressure, serum cholesterol, and maximum heart rate achieved."
   ]
  },
  {
   "cell_type": "markdown",
   "id": "0c0648bb-3b6e-4878-b29a-9ecc1465559f",
   "metadata": {},
   "source": [
    "#### Dataset link: https://drive.google.com/file/d/1bGoIE4Z2kG5nyh-fGZAJ7LH0ki3UfmSJ/view?usp=share_link"
   ]
  },
  {
   "cell_type": "markdown",
   "id": "abf82106-a4f8-42ae-9626-d0159cf2feed",
   "metadata": {},
   "source": [
    "### Importing the Libraries"
   ]
  },
  {
   "cell_type": "code",
   "execution_count": 1,
   "id": "d2b92647-e5c1-42fb-bcc2-74eaca01f4cf",
   "metadata": {},
   "outputs": [],
   "source": [
    "from sklearn.metrics import classification_report\n",
    "import pandas as pd\n",
    "import numpy as np\n",
    "import matplotlib.pyplot as plt\n",
    "%matplotlib inline\n",
    "\n",
    "from sklearn.ensemble import RandomForestClassifier\n",
    "from sklearn.model_selection import RandomizedSearchCV\n",
    "from sklearn.metrics import accuracy_score, make_scorer"
   ]
  },
  {
   "cell_type": "markdown",
   "id": "34126dec-de36-4788-bb18-3b7777f518ce",
   "metadata": {},
   "source": [
    "## Q1. Preprocess the dataset by handling missing values, encoding categorical variables, and scaling the  numerical features if necessary."
   ]
  },
  {
   "cell_type": "code",
   "execution_count": 2,
   "id": "5bc39d0b-2297-4c71-8dfd-a14875bfeb67",
   "metadata": {},
   "outputs": [],
   "source": [
    "df= pd.read_csv(\"dataset.csv\")"
   ]
  },
  {
   "cell_type": "code",
   "execution_count": 3,
   "id": "9d33b924-d815-4f40-8bd9-d5cda3b52d44",
   "metadata": {},
   "outputs": [
    {
     "data": {
      "text/html": [
       "<div>\n",
       "<style scoped>\n",
       "    .dataframe tbody tr th:only-of-type {\n",
       "        vertical-align: middle;\n",
       "    }\n",
       "\n",
       "    .dataframe tbody tr th {\n",
       "        vertical-align: top;\n",
       "    }\n",
       "\n",
       "    .dataframe thead th {\n",
       "        text-align: right;\n",
       "    }\n",
       "</style>\n",
       "<table border=\"1\" class=\"dataframe\">\n",
       "  <thead>\n",
       "    <tr style=\"text-align: right;\">\n",
       "      <th></th>\n",
       "      <th>ï»¿age</th>\n",
       "      <th>sex</th>\n",
       "      <th>cp</th>\n",
       "      <th>trestbps</th>\n",
       "      <th>chol</th>\n",
       "      <th>fbs</th>\n",
       "      <th>restecg</th>\n",
       "      <th>thalach</th>\n",
       "      <th>exang</th>\n",
       "      <th>oldpeak</th>\n",
       "      <th>slope</th>\n",
       "      <th>ca</th>\n",
       "      <th>thal</th>\n",
       "      <th>target</th>\n",
       "    </tr>\n",
       "  </thead>\n",
       "  <tbody>\n",
       "    <tr>\n",
       "      <th>0</th>\n",
       "      <td>63</td>\n",
       "      <td>1</td>\n",
       "      <td>3</td>\n",
       "      <td>145</td>\n",
       "      <td>233</td>\n",
       "      <td>1</td>\n",
       "      <td>0</td>\n",
       "      <td>150</td>\n",
       "      <td>0</td>\n",
       "      <td>2.3</td>\n",
       "      <td>0</td>\n",
       "      <td>0</td>\n",
       "      <td>1</td>\n",
       "      <td>1</td>\n",
       "    </tr>\n",
       "    <tr>\n",
       "      <th>1</th>\n",
       "      <td>37</td>\n",
       "      <td>1</td>\n",
       "      <td>2</td>\n",
       "      <td>130</td>\n",
       "      <td>250</td>\n",
       "      <td>0</td>\n",
       "      <td>1</td>\n",
       "      <td>187</td>\n",
       "      <td>0</td>\n",
       "      <td>3.5</td>\n",
       "      <td>0</td>\n",
       "      <td>0</td>\n",
       "      <td>2</td>\n",
       "      <td>1</td>\n",
       "    </tr>\n",
       "    <tr>\n",
       "      <th>2</th>\n",
       "      <td>41</td>\n",
       "      <td>0</td>\n",
       "      <td>1</td>\n",
       "      <td>130</td>\n",
       "      <td>204</td>\n",
       "      <td>0</td>\n",
       "      <td>0</td>\n",
       "      <td>172</td>\n",
       "      <td>0</td>\n",
       "      <td>1.4</td>\n",
       "      <td>2</td>\n",
       "      <td>0</td>\n",
       "      <td>2</td>\n",
       "      <td>1</td>\n",
       "    </tr>\n",
       "    <tr>\n",
       "      <th>3</th>\n",
       "      <td>56</td>\n",
       "      <td>1</td>\n",
       "      <td>1</td>\n",
       "      <td>120</td>\n",
       "      <td>236</td>\n",
       "      <td>0</td>\n",
       "      <td>1</td>\n",
       "      <td>178</td>\n",
       "      <td>0</td>\n",
       "      <td>0.8</td>\n",
       "      <td>2</td>\n",
       "      <td>0</td>\n",
       "      <td>2</td>\n",
       "      <td>1</td>\n",
       "    </tr>\n",
       "    <tr>\n",
       "      <th>4</th>\n",
       "      <td>57</td>\n",
       "      <td>0</td>\n",
       "      <td>0</td>\n",
       "      <td>120</td>\n",
       "      <td>354</td>\n",
       "      <td>0</td>\n",
       "      <td>1</td>\n",
       "      <td>163</td>\n",
       "      <td>1</td>\n",
       "      <td>0.6</td>\n",
       "      <td>2</td>\n",
       "      <td>0</td>\n",
       "      <td>2</td>\n",
       "      <td>1</td>\n",
       "    </tr>\n",
       "  </tbody>\n",
       "</table>\n",
       "</div>"
      ],
      "text/plain": [
       "   ï»¿age  sex  cp  trestbps  chol  fbs  restecg  thalach  exang  oldpeak  \\\n",
       "0      63    1   3       145   233    1        0      150      0      2.3   \n",
       "1      37    1   2       130   250    0        1      187      0      3.5   \n",
       "2      41    0   1       130   204    0        0      172      0      1.4   \n",
       "3      56    1   1       120   236    0        1      178      0      0.8   \n",
       "4      57    0   0       120   354    0        1      163      1      0.6   \n",
       "\n",
       "   slope  ca  thal  target  \n",
       "0      0   0     1       1  \n",
       "1      0   0     2       1  \n",
       "2      2   0     2       1  \n",
       "3      2   0     2       1  \n",
       "4      2   0     2       1  "
      ]
     },
     "execution_count": 3,
     "metadata": {},
     "output_type": "execute_result"
    }
   ],
   "source": [
    "df.head()"
   ]
  },
  {
   "cell_type": "markdown",
   "id": "567fa250-a525-4baf-bfd1-0b68539f7f5d",
   "metadata": {},
   "source": [
    "### Checking For Null & Duplicate Values "
   ]
  },
  {
   "cell_type": "code",
   "execution_count": 4,
   "id": "40f573d9-527e-4640-95b8-53b7084899f9",
   "metadata": {},
   "outputs": [
    {
     "data": {
      "text/plain": [
       "ï»¿age      0\n",
       "sex         0\n",
       "cp          0\n",
       "trestbps    0\n",
       "chol        0\n",
       "fbs         0\n",
       "restecg     0\n",
       "thalach     0\n",
       "exang       0\n",
       "oldpeak     0\n",
       "slope       0\n",
       "ca          0\n",
       "thal        0\n",
       "target      0\n",
       "dtype: int64"
      ]
     },
     "execution_count": 4,
     "metadata": {},
     "output_type": "execute_result"
    }
   ],
   "source": [
    "df.isnull().sum()"
   ]
  },
  {
   "cell_type": "code",
   "execution_count": 5,
   "id": "4888dec1-df4c-4c36-b2a1-d673b1119913",
   "metadata": {},
   "outputs": [
    {
     "data": {
      "text/html": [
       "<div>\n",
       "<style scoped>\n",
       "    .dataframe tbody tr th:only-of-type {\n",
       "        vertical-align: middle;\n",
       "    }\n",
       "\n",
       "    .dataframe tbody tr th {\n",
       "        vertical-align: top;\n",
       "    }\n",
       "\n",
       "    .dataframe thead th {\n",
       "        text-align: right;\n",
       "    }\n",
       "</style>\n",
       "<table border=\"1\" class=\"dataframe\">\n",
       "  <thead>\n",
       "    <tr style=\"text-align: right;\">\n",
       "      <th></th>\n",
       "      <th>ï»¿age</th>\n",
       "      <th>sex</th>\n",
       "      <th>cp</th>\n",
       "      <th>trestbps</th>\n",
       "      <th>chol</th>\n",
       "      <th>fbs</th>\n",
       "      <th>restecg</th>\n",
       "      <th>thalach</th>\n",
       "      <th>exang</th>\n",
       "      <th>oldpeak</th>\n",
       "      <th>slope</th>\n",
       "      <th>ca</th>\n",
       "      <th>thal</th>\n",
       "      <th>target</th>\n",
       "    </tr>\n",
       "  </thead>\n",
       "  <tbody>\n",
       "    <tr>\n",
       "      <th>164</th>\n",
       "      <td>38</td>\n",
       "      <td>1</td>\n",
       "      <td>2</td>\n",
       "      <td>138</td>\n",
       "      <td>175</td>\n",
       "      <td>0</td>\n",
       "      <td>1</td>\n",
       "      <td>173</td>\n",
       "      <td>0</td>\n",
       "      <td>0.0</td>\n",
       "      <td>2</td>\n",
       "      <td>4</td>\n",
       "      <td>2</td>\n",
       "      <td>1</td>\n",
       "    </tr>\n",
       "  </tbody>\n",
       "</table>\n",
       "</div>"
      ],
      "text/plain": [
       "     ï»¿age  sex  cp  trestbps  chol  fbs  restecg  thalach  exang  oldpeak  \\\n",
       "164      38    1   2       138   175    0        1      173      0      0.0   \n",
       "\n",
       "     slope  ca  thal  target  \n",
       "164      2   4     2       1  "
      ]
     },
     "execution_count": 5,
     "metadata": {},
     "output_type": "execute_result"
    }
   ],
   "source": [
    "df.loc[df.duplicated(),:]"
   ]
  },
  {
   "cell_type": "markdown",
   "id": "0b3c69c4-6ef3-4b6c-8bf5-dec9029b2aa2",
   "metadata": {},
   "source": [
    "## Observation\n",
    "* No null values\n",
    "* One duplicate value"
   ]
  },
  {
   "cell_type": "code",
   "execution_count": 6,
   "id": "e6f2fb85-cb2c-4ee5-99b9-65d0868e65fd",
   "metadata": {},
   "outputs": [],
   "source": [
    "# removing duplicate value\n",
    "df.drop_duplicates(inplace=True)"
   ]
  },
  {
   "cell_type": "code",
   "execution_count": 7,
   "id": "a4a0ecf5-9611-402a-9780-3c0b3a4fe6b7",
   "metadata": {},
   "outputs": [
    {
     "data": {
      "text/plain": [
       "(302, 14)"
      ]
     },
     "execution_count": 7,
     "metadata": {},
     "output_type": "execute_result"
    }
   ],
   "source": [
    "df.shape"
   ]
  },
  {
   "cell_type": "code",
   "execution_count": 9,
   "id": "1b522445-4611-4fcf-986f-1046f850c088",
   "metadata": {},
   "outputs": [
    {
     "data": {
      "text/plain": [
       "(     ï»¿age  sex  cp  trestbps  chol  fbs  restecg  thalach  exang  oldpeak  \\\n",
       " 0        63    1   3       145   233    1        0      150      0      2.3   \n",
       " 1        37    1   2       130   250    0        1      187      0      3.5   \n",
       " 2        41    0   1       130   204    0        0      172      0      1.4   \n",
       " 3        56    1   1       120   236    0        1      178      0      0.8   \n",
       " 4        57    0   0       120   354    0        1      163      1      0.6   \n",
       " ..      ...  ...  ..       ...   ...  ...      ...      ...    ...      ...   \n",
       " 298      57    0   0       140   241    0        1      123      1      0.2   \n",
       " 299      45    1   3       110   264    0        1      132      0      1.2   \n",
       " 300      68    1   0       144   193    1        1      141      0      3.4   \n",
       " 301      57    1   0       130   131    0        1      115      1      1.2   \n",
       " 302      57    0   1       130   236    0        0      174      0      0.0   \n",
       " \n",
       "      slope  ca  thal  \n",
       " 0        0   0     1  \n",
       " 1        0   0     2  \n",
       " 2        2   0     2  \n",
       " 3        2   0     2  \n",
       " 4        2   0     2  \n",
       " ..     ...  ..   ...  \n",
       " 298      1   0     3  \n",
       " 299      1   0     3  \n",
       " 300      1   2     3  \n",
       " 301      1   1     3  \n",
       " 302      1   1     2  \n",
       " \n",
       " [302 rows x 13 columns],\n",
       " 0      1\n",
       " 1      1\n",
       " 2      1\n",
       " 3      1\n",
       " 4      1\n",
       "       ..\n",
       " 298    0\n",
       " 299    0\n",
       " 300    0\n",
       " 301    0\n",
       " 302    0\n",
       " Name: target, Length: 302, dtype: int64)"
      ]
     },
     "execution_count": 9,
     "metadata": {},
     "output_type": "execute_result"
    }
   ],
   "source": [
    "X = df.iloc[:,:-1]\n",
    "y = df.iloc[:,-1]\n",
    "X,y"
   ]
  },
  {
   "cell_type": "code",
   "execution_count": 10,
   "id": "d115a0d7-5617-4938-aea5-52b271ff0aea",
   "metadata": {},
   "outputs": [
    {
     "data": {
      "text/plain": [
       "1    164\n",
       "0    138\n",
       "Name: target, dtype: int64"
      ]
     },
     "execution_count": 10,
     "metadata": {},
     "output_type": "execute_result"
    }
   ],
   "source": [
    "y.value_counts()"
   ]
  },
  {
   "cell_type": "code",
   "execution_count": null,
   "id": "af798368-37c2-4d12-9224-d2eec0443f13",
   "metadata": {},
   "outputs": [],
   "source": []
  },
  {
   "cell_type": "markdown",
   "id": "c5859f50-d501-4e1b-9b04-1b4085d5cccc",
   "metadata": {},
   "source": [
    "## Q2. Split the dataset into a training set (70%) and a test set (30%)."
   ]
  },
  {
   "cell_type": "code",
   "execution_count": 11,
   "id": "1bdf6b6e-3ef8-44a0-ae39-91802fd70bd0",
   "metadata": {},
   "outputs": [],
   "source": [
    "from sklearn.model_selection import train_test_split\n",
    "X_train, X_test, y_train, y_test = train_test_split(X, y, test_size=0.30,random_state=42)"
   ]
  },
  {
   "cell_type": "code",
   "execution_count": 12,
   "id": "96a4303e-d6aa-4f44-81aa-875191cf7a3f",
   "metadata": {},
   "outputs": [
    {
     "data": {
      "text/plain": [
       "((211, 13), (91, 13))"
      ]
     },
     "execution_count": 12,
     "metadata": {},
     "output_type": "execute_result"
    }
   ],
   "source": [
    "X_train.shape, X_test.shape"
   ]
  },
  {
   "cell_type": "code",
   "execution_count": null,
   "id": "27176210-314b-4155-bbb9-fa5036cd4e84",
   "metadata": {},
   "outputs": [],
   "source": []
  },
  {
   "cell_type": "markdown",
   "id": "1d22ac3d-a017-407d-be60-ae165661b268",
   "metadata": {},
   "source": [
    "## Feature Scaling"
   ]
  },
  {
   "cell_type": "code",
   "execution_count": 13,
   "id": "e08d8327-0b8a-4eab-bf2e-0012ce9e3ea4",
   "metadata": {
    "colab": {},
    "colab_type": "code",
    "id": "9fQlDPKCh8sc"
   },
   "outputs": [],
   "source": [
    "from sklearn.preprocessing import StandardScaler\n",
    "sc = StandardScaler()\n",
    "X_train1 = sc.fit_transform(X_train)\n",
    "X_test1 = sc.transform(X_test)"
   ]
  },
  {
   "cell_type": "code",
   "execution_count": null,
   "id": "a21a2a25-f435-4f3e-a81c-50a0d2ce6db8",
   "metadata": {},
   "outputs": [],
   "source": []
  },
  {
   "cell_type": "markdown",
   "id": "4def38b3-7073-4310-b929-f8dae4d464cb",
   "metadata": {},
   "source": [
    "## Q3. Train a random forest classifier on the training set using 100 trees and a maximum depth of 10 for each tree. Use the default values for other hyperparameters."
   ]
  },
  {
   "cell_type": "markdown",
   "id": "22e68b2b-2057-48af-b2cb-a62ec2e925f4",
   "metadata": {},
   "source": [
    "### Random forest classification model"
   ]
  },
  {
   "cell_type": "code",
   "execution_count": 15,
   "id": "9ab254c0-38f0-4d47-8a60-00f5c4dbd22a",
   "metadata": {
    "colab": {},
    "colab_type": "code",
    "id": "e0pFVAmciHQs"
   },
   "outputs": [
    {
     "data": {
      "text/html": [
       "<style>#sk-container-id-1 {color: black;background-color: white;}#sk-container-id-1 pre{padding: 0;}#sk-container-id-1 div.sk-toggleable {background-color: white;}#sk-container-id-1 label.sk-toggleable__label {cursor: pointer;display: block;width: 100%;margin-bottom: 0;padding: 0.3em;box-sizing: border-box;text-align: center;}#sk-container-id-1 label.sk-toggleable__label-arrow:before {content: \"▸\";float: left;margin-right: 0.25em;color: #696969;}#sk-container-id-1 label.sk-toggleable__label-arrow:hover:before {color: black;}#sk-container-id-1 div.sk-estimator:hover label.sk-toggleable__label-arrow:before {color: black;}#sk-container-id-1 div.sk-toggleable__content {max-height: 0;max-width: 0;overflow: hidden;text-align: left;background-color: #f0f8ff;}#sk-container-id-1 div.sk-toggleable__content pre {margin: 0.2em;color: black;border-radius: 0.25em;background-color: #f0f8ff;}#sk-container-id-1 input.sk-toggleable__control:checked~div.sk-toggleable__content {max-height: 200px;max-width: 100%;overflow: auto;}#sk-container-id-1 input.sk-toggleable__control:checked~label.sk-toggleable__label-arrow:before {content: \"▾\";}#sk-container-id-1 div.sk-estimator input.sk-toggleable__control:checked~label.sk-toggleable__label {background-color: #d4ebff;}#sk-container-id-1 div.sk-label input.sk-toggleable__control:checked~label.sk-toggleable__label {background-color: #d4ebff;}#sk-container-id-1 input.sk-hidden--visually {border: 0;clip: rect(1px 1px 1px 1px);clip: rect(1px, 1px, 1px, 1px);height: 1px;margin: -1px;overflow: hidden;padding: 0;position: absolute;width: 1px;}#sk-container-id-1 div.sk-estimator {font-family: monospace;background-color: #f0f8ff;border: 1px dotted black;border-radius: 0.25em;box-sizing: border-box;margin-bottom: 0.5em;}#sk-container-id-1 div.sk-estimator:hover {background-color: #d4ebff;}#sk-container-id-1 div.sk-parallel-item::after {content: \"\";width: 100%;border-bottom: 1px solid gray;flex-grow: 1;}#sk-container-id-1 div.sk-label:hover label.sk-toggleable__label {background-color: #d4ebff;}#sk-container-id-1 div.sk-serial::before {content: \"\";position: absolute;border-left: 1px solid gray;box-sizing: border-box;top: 0;bottom: 0;left: 50%;z-index: 0;}#sk-container-id-1 div.sk-serial {display: flex;flex-direction: column;align-items: center;background-color: white;padding-right: 0.2em;padding-left: 0.2em;position: relative;}#sk-container-id-1 div.sk-item {position: relative;z-index: 1;}#sk-container-id-1 div.sk-parallel {display: flex;align-items: stretch;justify-content: center;background-color: white;position: relative;}#sk-container-id-1 div.sk-item::before, #sk-container-id-1 div.sk-parallel-item::before {content: \"\";position: absolute;border-left: 1px solid gray;box-sizing: border-box;top: 0;bottom: 0;left: 50%;z-index: -1;}#sk-container-id-1 div.sk-parallel-item {display: flex;flex-direction: column;z-index: 1;position: relative;background-color: white;}#sk-container-id-1 div.sk-parallel-item:first-child::after {align-self: flex-end;width: 50%;}#sk-container-id-1 div.sk-parallel-item:last-child::after {align-self: flex-start;width: 50%;}#sk-container-id-1 div.sk-parallel-item:only-child::after {width: 0;}#sk-container-id-1 div.sk-dashed-wrapped {border: 1px dashed gray;margin: 0 0.4em 0.5em 0.4em;box-sizing: border-box;padding-bottom: 0.4em;background-color: white;}#sk-container-id-1 div.sk-label label {font-family: monospace;font-weight: bold;display: inline-block;line-height: 1.2em;}#sk-container-id-1 div.sk-label-container {text-align: center;}#sk-container-id-1 div.sk-container {/* jupyter's `normalize.less` sets `[hidden] { display: none; }` but bootstrap.min.css set `[hidden] { display: none !important; }` so we also need the `!important` here to be able to override the default hidden behavior on the sphinx rendered scikit-learn.org. See: https://github.com/scikit-learn/scikit-learn/issues/21755 */display: inline-block !important;position: relative;}#sk-container-id-1 div.sk-text-repr-fallback {display: none;}</style><div id=\"sk-container-id-1\" class=\"sk-top-container\"><div class=\"sk-text-repr-fallback\"><pre>RandomForestClassifier(max_depth=10)</pre><b>In a Jupyter environment, please rerun this cell to show the HTML representation or trust the notebook. <br />On GitHub, the HTML representation is unable to render, please try loading this page with nbviewer.org.</b></div><div class=\"sk-container\" hidden><div class=\"sk-item\"><div class=\"sk-estimator sk-toggleable\"><input class=\"sk-toggleable__control sk-hidden--visually\" id=\"sk-estimator-id-1\" type=\"checkbox\" checked><label for=\"sk-estimator-id-1\" class=\"sk-toggleable__label sk-toggleable__label-arrow\">RandomForestClassifier</label><div class=\"sk-toggleable__content\"><pre>RandomForestClassifier(max_depth=10)</pre></div></div></div></div></div>"
      ],
      "text/plain": [
       "RandomForestClassifier(max_depth=10)"
      ]
     },
     "execution_count": 15,
     "metadata": {},
     "output_type": "execute_result"
    }
   ],
   "source": [
    "from sklearn.ensemble import RandomForestClassifier\n",
    "classifier = RandomForestClassifier(n_estimators = 100,max_depth=10)\n",
    "classifier.fit(X_train1, y_train)"
   ]
  },
  {
   "cell_type": "code",
   "execution_count": null,
   "id": "d74a95da-46cf-4608-94c2-2a8eef174b4e",
   "metadata": {},
   "outputs": [],
   "source": []
  },
  {
   "cell_type": "markdown",
   "id": "c8627144-8b27-426f-b72f-0e779f2ed76a",
   "metadata": {},
   "source": [
    "## Q4. Evaluate the performance of the model on the test set using accuracy, precision, recall, and F1 score."
   ]
  },
  {
   "cell_type": "code",
   "execution_count": 16,
   "id": "0e409546-d311-4796-9aa2-c7e6f758be4b",
   "metadata": {},
   "outputs": [],
   "source": [
    "# Creating a function to evaluate model\n",
    "from sklearn.metrics import accuracy_score, precision_score, recall_score, f1_score\n",
    "def evaluate_model(X,y,model):\n",
    "    y_pred = model.predict(X)\n",
    "    acc = accuracy_score(y,y_pred)\n",
    "    pre = precision_score(y,y_pred)\n",
    "    rec = recall_score(y,y_pred)\n",
    "    f1 = f1_score(y,y_pred)\n",
    "    print(f'Accuracy Score  : {acc:.4f}')\n",
    "    print(f'Precision Score : {pre:.4f}')\n",
    "    print(f'Recall Score    : {rec:.4f}')\n",
    "    print(f'F1 Score        : {f1:.4f}')\n",
    "    return acc, pre, rec, f1"
   ]
  },
  {
   "cell_type": "code",
   "execution_count": 17,
   "id": "21d91662-b5e5-4212-8d86-72a9e7496ab3",
   "metadata": {},
   "outputs": [
    {
     "name": "stdout",
     "output_type": "stream",
     "text": [
      "Accuracy Score  : 0.8352\n",
      "Precision Score : 0.8400\n",
      "Recall Score    : 0.8571\n",
      "F1 Score        : 0.8485\n"
     ]
    }
   ],
   "source": [
    "# Evaluate model on test data\n",
    "acc_base, pre_base, rec_base, f1_base = evaluate_model(X_test1, y_test, classifier)"
   ]
  },
  {
   "cell_type": "code",
   "execution_count": 18,
   "id": "1e684f31-ce78-4a93-9245-51cb8b4827ad",
   "metadata": {},
   "outputs": [
    {
     "name": "stdout",
     "output_type": "stream",
     "text": [
      "              precision    recall  f1-score   support\n",
      "\n",
      "           0       0.83      0.81      0.82        42\n",
      "           1       0.84      0.86      0.85        49\n",
      "\n",
      "    accuracy                           0.84        91\n",
      "   macro avg       0.83      0.83      0.83        91\n",
      "weighted avg       0.84      0.84      0.84        91\n",
      "\n"
     ]
    }
   ],
   "source": [
    "from sklearn.metrics import classification_report\n",
    "y_pred_test = classifier.predict(X_test1)\n",
    "print(classification_report(y_test,y_pred_test))"
   ]
  },
  {
   "cell_type": "code",
   "execution_count": 19,
   "id": "9dde5c38-e9ed-4344-b9dd-93f152a3bb9a",
   "metadata": {},
   "outputs": [
    {
     "data": {
      "text/plain": [
       "<AxesSubplot: >"
      ]
     },
     "execution_count": 19,
     "metadata": {},
     "output_type": "execute_result"
    },
    {
     "data": {
      "image/png": "[encoded data removed]",
      "text/plain": [
       "<Figure size 640x480 with 2 Axes>"
      ]
     },
     "metadata": {},
     "output_type": "display_data"
    }
   ],
   "source": [
    "from sklearn.metrics import confusion_matrix\n",
    "import seaborn as sns\n",
    "confusion_m= confusion_matrix(y_test,y_pred_test)\n",
    "sns.heatmap(confusion_m, annot=True, fmt='d')"
   ]
  },
  {
   "cell_type": "code",
   "execution_count": null,
   "id": "647bc864-a2ba-4485-951e-81381d2de3ad",
   "metadata": {},
   "outputs": [],
   "source": []
  },
  {
   "cell_type": "markdown",
   "id": "61ca0dae-2df1-40ac-8b89-220cf4be5ad1",
   "metadata": {},
   "source": [
    "## Question 5 : Use the feature importance scores to identify the top 5 most important features in predicting heart disease risk. Visualise the feature importances using a bar chart."
   ]
  },
  {
   "cell_type": "code",
   "execution_count": 20,
   "id": "79d52f6f-d891-4bab-b136-009748e83274",
   "metadata": {},
   "outputs": [
    {
     "data": {
      "text/plain": [
       "array([0.08419107, 0.02508861, 0.12163837, 0.07252076, 0.06926684,\n",
       "       0.01055096, 0.02116624, 0.13301486, 0.06140657, 0.1067856 ,\n",
       "       0.04902464, 0.13753879, 0.10780668])"
      ]
     },
     "execution_count": 20,
     "metadata": {},
     "output_type": "execute_result"
    }
   ],
   "source": [
    "classifier.feature_importances_"
   ]
  },
  {
   "cell_type": "code",
   "execution_count": 21,
   "id": "f7846fe9-28ea-44a3-af3f-d5996bc7d223",
   "metadata": {},
   "outputs": [
    {
     "data": {
      "text/plain": [
       "ca          0.137539\n",
       "thalach     0.133015\n",
       "cp          0.121638\n",
       "thal        0.107807\n",
       "oldpeak     0.106786\n",
       "ï»¿age      0.084191\n",
       "trestbps    0.072521\n",
       "chol        0.069267\n",
       "exang       0.061407\n",
       "slope       0.049025\n",
       "sex         0.025089\n",
       "restecg     0.021166\n",
       "fbs         0.010551\n",
       "dtype: float64"
      ]
     },
     "execution_count": 21,
     "metadata": {},
     "output_type": "execute_result"
    }
   ],
   "source": [
    "importances = classifier.feature_importances_\n",
    "feature_names = X.columns\n",
    "imp = pd.Series(importances, index=feature_names)\n",
    "imp = imp.sort_values(ascending=False)\n",
    "imp"
   ]
  },
  {
   "cell_type": "code",
   "execution_count": 22,
   "id": "09d4f77f-8ea9-40fd-889b-8c5b9041f326",
   "metadata": {},
   "outputs": [
    {
     "name": "stdout",
     "output_type": "stream",
     "text": [
      "Top 5 features in the data are : ['ca', 'thalach', 'cp', 'thal', 'oldpeak']\n"
     ]
    }
   ],
   "source": [
    "top5 = list(imp[0:5].index)\n",
    "print(f'Top 5 features in the data are : {top5}')"
   ]
  },
  {
   "cell_type": "code",
   "execution_count": 23,
   "id": "f4bba5ee-6080-4ff5-a472-8d9115f800e4",
   "metadata": {},
   "outputs": [
    {
     "data": {
      "text/plain": [
       "<AxesSubplot: title={'center': 'Feature Importances Plot'}>"
      ]
     },
     "execution_count": 23,
     "metadata": {},
     "output_type": "execute_result"
    },
    {
     "data": {
      "image/png": "[encoded data removed]",
      "text/plain": [
       "<Figure size 1600x800 with 1 Axes>"
      ]
     },
     "metadata": {},
     "output_type": "display_data"
    }
   ],
   "source": [
    "imp.plot(kind='bar',title='Feature Importances Plot', figsize=(16,8))"
   ]
  },
  {
   "cell_type": "code",
   "execution_count": null,
   "id": "613824b7-8547-42cb-98d2-6a248e7e36f8",
   "metadata": {},
   "outputs": [],
   "source": []
  },
  {
   "cell_type": "markdown",
   "id": "10cecb0a-98c2-46de-bd45-5c8891501c3f",
   "metadata": {},
   "source": [
    "## Q6. Tune the hyperparameters of the random forest classifier using grid search or random search. Try different values of the number of trees, maximum depth, minimum samples split, and minimum samples leaf. Use 5-fold cross-validation to evaluate the performance of each set of hyperparameters."
   ]
  },
  {
   "cell_type": "code",
   "execution_count": 24,
   "id": "720cde58-3e2f-4680-8dd3-5a4198fb520b",
   "metadata": {},
   "outputs": [],
   "source": [
    "# Defining the parameters for tuning\n",
    "parameters = {\n",
    "    'n_estimators':[10,50,100,200,300,400],\n",
    "    'max_depth':[4,5,6,7,8,9,10],\n",
    "    'min_samples_leaf':[2,3,4,5,6],\n",
    "    'min_samples_split':[2,5,10]\n",
    "}"
   ]
  },
  {
   "cell_type": "code",
   "execution_count": 25,
   "id": "79d10bec-edcc-417b-853e-972fc70433be",
   "metadata": {},
   "outputs": [],
   "source": [
    "# Performing Randomized Search CV\n",
    "from sklearn.model_selection import RandomizedSearchCV\n",
    "rscv = RandomizedSearchCV(RandomForestClassifier(),\n",
    "                          param_distributions=parameters,\n",
    "                          cv=5, \n",
    "                          scoring='f1',\n",
    "                          n_iter=50,\n",
    "                          verbose=3)"
   ]
  },
  {
   "cell_type": "code",
   "execution_count": 26,
   "id": "86ca760d-3102-4a9c-9bff-b0801aca94ea",
   "metadata": {},
   "outputs": [
    {
     "name": "stdout",
     "output_type": "stream",
     "text": [
      "Fitting 5 folds for each of 50 candidates, totalling 250 fits\n",
      "[CV 1/5] END max_depth=8, min_samples_leaf=4, min_samples_split=10, n_estimators=50;, score=0.800 total time=   0.1s\n",
      "[CV 2/5] END max_depth=8, min_samples_leaf=4, min_samples_split=10, n_estimators=50;, score=0.870 total time=   0.1s\n",
      "[CV 3/5] END max_depth=8, min_samples_leaf=4, min_samples_split=10, n_estimators=50;, score=0.851 total time=   0.1s\n",
      "[CV 4/5] END max_depth=8, min_samples_leaf=4, min_samples_split=10, n_estimators=50;, score=0.902 total time=   0.1s\n",
      "[CV 5/5] END max_depth=8, min_samples_leaf=4, min_samples_split=10, n_estimators=50;, score=0.773 total time=   0.1s\n",
      "[CV 1/5] END max_depth=10, min_samples_leaf=4, min_samples_split=2, n_estimators=400;, score=0.844 total time=   0.8s\n",
      "[CV 2/5] END max_depth=10, min_samples_leaf=4, min_samples_split=2, n_estimators=400;, score=0.917 total time=   0.7s\n",
      "[CV 3/5] END max_depth=10, min_samples_leaf=4, min_samples_split=2, n_estimators=400;, score=0.792 total time=   0.7s\n",
      "[CV 4/5] END max_depth=10, min_samples_leaf=4, min_samples_split=2, n_estimators=400;, score=0.898 total time=   0.7s\n",
      "[CV 5/5] END max_depth=10, min_samples_leaf=4, min_samples_split=2, n_estimators=400;, score=0.744 total time=   0.7s\n",
      "[CV 1/5] END max_depth=8, min_samples_leaf=5, min_samples_split=5, n_estimators=100;, score=0.844 total time=   0.2s\n",
      "[CV 2/5] END max_depth=8, min_samples_leaf=5, min_samples_split=5, n_estimators=100;, score=0.917 total time=   0.2s\n",
      "[CV 3/5] END max_depth=8, min_samples_leaf=5, min_samples_split=5, n_estimators=100;, score=0.833 total time=   0.2s\n",
      "[CV 4/5] END max_depth=8, min_samples_leaf=5, min_samples_split=5, n_estimators=100;, score=0.898 total time=   0.2s\n",
      "[CV 5/5] END max_depth=8, min_samples_leaf=5, min_samples_split=5, n_estimators=100;, score=0.756 total time=   0.2s\n",
      "[CV 1/5] END max_depth=8, min_samples_leaf=3, min_samples_split=5, n_estimators=400;, score=0.844 total time=   0.7s\n",
      "[CV 2/5] END max_depth=8, min_samples_leaf=3, min_samples_split=5, n_estimators=400;, score=0.917 total time=   0.7s\n",
      "[CV 3/5] END max_depth=8, min_samples_leaf=3, min_samples_split=5, n_estimators=400;, score=0.816 total time=   0.7s\n",
      "[CV 4/5] END max_depth=8, min_samples_leaf=3, min_samples_split=5, n_estimators=400;, score=0.898 total time=   0.7s\n",
      "[CV 5/5] END max_depth=8, min_samples_leaf=3, min_samples_split=5, n_estimators=400;, score=0.756 total time=   0.7s\n",
      "[CV 1/5] END max_depth=5, min_samples_leaf=5, min_samples_split=5, n_estimators=100;, score=0.844 total time=   0.2s\n",
      "[CV 2/5] END max_depth=5, min_samples_leaf=5, min_samples_split=5, n_estimators=100;, score=0.894 total time=   0.2s\n",
      "[CV 3/5] END max_depth=5, min_samples_leaf=5, min_samples_split=5, n_estimators=100;, score=0.840 total time=   0.2s\n",
      "[CV 4/5] END max_depth=5, min_samples_leaf=5, min_samples_split=5, n_estimators=100;, score=0.880 total time=   0.2s\n",
      "[CV 5/5] END max_depth=5, min_samples_leaf=5, min_samples_split=5, n_estimators=100;, score=0.727 total time=   0.2s\n",
      "[CV 1/5] END max_depth=7, min_samples_leaf=6, min_samples_split=5, n_estimators=10;, score=0.875 total time=   0.0s\n",
      "[CV 2/5] END max_depth=7, min_samples_leaf=6, min_samples_split=5, n_estimators=10;, score=0.894 total time=   0.0s\n",
      "[CV 3/5] END max_depth=7, min_samples_leaf=6, min_samples_split=5, n_estimators=10;, score=0.800 total time=   0.0s\n",
      "[CV 4/5] END max_depth=7, min_samples_leaf=6, min_samples_split=5, n_estimators=10;, score=0.857 total time=   0.0s\n",
      "[CV 5/5] END max_depth=7, min_samples_leaf=6, min_samples_split=5, n_estimators=10;, score=0.762 total time=   0.0s\n",
      "[CV 1/5] END max_depth=5, min_samples_leaf=6, min_samples_split=5, n_estimators=400;, score=0.844 total time=   0.7s\n",
      "[CV 2/5] END max_depth=5, min_samples_leaf=6, min_samples_split=5, n_estimators=400;, score=0.917 total time=   0.7s\n",
      "[CV 3/5] END max_depth=5, min_samples_leaf=6, min_samples_split=5, n_estimators=400;, score=0.816 total time=   0.7s\n",
      "[CV 4/5] END max_depth=5, min_samples_leaf=6, min_samples_split=5, n_estimators=400;, score=0.898 total time=   0.7s\n",
      "[CV 5/5] END max_depth=5, min_samples_leaf=6, min_samples_split=5, n_estimators=400;, score=0.773 total time=   0.7s\n",
      "[CV 1/5] END max_depth=4, min_samples_leaf=2, min_samples_split=5, n_estimators=300;, score=0.844 total time=   0.5s\n",
      "[CV 2/5] END max_depth=4, min_samples_leaf=2, min_samples_split=5, n_estimators=300;, score=0.917 total time=   0.5s\n",
      "[CV 3/5] END max_depth=4, min_samples_leaf=2, min_samples_split=5, n_estimators=300;, score=0.800 total time=   0.5s\n",
      "[CV 4/5] END max_depth=4, min_samples_leaf=2, min_samples_split=5, n_estimators=300;, score=0.898 total time=   0.5s\n",
      "[CV 5/5] END max_depth=4, min_samples_leaf=2, min_samples_split=5, n_estimators=300;, score=0.744 total time=   0.5s\n",
      "[CV 1/5] END max_depth=4, min_samples_leaf=3, min_samples_split=5, n_estimators=300;, score=0.844 total time=   0.5s\n",
      "[CV 2/5] END max_depth=4, min_samples_leaf=3, min_samples_split=5, n_estimators=300;, score=0.917 total time=   0.5s\n",
      "[CV 3/5] END max_depth=4, min_samples_leaf=3, min_samples_split=5, n_estimators=300;, score=0.816 total time=   0.5s\n",
      "[CV 4/5] END max_depth=4, min_samples_leaf=3, min_samples_split=5, n_estimators=300;, score=0.898 total time=   0.5s\n",
      "[CV 5/5] END max_depth=4, min_samples_leaf=3, min_samples_split=5, n_estimators=300;, score=0.773 total time=   0.5s\n",
      "[CV 1/5] END max_depth=8, min_samples_leaf=2, min_samples_split=2, n_estimators=300;, score=0.844 total time=   0.5s\n",
      "[CV 2/5] END max_depth=8, min_samples_leaf=2, min_samples_split=2, n_estimators=300;, score=0.917 total time=   0.5s\n",
      "[CV 3/5] END max_depth=8, min_samples_leaf=2, min_samples_split=2, n_estimators=300;, score=0.792 total time=   0.5s\n",
      "[CV 4/5] END max_depth=8, min_samples_leaf=2, min_samples_split=2, n_estimators=300;, score=0.894 total time=   0.5s\n",
      "[CV 5/5] END max_depth=8, min_samples_leaf=2, min_samples_split=2, n_estimators=300;, score=0.773 total time=   0.5s\n",
      "[CV 1/5] END max_depth=8, min_samples_leaf=2, min_samples_split=5, n_estimators=400;, score=0.870 total time=   0.7s\n",
      "[CV 2/5] END max_depth=8, min_samples_leaf=2, min_samples_split=5, n_estimators=400;, score=0.917 total time=   0.7s\n",
      "[CV 3/5] END max_depth=8, min_samples_leaf=2, min_samples_split=5, n_estimators=400;, score=0.816 total time=   0.7s\n",
      "[CV 4/5] END max_depth=8, min_samples_leaf=2, min_samples_split=5, n_estimators=400;, score=0.875 total time=   0.7s\n",
      "[CV 5/5] END max_depth=8, min_samples_leaf=2, min_samples_split=5, n_estimators=400;, score=0.773 total time=   0.7s\n",
      "[CV 1/5] END max_depth=6, min_samples_leaf=4, min_samples_split=5, n_estimators=200;, score=0.844 total time=   0.3s\n",
      "[CV 2/5] END max_depth=6, min_samples_leaf=4, min_samples_split=5, n_estimators=200;, score=0.894 total time=   0.4s\n",
      "[CV 3/5] END max_depth=6, min_samples_leaf=4, min_samples_split=5, n_estimators=200;, score=0.792 total time=   0.3s\n",
      "[CV 4/5] END max_depth=6, min_samples_leaf=4, min_samples_split=5, n_estimators=200;, score=0.898 total time=   0.3s\n",
      "[CV 5/5] END max_depth=6, min_samples_leaf=4, min_samples_split=5, n_estimators=200;, score=0.756 total time=   0.4s\n",
      "[CV 1/5] END max_depth=6, min_samples_leaf=2, min_samples_split=2, n_estimators=10;, score=0.844 total time=   0.0s\n",
      "[CV 2/5] END max_depth=6, min_samples_leaf=2, min_samples_split=2, n_estimators=10;, score=0.870 total time=   0.0s\n",
      "[CV 3/5] END max_depth=6, min_samples_leaf=2, min_samples_split=2, n_estimators=10;, score=0.735 total time=   0.0s\n",
      "[CV 4/5] END max_depth=6, min_samples_leaf=2, min_samples_split=2, n_estimators=10;, score=0.870 total time=   0.0s\n",
      "[CV 5/5] END max_depth=6, min_samples_leaf=2, min_samples_split=2, n_estimators=10;, score=0.818 total time=   0.0s\n",
      "[CV 1/5] END max_depth=6, min_samples_leaf=3, min_samples_split=2, n_estimators=200;, score=0.844 total time=   0.4s\n",
      "[CV 2/5] END max_depth=6, min_samples_leaf=3, min_samples_split=2, n_estimators=200;, score=0.894 total time=   0.3s\n",
      "[CV 3/5] END max_depth=6, min_samples_leaf=3, min_samples_split=2, n_estimators=200;, score=0.792 total time=   0.4s\n",
      "[CV 4/5] END max_depth=6, min_samples_leaf=3, min_samples_split=2, n_estimators=200;, score=0.875 total time=   0.3s\n",
      "[CV 5/5] END max_depth=6, min_samples_leaf=3, min_samples_split=2, n_estimators=200;, score=0.744 total time=   0.3s\n",
      "[CV 1/5] END max_depth=6, min_samples_leaf=4, min_samples_split=2, n_estimators=50;, score=0.844 total time=   0.1s\n",
      "[CV 2/5] END max_depth=6, min_samples_leaf=4, min_samples_split=2, n_estimators=50;, score=0.917 total time=   0.1s\n",
      "[CV 3/5] END max_depth=6, min_samples_leaf=4, min_samples_split=2, n_estimators=50;, score=0.809 total time=   0.1s\n",
      "[CV 4/5] END max_depth=6, min_samples_leaf=4, min_samples_split=2, n_estimators=50;, score=0.875 total time=   0.1s\n",
      "[CV 5/5] END max_depth=6, min_samples_leaf=4, min_samples_split=2, n_estimators=50;, score=0.791 total time=   0.1s\n",
      "[CV 1/5] END max_depth=9, min_samples_leaf=6, min_samples_split=10, n_estimators=200;, score=0.844 total time=   0.3s\n",
      "[CV 2/5] END max_depth=9, min_samples_leaf=6, min_samples_split=10, n_estimators=200;, score=0.917 total time=   0.3s\n",
      "[CV 3/5] END max_depth=9, min_samples_leaf=6, min_samples_split=10, n_estimators=200;, score=0.816 total time=   0.3s\n",
      "[CV 4/5] END max_depth=9, min_samples_leaf=6, min_samples_split=10, n_estimators=200;, score=0.880 total time=   0.3s\n",
      "[CV 5/5] END max_depth=9, min_samples_leaf=6, min_samples_split=10, n_estimators=200;, score=0.773 total time=   0.4s\n",
      "[CV 1/5] END max_depth=7, min_samples_leaf=3, min_samples_split=10, n_estimators=300;, score=0.844 total time=   0.5s\n",
      "[CV 2/5] END max_depth=7, min_samples_leaf=3, min_samples_split=10, n_estimators=300;, score=0.917 total time=   0.5s\n",
      "[CV 3/5] END max_depth=7, min_samples_leaf=3, min_samples_split=10, n_estimators=300;, score=0.766 total time=   0.5s\n",
      "[CV 4/5] END max_depth=7, min_samples_leaf=3, min_samples_split=10, n_estimators=300;, score=0.898 total time=   0.5s\n",
      "[CV 5/5] END max_depth=7, min_samples_leaf=3, min_samples_split=10, n_estimators=300;, score=0.773 total time=   0.5s\n",
      "[CV 1/5] END max_depth=10, min_samples_leaf=5, min_samples_split=2, n_estimators=50;, score=0.870 total time=   0.1s\n",
      "[CV 2/5] END max_depth=10, min_samples_leaf=5, min_samples_split=2, n_estimators=50;, score=0.917 total time=   0.1s\n",
      "[CV 3/5] END max_depth=10, min_samples_leaf=5, min_samples_split=2, n_estimators=50;, score=0.776 total time=   0.1s\n",
      "[CV 4/5] END max_depth=10, min_samples_leaf=5, min_samples_split=2, n_estimators=50;, score=0.880 total time=   0.1s\n",
      "[CV 5/5] END max_depth=10, min_samples_leaf=5, min_samples_split=2, n_estimators=50;, score=0.727 total time=   0.1s\n",
      "[CV 1/5] END max_depth=5, min_samples_leaf=6, min_samples_split=2, n_estimators=100;, score=0.844 total time=   0.2s\n",
      "[CV 2/5] END max_depth=5, min_samples_leaf=6, min_samples_split=2, n_estimators=100;, score=0.917 total time=   0.2s\n",
      "[CV 3/5] END max_depth=5, min_samples_leaf=6, min_samples_split=2, n_estimators=100;, score=0.809 total time=   0.2s\n",
      "[CV 4/5] END max_depth=5, min_samples_leaf=6, min_samples_split=2, n_estimators=100;, score=0.920 total time=   0.2s\n",
      "[CV 5/5] END max_depth=5, min_samples_leaf=6, min_samples_split=2, n_estimators=100;, score=0.773 total time=   0.2s\n",
      "[CV 1/5] END max_depth=10, min_samples_leaf=5, min_samples_split=2, n_estimators=200;, score=0.870 total time=   0.3s\n",
      "[CV 2/5] END max_depth=10, min_samples_leaf=5, min_samples_split=2, n_estimators=200;, score=0.917 total time=   0.3s\n",
      "[CV 3/5] END max_depth=10, min_samples_leaf=5, min_samples_split=2, n_estimators=200;, score=0.833 total time=   0.3s\n",
      "[CV 4/5] END max_depth=10, min_samples_leaf=5, min_samples_split=2, n_estimators=200;, score=0.920 total time=   0.3s\n",
      "[CV 5/5] END max_depth=10, min_samples_leaf=5, min_samples_split=2, n_estimators=200;, score=0.773 total time=   0.3s\n",
      "[CV 1/5] END max_depth=7, min_samples_leaf=4, min_samples_split=5, n_estimators=100;, score=0.844 total time=   0.2s\n",
      "[CV 2/5] END max_depth=7, min_samples_leaf=4, min_samples_split=5, n_estimators=100;, score=0.894 total time=   0.2s\n",
      "[CV 3/5] END max_depth=7, min_samples_leaf=4, min_samples_split=5, n_estimators=100;, score=0.816 total time=   0.2s\n",
      "[CV 4/5] END max_depth=7, min_samples_leaf=4, min_samples_split=5, n_estimators=100;, score=0.898 total time=   0.2s\n",
      "[CV 5/5] END max_depth=7, min_samples_leaf=4, min_samples_split=5, n_estimators=100;, score=0.773 total time=   0.2s\n",
      "[CV 1/5] END max_depth=8, min_samples_leaf=6, min_samples_split=10, n_estimators=200;, score=0.844 total time=   0.3s\n",
      "[CV 2/5] END max_depth=8, min_samples_leaf=6, min_samples_split=10, n_estimators=200;, score=0.917 total time=   0.3s\n",
      "[CV 3/5] END max_depth=8, min_samples_leaf=6, min_samples_split=10, n_estimators=200;, score=0.809 total time=   0.3s\n",
      "[CV 4/5] END max_depth=8, min_samples_leaf=6, min_samples_split=10, n_estimators=200;, score=0.898 total time=   0.4s\n",
      "[CV 5/5] END max_depth=8, min_samples_leaf=6, min_samples_split=10, n_estimators=200;, score=0.744 total time=   0.3s\n",
      "[CV 1/5] END max_depth=9, min_samples_leaf=4, min_samples_split=5, n_estimators=300;, score=0.844 total time=   0.5s\n",
      "[CV 2/5] END max_depth=9, min_samples_leaf=4, min_samples_split=5, n_estimators=300;, score=0.917 total time=   0.5s\n",
      "[CV 3/5] END max_depth=9, min_samples_leaf=4, min_samples_split=5, n_estimators=300;, score=0.792 total time=   0.5s\n",
      "[CV 4/5] END max_depth=9, min_samples_leaf=4, min_samples_split=5, n_estimators=300;, score=0.898 total time=   0.5s\n",
      "[CV 5/5] END max_depth=9, min_samples_leaf=4, min_samples_split=5, n_estimators=300;, score=0.744 total time=   0.5s\n",
      "[CV 1/5] END max_depth=7, min_samples_leaf=3, min_samples_split=2, n_estimators=100;, score=0.826 total time=   0.2s\n",
      "[CV 2/5] END max_depth=7, min_samples_leaf=3, min_samples_split=2, n_estimators=100;, score=0.917 total time=   0.2s\n",
      "[CV 3/5] END max_depth=7, min_samples_leaf=3, min_samples_split=2, n_estimators=100;, score=0.776 total time=   0.2s\n",
      "[CV 4/5] END max_depth=7, min_samples_leaf=3, min_samples_split=2, n_estimators=100;, score=0.898 total time=   0.2s\n",
      "[CV 5/5] END max_depth=7, min_samples_leaf=3, min_samples_split=2, n_estimators=100;, score=0.773 total time=   0.2s\n",
      "[CV 1/5] END max_depth=7, min_samples_leaf=3, min_samples_split=5, n_estimators=50;, score=0.851 total time=   0.1s\n",
      "[CV 2/5] END max_depth=7, min_samples_leaf=3, min_samples_split=5, n_estimators=50;, score=0.917 total time=   0.1s\n",
      "[CV 3/5] END max_depth=7, min_samples_leaf=3, min_samples_split=5, n_estimators=50;, score=0.792 total time=   0.1s\n",
      "[CV 4/5] END max_depth=7, min_samples_leaf=3, min_samples_split=5, n_estimators=50;, score=0.875 total time=   0.1s\n",
      "[CV 5/5] END max_depth=7, min_samples_leaf=3, min_samples_split=5, n_estimators=50;, score=0.773 total time=   0.1s\n",
      "[CV 1/5] END max_depth=6, min_samples_leaf=6, min_samples_split=10, n_estimators=50;, score=0.844 total time=   0.1s\n",
      "[CV 2/5] END max_depth=6, min_samples_leaf=6, min_samples_split=10, n_estimators=50;, score=0.917 total time=   0.1s\n",
      "[CV 3/5] END max_depth=6, min_samples_leaf=6, min_samples_split=10, n_estimators=50;, score=0.792 total time=   0.1s\n",
      "[CV 4/5] END max_depth=6, min_samples_leaf=6, min_samples_split=10, n_estimators=50;, score=0.898 total time=   0.1s\n",
      "[CV 5/5] END max_depth=6, min_samples_leaf=6, min_samples_split=10, n_estimators=50;, score=0.773 total time=   0.1s\n",
      "[CV 1/5] END max_depth=9, min_samples_leaf=3, min_samples_split=2, n_estimators=50;, score=0.851 total time=   0.1s\n",
      "[CV 2/5] END max_depth=9, min_samples_leaf=3, min_samples_split=2, n_estimators=50;, score=0.917 total time=   0.1s\n",
      "[CV 3/5] END max_depth=9, min_samples_leaf=3, min_samples_split=2, n_estimators=50;, score=0.750 total time=   0.1s\n",
      "[CV 4/5] END max_depth=9, min_samples_leaf=3, min_samples_split=2, n_estimators=50;, score=0.898 total time=   0.1s\n",
      "[CV 5/5] END max_depth=9, min_samples_leaf=3, min_samples_split=2, n_estimators=50;, score=0.773 total time=   0.1s\n",
      "[CV 1/5] END max_depth=9, min_samples_leaf=3, min_samples_split=10, n_estimators=300;, score=0.844 total time=   0.5s\n",
      "[CV 2/5] END max_depth=9, min_samples_leaf=3, min_samples_split=10, n_estimators=300;, score=0.894 total time=   0.5s\n",
      "[CV 3/5] END max_depth=9, min_samples_leaf=3, min_samples_split=10, n_estimators=300;, score=0.792 total time=   0.5s\n",
      "[CV 4/5] END max_depth=9, min_samples_leaf=3, min_samples_split=10, n_estimators=300;, score=0.880 total time=   0.5s\n",
      "[CV 5/5] END max_depth=9, min_samples_leaf=3, min_samples_split=10, n_estimators=300;, score=0.744 total time=   0.5s\n",
      "[CV 1/5] END max_depth=9, min_samples_leaf=4, min_samples_split=2, n_estimators=300;, score=0.844 total time=   0.5s\n",
      "[CV 2/5] END max_depth=9, min_samples_leaf=4, min_samples_split=2, n_estimators=300;, score=0.917 total time=   0.5s\n",
      "[CV 3/5] END max_depth=9, min_samples_leaf=4, min_samples_split=2, n_estimators=300;, score=0.792 total time=   0.5s\n",
      "[CV 4/5] END max_depth=9, min_samples_leaf=4, min_samples_split=2, n_estimators=300;, score=0.875 total time=   0.5s\n",
      "[CV 5/5] END max_depth=9, min_samples_leaf=4, min_samples_split=2, n_estimators=300;, score=0.756 total time=   0.5s\n",
      "[CV 1/5] END max_depth=9, min_samples_leaf=3, min_samples_split=10, n_estimators=50;, score=0.818 total time=   0.1s\n",
      "[CV 2/5] END max_depth=9, min_samples_leaf=3, min_samples_split=10, n_estimators=50;, score=0.894 total time=   0.1s\n",
      "[CV 3/5] END max_depth=9, min_samples_leaf=3, min_samples_split=10, n_estimators=50;, score=0.792 total time=   0.1s\n",
      "[CV 4/5] END max_depth=9, min_samples_leaf=3, min_samples_split=10, n_estimators=50;, score=0.898 total time=   0.1s\n",
      "[CV 5/5] END max_depth=9, min_samples_leaf=3, min_samples_split=10, n_estimators=50;, score=0.727 total time=   0.1s\n",
      "[CV 1/5] END max_depth=4, min_samples_leaf=5, min_samples_split=10, n_estimators=100;, score=0.870 total time=   0.2s\n",
      "[CV 2/5] END max_depth=4, min_samples_leaf=5, min_samples_split=10, n_estimators=100;, score=0.894 total time=   0.2s\n",
      "[CV 3/5] END max_depth=4, min_samples_leaf=5, min_samples_split=10, n_estimators=100;, score=0.776 total time=   0.2s\n",
      "[CV 4/5] END max_depth=4, min_samples_leaf=5, min_samples_split=10, n_estimators=100;, score=0.880 total time=   0.2s\n",
      "[CV 5/5] END max_depth=4, min_samples_leaf=5, min_samples_split=10, n_estimators=100;, score=0.773 total time=   0.2s\n",
      "[CV 1/5] END max_depth=5, min_samples_leaf=3, min_samples_split=10, n_estimators=50;, score=0.844 total time=   0.1s\n",
      "[CV 2/5] END max_depth=5, min_samples_leaf=3, min_samples_split=10, n_estimators=50;, score=0.894 total time=   0.1s\n",
      "[CV 3/5] END max_depth=5, min_samples_leaf=3, min_samples_split=10, n_estimators=50;, score=0.792 total time=   0.1s\n",
      "[CV 4/5] END max_depth=5, min_samples_leaf=3, min_samples_split=10, n_estimators=50;, score=0.880 total time=   0.1s\n",
      "[CV 5/5] END max_depth=5, min_samples_leaf=3, min_samples_split=10, n_estimators=50;, score=0.756 total time=   0.1s\n",
      "[CV 1/5] END max_depth=9, min_samples_leaf=6, min_samples_split=2, n_estimators=10;, score=0.844 total time=   0.0s\n",
      "[CV 2/5] END max_depth=9, min_samples_leaf=6, min_samples_split=2, n_estimators=10;, score=0.833 total time=   0.0s\n",
      "[CV 3/5] END max_depth=9, min_samples_leaf=6, min_samples_split=2, n_estimators=10;, score=0.739 total time=   0.0s\n",
      "[CV 4/5] END max_depth=9, min_samples_leaf=6, min_samples_split=2, n_estimators=10;, score=0.880 total time=   0.0s\n",
      "[CV 5/5] END max_depth=9, min_samples_leaf=6, min_samples_split=2, n_estimators=10;, score=0.783 total time=   0.0s\n",
      "[CV 1/5] END max_depth=10, min_samples_leaf=5, min_samples_split=10, n_estimators=50;, score=0.870 total time=   0.1s\n",
      "[CV 2/5] END max_depth=10, min_samples_leaf=5, min_samples_split=10, n_estimators=50;, score=0.917 total time=   0.1s\n",
      "[CV 3/5] END max_depth=10, min_samples_leaf=5, min_samples_split=10, n_estimators=50;, score=0.800 total time=   0.1s\n",
      "[CV 4/5] END max_depth=10, min_samples_leaf=5, min_samples_split=10, n_estimators=50;, score=0.880 total time=   0.1s\n",
      "[CV 5/5] END max_depth=10, min_samples_leaf=5, min_samples_split=10, n_estimators=50;, score=0.800 total time=   0.1s\n",
      "[CV 1/5] END max_depth=4, min_samples_leaf=5, min_samples_split=2, n_estimators=100;, score=0.870 total time=   0.2s\n",
      "[CV 2/5] END max_depth=4, min_samples_leaf=5, min_samples_split=2, n_estimators=100;, score=0.917 total time=   0.2s\n",
      "[CV 3/5] END max_depth=4, min_samples_leaf=5, min_samples_split=2, n_estimators=100;, score=0.766 total time=   0.2s\n",
      "[CV 4/5] END max_depth=4, min_samples_leaf=5, min_samples_split=2, n_estimators=100;, score=0.898 total time=   0.2s\n",
      "[CV 5/5] END max_depth=4, min_samples_leaf=5, min_samples_split=2, n_estimators=100;, score=0.783 total time=   0.2s\n",
      "[CV 1/5] END max_depth=7, min_samples_leaf=3, min_samples_split=5, n_estimators=300;, score=0.844 total time=   0.5s\n",
      "[CV 2/5] END max_depth=7, min_samples_leaf=3, min_samples_split=5, n_estimators=300;, score=0.917 total time=   0.5s\n",
      "[CV 3/5] END max_depth=7, min_samples_leaf=3, min_samples_split=5, n_estimators=300;, score=0.816 total time=   0.5s\n",
      "[CV 4/5] END max_depth=7, min_samples_leaf=3, min_samples_split=5, n_estimators=300;, score=0.898 total time=   0.5s\n",
      "[CV 5/5] END max_depth=7, min_samples_leaf=3, min_samples_split=5, n_estimators=300;, score=0.773 total time=   0.5s\n",
      "[CV 1/5] END max_depth=9, min_samples_leaf=5, min_samples_split=5, n_estimators=200;, score=0.844 total time=   0.3s\n",
      "[CV 2/5] END max_depth=9, min_samples_leaf=5, min_samples_split=5, n_estimators=200;, score=0.917 total time=   0.4s\n",
      "[CV 3/5] END max_depth=9, min_samples_leaf=5, min_samples_split=5, n_estimators=200;, score=0.816 total time=   0.3s\n",
      "[CV 4/5] END max_depth=9, min_samples_leaf=5, min_samples_split=5, n_estimators=200;, score=0.920 total time=   0.3s\n",
      "[CV 5/5] END max_depth=9, min_samples_leaf=5, min_samples_split=5, n_estimators=200;, score=0.756 total time=   0.4s\n",
      "[CV 1/5] END max_depth=10, min_samples_leaf=4, min_samples_split=2, n_estimators=100;, score=0.844 total time=   0.2s\n",
      "[CV 2/5] END max_depth=10, min_samples_leaf=4, min_samples_split=2, n_estimators=100;, score=0.894 total time=   0.2s\n",
      "[CV 3/5] END max_depth=10, min_samples_leaf=4, min_samples_split=2, n_estimators=100;, score=0.776 total time=   0.2s\n",
      "[CV 4/5] END max_depth=10, min_samples_leaf=4, min_samples_split=2, n_estimators=100;, score=0.898 total time=   0.2s\n",
      "[CV 5/5] END max_depth=10, min_samples_leaf=4, min_samples_split=2, n_estimators=100;, score=0.773 total time=   0.2s\n",
      "[CV 1/5] END max_depth=8, min_samples_leaf=4, min_samples_split=10, n_estimators=100;, score=0.826 total time=   0.2s\n",
      "[CV 2/5] END max_depth=8, min_samples_leaf=4, min_samples_split=10, n_estimators=100;, score=0.870 total time=   0.2s\n",
      "[CV 3/5] END max_depth=8, min_samples_leaf=4, min_samples_split=10, n_estimators=100;, score=0.792 total time=   0.2s\n",
      "[CV 4/5] END max_depth=8, min_samples_leaf=4, min_samples_split=10, n_estimators=100;, score=0.898 total time=   0.2s\n",
      "[CV 5/5] END max_depth=8, min_samples_leaf=4, min_samples_split=10, n_estimators=100;, score=0.800 total time=   0.2s\n",
      "[CV 1/5] END max_depth=4, min_samples_leaf=4, min_samples_split=2, n_estimators=10;, score=0.851 total time=   0.0s\n",
      "[CV 2/5] END max_depth=4, min_samples_leaf=4, min_samples_split=2, n_estimators=10;, score=0.894 total time=   0.0s\n",
      "[CV 3/5] END max_depth=4, min_samples_leaf=4, min_samples_split=2, n_estimators=10;, score=0.760 total time=   0.0s\n",
      "[CV 4/5] END max_depth=4, min_samples_leaf=4, min_samples_split=2, n_estimators=10;, score=0.880 total time=   0.0s\n",
      "[CV 5/5] END max_depth=4, min_samples_leaf=4, min_samples_split=2, n_estimators=10;, score=0.727 total time=   0.0s\n",
      "[CV 1/5] END max_depth=6, min_samples_leaf=6, min_samples_split=10, n_estimators=10;, score=0.826 total time=   0.0s\n",
      "[CV 2/5] END max_depth=6, min_samples_leaf=6, min_samples_split=10, n_estimators=10;, score=0.898 total time=   0.0s\n",
      "[CV 3/5] END max_depth=6, min_samples_leaf=6, min_samples_split=10, n_estimators=10;, score=0.833 total time=   0.0s\n",
      "[CV 4/5] END max_depth=6, min_samples_leaf=6, min_samples_split=10, n_estimators=10;, score=0.870 total time=   0.0s\n",
      "[CV 5/5] END max_depth=6, min_samples_leaf=6, min_samples_split=10, n_estimators=10;, score=0.791 total time=   0.0s\n",
      "[CV 1/5] END max_depth=5, min_samples_leaf=4, min_samples_split=10, n_estimators=300;, score=0.844 total time=   0.5s\n",
      "[CV 2/5] END max_depth=5, min_samples_leaf=4, min_samples_split=10, n_estimators=300;, score=0.917 total time=   0.5s\n",
      "[CV 3/5] END max_depth=5, min_samples_leaf=4, min_samples_split=10, n_estimators=300;, score=0.800 total time=   0.5s\n",
      "[CV 4/5] END max_depth=5, min_samples_leaf=4, min_samples_split=10, n_estimators=300;, score=0.898 total time=   0.5s\n",
      "[CV 5/5] END max_depth=5, min_samples_leaf=4, min_samples_split=10, n_estimators=300;, score=0.773 total time=   0.5s\n",
      "[CV 1/5] END max_depth=10, min_samples_leaf=4, min_samples_split=10, n_estimators=10;, score=0.844 total time=   0.0s\n",
      "[CV 2/5] END max_depth=10, min_samples_leaf=4, min_samples_split=10, n_estimators=10;, score=0.894 total time=   0.0s\n",
      "[CV 3/5] END max_depth=10, min_samples_leaf=4, min_samples_split=10, n_estimators=10;, score=0.808 total time=   0.0s\n",
      "[CV 4/5] END max_depth=10, min_samples_leaf=4, min_samples_split=10, n_estimators=10;, score=0.894 total time=   0.0s\n",
      "[CV 5/5] END max_depth=10, min_samples_leaf=4, min_samples_split=10, n_estimators=10;, score=0.732 total time=   0.0s\n",
      "[CV 1/5] END max_depth=4, min_samples_leaf=5, min_samples_split=10, n_estimators=300;, score=0.844 total time=   0.5s\n",
      "[CV 2/5] END max_depth=4, min_samples_leaf=5, min_samples_split=10, n_estimators=300;, score=0.917 total time=   0.5s\n",
      "[CV 3/5] END max_depth=4, min_samples_leaf=5, min_samples_split=10, n_estimators=300;, score=0.816 total time=   0.5s\n",
      "[CV 4/5] END max_depth=4, min_samples_leaf=5, min_samples_split=10, n_estimators=300;, score=0.898 total time=   0.5s\n",
      "[CV 5/5] END max_depth=4, min_samples_leaf=5, min_samples_split=10, n_estimators=300;, score=0.773 total time=   0.5s\n",
      "[CV 1/5] END max_depth=6, min_samples_leaf=3, min_samples_split=10, n_estimators=50;, score=0.844 total time=   0.1s\n",
      "[CV 2/5] END max_depth=6, min_samples_leaf=3, min_samples_split=10, n_estimators=50;, score=0.917 total time=   0.1s\n",
      "[CV 3/5] END max_depth=6, min_samples_leaf=3, min_samples_split=10, n_estimators=50;, score=0.816 total time=   0.1s\n",
      "[CV 4/5] END max_depth=6, min_samples_leaf=3, min_samples_split=10, n_estimators=50;, score=0.917 total time=   0.1s\n",
      "[CV 5/5] END max_depth=6, min_samples_leaf=3, min_samples_split=10, n_estimators=50;, score=0.800 total time=   0.1s\n",
      "[CV 1/5] END max_depth=9, min_samples_leaf=5, min_samples_split=2, n_estimators=200;, score=0.844 total time=   0.3s\n",
      "[CV 2/5] END max_depth=9, min_samples_leaf=5, min_samples_split=2, n_estimators=200;, score=0.917 total time=   0.3s\n",
      "[CV 3/5] END max_depth=9, min_samples_leaf=5, min_samples_split=2, n_estimators=200;, score=0.816 total time=   0.3s\n",
      "[CV 4/5] END max_depth=9, min_samples_leaf=5, min_samples_split=2, n_estimators=200;, score=0.898 total time=   0.3s\n",
      "[CV 5/5] END max_depth=9, min_samples_leaf=5, min_samples_split=2, n_estimators=200;, score=0.773 total time=   0.3s\n",
      "[CV 1/5] END max_depth=9, min_samples_leaf=3, min_samples_split=10, n_estimators=400;, score=0.844 total time=   0.7s\n",
      "[CV 2/5] END max_depth=9, min_samples_leaf=3, min_samples_split=10, n_estimators=400;, score=0.917 total time=   0.7s\n",
      "[CV 3/5] END max_depth=9, min_samples_leaf=3, min_samples_split=10, n_estimators=400;, score=0.792 total time=   0.7s\n",
      "[CV 4/5] END max_depth=9, min_samples_leaf=3, min_samples_split=10, n_estimators=400;, score=0.898 total time=   0.7s\n",
      "[CV 5/5] END max_depth=9, min_samples_leaf=3, min_samples_split=10, n_estimators=400;, score=0.773 total time=   0.7s\n",
      "[CV 1/5] END max_depth=5, min_samples_leaf=4, min_samples_split=10, n_estimators=400;, score=0.844 total time=   0.7s\n",
      "[CV 2/5] END max_depth=5, min_samples_leaf=4, min_samples_split=10, n_estimators=400;, score=0.917 total time=   0.7s\n",
      "[CV 3/5] END max_depth=5, min_samples_leaf=4, min_samples_split=10, n_estimators=400;, score=0.816 total time=   0.7s\n",
      "[CV 4/5] END max_depth=5, min_samples_leaf=4, min_samples_split=10, n_estimators=400;, score=0.898 total time=   0.7s\n",
      "[CV 5/5] END max_depth=5, min_samples_leaf=4, min_samples_split=10, n_estimators=400;, score=0.756 total time=   0.7s\n",
      "[CV 1/5] END max_depth=8, min_samples_leaf=5, min_samples_split=5, n_estimators=400;, score=0.844 total time=   0.7s\n",
      "[CV 2/5] END max_depth=8, min_samples_leaf=5, min_samples_split=5, n_estimators=400;, score=0.917 total time=   0.7s\n",
      "[CV 3/5] END max_depth=8, min_samples_leaf=5, min_samples_split=5, n_estimators=400;, score=0.816 total time=   0.7s\n",
      "[CV 4/5] END max_depth=8, min_samples_leaf=5, min_samples_split=5, n_estimators=400;, score=0.898 total time=   0.7s\n",
      "[CV 5/5] END max_depth=8, min_samples_leaf=5, min_samples_split=5, n_estimators=400;, score=0.773 total time=   0.7s\n",
      "[CV 1/5] END max_depth=4, min_samples_leaf=2, min_samples_split=2, n_estimators=100;, score=0.894 total time=   0.2s\n",
      "[CV 2/5] END max_depth=4, min_samples_leaf=2, min_samples_split=2, n_estimators=100;, score=0.917 total time=   0.2s\n",
      "[CV 3/5] END max_depth=4, min_samples_leaf=2, min_samples_split=2, n_estimators=100;, score=0.809 total time=   0.2s\n",
      "[CV 4/5] END max_depth=4, min_samples_leaf=2, min_samples_split=2, n_estimators=100;, score=0.898 total time=   0.2s\n",
      "[CV 5/5] END max_depth=4, min_samples_leaf=2, min_samples_split=2, n_estimators=100;, score=0.773 total time=   0.2s\n"
     ]
    },
    {
     "data": {
      "text/html": [
       "<style>#sk-container-id-2 {color: black;background-color: white;}#sk-container-id-2 pre{padding: 0;}#sk-container-id-2 div.sk-toggleable {background-color: white;}#sk-container-id-2 label.sk-toggleable__label {cursor: pointer;display: block;width: 100%;margin-bottom: 0;padding: 0.3em;box-sizing: border-box;text-align: center;}#sk-container-id-2 label.sk-toggleable__label-arrow:before {content: \"▸\";float: left;margin-right: 0.25em;color: #696969;}#sk-container-id-2 label.sk-toggleable__label-arrow:hover:before {color: black;}#sk-container-id-2 div.sk-estimator:hover label.sk-toggleable__label-arrow:before {color: black;}#sk-container-id-2 div.sk-toggleable__content {max-height: 0;max-width: 0;overflow: hidden;text-align: left;background-color: #f0f8ff;}#sk-container-id-2 div.sk-toggleable__content pre {margin: 0.2em;color: black;border-radius: 0.25em;background-color: #f0f8ff;}#sk-container-id-2 input.sk-toggleable__control:checked~div.sk-toggleable__content {max-height: 200px;max-width: 100%;overflow: auto;}#sk-container-id-2 input.sk-toggleable__control:checked~label.sk-toggleable__label-arrow:before {content: \"▾\";}#sk-container-id-2 div.sk-estimator input.sk-toggleable__control:checked~label.sk-toggleable__label {background-color: #d4ebff;}#sk-container-id-2 div.sk-label input.sk-toggleable__control:checked~label.sk-toggleable__label {background-color: #d4ebff;}#sk-container-id-2 input.sk-hidden--visually {border: 0;clip: rect(1px 1px 1px 1px);clip: rect(1px, 1px, 1px, 1px);height: 1px;margin: -1px;overflow: hidden;padding: 0;position: absolute;width: 1px;}#sk-container-id-2 div.sk-estimator {font-family: monospace;background-color: #f0f8ff;border: 1px dotted black;border-radius: 0.25em;box-sizing: border-box;margin-bottom: 0.5em;}#sk-container-id-2 div.sk-estimator:hover {background-color: #d4ebff;}#sk-container-id-2 div.sk-parallel-item::after {content: \"\";width: 100%;border-bottom: 1px solid gray;flex-grow: 1;}#sk-container-id-2 div.sk-label:hover label.sk-toggleable__label {background-color: #d4ebff;}#sk-container-id-2 div.sk-serial::before {content: \"\";position: absolute;border-left: 1px solid gray;box-sizing: border-box;top: 0;bottom: 0;left: 50%;z-index: 0;}#sk-container-id-2 div.sk-serial {display: flex;flex-direction: column;align-items: center;background-color: white;padding-right: 0.2em;padding-left: 0.2em;position: relative;}#sk-container-id-2 div.sk-item {position: relative;z-index: 1;}#sk-container-id-2 div.sk-parallel {display: flex;align-items: stretch;justify-content: center;background-color: white;position: relative;}#sk-container-id-2 div.sk-item::before, #sk-container-id-2 div.sk-parallel-item::before {content: \"\";position: absolute;border-left: 1px solid gray;box-sizing: border-box;top: 0;bottom: 0;left: 50%;z-index: -1;}#sk-container-id-2 div.sk-parallel-item {display: flex;flex-direction: column;z-index: 1;position: relative;background-color: white;}#sk-container-id-2 div.sk-parallel-item:first-child::after {align-self: flex-end;width: 50%;}#sk-container-id-2 div.sk-parallel-item:last-child::after {align-self: flex-start;width: 50%;}#sk-container-id-2 div.sk-parallel-item:only-child::after {width: 0;}#sk-container-id-2 div.sk-dashed-wrapped {border: 1px dashed gray;margin: 0 0.4em 0.5em 0.4em;box-sizing: border-box;padding-bottom: 0.4em;background-color: white;}#sk-container-id-2 div.sk-label label {font-family: monospace;font-weight: bold;display: inline-block;line-height: 1.2em;}#sk-container-id-2 div.sk-label-container {text-align: center;}#sk-container-id-2 div.sk-container {/* jupyter's `normalize.less` sets `[hidden] { display: none; }` but bootstrap.min.css set `[hidden] { display: none !important; }` so we also need the `!important` here to be able to override the default hidden behavior on the sphinx rendered scikit-learn.org. See: https://github.com/scikit-learn/scikit-learn/issues/21755 */display: inline-block !important;position: relative;}#sk-container-id-2 div.sk-text-repr-fallback {display: none;}</style><div id=\"sk-container-id-2\" class=\"sk-top-container\"><div class=\"sk-text-repr-fallback\"><pre>RandomizedSearchCV(cv=5, estimator=RandomForestClassifier(), n_iter=50,\n",
       "                   param_distributions={&#x27;max_depth&#x27;: [4, 5, 6, 7, 8, 9, 10],\n",
       "                                        &#x27;min_samples_leaf&#x27;: [2, 3, 4, 5, 6],\n",
       "                                        &#x27;min_samples_split&#x27;: [2, 5, 10],\n",
       "                                        &#x27;n_estimators&#x27;: [10, 50, 100, 200, 300,\n",
       "                                                         400]},\n",
       "                   scoring=&#x27;f1&#x27;, verbose=3)</pre><b>In a Jupyter environment, please rerun this cell to show the HTML representation or trust the notebook. <br />On GitHub, the HTML representation is unable to render, please try loading this page with nbviewer.org.</b></div><div class=\"sk-container\" hidden><div class=\"sk-item sk-dashed-wrapped\"><div class=\"sk-label-container\"><div class=\"sk-label sk-toggleable\"><input class=\"sk-toggleable__control sk-hidden--visually\" id=\"sk-estimator-id-2\" type=\"checkbox\" ><label for=\"sk-estimator-id-2\" class=\"sk-toggleable__label sk-toggleable__label-arrow\">RandomizedSearchCV</label><div class=\"sk-toggleable__content\"><pre>RandomizedSearchCV(cv=5, estimator=RandomForestClassifier(), n_iter=50,\n",
       "                   param_distributions={&#x27;max_depth&#x27;: [4, 5, 6, 7, 8, 9, 10],\n",
       "                                        &#x27;min_samples_leaf&#x27;: [2, 3, 4, 5, 6],\n",
       "                                        &#x27;min_samples_split&#x27;: [2, 5, 10],\n",
       "                                        &#x27;n_estimators&#x27;: [10, 50, 100, 200, 300,\n",
       "                                                         400]},\n",
       "                   scoring=&#x27;f1&#x27;, verbose=3)</pre></div></div></div><div class=\"sk-parallel\"><div class=\"sk-parallel-item\"><div class=\"sk-item\"><div class=\"sk-label-container\"><div class=\"sk-label sk-toggleable\"><input class=\"sk-toggleable__control sk-hidden--visually\" id=\"sk-estimator-id-3\" type=\"checkbox\" ><label for=\"sk-estimator-id-3\" class=\"sk-toggleable__label sk-toggleable__label-arrow\">estimator: RandomForestClassifier</label><div class=\"sk-toggleable__content\"><pre>RandomForestClassifier()</pre></div></div></div><div class=\"sk-serial\"><div class=\"sk-item\"><div class=\"sk-estimator sk-toggleable\"><input class=\"sk-toggleable__control sk-hidden--visually\" id=\"sk-estimator-id-4\" type=\"checkbox\" ><label for=\"sk-estimator-id-4\" class=\"sk-toggleable__label sk-toggleable__label-arrow\">RandomForestClassifier</label><div class=\"sk-toggleable__content\"><pre>RandomForestClassifier()</pre></div></div></div></div></div></div></div></div></div></div>"
      ],
      "text/plain": [
       "RandomizedSearchCV(cv=5, estimator=RandomForestClassifier(), n_iter=50,\n",
       "                   param_distributions={'max_depth': [4, 5, 6, 7, 8, 9, 10],\n",
       "                                        'min_samples_leaf': [2, 3, 4, 5, 6],\n",
       "                                        'min_samples_split': [2, 5, 10],\n",
       "                                        'n_estimators': [10, 50, 100, 200, 300,\n",
       "                                                         400]},\n",
       "                   scoring='f1', verbose=3)"
      ]
     },
     "execution_count": 26,
     "metadata": {},
     "output_type": "execute_result"
    }
   ],
   "source": [
    "rscv.fit(X_train1,y_train)"
   ]
  },
  {
   "cell_type": "code",
   "execution_count": 27,
   "id": "e79f0494-b26a-4069-8531-3223117a1caa",
   "metadata": {},
   "outputs": [
    {
     "data": {
      "text/plain": [
       "0.8624584980237154"
      ]
     },
     "execution_count": 27,
     "metadata": {},
     "output_type": "execute_result"
    }
   ],
   "source": [
    "rscv.best_score_"
   ]
  },
  {
   "cell_type": "code",
   "execution_count": 28,
   "id": "a4779e97-8d0d-4a95-ac08-3031b0b75bce",
   "metadata": {},
   "outputs": [
    {
     "data": {
      "text/plain": [
       "{'n_estimators': 200,\n",
       " 'min_samples_split': 2,\n",
       " 'min_samples_leaf': 5,\n",
       " 'max_depth': 10}"
      ]
     },
     "execution_count": 28,
     "metadata": {},
     "output_type": "execute_result"
    }
   ],
   "source": [
    "rscv.best_params_"
   ]
  },
  {
   "cell_type": "code",
   "execution_count": null,
   "id": "1107870d-43ad-400f-8ba3-87b8ade834a9",
   "metadata": {},
   "outputs": [],
   "source": []
  },
  {
   "cell_type": "markdown",
   "id": "cedaec6c-cab8-47a4-a843-3657cd1e8aa6",
   "metadata": {},
   "source": [
    "## Q7. Report the best set of hyperparameters found by the search and the corresponding performance metrics. Compare the performance of the tuned model with the default model."
   ]
  },
  {
   "cell_type": "code",
   "execution_count": 29,
   "id": "edbd9df8-9fa5-4e68-848c-a3f5af748a35",
   "metadata": {},
   "outputs": [
    {
     "data": {
      "text/plain": [
       "{'n_estimators': 200,\n",
       " 'min_samples_split': 2,\n",
       " 'min_samples_leaf': 5,\n",
       " 'max_depth': 10}"
      ]
     },
     "execution_count": 29,
     "metadata": {},
     "output_type": "execute_result"
    }
   ],
   "source": [
    "# Best Parameters\n",
    "rscv.best_params_"
   ]
  },
  {
   "cell_type": "code",
   "execution_count": 30,
   "id": "19e5bd65-2aba-4af3-978b-5468ca620b01",
   "metadata": {},
   "outputs": [
    {
     "data": {
      "text/html": [
       "<style>#sk-container-id-3 {color: black;background-color: white;}#sk-container-id-3 pre{padding: 0;}#sk-container-id-3 div.sk-toggleable {background-color: white;}#sk-container-id-3 label.sk-toggleable__label {cursor: pointer;display: block;width: 100%;margin-bottom: 0;padding: 0.3em;box-sizing: border-box;text-align: center;}#sk-container-id-3 label.sk-toggleable__label-arrow:before {content: \"▸\";float: left;margin-right: 0.25em;color: #696969;}#sk-container-id-3 label.sk-toggleable__label-arrow:hover:before {color: black;}#sk-container-id-3 div.sk-estimator:hover label.sk-toggleable__label-arrow:before {color: black;}#sk-container-id-3 div.sk-toggleable__content {max-height: 0;max-width: 0;overflow: hidden;text-align: left;background-color: #f0f8ff;}#sk-container-id-3 div.sk-toggleable__content pre {margin: 0.2em;color: black;border-radius: 0.25em;background-color: #f0f8ff;}#sk-container-id-3 input.sk-toggleable__control:checked~div.sk-toggleable__content {max-height: 200px;max-width: 100%;overflow: auto;}#sk-container-id-3 input.sk-toggleable__control:checked~label.sk-toggleable__label-arrow:before {content: \"▾\";}#sk-container-id-3 div.sk-estimator input.sk-toggleable__control:checked~label.sk-toggleable__label {background-color: #d4ebff;}#sk-container-id-3 div.sk-label input.sk-toggleable__control:checked~label.sk-toggleable__label {background-color: #d4ebff;}#sk-container-id-3 input.sk-hidden--visually {border: 0;clip: rect(1px 1px 1px 1px);clip: rect(1px, 1px, 1px, 1px);height: 1px;margin: -1px;overflow: hidden;padding: 0;position: absolute;width: 1px;}#sk-container-id-3 div.sk-estimator {font-family: monospace;background-color: #f0f8ff;border: 1px dotted black;border-radius: 0.25em;box-sizing: border-box;margin-bottom: 0.5em;}#sk-container-id-3 div.sk-estimator:hover {background-color: #d4ebff;}#sk-container-id-3 div.sk-parallel-item::after {content: \"\";width: 100%;border-bottom: 1px solid gray;flex-grow: 1;}#sk-container-id-3 div.sk-label:hover label.sk-toggleable__label {background-color: #d4ebff;}#sk-container-id-3 div.sk-serial::before {content: \"\";position: absolute;border-left: 1px solid gray;box-sizing: border-box;top: 0;bottom: 0;left: 50%;z-index: 0;}#sk-container-id-3 div.sk-serial {display: flex;flex-direction: column;align-items: center;background-color: white;padding-right: 0.2em;padding-left: 0.2em;position: relative;}#sk-container-id-3 div.sk-item {position: relative;z-index: 1;}#sk-container-id-3 div.sk-parallel {display: flex;align-items: stretch;justify-content: center;background-color: white;position: relative;}#sk-container-id-3 div.sk-item::before, #sk-container-id-3 div.sk-parallel-item::before {content: \"\";position: absolute;border-left: 1px solid gray;box-sizing: border-box;top: 0;bottom: 0;left: 50%;z-index: -1;}#sk-container-id-3 div.sk-parallel-item {display: flex;flex-direction: column;z-index: 1;position: relative;background-color: white;}#sk-container-id-3 div.sk-parallel-item:first-child::after {align-self: flex-end;width: 50%;}#sk-container-id-3 div.sk-parallel-item:last-child::after {align-self: flex-start;width: 50%;}#sk-container-id-3 div.sk-parallel-item:only-child::after {width: 0;}#sk-container-id-3 div.sk-dashed-wrapped {border: 1px dashed gray;margin: 0 0.4em 0.5em 0.4em;box-sizing: border-box;padding-bottom: 0.4em;background-color: white;}#sk-container-id-3 div.sk-label label {font-family: monospace;font-weight: bold;display: inline-block;line-height: 1.2em;}#sk-container-id-3 div.sk-label-container {text-align: center;}#sk-container-id-3 div.sk-container {/* jupyter's `normalize.less` sets `[hidden] { display: none; }` but bootstrap.min.css set `[hidden] { display: none !important; }` so we also need the `!important` here to be able to override the default hidden behavior on the sphinx rendered scikit-learn.org. See: https://github.com/scikit-learn/scikit-learn/issues/21755 */display: inline-block !important;position: relative;}#sk-container-id-3 div.sk-text-repr-fallback {display: none;}</style><div id=\"sk-container-id-3\" class=\"sk-top-container\"><div class=\"sk-text-repr-fallback\"><pre>RandomForestClassifier(max_depth=10, min_samples_leaf=5, n_estimators=200)</pre><b>In a Jupyter environment, please rerun this cell to show the HTML representation or trust the notebook. <br />On GitHub, the HTML representation is unable to render, please try loading this page with nbviewer.org.</b></div><div class=\"sk-container\" hidden><div class=\"sk-item\"><div class=\"sk-estimator sk-toggleable\"><input class=\"sk-toggleable__control sk-hidden--visually\" id=\"sk-estimator-id-5\" type=\"checkbox\" checked><label for=\"sk-estimator-id-5\" class=\"sk-toggleable__label sk-toggleable__label-arrow\">RandomForestClassifier</label><div class=\"sk-toggleable__content\"><pre>RandomForestClassifier(max_depth=10, min_samples_leaf=5, n_estimators=200)</pre></div></div></div></div></div>"
      ],
      "text/plain": [
       "RandomForestClassifier(max_depth=10, min_samples_leaf=5, n_estimators=200)"
      ]
     },
     "execution_count": 30,
     "metadata": {},
     "output_type": "execute_result"
    }
   ],
   "source": [
    "## Best Estimator (Model)\n",
    "rscv.best_estimator_"
   ]
  },
  {
   "cell_type": "code",
   "execution_count": 31,
   "id": "34e01f7b-2c91-4c78-ac74-b69bf6438cfe",
   "metadata": {},
   "outputs": [
    {
     "name": "stdout",
     "output_type": "stream",
     "text": [
      "Results for Tuned Model :\n",
      "\n",
      "Accuracy Score  : 0.8681\n",
      "Precision Score : 0.8776\n",
      "Recall Score    : 0.8776\n",
      "F1 Score        : 0.8776\n"
     ]
    }
   ],
   "source": [
    "# Testing Accuracy on tuned model\n",
    "print('Results for Tuned Model :\\n')\n",
    "acc_tuned, pre_tuned , rec_tuned, f1_tuned = evaluate_model(X_test1,y_test.values.flatten(),rscv)"
   ]
  },
  {
   "cell_type": "code",
   "execution_count": 32,
   "id": "4cbd71c3-551e-412b-a640-d89a6e2d3328",
   "metadata": {},
   "outputs": [],
   "source": [
    "dct = {\n",
    "    'metrics':['accuracy','precision','recall','f1'],\n",
    "    'base model':[acc_base,pre_base,rec_base,f1_base],\n",
    "    'tuned model':[acc_tuned,pre_tuned,rec_tuned,f1_tuned]\n",
    "}"
   ]
  },
  {
   "cell_type": "code",
   "execution_count": 33,
   "id": "3f8e2e38-0472-4e33-8bca-56878cb9ce1f",
   "metadata": {},
   "outputs": [
    {
     "data": {
      "text/html": [
       "<div>\n",
       "<style scoped>\n",
       "    .dataframe tbody tr th:only-of-type {\n",
       "        vertical-align: middle;\n",
       "    }\n",
       "\n",
       "    .dataframe tbody tr th {\n",
       "        vertical-align: top;\n",
       "    }\n",
       "\n",
       "    .dataframe thead th {\n",
       "        text-align: right;\n",
       "    }\n",
       "</style>\n",
       "<table border=\"1\" class=\"dataframe\">\n",
       "  <thead>\n",
       "    <tr style=\"text-align: right;\">\n",
       "      <th></th>\n",
       "      <th>metrics</th>\n",
       "      <th>base model</th>\n",
       "      <th>tuned model</th>\n",
       "    </tr>\n",
       "  </thead>\n",
       "  <tbody>\n",
       "    <tr>\n",
       "      <th>0</th>\n",
       "      <td>accuracy</td>\n",
       "      <td>0.835165</td>\n",
       "      <td>0.868132</td>\n",
       "    </tr>\n",
       "    <tr>\n",
       "      <th>1</th>\n",
       "      <td>precision</td>\n",
       "      <td>0.840000</td>\n",
       "      <td>0.877551</td>\n",
       "    </tr>\n",
       "    <tr>\n",
       "      <th>2</th>\n",
       "      <td>recall</td>\n",
       "      <td>0.857143</td>\n",
       "      <td>0.877551</td>\n",
       "    </tr>\n",
       "    <tr>\n",
       "      <th>3</th>\n",
       "      <td>f1</td>\n",
       "      <td>0.848485</td>\n",
       "      <td>0.877551</td>\n",
       "    </tr>\n",
       "  </tbody>\n",
       "</table>\n",
       "</div>"
      ],
      "text/plain": [
       "     metrics  base model  tuned model\n",
       "0   accuracy    0.835165     0.868132\n",
       "1  precision    0.840000     0.877551\n",
       "2     recall    0.857143     0.877551\n",
       "3         f1    0.848485     0.877551"
      ]
     },
     "execution_count": 33,
     "metadata": {},
     "output_type": "execute_result"
    }
   ],
   "source": [
    "df_compare = pd.DataFrame(dct)\n",
    "df_compare"
   ]
  },
  {
   "cell_type": "markdown",
   "id": "bc4172e2-c1b9-4485-b389-f6b524aaa9ae",
   "metadata": {},
   "source": [
    "### Insights"
   ]
  },
  {
   "cell_type": "markdown",
   "id": "2f9e1c29-b147-49b5-bb07-f254077ef7e1",
   "metadata": {},
   "source": [
    "* All parameters of the tuned model increases all scores."
   ]
  },
  {
   "cell_type": "code",
   "execution_count": null,
   "id": "1d8bebd5-bc05-4cb7-bc2e-394158490ab2",
   "metadata": {},
   "outputs": [],
   "source": []
  },
  {
   "cell_type": "markdown",
   "id": "ae464635-8393-4b2b-8185-1920af4c1d10",
   "metadata": {},
   "source": [
    "## Q8. Interpret the model by analysing the decision boundaries of the random forest classifier. Plot the decision boundaries on a scatter plot of two of the most important features. Discuss the insights and limitations of the model for predicting heart disease risk."
   ]
  },
  {
   "cell_type": "code",
   "execution_count": 34,
   "id": "315566e0-1e99-49c0-bf09-b4c428f7fe97",
   "metadata": {},
   "outputs": [
    {
     "data": {
      "text/html": [
       "<style>#sk-container-id-4 {color: black;background-color: white;}#sk-container-id-4 pre{padding: 0;}#sk-container-id-4 div.sk-toggleable {background-color: white;}#sk-container-id-4 label.sk-toggleable__label {cursor: pointer;display: block;width: 100%;margin-bottom: 0;padding: 0.3em;box-sizing: border-box;text-align: center;}#sk-container-id-4 label.sk-toggleable__label-arrow:before {content: \"▸\";float: left;margin-right: 0.25em;color: #696969;}#sk-container-id-4 label.sk-toggleable__label-arrow:hover:before {color: black;}#sk-container-id-4 div.sk-estimator:hover label.sk-toggleable__label-arrow:before {color: black;}#sk-container-id-4 div.sk-toggleable__content {max-height: 0;max-width: 0;overflow: hidden;text-align: left;background-color: #f0f8ff;}#sk-container-id-4 div.sk-toggleable__content pre {margin: 0.2em;color: black;border-radius: 0.25em;background-color: #f0f8ff;}#sk-container-id-4 input.sk-toggleable__control:checked~div.sk-toggleable__content {max-height: 200px;max-width: 100%;overflow: auto;}#sk-container-id-4 input.sk-toggleable__control:checked~label.sk-toggleable__label-arrow:before {content: \"▾\";}#sk-container-id-4 div.sk-estimator input.sk-toggleable__control:checked~label.sk-toggleable__label {background-color: #d4ebff;}#sk-container-id-4 div.sk-label input.sk-toggleable__control:checked~label.sk-toggleable__label {background-color: #d4ebff;}#sk-container-id-4 input.sk-hidden--visually {border: 0;clip: rect(1px 1px 1px 1px);clip: rect(1px, 1px, 1px, 1px);height: 1px;margin: -1px;overflow: hidden;padding: 0;position: absolute;width: 1px;}#sk-container-id-4 div.sk-estimator {font-family: monospace;background-color: #f0f8ff;border: 1px dotted black;border-radius: 0.25em;box-sizing: border-box;margin-bottom: 0.5em;}#sk-container-id-4 div.sk-estimator:hover {background-color: #d4ebff;}#sk-container-id-4 div.sk-parallel-item::after {content: \"\";width: 100%;border-bottom: 1px solid gray;flex-grow: 1;}#sk-container-id-4 div.sk-label:hover label.sk-toggleable__label {background-color: #d4ebff;}#sk-container-id-4 div.sk-serial::before {content: \"\";position: absolute;border-left: 1px solid gray;box-sizing: border-box;top: 0;bottom: 0;left: 50%;z-index: 0;}#sk-container-id-4 div.sk-serial {display: flex;flex-direction: column;align-items: center;background-color: white;padding-right: 0.2em;padding-left: 0.2em;position: relative;}#sk-container-id-4 div.sk-item {position: relative;z-index: 1;}#sk-container-id-4 div.sk-parallel {display: flex;align-items: stretch;justify-content: center;background-color: white;position: relative;}#sk-container-id-4 div.sk-item::before, #sk-container-id-4 div.sk-parallel-item::before {content: \"\";position: absolute;border-left: 1px solid gray;box-sizing: border-box;top: 0;bottom: 0;left: 50%;z-index: -1;}#sk-container-id-4 div.sk-parallel-item {display: flex;flex-direction: column;z-index: 1;position: relative;background-color: white;}#sk-container-id-4 div.sk-parallel-item:first-child::after {align-self: flex-end;width: 50%;}#sk-container-id-4 div.sk-parallel-item:last-child::after {align-self: flex-start;width: 50%;}#sk-container-id-4 div.sk-parallel-item:only-child::after {width: 0;}#sk-container-id-4 div.sk-dashed-wrapped {border: 1px dashed gray;margin: 0 0.4em 0.5em 0.4em;box-sizing: border-box;padding-bottom: 0.4em;background-color: white;}#sk-container-id-4 div.sk-label label {font-family: monospace;font-weight: bold;display: inline-block;line-height: 1.2em;}#sk-container-id-4 div.sk-label-container {text-align: center;}#sk-container-id-4 div.sk-container {/* jupyter's `normalize.less` sets `[hidden] { display: none; }` but bootstrap.min.css set `[hidden] { display: none !important; }` so we also need the `!important` here to be able to override the default hidden behavior on the sphinx rendered scikit-learn.org. See: https://github.com/scikit-learn/scikit-learn/issues/21755 */display: inline-block !important;position: relative;}#sk-container-id-4 div.sk-text-repr-fallback {display: none;}</style><div id=\"sk-container-id-4\" class=\"sk-top-container\"><div class=\"sk-text-repr-fallback\"><pre>RandomForestClassifier(max_depth=10, min_samples_leaf=5, n_estimators=200)</pre><b>In a Jupyter environment, please rerun this cell to show the HTML representation or trust the notebook. <br />On GitHub, the HTML representation is unable to render, please try loading this page with nbviewer.org.</b></div><div class=\"sk-container\" hidden><div class=\"sk-item\"><div class=\"sk-estimator sk-toggleable\"><input class=\"sk-toggleable__control sk-hidden--visually\" id=\"sk-estimator-id-6\" type=\"checkbox\" checked><label for=\"sk-estimator-id-6\" class=\"sk-toggleable__label sk-toggleable__label-arrow\">RandomForestClassifier</label><div class=\"sk-toggleable__content\"><pre>RandomForestClassifier(max_depth=10, min_samples_leaf=5, n_estimators=200)</pre></div></div></div></div></div>"
      ],
      "text/plain": [
       "RandomForestClassifier(max_depth=10, min_samples_leaf=5, n_estimators=200)"
      ]
     },
     "execution_count": 34,
     "metadata": {},
     "output_type": "execute_result"
    }
   ],
   "source": [
    "best_rfc = rscv.best_estimator_\n",
    "best_rfc"
   ]
  },
  {
   "cell_type": "code",
   "execution_count": 35,
   "id": "47fa26ba-4bd6-4186-9516-78d0d92a6cb3",
   "metadata": {},
   "outputs": [
    {
     "data": {
      "text/plain": [
       "ca          0.163723\n",
       "cp          0.153866\n",
       "thal        0.144075\n",
       "thalach     0.132660\n",
       "oldpeak     0.100759\n",
       "exang       0.083142\n",
       "ï»¿age      0.059299\n",
       "slope       0.045857\n",
       "trestbps    0.038758\n",
       "chol        0.037138\n",
       "sex         0.027499\n",
       "restecg     0.010931\n",
       "fbs         0.002292\n",
       "dtype: float64"
      ]
     },
     "execution_count": 35,
     "metadata": {},
     "output_type": "execute_result"
    }
   ],
   "source": [
    "imp1= best_rfc.feature_importances_\n",
    "feature_names1 = X.columns\n",
    "imp_tuned = pd.Series(imp1, index=feature_names1)\n",
    "imp_tuned = imp_tuned.sort_values(ascending=False)\n",
    "imp_tuned"
   ]
  },
  {
   "cell_type": "code",
   "execution_count": 36,
   "id": "40065fb8-7485-449e-b1c5-0e6de47cadd4",
   "metadata": {},
   "outputs": [
    {
     "data": {
      "text/plain": [
       "ca    0.163723\n",
       "cp    0.153866\n",
       "dtype: float64"
      ]
     },
     "execution_count": 36,
     "metadata": {},
     "output_type": "execute_result"
    }
   ],
   "source": [
    "imp_tuned[0:2]"
   ]
  },
  {
   "cell_type": "code",
   "execution_count": 37,
   "id": "b7380964-e9a7-43da-96f2-50ec99726852",
   "metadata": {},
   "outputs": [
    {
     "data": {
      "text/plain": [
       "<AxesSubplot: title={'center': 'Feature Importances for tuned model'}>"
      ]
     },
     "execution_count": 37,
     "metadata": {},
     "output_type": "execute_result"
    },
    {
     "data": {
      "image/png": "[encoded data removed]",
      "text/plain": [
       "<Figure size 1600x800 with 1 Axes>"
      ]
     },
     "metadata": {},
     "output_type": "display_data"
    }
   ],
   "source": [
    "imp_tuned.plot(kind='bar',title='Feature Importances for tuned model',figsize=(16,8))"
   ]
  },
  {
   "cell_type": "code",
   "execution_count": 38,
   "id": "ea63ce92-9990-4ce6-9d4e-16e904583285",
   "metadata": {},
   "outputs": [
    {
     "data": {
      "text/plain": [
       "(211, 13)"
      ]
     },
     "execution_count": 38,
     "metadata": {},
     "output_type": "execute_result"
    }
   ],
   "source": [
    "X_train.shape"
   ]
  },
  {
   "cell_type": "code",
   "execution_count": 39,
   "id": "ce8c2296-2bc0-42a5-8f05-0d5ffdea77d7",
   "metadata": {},
   "outputs": [
    {
     "data": {
      "text/html": [
       "<div>\n",
       "<style scoped>\n",
       "    .dataframe tbody tr th:only-of-type {\n",
       "        vertical-align: middle;\n",
       "    }\n",
       "\n",
       "    .dataframe tbody tr th {\n",
       "        vertical-align: top;\n",
       "    }\n",
       "\n",
       "    .dataframe thead th {\n",
       "        text-align: right;\n",
       "    }\n",
       "</style>\n",
       "<table border=\"1\" class=\"dataframe\">\n",
       "  <thead>\n",
       "    <tr style=\"text-align: right;\">\n",
       "      <th></th>\n",
       "      <th>ca</th>\n",
       "      <th>cp</th>\n",
       "    </tr>\n",
       "  </thead>\n",
       "  <tbody>\n",
       "    <tr>\n",
       "      <th>124</th>\n",
       "      <td>0</td>\n",
       "      <td>2</td>\n",
       "    </tr>\n",
       "    <tr>\n",
       "      <th>72</th>\n",
       "      <td>0</td>\n",
       "      <td>1</td>\n",
       "    </tr>\n",
       "    <tr>\n",
       "      <th>15</th>\n",
       "      <td>0</td>\n",
       "      <td>2</td>\n",
       "    </tr>\n",
       "    <tr>\n",
       "      <th>10</th>\n",
       "      <td>0</td>\n",
       "      <td>0</td>\n",
       "    </tr>\n",
       "    <tr>\n",
       "      <th>163</th>\n",
       "      <td>4</td>\n",
       "      <td>2</td>\n",
       "    </tr>\n",
       "  </tbody>\n",
       "</table>\n",
       "</div>"
      ],
      "text/plain": [
       "     ca  cp\n",
       "124   0   2\n",
       "72    0   1\n",
       "15    0   2\n",
       "10    0   0\n",
       "163   4   2"
      ]
     },
     "execution_count": 39,
     "metadata": {},
     "output_type": "execute_result"
    }
   ],
   "source": [
    "top2 = X_train[['ca','cp']]\n",
    "top2.head()"
   ]
  },
  {
   "cell_type": "code",
   "execution_count": 41,
   "id": "b503445c-cd09-4bff-a7ea-9988195da2bf",
   "metadata": {},
   "outputs": [
    {
     "data": {
      "text/html": [
       "<div>\n",
       "<style scoped>\n",
       "    .dataframe tbody tr th:only-of-type {\n",
       "        vertical-align: middle;\n",
       "    }\n",
       "\n",
       "    .dataframe tbody tr th {\n",
       "        vertical-align: top;\n",
       "    }\n",
       "\n",
       "    .dataframe thead th {\n",
       "        text-align: right;\n",
       "    }\n",
       "</style>\n",
       "<table border=\"1\" class=\"dataframe\">\n",
       "  <thead>\n",
       "    <tr style=\"text-align: right;\">\n",
       "      <th></th>\n",
       "      <th>ca</th>\n",
       "      <th>cp</th>\n",
       "      <th>target</th>\n",
       "    </tr>\n",
       "  </thead>\n",
       "  <tbody>\n",
       "    <tr>\n",
       "      <th>124</th>\n",
       "      <td>0</td>\n",
       "      <td>2</td>\n",
       "      <td>1</td>\n",
       "    </tr>\n",
       "    <tr>\n",
       "      <th>72</th>\n",
       "      <td>0</td>\n",
       "      <td>1</td>\n",
       "      <td>1</td>\n",
       "    </tr>\n",
       "    <tr>\n",
       "      <th>15</th>\n",
       "      <td>0</td>\n",
       "      <td>2</td>\n",
       "      <td>1</td>\n",
       "    </tr>\n",
       "    <tr>\n",
       "      <th>10</th>\n",
       "      <td>0</td>\n",
       "      <td>0</td>\n",
       "      <td>1</td>\n",
       "    </tr>\n",
       "    <tr>\n",
       "      <th>163</th>\n",
       "      <td>4</td>\n",
       "      <td>2</td>\n",
       "      <td>1</td>\n",
       "    </tr>\n",
       "  </tbody>\n",
       "</table>\n",
       "</div>"
      ],
      "text/plain": [
       "     ca  cp  target\n",
       "124   0   2       1\n",
       "72    0   1       1\n",
       "15    0   2       1\n",
       "10    0   0       1\n",
       "163   4   2       1"
      ]
     },
     "execution_count": 41,
     "metadata": {},
     "output_type": "execute_result"
    }
   ],
   "source": [
    "df_top2 =pd.concat([top2,y_train],axis=1)\n",
    "df_top2.head()"
   ]
  },
  {
   "cell_type": "code",
   "execution_count": 42,
   "id": "5cf36380-8d22-4ed5-a853-833bafec312b",
   "metadata": {},
   "outputs": [
    {
     "data": {
      "image/png": "[encoded data removed]",
      "text/plain": [
       "<Figure size 640x480 with 1 Axes>"
      ]
     },
     "metadata": {},
     "output_type": "display_data"
    }
   ],
   "source": [
    "import seaborn as sns\n",
    "import matplotlib.pyplot as plt\n",
    "sns.scatterplot(data=df_top2,x='ca',y='cp',hue='target')\n",
    "plt.title('Actual Class Target plot')\n",
    "plt.show()"
   ]
  },
  {
   "cell_type": "code",
   "execution_count": null,
   "id": "1400f64c-5cba-47f5-a3f3-9f32358dfa14",
   "metadata": {},
   "outputs": [],
   "source": []
  },
  {
   "cell_type": "code",
   "execution_count": 43,
   "id": "ee830810-9528-467f-bf8d-d0984d35c296",
   "metadata": {},
   "outputs": [],
   "source": [
    "df_top2['predicted'] = best_rfc.predict(X_train1)"
   ]
  },
  {
   "cell_type": "code",
   "execution_count": 44,
   "id": "cf09e40e-6724-4f7c-91d2-c823c21180f5",
   "metadata": {},
   "outputs": [
    {
     "data": {
      "image/png": "[encoded data removed]",
      "text/plain": [
       "<Figure size 640x480 with 1 Axes>"
      ]
     },
     "metadata": {},
     "output_type": "display_data"
    }
   ],
   "source": [
    "sns.scatterplot(data=df_top2,x='ca',y='cp',hue='predicted')\n",
    "plt.title('Predicted Class Target plot')\n",
    "plt.show()"
   ]
  },
  {
   "cell_type": "code",
   "execution_count": null,
   "id": "769e8187-4900-4505-bcd2-3df71ce2b29b",
   "metadata": {},
   "outputs": [],
   "source": []
  }
 ],
 "metadata": {
  "kernelspec": {
   "display_name": "Python 3 (ipykernel)",
   "language": "python",
   "name": "python3"
  },
  "language_info": {
   "codemirror_mode": {
    "name": "ipython",
    "version": 3
   },
   "file_extension": ".py",
   "mimetype": "text/x-python",
   "name": "python",
   "nbconvert_exporter": "python",
   "pygments_lexer": "ipython3",
   "version": "3.10.8"
  }
 },
 "nbformat": 4,
 "nbformat_minor": 5
}
