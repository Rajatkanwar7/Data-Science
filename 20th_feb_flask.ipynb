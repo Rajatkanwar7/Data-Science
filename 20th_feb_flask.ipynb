{
 "cells": [
  {
   "cell_type": "markdown",
   "id": "9af866be-db97-4e6e-8b4b-78dc45174702",
   "metadata": {},
   "source": [
    "Q1. Explain GET and POST methods."
   ]
  },
  {
   "cell_type": "markdown",
   "id": "8e789a0a-4cfd-4448-92ea-51787da5d074",
   "metadata": {},
   "source": [
    "GET method:\n",
    "The GET method is used to request a resource from the server. When a client sends a GET request to the server, it sends a request for a specific resource and the server responds with the requested resource. The request parameters (e.g., query strings) are appended to the URL of the resource being requested. GET requests are usually used to retrieve data from the server, such as a web page or an image.\n",
    "\n",
    "POST method:\n",
    "The POST method is used to submit data to the server to be processed. When a client sends a POST request to the server, it sends data in the body of the request. The data could be form data, JSON data, or any other data that needs to be processed on the server. The server then processes the data and returns a response. Unlike GET requests, POST requests do not append request parameters to the URL."
   ]
  },
  {
   "cell_type": "code",
   "execution_count": null,
   "id": "da6cf6ed-9f9e-4234-801d-4267f07191a6",
   "metadata": {},
   "outputs": [],
   "source": []
  },
  {
   "cell_type": "markdown",
   "id": "8f869e96-1842-4524-bf76-66b9cbda121b",
   "metadata": {},
   "source": [
    "Q2. Why is request used in Flask?"
   ]
  },
  {
   "cell_type": "markdown",
   "id": "cef8a41a-7d3a-4d6a-a975-4e5cbaae7ede",
   "metadata": {},
   "source": [
    "Ans:\n",
    "In Flask, request is used to access incoming request data. The request object contains data that is submitted to the server via an HTTP request. This data can be in the form of form data, JSON data, or any other data that is sent as part of the request.\n",
    "The request object allows developers to access and manipulate this data in their Flask application. For example, if a user submits a form, the request object can be used to retrieve the values of the form fields. This data can then be processed, validated, and stored in a database or used to generate a response.\n",
    "The request object also provides information about the request itself, such as the HTTP method used (e.g., GET or POST), the URL that was requested, the headers that were sent with the request, and the IP address of the client making the request.\n",
    "Overall, the request object is an important part of the Flask framework as it allows developers to build web applications that can receive and process incoming data from clients"
   ]
  },
  {
   "cell_type": "code",
   "execution_count": null,
   "id": "a73ad07a-1af2-4ab8-9a59-ec9c15db9b4a",
   "metadata": {},
   "outputs": [],
   "source": []
  },
  {
   "cell_type": "markdown",
   "id": "f4313823-b6e3-4c54-9d1c-55c5ffaffe54",
   "metadata": {},
   "source": [
    "Q3. Why is redirect() used in Flask?"
   ]
  },
  {
   "cell_type": "markdown",
   "id": "3ad9b1b8-52a8-4d4d-9ab8-7850572fec37",
   "metadata": {},
   "source": [
    "Ans:\n",
    "In Flask, redirect is used to redirect the user to a different URL or route. When a user sends a request to a Flask application, the server may want to redirect the user to a different page or route based on the request data or the current state of the application.\n",
    "\n",
    "For example, a user may be redirected to a login page if they try to access a restricted resource without being authenticated. Or, a user may be redirected to a success page after submitting a form."
   ]
  },
  {
   "cell_type": "code",
   "execution_count": null,
   "id": "f0a380a3-71df-4bc7-9dcb-eb0c89755e07",
   "metadata": {},
   "outputs": [],
   "source": []
  },
  {
   "cell_type": "markdown",
   "id": "e2f3d0ee-abb3-4cd1-9b9f-307a23df1030",
   "metadata": {},
   "source": [
    "Q4. What are templates in Flask? Why is the render_template() function used?"
   ]
  },
  {
   "cell_type": "markdown",
   "id": "0fed3876-3336-4a94-a1be-e482065d059b",
   "metadata": {},
   "source": [
    "Ans:\n",
    "    \n",
    "In Flask, templates are used to generate dynamic HTML pages that can be returned to the client as a response to a request. Templates allow developers to separate the presentation layer of an application from the business logic, making it easier to maintain and modify the application.\n",
    "Templates in Flask are usually written in a markup language like HTML and can contain placeholders for dynamic content. These placeholders are replaced with actual data at runtime, allowing the template to generate a customized response for each request.\n",
    "\n",
    "The render_template() function in Flask is used to render templates and generate HTML pages. This function takes the name of the template file as its first argument and any additional variables that need to be passed to the template as keyword arguments."
   ]
  },
  {
   "cell_type": "code",
   "execution_count": null,
   "id": "6c5fe9f2-cf1a-420d-bcb3-e0b939e4a7b4",
   "metadata": {},
   "outputs": [],
   "source": []
  },
  {
   "cell_type": "markdown",
   "id": "77f33f9a-e51a-4d49-817f-48db4a2735d6",
   "metadata": {},
   "source": [
    "Q5. Create a simple API. Use Postman to test it. Attach the screenshot of the output in the Jupyter Notebook."
   ]
  },
  {
   "cell_type": "markdown",
   "id": "268eee40-9751-4fb7-a568-a87fda5dc9e4",
   "metadata": {},
   "source": [
    "Ans:\n",
    "Screenshot LInk:\n",
    "\n",
    "https://github.com/Rajatkanwar7/Data-Science/blob/e0338f1c39fad9379acf7c0c6711e59752908bf0/APi_test_20th_feb.png"
   ]
  },
  {
   "cell_type": "code",
   "execution_count": null,
   "id": "9d625142-8ee1-4895-a86a-3aedf4d548ed",
   "metadata": {},
   "outputs": [],
   "source": []
  }
 ],
 "metadata": {
  "kernelspec": {
   "display_name": "Python 3 (ipykernel)",
   "language": "python",
   "name": "python3"
  },
  "language_info": {
   "codemirror_mode": {
    "name": "ipython",
    "version": 3
   },
   "file_extension": ".py",
   "mimetype": "text/x-python",
   "name": "python",
   "nbconvert_exporter": "python",
   "pygments_lexer": "ipython3",
   "version": "3.10.8"
  }
 },
 "nbformat": 4,
 "nbformat_minor": 5
}
