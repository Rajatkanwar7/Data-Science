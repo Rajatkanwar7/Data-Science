{
 "cells": [
  {
   "cell_type": "markdown",
   "id": "dabce19c-f87c-41be-97c5-f994862fcff3",
   "metadata": {},
   "source": [
    "## Q1. What is the relationship between polynomial functions and kernel functions in machine learning  algorithms?"
   ]
  },
  {
   "cell_type": "markdown",
   "id": "62524805-1bf3-4876-9728-a55449701d9a",
   "metadata": {
    "tags": []
   },
   "source": [
    "### Ans:\n",
    "\n",
    "In machine learning, kernel functions are a type of mathematical function used to transform input data into a higher-dimensional feature space, where the data can be more easily separated. One popular type of kernel function is the polynomial kernel function.\n",
    "\n",
    "Polynomial functions are a type of mathematical function that can be used to fit a curve to a set of data points. They are commonly used in regression analysis and curve fitting.\n",
    "\n",
    "The relationship between polynomial functions and kernel functions in machine learning algorithms is that the polynomial kernel function is a specific type of kernel function that uses a polynomial function to map the input data into a higher-dimensional feature space.\n",
    "\n",
    "In other words, the polynomial kernel function is a way of applying polynomial functions to input data in a way that allows the data to be separated more easily. This can be useful in machine learning tasks such as classification, where the goal is to separate different classes of data\n"
   ]
  },
  {
   "cell_type": "code",
   "execution_count": null,
   "id": "af91d111-ea4e-4e9c-976b-6b9bcdc8e2e0",
   "metadata": {},
   "outputs": [],
   "source": []
  },
  {
   "cell_type": "markdown",
   "id": "2f529dd5-ede0-496c-af18-5ffec0f2798f",
   "metadata": {},
   "source": [
    "## Q2. How can we implement an SVM with a polynomial kernel in Python using Scikit-learn?"
   ]
  },
  {
   "cell_type": "markdown",
   "id": "dd2ff1e9-7659-47a9-adfd-cbbb8c8a851a",
   "metadata": {},
   "source": [
    "### Ans:\n",
    "We can implement an SVM with a polynomial kernel in Python using Scikit-learn by using the SVC class and specifying the kernel parameter as 'poly'.\n",
    "Here's an example"
   ]
  },
  {
   "cell_type": "code",
   "execution_count": 2,
   "id": "8048fc50-4a50-469a-bbf6-d46e51ead295",
   "metadata": {},
   "outputs": [
    {
     "data": {
      "text/html": [
       "<style>#sk-container-id-1 {color: black;background-color: white;}#sk-container-id-1 pre{padding: 0;}#sk-container-id-1 div.sk-toggleable {background-color: white;}#sk-container-id-1 label.sk-toggleable__label {cursor: pointer;display: block;width: 100%;margin-bottom: 0;padding: 0.3em;box-sizing: border-box;text-align: center;}#sk-container-id-1 label.sk-toggleable__label-arrow:before {content: \"▸\";float: left;margin-right: 0.25em;color: #696969;}#sk-container-id-1 label.sk-toggleable__label-arrow:hover:before {color: black;}#sk-container-id-1 div.sk-estimator:hover label.sk-toggleable__label-arrow:before {color: black;}#sk-container-id-1 div.sk-toggleable__content {max-height: 0;max-width: 0;overflow: hidden;text-align: left;background-color: #f0f8ff;}#sk-container-id-1 div.sk-toggleable__content pre {margin: 0.2em;color: black;border-radius: 0.25em;background-color: #f0f8ff;}#sk-container-id-1 input.sk-toggleable__control:checked~div.sk-toggleable__content {max-height: 200px;max-width: 100%;overflow: auto;}#sk-container-id-1 input.sk-toggleable__control:checked~label.sk-toggleable__label-arrow:before {content: \"▾\";}#sk-container-id-1 div.sk-estimator input.sk-toggleable__control:checked~label.sk-toggleable__label {background-color: #d4ebff;}#sk-container-id-1 div.sk-label input.sk-toggleable__control:checked~label.sk-toggleable__label {background-color: #d4ebff;}#sk-container-id-1 input.sk-hidden--visually {border: 0;clip: rect(1px 1px 1px 1px);clip: rect(1px, 1px, 1px, 1px);height: 1px;margin: -1px;overflow: hidden;padding: 0;position: absolute;width: 1px;}#sk-container-id-1 div.sk-estimator {font-family: monospace;background-color: #f0f8ff;border: 1px dotted black;border-radius: 0.25em;box-sizing: border-box;margin-bottom: 0.5em;}#sk-container-id-1 div.sk-estimator:hover {background-color: #d4ebff;}#sk-container-id-1 div.sk-parallel-item::after {content: \"\";width: 100%;border-bottom: 1px solid gray;flex-grow: 1;}#sk-container-id-1 div.sk-label:hover label.sk-toggleable__label {background-color: #d4ebff;}#sk-container-id-1 div.sk-serial::before {content: \"\";position: absolute;border-left: 1px solid gray;box-sizing: border-box;top: 0;bottom: 0;left: 50%;z-index: 0;}#sk-container-id-1 div.sk-serial {display: flex;flex-direction: column;align-items: center;background-color: white;padding-right: 0.2em;padding-left: 0.2em;position: relative;}#sk-container-id-1 div.sk-item {position: relative;z-index: 1;}#sk-container-id-1 div.sk-parallel {display: flex;align-items: stretch;justify-content: center;background-color: white;position: relative;}#sk-container-id-1 div.sk-item::before, #sk-container-id-1 div.sk-parallel-item::before {content: \"\";position: absolute;border-left: 1px solid gray;box-sizing: border-box;top: 0;bottom: 0;left: 50%;z-index: -1;}#sk-container-id-1 div.sk-parallel-item {display: flex;flex-direction: column;z-index: 1;position: relative;background-color: white;}#sk-container-id-1 div.sk-parallel-item:first-child::after {align-self: flex-end;width: 50%;}#sk-container-id-1 div.sk-parallel-item:last-child::after {align-self: flex-start;width: 50%;}#sk-container-id-1 div.sk-parallel-item:only-child::after {width: 0;}#sk-container-id-1 div.sk-dashed-wrapped {border: 1px dashed gray;margin: 0 0.4em 0.5em 0.4em;box-sizing: border-box;padding-bottom: 0.4em;background-color: white;}#sk-container-id-1 div.sk-label label {font-family: monospace;font-weight: bold;display: inline-block;line-height: 1.2em;}#sk-container-id-1 div.sk-label-container {text-align: center;}#sk-container-id-1 div.sk-container {/* jupyter's `normalize.less` sets `[hidden] { display: none; }` but bootstrap.min.css set `[hidden] { display: none !important; }` so we also need the `!important` here to be able to override the default hidden behavior on the sphinx rendered scikit-learn.org. See: https://github.com/scikit-learn/scikit-learn/issues/21755 */display: inline-block !important;position: relative;}#sk-container-id-1 div.sk-text-repr-fallback {display: none;}</style><div id=\"sk-container-id-1\" class=\"sk-top-container\"><div class=\"sk-text-repr-fallback\"><pre>SVC(kernel=&#x27;poly&#x27;)</pre><b>In a Jupyter environment, please rerun this cell to show the HTML representation or trust the notebook. <br />On GitHub, the HTML representation is unable to render, please try loading this page with nbviewer.org.</b></div><div class=\"sk-container\" hidden><div class=\"sk-item\"><div class=\"sk-estimator sk-toggleable\"><input class=\"sk-toggleable__control sk-hidden--visually\" id=\"sk-estimator-id-1\" type=\"checkbox\" checked><label for=\"sk-estimator-id-1\" class=\"sk-toggleable__label sk-toggleable__label-arrow\">SVC</label><div class=\"sk-toggleable__content\"><pre>SVC(kernel=&#x27;poly&#x27;)</pre></div></div></div></div></div>"
      ],
      "text/plain": [
       "SVC(kernel='poly')"
      ]
     },
     "execution_count": 2,
     "metadata": {},
     "output_type": "execute_result"
    }
   ],
   "source": [
    "from sklearn.datasets import load_iris\n",
    "from sklearn.model_selection import train_test_split\n",
    "from sklearn.svm import SVC\n",
    "from sklearn.metrics import accuracy_score, confusion_matrix\n",
    "# Load the iris dataset\n",
    "iris = load_iris()\n",
    "\n",
    "# Split the dataset into training and testing sets\n",
    "X_train, X_test, y_train, y_test = train_test_split(iris.data, iris.target, test_size=0.3, random_state=42)\n",
    "# Train an SVM classifier with a polynomial kernel\n",
    "svm_poly_clf = SVC(kernel='poly', degree=3)\n",
    "svm_poly_clf.fit(X_train, y_train)"
   ]
  },
  {
   "cell_type": "code",
   "execution_count": 3,
   "id": "58ce62d2-f9b0-4f15-9a7c-49bc6d02c009",
   "metadata": {},
   "outputs": [
    {
     "name": "stdout",
     "output_type": "stream",
     "text": [
      "Accuracy: 0.9777777777777777 \n",
      "\n",
      "confusion matrix \n",
      " [[19  0  0]\n",
      " [ 0 12  1]\n",
      " [ 0  0 13]]\n"
     ]
    }
   ],
   "source": [
    "# Predict the labels for the testing set\n",
    "y_pred = svm_poly_clf.predict(X_test)\n",
    "# Compute the accuracy of the model\n",
    "accuracy = accuracy_score(y_test, y_pred)\n",
    "confuion_matrix = confusion_matrix(y_test,y_pred)\n",
    "print(\"Accuracy:\", accuracy,'\\n')\n",
    "print('confusion matrix \\n',confuion_matrix)"
   ]
  },
  {
   "cell_type": "markdown",
   "id": "8e349590-d663-4686-874a-bed6755adf86",
   "metadata": {},
   "source": [
    "In this code, we first import the necessary modules: load_iris from sklearn.datasets to load the iris dataset, train_test_split from sklearn.model_selection to split the dataset into training and testing sets, SVC from sklearn.svm to create an SVM classifier, and accuracy_score from sklearn.metrics to compute the accuracy of the model.\n",
    "\n",
    "We load the iris dataset using load_iris, and we split the dataset into training and testing sets using train_test_split. We use a test size of 0.3, which means that 30% of the data will be used for testing and 70% will be used for training. We also set the random state to 42 to ensure reproducibility.\n",
    "\n",
    "We then create an SVM classifier using SVC with the kernel parameter set to 'poly', which specifies that we want to use a polynomial kernel. We also set the degree parameter to 3, which specifies the degree of the polynomial kernel.\n",
    "\n",
    "We fit the classifier to the training data using the fit method.\n",
    "We predict the labels for the testing set using the predict method of the SVM classifier, and we compute the accuracy of the model using accuracy_score. We print the accuracy to the console."
   ]
  },
  {
   "cell_type": "code",
   "execution_count": null,
   "id": "917f3e05-18ec-4303-a6c7-b0cefea30884",
   "metadata": {},
   "outputs": [],
   "source": []
  },
  {
   "cell_type": "markdown",
   "id": "fdb23c87-6718-46a3-b53a-6951726ce0e0",
   "metadata": {},
   "source": [
    "## Q3. How does increasing the value of epsilon affect the number of support vectors in SVR?"
   ]
  },
  {
   "cell_type": "markdown",
   "id": "6fc8d593-9556-4418-9191-8b4b057d70b4",
   "metadata": {
    "tags": []
   },
   "source": [
    "### Ans:\n",
    "\n",
    "In Support Vector Regression (SVR), the epsilon parameter determines the width of the epsilon-insensitive zone around the regression line. This zone is a region where errors smaller than epsilon are considered to be zero, while errors larger than epsilon contribute to the loss function used to train the model.\n",
    "\n",
    "When the value of epsilon is increased, the width of the epsilon-insensitive zone is also increased. This means that more data points may fall within the epsilon-insensitive zone, which can lead to an increase in the number of support vectors used in the SVR model.\n",
    "\n",
    "This is because support vectors are the data points that are closest to the regression line and contribute to the loss function used to train the model. When the width of the epsilon-insensitive zone is increased, more data points may fall within this zone and contribute to the loss function, leading to an increase in the number of support vectors used by the model.\n",
    "\n",
    "However, it is important to note that increasing the value of epsilon can also result in a decrease in the accuracy of the model, as it allows for larger errors in the predictions. Therefore, it is important to find an appropriate value of epsilon that balances the number of support vectors used by the model with the accuracy of the predictions"
   ]
  },
  {
   "cell_type": "code",
   "execution_count": null,
   "id": "ee1dd219-3c5a-44cb-94d1-b9cbdf7a77d7",
   "metadata": {},
   "outputs": [],
   "source": []
  },
  {
   "cell_type": "markdown",
   "id": "b62f44ae-2092-42cd-8122-6fdec38da536",
   "metadata": {},
   "source": [
    "## Q4. How does the choice of kernel function, C parameter, epsilon parameter, and gamma parameter affect the performance of Support Vector Regression (SVR)? Can you explain how each parameter works and provide examples of when you might want to increase or decrease its value?"
   ]
  },
  {
   "cell_type": "markdown",
   "id": "e8871a26-a802-4ca5-8246-a360ee4af5ff",
   "metadata": {
    "tags": []
   },
   "source": [
    "### Ans:\n",
    "\n",
    "Support Vector Regression (SVR) is a popular machine learning algorithm used for regression tasks. There are several parameters that can be tuned to optimize the performance of an SVR model. These parameters include the choice of kernel function, C parameter, epsilon parameter, and gamma parameter.\n",
    "### 1. Kernel Function:\n",
    "Kernel functions are used to transform the input data into a higher-dimensional space where it can be more easily separated. The choice of kernel function can have a significant impact on the performance of the SVR model. Common kernel functions used in SVR are linear, polynomial, and radial basis function (RBF) kernels. Linear kernels are used when the data is linearly separable, polynomial kernels are used when the data has polynomial relationships, and RBF kernels are used when the data is nonlinear.\n",
    "### 2. C Parameter:\n",
    "The C parameter controls the trade-off between model complexity and the degree to which errors are tolerated. A smaller C value allows for more errors to be tolerated in the model, while a larger C value leads to a more complex model with fewer errors. Increasing the value of C can lead to overfitting, while decreasing the value of C can lead to underfitting. In general, a larger C value is appropriate when there is less noise in the data and a smaller C value is appropriate when there is more noise in the data.\n",
    "### 3. Epsilon Parameter:\n",
    "The epsilon parameter determines the width of the epsilon-insensitive zone around the regression line. This zone is a region where errors smaller than epsilon are considered to be zero, while errors larger than epsilon contribute to the loss function used to train the model. Increasing the value of epsilon widens the epsilon-insensitive zone and allows for more errors to be tolerated by the model. Decreasing the value of epsilon narrows the epsilon-insensitive zone and results in a more strict model.\n",
    "\n",
    "### 4. Gamma Parameter:\n",
    "The gamma parameter controls the width of the Gaussian kernel used in the RBF kernel function. A smaller gamma value results in a wider kernel and a smoother decision boundary, while a larger gamma value results in a narrower kernel and a more complex decision boundary. Increasing the value of gamma can lead to overfitting, while decreasing the value of gamma can lead to underfitting. In general, a larger gamma value is appropriate when the data has less variance, while a smaller gamma value is appropriate when the data has more variance.\n",
    "\n",
    "The choice of kernel function, C parameter, epsilon parameter, and gamma parameter can have a significant impact on the performance of an SVR model. It is important to choose appropriate values for these parameters to balance model complexity and accuracy. For example, if the data has a lot of noise, a smaller C value and a larger epsilon value may be appropriate to allow for more errors to be tolerated by the model. If the data has a lot of variance, a smaller gamma value may be appropriate to avoid overfitting. The optimal values for these parameters can be determined through cross-validation or grid search."
   ]
  },
  {
   "cell_type": "code",
   "execution_count": null,
   "id": "0a5ae467-11cd-4665-9a04-2aa0c46713c7",
   "metadata": {},
   "outputs": [],
   "source": []
  },
  {
   "cell_type": "markdown",
   "id": "3c847684-2a2e-44ae-9363-22ea2e2b9158",
   "metadata": {},
   "source": [
    "## Q5. Assignment:\n",
    "### 1. Import the necessary libraries and load the dataset"
   ]
  },
  {
   "cell_type": "code",
   "execution_count": 13,
   "id": "544c5a14-f06f-4621-b075-5cc735311f72",
   "metadata": {},
   "outputs": [],
   "source": [
    "# Import the necessary libraries and load the dataset\n",
    "import pandas as pd\n",
    "import numpy as np\n",
    "import matplotlib.pyplot as plt\n",
    "%matplotlib inline\n",
    "import seaborn as sns\n",
    "from sklearn.datasets import load_iris\n",
    "from sklearn.model_selection import train_test_split, GridSearchCV \n",
    "from sklearn.preprocessing import StandardScaler\n",
    "from sklearn.svm import SVC\n",
    "from sklearn.metrics import accuracy_score\n",
    "import joblib\n",
    "from warnings import filterwarnings\n",
    "filterwarnings('ignore')\n",
    "iris = load_iris()\n",
    "X, y = iris.data, iris.target"
   ]
  },
  {
   "cell_type": "markdown",
   "id": "f6f63b4d-df74-4356-876d-d4a4c8d5c95d",
   "metadata": {},
   "source": [
    "### 2.  Split the dataset into training and testing set."
   ]
  },
  {
   "cell_type": "code",
   "execution_count": 14,
   "id": "a323a3b1-c7e6-455f-8f1c-094eb6cb67d7",
   "metadata": {},
   "outputs": [],
   "source": [
    "X_train, X_test, y_train, y_test = train_test_split(X, y, test_size=0.2, random_state=42)"
   ]
  },
  {
   "cell_type": "markdown",
   "id": "445f17d6-6a5c-406a-acad-46e64f47b98f",
   "metadata": {},
   "source": [
    "### 3. Preprocess the data using any technique of your choice (e.g. scaling, normaliMation."
   ]
  },
  {
   "cell_type": "code",
   "execution_count": 15,
   "id": "3c8a5f88-afae-4f0a-a520-d812bbc4edb5",
   "metadata": {},
   "outputs": [],
   "source": [
    "scaler = StandardScaler()\n",
    "X_train_scaled = scaler.fit_transform(X_train)\n",
    "X_test_scaled = scaler.transform(X_test)"
   ]
  },
  {
   "cell_type": "markdown",
   "id": "9281038c-b3a1-4fbc-a0ad-b72b922c7569",
   "metadata": {},
   "source": [
    "### 4.  Create an instance of the SVC classifier and train it on the training data."
   ]
  },
  {
   "cell_type": "code",
   "execution_count": 16,
   "id": "643b66bb-03a0-42c8-aa8d-6833afc33784",
   "metadata": {},
   "outputs": [
    {
     "data": {
      "text/html": [
       "<style>#sk-container-id-3 {color: black;background-color: white;}#sk-container-id-3 pre{padding: 0;}#sk-container-id-3 div.sk-toggleable {background-color: white;}#sk-container-id-3 label.sk-toggleable__label {cursor: pointer;display: block;width: 100%;margin-bottom: 0;padding: 0.3em;box-sizing: border-box;text-align: center;}#sk-container-id-3 label.sk-toggleable__label-arrow:before {content: \"▸\";float: left;margin-right: 0.25em;color: #696969;}#sk-container-id-3 label.sk-toggleable__label-arrow:hover:before {color: black;}#sk-container-id-3 div.sk-estimator:hover label.sk-toggleable__label-arrow:before {color: black;}#sk-container-id-3 div.sk-toggleable__content {max-height: 0;max-width: 0;overflow: hidden;text-align: left;background-color: #f0f8ff;}#sk-container-id-3 div.sk-toggleable__content pre {margin: 0.2em;color: black;border-radius: 0.25em;background-color: #f0f8ff;}#sk-container-id-3 input.sk-toggleable__control:checked~div.sk-toggleable__content {max-height: 200px;max-width: 100%;overflow: auto;}#sk-container-id-3 input.sk-toggleable__control:checked~label.sk-toggleable__label-arrow:before {content: \"▾\";}#sk-container-id-3 div.sk-estimator input.sk-toggleable__control:checked~label.sk-toggleable__label {background-color: #d4ebff;}#sk-container-id-3 div.sk-label input.sk-toggleable__control:checked~label.sk-toggleable__label {background-color: #d4ebff;}#sk-container-id-3 input.sk-hidden--visually {border: 0;clip: rect(1px 1px 1px 1px);clip: rect(1px, 1px, 1px, 1px);height: 1px;margin: -1px;overflow: hidden;padding: 0;position: absolute;width: 1px;}#sk-container-id-3 div.sk-estimator {font-family: monospace;background-color: #f0f8ff;border: 1px dotted black;border-radius: 0.25em;box-sizing: border-box;margin-bottom: 0.5em;}#sk-container-id-3 div.sk-estimator:hover {background-color: #d4ebff;}#sk-container-id-3 div.sk-parallel-item::after {content: \"\";width: 100%;border-bottom: 1px solid gray;flex-grow: 1;}#sk-container-id-3 div.sk-label:hover label.sk-toggleable__label {background-color: #d4ebff;}#sk-container-id-3 div.sk-serial::before {content: \"\";position: absolute;border-left: 1px solid gray;box-sizing: border-box;top: 0;bottom: 0;left: 50%;z-index: 0;}#sk-container-id-3 div.sk-serial {display: flex;flex-direction: column;align-items: center;background-color: white;padding-right: 0.2em;padding-left: 0.2em;position: relative;}#sk-container-id-3 div.sk-item {position: relative;z-index: 1;}#sk-container-id-3 div.sk-parallel {display: flex;align-items: stretch;justify-content: center;background-color: white;position: relative;}#sk-container-id-3 div.sk-item::before, #sk-container-id-3 div.sk-parallel-item::before {content: \"\";position: absolute;border-left: 1px solid gray;box-sizing: border-box;top: 0;bottom: 0;left: 50%;z-index: -1;}#sk-container-id-3 div.sk-parallel-item {display: flex;flex-direction: column;z-index: 1;position: relative;background-color: white;}#sk-container-id-3 div.sk-parallel-item:first-child::after {align-self: flex-end;width: 50%;}#sk-container-id-3 div.sk-parallel-item:last-child::after {align-self: flex-start;width: 50%;}#sk-container-id-3 div.sk-parallel-item:only-child::after {width: 0;}#sk-container-id-3 div.sk-dashed-wrapped {border: 1px dashed gray;margin: 0 0.4em 0.5em 0.4em;box-sizing: border-box;padding-bottom: 0.4em;background-color: white;}#sk-container-id-3 div.sk-label label {font-family: monospace;font-weight: bold;display: inline-block;line-height: 1.2em;}#sk-container-id-3 div.sk-label-container {text-align: center;}#sk-container-id-3 div.sk-container {/* jupyter's `normalize.less` sets `[hidden] { display: none; }` but bootstrap.min.css set `[hidden] { display: none !important; }` so we also need the `!important` here to be able to override the default hidden behavior on the sphinx rendered scikit-learn.org. See: https://github.com/scikit-learn/scikit-learn/issues/21755 */display: inline-block !important;position: relative;}#sk-container-id-3 div.sk-text-repr-fallback {display: none;}</style><div id=\"sk-container-id-3\" class=\"sk-top-container\"><div class=\"sk-text-repr-fallback\"><pre>SVC(kernel=&#x27;poly&#x27;)</pre><b>In a Jupyter environment, please rerun this cell to show the HTML representation or trust the notebook. <br />On GitHub, the HTML representation is unable to render, please try loading this page with nbviewer.org.</b></div><div class=\"sk-container\" hidden><div class=\"sk-item\"><div class=\"sk-estimator sk-toggleable\"><input class=\"sk-toggleable__control sk-hidden--visually\" id=\"sk-estimator-id-3\" type=\"checkbox\" checked><label for=\"sk-estimator-id-3\" class=\"sk-toggleable__label sk-toggleable__label-arrow\">SVC</label><div class=\"sk-toggleable__content\"><pre>SVC(kernel=&#x27;poly&#x27;)</pre></div></div></div></div></div>"
      ],
      "text/plain": [
       "SVC(kernel='poly')"
      ]
     },
     "execution_count": 16,
     "metadata": {},
     "output_type": "execute_result"
    }
   ],
   "source": [
    "clf = SVC(kernel='poly', degree=3)\n",
    "clf.fit(X_train_scaled, y_train)"
   ]
  },
  {
   "cell_type": "code",
   "execution_count": null,
   "id": "0cb7ae1a-c3fc-4b64-8c54-188dea55f469",
   "metadata": {},
   "outputs": [],
   "source": []
  },
  {
   "cell_type": "markdown",
   "id": "fc470fe3-fefa-4c51-af4a-948cd6d10506",
   "metadata": {},
   "source": [
    "### 5.  Use the trained classifier to predict the labels of the testing data."
   ]
  },
  {
   "cell_type": "code",
   "execution_count": 17,
   "id": "9c250b03-9c82-4ca2-ac20-715b92af7e36",
   "metadata": {},
   "outputs": [],
   "source": [
    "y_pred = clf.predict(X_test_scaled)"
   ]
  },
  {
   "cell_type": "code",
   "execution_count": 18,
   "id": "c1010880-552e-4ebd-bd86-1c55428175de",
   "metadata": {},
   "outputs": [
    {
     "data": {
      "text/plain": [
       "array([1, 0, 2, 1, 1, 0, 1, 2, 1, 1, 2, 0, 0, 0, 0, 1, 2, 1, 1, 2, 0, 1,\n",
       "       0, 2, 2, 2, 2, 2, 0, 0])"
      ]
     },
     "execution_count": 18,
     "metadata": {},
     "output_type": "execute_result"
    }
   ],
   "source": [
    "y_pred"
   ]
  },
  {
   "cell_type": "markdown",
   "id": "04a5ee4d-d989-4d13-87e6-362d0ebeb89e",
   "metadata": {},
   "source": [
    "### 6.  Evaluate the performance of the classifier using any metric of your choice (e.g. accuracy, precision, recall, F1-score.\n"
   ]
  },
  {
   "cell_type": "code",
   "execution_count": 19,
   "id": "2532dafd-ddb3-43e1-a17c-57ad41a87930",
   "metadata": {},
   "outputs": [
    {
     "name": "stdout",
     "output_type": "stream",
     "text": [
      "Accuracy: 0.9666666666666667\n"
     ]
    }
   ],
   "source": [
    "accuracy = accuracy_score(y_test, y_pred)\n",
    "print(\"Accuracy:\", accuracy)"
   ]
  },
  {
   "cell_type": "markdown",
   "id": "8433541d-b4c0-4b5f-ae90-9c1753dbc8b4",
   "metadata": {},
   "source": [
    "### 7.  Tune the hyperparameters of the SVC classifier using GridSearchCV or RandomiMedSearchCV to improve its performance."
   ]
  },
  {
   "cell_type": "code",
   "execution_count": 30,
   "id": "bebe4784-0b3d-48f1-90f2-147dac028daf",
   "metadata": {},
   "outputs": [
    {
     "name": "stdout",
     "output_type": "stream",
     "text": [
      "Best Parameters:  {'C': 0.1, 'gamma': 0.1, 'kernel': 'poly'}\n",
      "Accuracy Score:  0.9583333333333334\n"
     ]
    }
   ],
   "source": [
    "parameters = {\n",
    "    'kernel': ['linear', 'rbf', 'poly'],\n",
    "    'C': [0.1, 1, 10],\n",
    "    'gamma': [0.1, 1, 'scale', 'auto'],\n",
    "}\n",
    "\n",
    "# Create SVM model\n",
    "svm = SVC()\n",
    "# Create GridSearchCV object\n",
    "grid_search = GridSearchCV(estimator=svm, param_grid=parameters, cv=5)\n",
    "# Fit GridSearchCV object to training data\n",
    "grid_search.fit(X_train, y_train)\n",
    "# Print best parameters and accuracy score\n",
    "print(\"Best Parameters: \", grid_search.best_params_)\n",
    "print(\"Accuracy Score: \", grid_search.best_score_)"
   ]
  },
  {
   "cell_type": "markdown",
   "id": "345938a7-5671-49b4-8fa5-f772ca78e9e9",
   "metadata": {},
   "source": [
    "### 8.  Train the tuned classifier on the entire dataset."
   ]
  },
  {
   "cell_type": "code",
   "execution_count": 36,
   "id": "67c5d3ec-460c-48d8-bee8-653eb3c5e1b5",
   "metadata": {},
   "outputs": [
    {
     "data": {
      "text/html": [
       "<style>#sk-container-id-8 {color: black;background-color: white;}#sk-container-id-8 pre{padding: 0;}#sk-container-id-8 div.sk-toggleable {background-color: white;}#sk-container-id-8 label.sk-toggleable__label {cursor: pointer;display: block;width: 100%;margin-bottom: 0;padding: 0.3em;box-sizing: border-box;text-align: center;}#sk-container-id-8 label.sk-toggleable__label-arrow:before {content: \"▸\";float: left;margin-right: 0.25em;color: #696969;}#sk-container-id-8 label.sk-toggleable__label-arrow:hover:before {color: black;}#sk-container-id-8 div.sk-estimator:hover label.sk-toggleable__label-arrow:before {color: black;}#sk-container-id-8 div.sk-toggleable__content {max-height: 0;max-width: 0;overflow: hidden;text-align: left;background-color: #f0f8ff;}#sk-container-id-8 div.sk-toggleable__content pre {margin: 0.2em;color: black;border-radius: 0.25em;background-color: #f0f8ff;}#sk-container-id-8 input.sk-toggleable__control:checked~div.sk-toggleable__content {max-height: 200px;max-width: 100%;overflow: auto;}#sk-container-id-8 input.sk-toggleable__control:checked~label.sk-toggleable__label-arrow:before {content: \"▾\";}#sk-container-id-8 div.sk-estimator input.sk-toggleable__control:checked~label.sk-toggleable__label {background-color: #d4ebff;}#sk-container-id-8 div.sk-label input.sk-toggleable__control:checked~label.sk-toggleable__label {background-color: #d4ebff;}#sk-container-id-8 input.sk-hidden--visually {border: 0;clip: rect(1px 1px 1px 1px);clip: rect(1px, 1px, 1px, 1px);height: 1px;margin: -1px;overflow: hidden;padding: 0;position: absolute;width: 1px;}#sk-container-id-8 div.sk-estimator {font-family: monospace;background-color: #f0f8ff;border: 1px dotted black;border-radius: 0.25em;box-sizing: border-box;margin-bottom: 0.5em;}#sk-container-id-8 div.sk-estimator:hover {background-color: #d4ebff;}#sk-container-id-8 div.sk-parallel-item::after {content: \"\";width: 100%;border-bottom: 1px solid gray;flex-grow: 1;}#sk-container-id-8 div.sk-label:hover label.sk-toggleable__label {background-color: #d4ebff;}#sk-container-id-8 div.sk-serial::before {content: \"\";position: absolute;border-left: 1px solid gray;box-sizing: border-box;top: 0;bottom: 0;left: 50%;z-index: 0;}#sk-container-id-8 div.sk-serial {display: flex;flex-direction: column;align-items: center;background-color: white;padding-right: 0.2em;padding-left: 0.2em;position: relative;}#sk-container-id-8 div.sk-item {position: relative;z-index: 1;}#sk-container-id-8 div.sk-parallel {display: flex;align-items: stretch;justify-content: center;background-color: white;position: relative;}#sk-container-id-8 div.sk-item::before, #sk-container-id-8 div.sk-parallel-item::before {content: \"\";position: absolute;border-left: 1px solid gray;box-sizing: border-box;top: 0;bottom: 0;left: 50%;z-index: -1;}#sk-container-id-8 div.sk-parallel-item {display: flex;flex-direction: column;z-index: 1;position: relative;background-color: white;}#sk-container-id-8 div.sk-parallel-item:first-child::after {align-self: flex-end;width: 50%;}#sk-container-id-8 div.sk-parallel-item:last-child::after {align-self: flex-start;width: 50%;}#sk-container-id-8 div.sk-parallel-item:only-child::after {width: 0;}#sk-container-id-8 div.sk-dashed-wrapped {border: 1px dashed gray;margin: 0 0.4em 0.5em 0.4em;box-sizing: border-box;padding-bottom: 0.4em;background-color: white;}#sk-container-id-8 div.sk-label label {font-family: monospace;font-weight: bold;display: inline-block;line-height: 1.2em;}#sk-container-id-8 div.sk-label-container {text-align: center;}#sk-container-id-8 div.sk-container {/* jupyter's `normalize.less` sets `[hidden] { display: none; }` but bootstrap.min.css set `[hidden] { display: none !important; }` so we also need the `!important` here to be able to override the default hidden behavior on the sphinx rendered scikit-learn.org. See: https://github.com/scikit-learn/scikit-learn/issues/21755 */display: inline-block !important;position: relative;}#sk-container-id-8 div.sk-text-repr-fallback {display: none;}</style><div id=\"sk-container-id-8\" class=\"sk-top-container\"><div class=\"sk-text-repr-fallback\"><pre>SVC(C=10, gamma=0.1, kernel=&#x27;poly&#x27;)</pre><b>In a Jupyter environment, please rerun this cell to show the HTML representation or trust the notebook. <br />On GitHub, the HTML representation is unable to render, please try loading this page with nbviewer.org.</b></div><div class=\"sk-container\" hidden><div class=\"sk-item\"><div class=\"sk-estimator sk-toggleable\"><input class=\"sk-toggleable__control sk-hidden--visually\" id=\"sk-estimator-id-8\" type=\"checkbox\" checked><label for=\"sk-estimator-id-8\" class=\"sk-toggleable__label sk-toggleable__label-arrow\">SVC</label><div class=\"sk-toggleable__content\"><pre>SVC(C=10, gamma=0.1, kernel=&#x27;poly&#x27;)</pre></div></div></div></div></div>"
      ],
      "text/plain": [
       "SVC(C=10, gamma=0.1, kernel='poly')"
      ]
     },
     "execution_count": 36,
     "metadata": {},
     "output_type": "execute_result"
    }
   ],
   "source": [
    "clf_tuned = SVC(kernel='poly', C=10, gamma=0.1)\n",
    "clf_tuned.fit(X_train_scaled, y_train)"
   ]
  },
  {
   "cell_type": "code",
   "execution_count": 37,
   "id": "f5c77d7e-ab28-48ba-8ede-d99294abdc75",
   "metadata": {},
   "outputs": [],
   "source": [
    "# Predict the labels for the testing set\n",
    "y_pred = clf_tuned.predict(X_test_scaled)"
   ]
  },
  {
   "cell_type": "code",
   "execution_count": 38,
   "id": "dfc44a24-8080-4369-9d4f-7d09725a18b7",
   "metadata": {},
   "outputs": [
    {
     "name": "stdout",
     "output_type": "stream",
     "text": [
      "Accuracy: 0.9333333333333333\n"
     ]
    }
   ],
   "source": [
    "# Compute the accuracy of the model\n",
    "accuracy = accuracy_score(y_test, y_pred)\n",
    "print(\"Accuracy:\", accuracy)"
   ]
  },
  {
   "cell_type": "code",
   "execution_count": null,
   "id": "595a9f84-36e8-4d7e-afce-a4fb00c48ef4",
   "metadata": {},
   "outputs": [],
   "source": []
  },
  {
   "cell_type": "markdown",
   "id": "c306f0e4-b93f-42c0-856d-992c3515c02c",
   "metadata": {},
   "source": [
    "### 9. Save the trained classifier to a file for future use."
   ]
  },
  {
   "cell_type": "code",
   "execution_count": 39,
   "id": "6dd257e2-861d-4330-a5f1-cf2955566be2",
   "metadata": {},
   "outputs": [
    {
     "data": {
      "text/plain": [
       "['svm_classifier.joblib']"
      ]
     },
     "execution_count": 39,
     "metadata": {},
     "output_type": "execute_result"
    }
   ],
   "source": [
    "joblib.dump(clf_tuned, 'svm_classifier.joblib')"
   ]
  },
  {
   "cell_type": "code",
   "execution_count": null,
   "id": "896a8d9c-ec66-4ba1-9303-e23813caae88",
   "metadata": {},
   "outputs": [],
   "source": []
  }
 ],
 "metadata": {
  "kernelspec": {
   "display_name": "Python 3 (ipykernel)",
   "language": "python",
   "name": "python3"
  },
  "language_info": {
   "codemirror_mode": {
    "name": "ipython",
    "version": 3
   },
   "file_extension": ".py",
   "mimetype": "text/x-python",
   "name": "python",
   "nbconvert_exporter": "python",
   "pygments_lexer": "ipython3",
   "version": "3.10.8"
  }
 },
 "nbformat": 4,
 "nbformat_minor": 5
}
